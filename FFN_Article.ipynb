{
  "cells": [
    {
      "cell_type": "markdown",
      "metadata": {
        "id": "T1iFNeAISmx7"
      },
      "source": [
        "# **EXPLORATORY DATA ANALYSIS (EDA) OF THE DATASET**"
      ]
    },
    {
      "cell_type": "markdown",
      "metadata": {
        "id": "0FKitY3ahAx7"
      },
      "source": [
        "## Import Libraries"
      ]
    },
    {
      "cell_type": "code",
      "execution_count": null,
      "metadata": {
        "id": "_vgDwSZA3xKM"
      },
      "outputs": [],
      "source": [
        "%%capture\n",
        "!pip install pymorphy2"
      ]
    },
    {
      "cell_type": "code",
      "execution_count": null,
      "metadata": {
        "id": "nsDBX1yETA3v"
      },
      "outputs": [],
      "source": [
        "import numpy as np\n",
        "import pandas as pd\n",
        "import matplotlib.pyplot as plt\n",
        "import os\n",
        "import nltk\n",
        "import tensorflow as tf\n",
        "from tensorflow import keras\n",
        "from tensorflow.keras import layers, Model\n",
        "from tensorflow.keras.layers.experimental.preprocessing import TextVectorization\n",
        "import re\n",
        "import string\n",
        "import random\n",
        "from sklearn.model_selection import train_test_split\n",
        "import tensorflow_datasets as tfds\n",
        "import json\n",
        "from pymorphy2 import MorphAnalyzer\n",
        "import pymorphy2\n",
        "from nltk.tokenize import word_tokenize"
      ]
    },
    {
      "cell_type": "code",
      "execution_count": null,
      "metadata": {
        "colab": {
          "base_uri": "https://localhost:8080/"
        },
        "id": "LeTajoH22knd",
        "outputId": "104e1597-38d8-43e3-ac2e-ac06f4fd1496",
        "collapsed": true
      },
      "outputs": [
        {
          "output_type": "stream",
          "name": "stderr",
          "text": [
            "[nltk_data] Downloading collection 'all'\n",
            "[nltk_data]    | \n",
            "[nltk_data]    | Downloading package abc to /root/nltk_data...\n",
            "[nltk_data]    |   Unzipping corpora/abc.zip.\n",
            "[nltk_data]    | Downloading package alpino to /root/nltk_data...\n",
            "[nltk_data]    |   Unzipping corpora/alpino.zip.\n",
            "[nltk_data]    | Downloading package averaged_perceptron_tagger to\n",
            "[nltk_data]    |     /root/nltk_data...\n",
            "[nltk_data]    |   Unzipping taggers/averaged_perceptron_tagger.zip.\n",
            "[nltk_data]    | Downloading package averaged_perceptron_tagger_ru to\n",
            "[nltk_data]    |     /root/nltk_data...\n",
            "[nltk_data]    |   Unzipping\n",
            "[nltk_data]    |       taggers/averaged_perceptron_tagger_ru.zip.\n",
            "[nltk_data]    | Downloading package basque_grammars to\n",
            "[nltk_data]    |     /root/nltk_data...\n",
            "[nltk_data]    |   Unzipping grammars/basque_grammars.zip.\n",
            "[nltk_data]    | Downloading package bcp47 to /root/nltk_data...\n",
            "[nltk_data]    | Downloading package biocreative_ppi to\n",
            "[nltk_data]    |     /root/nltk_data...\n",
            "[nltk_data]    |   Unzipping corpora/biocreative_ppi.zip.\n",
            "[nltk_data]    | Downloading package bllip_wsj_no_aux to\n",
            "[nltk_data]    |     /root/nltk_data...\n",
            "[nltk_data]    |   Unzipping models/bllip_wsj_no_aux.zip.\n",
            "[nltk_data]    | Downloading package book_grammars to\n",
            "[nltk_data]    |     /root/nltk_data...\n",
            "[nltk_data]    |   Unzipping grammars/book_grammars.zip.\n",
            "[nltk_data]    | Downloading package brown to /root/nltk_data...\n",
            "[nltk_data]    |   Unzipping corpora/brown.zip.\n",
            "[nltk_data]    | Downloading package brown_tei to /root/nltk_data...\n",
            "[nltk_data]    |   Unzipping corpora/brown_tei.zip.\n",
            "[nltk_data]    | Downloading package cess_cat to /root/nltk_data...\n",
            "[nltk_data]    |   Unzipping corpora/cess_cat.zip.\n",
            "[nltk_data]    | Downloading package cess_esp to /root/nltk_data...\n",
            "[nltk_data]    |   Unzipping corpora/cess_esp.zip.\n",
            "[nltk_data]    | Downloading package chat80 to /root/nltk_data...\n",
            "[nltk_data]    |   Unzipping corpora/chat80.zip.\n",
            "[nltk_data]    | Downloading package city_database to\n",
            "[nltk_data]    |     /root/nltk_data...\n",
            "[nltk_data]    |   Unzipping corpora/city_database.zip.\n",
            "[nltk_data]    | Downloading package cmudict to /root/nltk_data...\n",
            "[nltk_data]    |   Unzipping corpora/cmudict.zip.\n",
            "[nltk_data]    | Downloading package comparative_sentences to\n",
            "[nltk_data]    |     /root/nltk_data...\n",
            "[nltk_data]    |   Unzipping corpora/comparative_sentences.zip.\n",
            "[nltk_data]    | Downloading package comtrans to /root/nltk_data...\n",
            "[nltk_data]    | Downloading package conll2000 to /root/nltk_data...\n",
            "[nltk_data]    |   Unzipping corpora/conll2000.zip.\n",
            "[nltk_data]    | Downloading package conll2002 to /root/nltk_data...\n",
            "[nltk_data]    |   Unzipping corpora/conll2002.zip.\n",
            "[nltk_data]    | Downloading package conll2007 to /root/nltk_data...\n",
            "[nltk_data]    | Downloading package crubadan to /root/nltk_data...\n",
            "[nltk_data]    |   Unzipping corpora/crubadan.zip.\n",
            "[nltk_data]    | Downloading package dependency_treebank to\n",
            "[nltk_data]    |     /root/nltk_data...\n",
            "[nltk_data]    |   Unzipping corpora/dependency_treebank.zip.\n",
            "[nltk_data]    | Downloading package dolch to /root/nltk_data...\n",
            "[nltk_data]    |   Unzipping corpora/dolch.zip.\n",
            "[nltk_data]    | Downloading package europarl_raw to\n",
            "[nltk_data]    |     /root/nltk_data...\n",
            "[nltk_data]    |   Unzipping corpora/europarl_raw.zip.\n",
            "[nltk_data]    | Downloading package extended_omw to\n",
            "[nltk_data]    |     /root/nltk_data...\n",
            "[nltk_data]    | Downloading package floresta to /root/nltk_data...\n",
            "[nltk_data]    |   Unzipping corpora/floresta.zip.\n",
            "[nltk_data]    | Downloading package framenet_v15 to\n",
            "[nltk_data]    |     /root/nltk_data...\n",
            "[nltk_data]    |   Unzipping corpora/framenet_v15.zip.\n",
            "[nltk_data]    | Downloading package framenet_v17 to\n",
            "[nltk_data]    |     /root/nltk_data...\n",
            "[nltk_data]    |   Unzipping corpora/framenet_v17.zip.\n",
            "[nltk_data]    | Downloading package gazetteers to /root/nltk_data...\n",
            "[nltk_data]    |   Unzipping corpora/gazetteers.zip.\n",
            "[nltk_data]    | Downloading package genesis to /root/nltk_data...\n",
            "[nltk_data]    |   Unzipping corpora/genesis.zip.\n",
            "[nltk_data]    | Downloading package gutenberg to /root/nltk_data...\n",
            "[nltk_data]    |   Unzipping corpora/gutenberg.zip.\n",
            "[nltk_data]    | Downloading package ieer to /root/nltk_data...\n",
            "[nltk_data]    |   Unzipping corpora/ieer.zip.\n",
            "[nltk_data]    | Downloading package inaugural to /root/nltk_data...\n",
            "[nltk_data]    |   Unzipping corpora/inaugural.zip.\n",
            "[nltk_data]    | Downloading package indian to /root/nltk_data...\n",
            "[nltk_data]    |   Unzipping corpora/indian.zip.\n",
            "[nltk_data]    | Downloading package jeita to /root/nltk_data...\n",
            "[nltk_data]    | Downloading package kimmo to /root/nltk_data...\n",
            "[nltk_data]    |   Unzipping corpora/kimmo.zip.\n",
            "[nltk_data]    | Downloading package knbc to /root/nltk_data...\n",
            "[nltk_data]    | Downloading package large_grammars to\n",
            "[nltk_data]    |     /root/nltk_data...\n",
            "[nltk_data]    |   Unzipping grammars/large_grammars.zip.\n",
            "[nltk_data]    | Downloading package lin_thesaurus to\n",
            "[nltk_data]    |     /root/nltk_data...\n",
            "[nltk_data]    |   Unzipping corpora/lin_thesaurus.zip.\n",
            "[nltk_data]    | Downloading package mac_morpho to /root/nltk_data...\n",
            "[nltk_data]    |   Unzipping corpora/mac_morpho.zip.\n",
            "[nltk_data]    | Downloading package machado to /root/nltk_data...\n",
            "[nltk_data]    | Downloading package masc_tagged to /root/nltk_data...\n",
            "[nltk_data]    | Downloading package maxent_ne_chunker to\n",
            "[nltk_data]    |     /root/nltk_data...\n",
            "[nltk_data]    |   Unzipping chunkers/maxent_ne_chunker.zip.\n",
            "[nltk_data]    | Downloading package maxent_treebank_pos_tagger to\n",
            "[nltk_data]    |     /root/nltk_data...\n",
            "[nltk_data]    |   Unzipping taggers/maxent_treebank_pos_tagger.zip.\n",
            "[nltk_data]    | Downloading package moses_sample to\n",
            "[nltk_data]    |     /root/nltk_data...\n",
            "[nltk_data]    |   Unzipping models/moses_sample.zip.\n",
            "[nltk_data]    | Downloading package movie_reviews to\n",
            "[nltk_data]    |     /root/nltk_data...\n",
            "[nltk_data]    |   Unzipping corpora/movie_reviews.zip.\n",
            "[nltk_data]    | Downloading package mte_teip5 to /root/nltk_data...\n",
            "[nltk_data]    |   Unzipping corpora/mte_teip5.zip.\n",
            "[nltk_data]    | Downloading package mwa_ppdb to /root/nltk_data...\n",
            "[nltk_data]    |   Unzipping misc/mwa_ppdb.zip.\n",
            "[nltk_data]    | Downloading package names to /root/nltk_data...\n",
            "[nltk_data]    |   Unzipping corpora/names.zip.\n",
            "[nltk_data]    | Downloading package nombank.1.0 to /root/nltk_data...\n",
            "[nltk_data]    | Downloading package nonbreaking_prefixes to\n",
            "[nltk_data]    |     /root/nltk_data...\n",
            "[nltk_data]    |   Unzipping corpora/nonbreaking_prefixes.zip.\n",
            "[nltk_data]    | Downloading package nps_chat to /root/nltk_data...\n",
            "[nltk_data]    |   Unzipping corpora/nps_chat.zip.\n",
            "[nltk_data]    | Downloading package omw to /root/nltk_data...\n",
            "[nltk_data]    | Downloading package omw-1.4 to /root/nltk_data...\n",
            "[nltk_data]    | Downloading package opinion_lexicon to\n",
            "[nltk_data]    |     /root/nltk_data...\n",
            "[nltk_data]    |   Unzipping corpora/opinion_lexicon.zip.\n",
            "[nltk_data]    | Downloading package panlex_swadesh to\n",
            "[nltk_data]    |     /root/nltk_data...\n",
            "[nltk_data]    | Downloading package paradigms to /root/nltk_data...\n",
            "[nltk_data]    |   Unzipping corpora/paradigms.zip.\n",
            "[nltk_data]    | Downloading package pe08 to /root/nltk_data...\n",
            "[nltk_data]    |   Unzipping corpora/pe08.zip.\n",
            "[nltk_data]    | Downloading package perluniprops to\n",
            "[nltk_data]    |     /root/nltk_data...\n",
            "[nltk_data]    |   Unzipping misc/perluniprops.zip.\n",
            "[nltk_data]    | Downloading package pil to /root/nltk_data...\n",
            "[nltk_data]    |   Unzipping corpora/pil.zip.\n",
            "[nltk_data]    | Downloading package pl196x to /root/nltk_data...\n",
            "[nltk_data]    |   Unzipping corpora/pl196x.zip.\n",
            "[nltk_data]    | Downloading package porter_test to /root/nltk_data...\n",
            "[nltk_data]    |   Unzipping stemmers/porter_test.zip.\n",
            "[nltk_data]    | Downloading package ppattach to /root/nltk_data...\n",
            "[nltk_data]    |   Unzipping corpora/ppattach.zip.\n",
            "[nltk_data]    | Downloading package problem_reports to\n",
            "[nltk_data]    |     /root/nltk_data...\n",
            "[nltk_data]    |   Unzipping corpora/problem_reports.zip.\n",
            "[nltk_data]    | Downloading package product_reviews_1 to\n",
            "[nltk_data]    |     /root/nltk_data...\n",
            "[nltk_data]    |   Unzipping corpora/product_reviews_1.zip.\n",
            "[nltk_data]    | Downloading package product_reviews_2 to\n",
            "[nltk_data]    |     /root/nltk_data...\n",
            "[nltk_data]    |   Unzipping corpora/product_reviews_2.zip.\n",
            "[nltk_data]    | Downloading package propbank to /root/nltk_data...\n",
            "[nltk_data]    | Downloading package pros_cons to /root/nltk_data...\n",
            "[nltk_data]    |   Unzipping corpora/pros_cons.zip.\n",
            "[nltk_data]    | Downloading package ptb to /root/nltk_data...\n",
            "[nltk_data]    |   Unzipping corpora/ptb.zip.\n",
            "[nltk_data]    | Downloading package punkt to /root/nltk_data...\n",
            "[nltk_data]    |   Unzipping tokenizers/punkt.zip.\n",
            "[nltk_data]    | Downloading package qc to /root/nltk_data...\n",
            "[nltk_data]    |   Unzipping corpora/qc.zip.\n",
            "[nltk_data]    | Downloading package reuters to /root/nltk_data...\n",
            "[nltk_data]    | Downloading package rslp to /root/nltk_data...\n",
            "[nltk_data]    |   Unzipping stemmers/rslp.zip.\n",
            "[nltk_data]    | Downloading package rte to /root/nltk_data...\n",
            "[nltk_data]    |   Unzipping corpora/rte.zip.\n",
            "[nltk_data]    | Downloading package sample_grammars to\n",
            "[nltk_data]    |     /root/nltk_data...\n",
            "[nltk_data]    |   Unzipping grammars/sample_grammars.zip.\n",
            "[nltk_data]    | Downloading package semcor to /root/nltk_data...\n",
            "[nltk_data]    | Downloading package senseval to /root/nltk_data...\n",
            "[nltk_data]    |   Unzipping corpora/senseval.zip.\n",
            "[nltk_data]    | Downloading package sentence_polarity to\n",
            "[nltk_data]    |     /root/nltk_data...\n",
            "[nltk_data]    |   Unzipping corpora/sentence_polarity.zip.\n",
            "[nltk_data]    | Downloading package sentiwordnet to\n",
            "[nltk_data]    |     /root/nltk_data...\n",
            "[nltk_data]    |   Unzipping corpora/sentiwordnet.zip.\n",
            "[nltk_data]    | Downloading package shakespeare to /root/nltk_data...\n",
            "[nltk_data]    |   Unzipping corpora/shakespeare.zip.\n",
            "[nltk_data]    | Downloading package sinica_treebank to\n",
            "[nltk_data]    |     /root/nltk_data...\n",
            "[nltk_data]    |   Unzipping corpora/sinica_treebank.zip.\n",
            "[nltk_data]    | Downloading package smultron to /root/nltk_data...\n",
            "[nltk_data]    |   Unzipping corpora/smultron.zip.\n",
            "[nltk_data]    | Downloading package snowball_data to\n",
            "[nltk_data]    |     /root/nltk_data...\n",
            "[nltk_data]    | Downloading package spanish_grammars to\n",
            "[nltk_data]    |     /root/nltk_data...\n",
            "[nltk_data]    |   Unzipping grammars/spanish_grammars.zip.\n",
            "[nltk_data]    | Downloading package state_union to /root/nltk_data...\n",
            "[nltk_data]    |   Unzipping corpora/state_union.zip.\n",
            "[nltk_data]    | Downloading package stopwords to /root/nltk_data...\n",
            "[nltk_data]    |   Unzipping corpora/stopwords.zip.\n",
            "[nltk_data]    | Downloading package subjectivity to\n",
            "[nltk_data]    |     /root/nltk_data...\n",
            "[nltk_data]    |   Unzipping corpora/subjectivity.zip.\n",
            "[nltk_data]    | Downloading package swadesh to /root/nltk_data...\n",
            "[nltk_data]    |   Unzipping corpora/swadesh.zip.\n",
            "[nltk_data]    | Downloading package switchboard to /root/nltk_data...\n",
            "[nltk_data]    |   Unzipping corpora/switchboard.zip.\n",
            "[nltk_data]    | Downloading package tagsets to /root/nltk_data...\n",
            "[nltk_data]    |   Unzipping help/tagsets.zip.\n",
            "[nltk_data]    | Downloading package timit to /root/nltk_data...\n",
            "[nltk_data]    |   Unzipping corpora/timit.zip.\n",
            "[nltk_data]    | Downloading package toolbox to /root/nltk_data...\n",
            "[nltk_data]    |   Unzipping corpora/toolbox.zip.\n",
            "[nltk_data]    | Downloading package treebank to /root/nltk_data...\n",
            "[nltk_data]    |   Unzipping corpora/treebank.zip.\n",
            "[nltk_data]    | Downloading package twitter_samples to\n",
            "[nltk_data]    |     /root/nltk_data...\n",
            "[nltk_data]    |   Unzipping corpora/twitter_samples.zip.\n",
            "[nltk_data]    | Downloading package udhr to /root/nltk_data...\n",
            "[nltk_data]    |   Unzipping corpora/udhr.zip.\n",
            "[nltk_data]    | Downloading package udhr2 to /root/nltk_data...\n",
            "[nltk_data]    |   Unzipping corpora/udhr2.zip.\n",
            "[nltk_data]    | Downloading package unicode_samples to\n",
            "[nltk_data]    |     /root/nltk_data...\n",
            "[nltk_data]    |   Unzipping corpora/unicode_samples.zip.\n",
            "[nltk_data]    | Downloading package universal_tagset to\n",
            "[nltk_data]    |     /root/nltk_data...\n",
            "[nltk_data]    |   Unzipping taggers/universal_tagset.zip.\n",
            "[nltk_data]    | Downloading package universal_treebanks_v20 to\n",
            "[nltk_data]    |     /root/nltk_data...\n",
            "[nltk_data]    | Downloading package vader_lexicon to\n",
            "[nltk_data]    |     /root/nltk_data...\n",
            "[nltk_data]    | Downloading package verbnet to /root/nltk_data...\n",
            "[nltk_data]    |   Unzipping corpora/verbnet.zip.\n",
            "[nltk_data]    | Downloading package verbnet3 to /root/nltk_data...\n",
            "[nltk_data]    |   Unzipping corpora/verbnet3.zip.\n",
            "[nltk_data]    | Downloading package webtext to /root/nltk_data...\n",
            "[nltk_data]    |   Unzipping corpora/webtext.zip.\n",
            "[nltk_data]    | Downloading package wmt15_eval to /root/nltk_data...\n",
            "[nltk_data]    |   Unzipping models/wmt15_eval.zip.\n",
            "[nltk_data]    | Downloading package word2vec_sample to\n",
            "[nltk_data]    |     /root/nltk_data...\n",
            "[nltk_data]    |   Unzipping models/word2vec_sample.zip.\n",
            "[nltk_data]    | Downloading package wordnet to /root/nltk_data...\n",
            "[nltk_data]    | Downloading package wordnet2021 to /root/nltk_data...\n",
            "[nltk_data]    | Downloading package wordnet2022 to /root/nltk_data...\n",
            "[nltk_data]    |   Unzipping corpora/wordnet2022.zip.\n",
            "[nltk_data]    | Downloading package wordnet31 to /root/nltk_data...\n",
            "[nltk_data]    | Downloading package wordnet_ic to /root/nltk_data...\n",
            "[nltk_data]    |   Unzipping corpora/wordnet_ic.zip.\n",
            "[nltk_data]    | Downloading package words to /root/nltk_data...\n",
            "[nltk_data]    |   Unzipping corpora/words.zip.\n",
            "[nltk_data]    | Downloading package ycoe to /root/nltk_data...\n",
            "[nltk_data]    |   Unzipping corpora/ycoe.zip.\n",
            "[nltk_data]    | \n",
            "[nltk_data]  Done downloading collection all\n"
          ]
        }
      ],
      "source": [
        "%%capture\n",
        "nltk.download('all')"
      ]
    },
    {
      "cell_type": "code",
      "execution_count": null,
      "metadata": {
        "colab": {
          "base_uri": "https://localhost:8080/"
        },
        "id": "0bPDDB871W56",
        "outputId": "3aae312a-18b9-4268-c90a-26f50c9ed4a0"
      },
      "outputs": [
        {
          "output_type": "stream",
          "name": "stdout",
          "text": [
            "time: 607 µs (started: 2024-06-21 13:43:15 +00:00)\n"
          ]
        }
      ],
      "source": [
        "%%capture\n",
        "!pip install ipython-autotime\n",
        "%load_ext autotime"
      ]
    },
    {
      "cell_type": "markdown",
      "metadata": {
        "id": "XY2GzB2SqKby"
      },
      "source": [
        "## Mount the google drive"
      ]
    },
    {
      "cell_type": "code",
      "execution_count": null,
      "metadata": {
        "colab": {
          "base_uri": "https://localhost:8080/"
        },
        "id": "2pIhSabUHQPB",
        "outputId": "56219646-718a-472a-81c3-c6b63e64bc88"
      },
      "outputs": [
        {
          "output_type": "stream",
          "name": "stdout",
          "text": [
            "Mounted at /content/drive\n",
            "time: 12.8 s (started: 2024-06-21 13:43:15 +00:00)\n"
          ]
        }
      ],
      "source": [
        "from google.colab import drive\n",
        "drive.mount('/content/drive')"
      ]
    },
    {
      "cell_type": "code",
      "execution_count": null,
      "metadata": {
        "colab": {
          "base_uri": "https://localhost:8080/"
        },
        "id": "SGE3TaZtIsIl",
        "outputId": "9bcf3cf7-63ba-4b3e-b54b-a94310c71ff7"
      },
      "outputs": [
        {
          "output_type": "stream",
          "name": "stdout",
          "text": [
            "/content/drive/MyDrive/Colab_Notebooks/nlp_with_python/__seminary_practice\n",
            "time: 958 ms (started: 2024-06-21 13:43:28 +00:00)\n"
          ]
        }
      ],
      "source": [
        "%cd \"/content/drive/MyDrive/Colab_Notebooks/nlp_with_python/__seminary_practice\""
      ]
    },
    {
      "cell_type": "markdown",
      "metadata": {
        "id": "GeJakYWhG9W1"
      },
      "source": [
        "## Load Stop Words in English and Russian\n",
        "\n",
        "\"Stop words\" are a set of commonly used words in the English language. Examples of stop words in English include \"a,\" \"the,\" \"is,\" \"are,\" and so on. These words are ubiquitous and occur frequently in text but contribute very little to the overall meaning. In Text Mining and Natural Language Processing (NLP), stop words are often eliminated from text data to improve the efficiency and accuracy of analysis. By removing stop words, we can focus on the more informative content of the text and reduce noise in our analysis."
      ]
    },
    {
      "cell_type": "code",
      "execution_count": null,
      "metadata": {
        "colab": {
          "base_uri": "https://localhost:8080/"
        },
        "id": "6dxq3pAk3eqq",
        "outputId": "587fb9f7-1a08-4a9b-b3d2-4bd9a07e665f"
      },
      "outputs": [
        {
          "output_type": "stream",
          "name": "stdout",
          "text": [
            "time: 1.39 s (started: 2024-06-21 13:43:29 +00:00)\n"
          ]
        }
      ],
      "source": [
        "morph = MorphAnalyzer()\n",
        "stop_words_ru = set()\n",
        "with open('stopwords-ru.txt', 'r', encoding='utf-8') as f:\n",
        "    for word in f.readlines():\n",
        "        stop_words_ru.add(morph.parse(word.strip())[0].normal_form)"
      ]
    },
    {
      "cell_type": "code",
      "execution_count": null,
      "metadata": {
        "colab": {
          "base_uri": "https://localhost:8080/"
        },
        "id": "Ms3FJp3N4H9A",
        "outputId": "be7a7a86-94b1-4183-c23e-f192e7194d48"
      },
      "outputs": [
        {
          "output_type": "execute_result",
          "data": {
            "text/plain": [
              "386"
            ]
          },
          "metadata": {},
          "execution_count": 11
        },
        {
          "output_type": "stream",
          "name": "stdout",
          "text": [
            "time: 6.95 ms (started: 2024-06-21 13:43:30 +00:00)\n"
          ]
        }
      ],
      "source": [
        "len(stop_words_ru)"
      ]
    },
    {
      "cell_type": "code",
      "execution_count": null,
      "metadata": {
        "colab": {
          "base_uri": "https://localhost:8080/"
        },
        "id": "SnIUISPm3r5W",
        "outputId": "54afe27e-7bda-49c2-8ac3-313799851f72"
      },
      "outputs": [
        {
          "output_type": "stream",
          "name": "stdout",
          "text": [
            "time: 19.6 ms (started: 2024-06-21 13:43:30 +00:00)\n"
          ]
        }
      ],
      "source": [
        "ru_stop_words = pd.read_csv('stopwords-ru.txt',header=None)"
      ]
    },
    {
      "cell_type": "code",
      "execution_count": null,
      "metadata": {
        "colab": {
          "base_uri": "https://localhost:8080/"
        },
        "id": "icb1oDeV4EnY",
        "outputId": "93ea11cc-d123-4047-ba4e-c62cf4949303"
      },
      "outputs": [
        {
          "output_type": "execute_result",
          "data": {
            "text/plain": [
              "559"
            ]
          },
          "metadata": {},
          "execution_count": 13
        },
        {
          "output_type": "stream",
          "name": "stdout",
          "text": [
            "time: 13.5 ms (started: 2024-06-21 13:43:30 +00:00)\n"
          ]
        }
      ],
      "source": [
        "len(ru_stop_words)"
      ]
    },
    {
      "cell_type": "markdown",
      "metadata": {
        "id": "ctXR7aGe4QMk"
      },
      "source": [
        "We will use ``ru_stop_words``"
      ]
    },
    {
      "cell_type": "markdown",
      "metadata": {
        "id": "7WQNplaQhmB3"
      },
      "source": [
        "## Load the Dataset"
      ]
    },
    {
      "cell_type": "code",
      "execution_count": null,
      "metadata": {
        "colab": {
          "base_uri": "https://localhost:8080/"
        },
        "id": "9v0as4QesGQk",
        "outputId": "c182123e-be4f-4ceb-a298-e6901736dc1f"
      },
      "outputs": [
        {
          "output_type": "stream",
          "name": "stdout",
          "text": [
            "time: 6.08 s (started: 2024-06-21 13:43:30 +00:00)\n"
          ]
        }
      ],
      "source": [
        "file_path_without_lab = 'sums_lang_for_news.xlsx'\n",
        "file_path_with_labels = 'augmented_full_sentiment_16_x.xlsx'\n",
        "file_path_complete = 'страны_партнеры_с_тональностью_общий_271123.xlsx'\n",
        "\n",
        "df_unlabelled = pd.read_excel(file_path_without_lab)\n",
        "df_labelled = pd.read_excel(file_path_with_labels, usecols=lambda x: x != 'Unnamed: 9')\n",
        "df = pd.read_excel(file_path_complete, usecols=lambda x: x != 'Unnamed: 9')"
      ]
    },
    {
      "cell_type": "code",
      "execution_count": null,
      "metadata": {
        "colab": {
          "base_uri": "https://localhost:8080/"
        },
        "id": "z7XXDnu2bViR",
        "outputId": "9d4c16d7-f068-4989-ae18-26e7fec6b4bd"
      },
      "outputs": [
        {
          "output_type": "stream",
          "name": "stdout",
          "text": [
            "time: 1.99 ms (started: 2024-06-21 13:43:37 +00:00)\n"
          ]
        }
      ],
      "source": [
        "# Dictionary mapping Russian column names to English column names\n",
        "column_rename_dict = {\n",
        "    'Тип отношений': 'Relationship Type',\n",
        "    'Коды МСТК': 'MSTK Codes',\n",
        "    'Страны': 'Countries',\n",
        "    'Событие': 'text',\n",
        "    'Источник': 'Source',\n",
        "    'Дата': 'Date',\n",
        "    'Тональность': 'sentiment'\n",
        "}\n",
        "\n",
        "df_labelled.rename(columns=column_rename_dict, inplace=True)"
      ]
    },
    {
      "cell_type": "code",
      "source": [
        "df_labelled.head()"
      ],
      "metadata": {
        "colab": {
          "base_uri": "https://localhost:8080/",
          "height": 224
        },
        "id": "XfxWFwsD73M7",
        "outputId": "911dfd00-fe7e-403d-b373-46e1143bf09f"
      },
      "execution_count": null,
      "outputs": [
        {
          "output_type": "execute_result",
          "data": {
            "text/plain": [
              "   Unnamed: 0                                               text  label\n",
              "0           0  США в очередной раз ужесточили правила экспорт...      2\n",
              "1           1  Санкции, введенные против России, такие как ис...      2\n",
              "2           2  Посол Бразилии в Организации Объединенных Наци...      2\n",
              "3           3  Беспрецедентные санкции против российских банк...      2\n",
              "4           4  Государственная энергетическая компания Индоне...      0"
            ],
            "text/html": [
              "\n",
              "  <div id=\"df-05bd8b9f-fdb8-420e-82fd-85563e00748c\" class=\"colab-df-container\">\n",
              "    <div>\n",
              "<style scoped>\n",
              "    .dataframe tbody tr th:only-of-type {\n",
              "        vertical-align: middle;\n",
              "    }\n",
              "\n",
              "    .dataframe tbody tr th {\n",
              "        vertical-align: top;\n",
              "    }\n",
              "\n",
              "    .dataframe thead th {\n",
              "        text-align: right;\n",
              "    }\n",
              "</style>\n",
              "<table border=\"1\" class=\"dataframe\">\n",
              "  <thead>\n",
              "    <tr style=\"text-align: right;\">\n",
              "      <th></th>\n",
              "      <th>Unnamed: 0</th>\n",
              "      <th>text</th>\n",
              "      <th>label</th>\n",
              "    </tr>\n",
              "  </thead>\n",
              "  <tbody>\n",
              "    <tr>\n",
              "      <th>0</th>\n",
              "      <td>0</td>\n",
              "      <td>США в очередной раз ужесточили правила экспорт...</td>\n",
              "      <td>2</td>\n",
              "    </tr>\n",
              "    <tr>\n",
              "      <th>1</th>\n",
              "      <td>1</td>\n",
              "      <td>Санкции, введенные против России, такие как ис...</td>\n",
              "      <td>2</td>\n",
              "    </tr>\n",
              "    <tr>\n",
              "      <th>2</th>\n",
              "      <td>2</td>\n",
              "      <td>Посол Бразилии в Организации Объединенных Наци...</td>\n",
              "      <td>2</td>\n",
              "    </tr>\n",
              "    <tr>\n",
              "      <th>3</th>\n",
              "      <td>3</td>\n",
              "      <td>Беспрецедентные санкции против российских банк...</td>\n",
              "      <td>2</td>\n",
              "    </tr>\n",
              "    <tr>\n",
              "      <th>4</th>\n",
              "      <td>4</td>\n",
              "      <td>Государственная энергетическая компания Индоне...</td>\n",
              "      <td>0</td>\n",
              "    </tr>\n",
              "  </tbody>\n",
              "</table>\n",
              "</div>\n",
              "    <div class=\"colab-df-buttons\">\n",
              "\n",
              "  <div class=\"colab-df-container\">\n",
              "    <button class=\"colab-df-convert\" onclick=\"convertToInteractive('df-05bd8b9f-fdb8-420e-82fd-85563e00748c')\"\n",
              "            title=\"Convert this dataframe to an interactive table.\"\n",
              "            style=\"display:none;\">\n",
              "\n",
              "  <svg xmlns=\"http://www.w3.org/2000/svg\" height=\"24px\" viewBox=\"0 -960 960 960\">\n",
              "    <path d=\"M120-120v-720h720v720H120Zm60-500h600v-160H180v160Zm220 220h160v-160H400v160Zm0 220h160v-160H400v160ZM180-400h160v-160H180v160Zm440 0h160v-160H620v160ZM180-180h160v-160H180v160Zm440 0h160v-160H620v160Z\"/>\n",
              "  </svg>\n",
              "    </button>\n",
              "\n",
              "  <style>\n",
              "    .colab-df-container {\n",
              "      display:flex;\n",
              "      gap: 12px;\n",
              "    }\n",
              "\n",
              "    .colab-df-convert {\n",
              "      background-color: #E8F0FE;\n",
              "      border: none;\n",
              "      border-radius: 50%;\n",
              "      cursor: pointer;\n",
              "      display: none;\n",
              "      fill: #1967D2;\n",
              "      height: 32px;\n",
              "      padding: 0 0 0 0;\n",
              "      width: 32px;\n",
              "    }\n",
              "\n",
              "    .colab-df-convert:hover {\n",
              "      background-color: #E2EBFA;\n",
              "      box-shadow: 0px 1px 2px rgba(60, 64, 67, 0.3), 0px 1px 3px 1px rgba(60, 64, 67, 0.15);\n",
              "      fill: #174EA6;\n",
              "    }\n",
              "\n",
              "    .colab-df-buttons div {\n",
              "      margin-bottom: 4px;\n",
              "    }\n",
              "\n",
              "    [theme=dark] .colab-df-convert {\n",
              "      background-color: #3B4455;\n",
              "      fill: #D2E3FC;\n",
              "    }\n",
              "\n",
              "    [theme=dark] .colab-df-convert:hover {\n",
              "      background-color: #434B5C;\n",
              "      box-shadow: 0px 1px 3px 1px rgba(0, 0, 0, 0.15);\n",
              "      filter: drop-shadow(0px 1px 2px rgba(0, 0, 0, 0.3));\n",
              "      fill: #FFFFFF;\n",
              "    }\n",
              "  </style>\n",
              "\n",
              "    <script>\n",
              "      const buttonEl =\n",
              "        document.querySelector('#df-05bd8b9f-fdb8-420e-82fd-85563e00748c button.colab-df-convert');\n",
              "      buttonEl.style.display =\n",
              "        google.colab.kernel.accessAllowed ? 'block' : 'none';\n",
              "\n",
              "      async function convertToInteractive(key) {\n",
              "        const element = document.querySelector('#df-05bd8b9f-fdb8-420e-82fd-85563e00748c');\n",
              "        const dataTable =\n",
              "          await google.colab.kernel.invokeFunction('convertToInteractive',\n",
              "                                                    [key], {});\n",
              "        if (!dataTable) return;\n",
              "\n",
              "        const docLinkHtml = 'Like what you see? Visit the ' +\n",
              "          '<a target=\"_blank\" href=https://colab.research.google.com/notebooks/data_table.ipynb>data table notebook</a>'\n",
              "          + ' to learn more about interactive tables.';\n",
              "        element.innerHTML = '';\n",
              "        dataTable['output_type'] = 'display_data';\n",
              "        await google.colab.output.renderOutput(dataTable, element);\n",
              "        const docLink = document.createElement('div');\n",
              "        docLink.innerHTML = docLinkHtml;\n",
              "        element.appendChild(docLink);\n",
              "      }\n",
              "    </script>\n",
              "  </div>\n",
              "\n",
              "\n",
              "<div id=\"df-51bc2ec4-978c-4bcc-be18-efea1a526481\">\n",
              "  <button class=\"colab-df-quickchart\" onclick=\"quickchart('df-51bc2ec4-978c-4bcc-be18-efea1a526481')\"\n",
              "            title=\"Suggest charts\"\n",
              "            style=\"display:none;\">\n",
              "\n",
              "<svg xmlns=\"http://www.w3.org/2000/svg\" height=\"24px\"viewBox=\"0 0 24 24\"\n",
              "     width=\"24px\">\n",
              "    <g>\n",
              "        <path d=\"M19 3H5c-1.1 0-2 .9-2 2v14c0 1.1.9 2 2 2h14c1.1 0 2-.9 2-2V5c0-1.1-.9-2-2-2zM9 17H7v-7h2v7zm4 0h-2V7h2v10zm4 0h-2v-4h2v4z\"/>\n",
              "    </g>\n",
              "</svg>\n",
              "  </button>\n",
              "\n",
              "<style>\n",
              "  .colab-df-quickchart {\n",
              "      --bg-color: #E8F0FE;\n",
              "      --fill-color: #1967D2;\n",
              "      --hover-bg-color: #E2EBFA;\n",
              "      --hover-fill-color: #174EA6;\n",
              "      --disabled-fill-color: #AAA;\n",
              "      --disabled-bg-color: #DDD;\n",
              "  }\n",
              "\n",
              "  [theme=dark] .colab-df-quickchart {\n",
              "      --bg-color: #3B4455;\n",
              "      --fill-color: #D2E3FC;\n",
              "      --hover-bg-color: #434B5C;\n",
              "      --hover-fill-color: #FFFFFF;\n",
              "      --disabled-bg-color: #3B4455;\n",
              "      --disabled-fill-color: #666;\n",
              "  }\n",
              "\n",
              "  .colab-df-quickchart {\n",
              "    background-color: var(--bg-color);\n",
              "    border: none;\n",
              "    border-radius: 50%;\n",
              "    cursor: pointer;\n",
              "    display: none;\n",
              "    fill: var(--fill-color);\n",
              "    height: 32px;\n",
              "    padding: 0;\n",
              "    width: 32px;\n",
              "  }\n",
              "\n",
              "  .colab-df-quickchart:hover {\n",
              "    background-color: var(--hover-bg-color);\n",
              "    box-shadow: 0 1px 2px rgba(60, 64, 67, 0.3), 0 1px 3px 1px rgba(60, 64, 67, 0.15);\n",
              "    fill: var(--button-hover-fill-color);\n",
              "  }\n",
              "\n",
              "  .colab-df-quickchart-complete:disabled,\n",
              "  .colab-df-quickchart-complete:disabled:hover {\n",
              "    background-color: var(--disabled-bg-color);\n",
              "    fill: var(--disabled-fill-color);\n",
              "    box-shadow: none;\n",
              "  }\n",
              "\n",
              "  .colab-df-spinner {\n",
              "    border: 2px solid var(--fill-color);\n",
              "    border-color: transparent;\n",
              "    border-bottom-color: var(--fill-color);\n",
              "    animation:\n",
              "      spin 1s steps(1) infinite;\n",
              "  }\n",
              "\n",
              "  @keyframes spin {\n",
              "    0% {\n",
              "      border-color: transparent;\n",
              "      border-bottom-color: var(--fill-color);\n",
              "      border-left-color: var(--fill-color);\n",
              "    }\n",
              "    20% {\n",
              "      border-color: transparent;\n",
              "      border-left-color: var(--fill-color);\n",
              "      border-top-color: var(--fill-color);\n",
              "    }\n",
              "    30% {\n",
              "      border-color: transparent;\n",
              "      border-left-color: var(--fill-color);\n",
              "      border-top-color: var(--fill-color);\n",
              "      border-right-color: var(--fill-color);\n",
              "    }\n",
              "    40% {\n",
              "      border-color: transparent;\n",
              "      border-right-color: var(--fill-color);\n",
              "      border-top-color: var(--fill-color);\n",
              "    }\n",
              "    60% {\n",
              "      border-color: transparent;\n",
              "      border-right-color: var(--fill-color);\n",
              "    }\n",
              "    80% {\n",
              "      border-color: transparent;\n",
              "      border-right-color: var(--fill-color);\n",
              "      border-bottom-color: var(--fill-color);\n",
              "    }\n",
              "    90% {\n",
              "      border-color: transparent;\n",
              "      border-bottom-color: var(--fill-color);\n",
              "    }\n",
              "  }\n",
              "</style>\n",
              "\n",
              "  <script>\n",
              "    async function quickchart(key) {\n",
              "      const quickchartButtonEl =\n",
              "        document.querySelector('#' + key + ' button');\n",
              "      quickchartButtonEl.disabled = true;  // To prevent multiple clicks.\n",
              "      quickchartButtonEl.classList.add('colab-df-spinner');\n",
              "      try {\n",
              "        const charts = await google.colab.kernel.invokeFunction(\n",
              "            'suggestCharts', [key], {});\n",
              "      } catch (error) {\n",
              "        console.error('Error during call to suggestCharts:', error);\n",
              "      }\n",
              "      quickchartButtonEl.classList.remove('colab-df-spinner');\n",
              "      quickchartButtonEl.classList.add('colab-df-quickchart-complete');\n",
              "    }\n",
              "    (() => {\n",
              "      let quickchartButtonEl =\n",
              "        document.querySelector('#df-51bc2ec4-978c-4bcc-be18-efea1a526481 button');\n",
              "      quickchartButtonEl.style.display =\n",
              "        google.colab.kernel.accessAllowed ? 'block' : 'none';\n",
              "    })();\n",
              "  </script>\n",
              "</div>\n",
              "\n",
              "    </div>\n",
              "  </div>\n"
            ],
            "application/vnd.google.colaboratory.intrinsic+json": {
              "type": "dataframe",
              "variable_name": "df_labelled",
              "summary": "{\n  \"name\": \"df_labelled\",\n  \"rows\": 9835,\n  \"fields\": [\n    {\n      \"column\": \"Unnamed: 0\",\n      \"properties\": {\n        \"dtype\": \"number\",\n        \"std\": 2839,\n        \"min\": 0,\n        \"max\": 9834,\n        \"num_unique_values\": 9835,\n        \"samples\": [\n          9757,\n          9709,\n          2588\n        ],\n        \"semantic_type\": \"\",\n        \"description\": \"\"\n      }\n    },\n    {\n      \"column\": \"text\",\n      \"properties\": {\n        \"dtype\": \"string\",\n        \"num_unique_values\": 6935,\n        \"samples\": [\n          \"Autotor Kaliningrad, \\u0420\\u0430\\u0437\\u0432\\u0438\\u0442\\u0438\\u0435 \\u0431\\u0440\\u0435\\u043d\\u0434\\u0430 \\u043a\\u0438\\u0442\\u0430\\u0439\\u0441\\u043a\\u043e\\u0433\\u043e \\u0431\\u0440\\u0435\\u043d\\u0434\\u0430, \\u0440\\u043e\\u0441\\u0441\\u0438\\u0439\\u0441\\u043a\\u0430\\u044f \\u0444\\u0430\\u0431\\u0440\\u0438\\u043a\\u0430\",\n          \"\\u0415\\u0432\\u0440\\u043e\\u043f\\u0435\\u0439\\u0441\\u043a\\u0430\\u044f \\u043a\\u043e\\u043c\\u0438\\u0441\\u0441\\u0438\\u044f \\u0440\\u0430\\u0437\\u043c\\u0435\\u0441\\u0442\\u0438\\u043b\\u0430 \\u0434\\u0435\\u0441\\u044f\\u0442\\u044b\\u0439 \\u043f\\u0430\\u043a\\u0435\\u0442 \\u0441\\u0430\\u043d\\u043a\\u0446\\u0438\\u0439 \\u043f\\u0440\\u043e\\u0442\\u0438\\u0432 \\u0420\\u043e\\u0441\\u0441\\u0438\\u0438 \\u0438 \\u0438\\u0440\\u0430\\u043d\\u0441\\u043a\\u0438\\u0445 \\u043f\\u043e\\u0441\\u0442\\u0430\\u0432\\u0449\\u0438\\u043a\\u043e\\u0432 \\u0431\\u0435\\u0441\\u043f\\u0438\\u043b\\u043e\\u0442\\u043d\\u0438\\u043a\\u043e\\u0432, \\u0430 \\u0442\\u0430\\u043a\\u0436\\u0435 \\u043f\\u0440\\u0435\\u0434\\u043b\\u043e\\u0436\\u0438\\u043b\\u0430 \\u0437\\u0430\\u043f\\u0440\\u0435\\u0442\\u0438\\u0442\\u044c \\u041c\\u043e\\u0441\\u043a\\u0432\\u0443 \\u043f\\u0440\\u0438\\u043e\\u0431\\u0440\\u0435\\u0442\\u0430\\u0442\\u044c \\u043f\\u0435\\u0440\\u0435\\u0434\\u043e\\u0432\\u044b\\u0435 \\u0442\\u0435\\u0445\\u043d\\u043e\\u043b\\u043e\\u0433\\u0438\\u0438.\",\n          \"\\u0423\\u043f\\u0440\\u0430\\u0432\\u043b\\u0435\\u043d\\u0438\\u0435 \\u043f\\u043e \\u043a\\u043e\\u043d\\u0442\\u0440\\u043e\\u043b\\u044e \\u0437\\u0430 \\u0438\\u043d\\u043e\\u0441\\u0442\\u0440\\u0430\\u043d\\u043d\\u044b\\u043c\\u0438 \\u0430\\u043a\\u0442\\u0438\\u0432\\u0430\\u043c\\u0438 \\u0421\\u0428\\u0410 (OFAC) \\u0437\\u0430\\u043c\\u043e\\u0440\\u043e\\u0437\\u0438\\u043b\\u043e \\u043f\\u043b\\u0430\\u0442\\u0435\\u0436\\u0438 \\u043d\\u0435\\u0441\\u043a\\u043e\\u043b\\u044c\\u043a\\u0438\\u0445 \\u0438\\u043d\\u0434\\u0438\\u0439\\u0441\\u043a\\u0438\\u0445 \\u043a\\u043e\\u043c\\u043f\\u0430\\u043d\\u0438\\u0439 \\u043d\\u0430 \\u0441\\u0443\\u043c\\u043c\\u0443 \\u043e\\u043a\\u043e\\u043b\\u043e $26 \\u043c\\u043b\\u043d. \\u041f\\u043e \\u0434\\u0430\\u043d\\u043d\\u044b\\u043c OFAC, \\u043e\\u043d\\u0438 \\u0438\\u043c\\u043f\\u043e\\u0440\\u0442\\u0438\\u0440\\u043e\\u0432\\u0430\\u043b\\u0438 \\u0440\\u043e\\u0441\\u0441\\u0438\\u0439\\u0441\\u043a\\u043e\\u0435 \\u0430\\u043b\\u043c\\u0430\\u0437\\u043d\\u043e\\u0435 \\u0441\\u044b\\u0440\\u044c\\u0435.\"\n        ],\n        \"semantic_type\": \"\",\n        \"description\": \"\"\n      }\n    },\n    {\n      \"column\": \"label\",\n      \"properties\": {\n        \"dtype\": \"number\",\n        \"std\": 0,\n        \"min\": 0,\n        \"max\": 2,\n        \"num_unique_values\": 3,\n        \"samples\": [\n          2,\n          0,\n          1\n        ],\n        \"semantic_type\": \"\",\n        \"description\": \"\"\n      }\n    }\n  ]\n}"
            }
          },
          "metadata": {},
          "execution_count": 16
        },
        {
          "output_type": "stream",
          "name": "stdout",
          "text": [
            "time: 114 ms (started: 2024-06-21 13:43:37 +00:00)\n"
          ]
        }
      ]
    },
    {
      "cell_type": "code",
      "execution_count": null,
      "metadata": {
        "colab": {
          "base_uri": "https://localhost:8080/",
          "height": 224
        },
        "id": "KatoBli3eSHZ",
        "outputId": "52cff186-82b5-4c49-9eac-1196b707bc47"
      },
      "outputs": [
        {
          "output_type": "execute_result",
          "data": {
            "text/plain": [
              "   Unnamed: 0                                               text  label  \\\n",
              "0           0  США в очередной раз ужесточили правила экспорт...      2   \n",
              "1           1  Санкции, введенные против России, такие как ис...      2   \n",
              "2           2  Посол Бразилии в Организации Объединенных Наци...      2   \n",
              "3           3  Беспрецедентные санкции против российских банк...      2   \n",
              "4           4  Государственная энергетическая компания Индоне...      0   \n",
              "\n",
              "  sentiment  \n",
              "0  negative  \n",
              "1  negative  \n",
              "2  negative  \n",
              "3  negative  \n",
              "4  positive  "
            ],
            "text/html": [
              "\n",
              "  <div id=\"df-22275a49-4665-42f4-a73e-d95372a63d95\" class=\"colab-df-container\">\n",
              "    <div>\n",
              "<style scoped>\n",
              "    .dataframe tbody tr th:only-of-type {\n",
              "        vertical-align: middle;\n",
              "    }\n",
              "\n",
              "    .dataframe tbody tr th {\n",
              "        vertical-align: top;\n",
              "    }\n",
              "\n",
              "    .dataframe thead th {\n",
              "        text-align: right;\n",
              "    }\n",
              "</style>\n",
              "<table border=\"1\" class=\"dataframe\">\n",
              "  <thead>\n",
              "    <tr style=\"text-align: right;\">\n",
              "      <th></th>\n",
              "      <th>Unnamed: 0</th>\n",
              "      <th>text</th>\n",
              "      <th>label</th>\n",
              "      <th>sentiment</th>\n",
              "    </tr>\n",
              "  </thead>\n",
              "  <tbody>\n",
              "    <tr>\n",
              "      <th>0</th>\n",
              "      <td>0</td>\n",
              "      <td>США в очередной раз ужесточили правила экспорт...</td>\n",
              "      <td>2</td>\n",
              "      <td>negative</td>\n",
              "    </tr>\n",
              "    <tr>\n",
              "      <th>1</th>\n",
              "      <td>1</td>\n",
              "      <td>Санкции, введенные против России, такие как ис...</td>\n",
              "      <td>2</td>\n",
              "      <td>negative</td>\n",
              "    </tr>\n",
              "    <tr>\n",
              "      <th>2</th>\n",
              "      <td>2</td>\n",
              "      <td>Посол Бразилии в Организации Объединенных Наци...</td>\n",
              "      <td>2</td>\n",
              "      <td>negative</td>\n",
              "    </tr>\n",
              "    <tr>\n",
              "      <th>3</th>\n",
              "      <td>3</td>\n",
              "      <td>Беспрецедентные санкции против российских банк...</td>\n",
              "      <td>2</td>\n",
              "      <td>negative</td>\n",
              "    </tr>\n",
              "    <tr>\n",
              "      <th>4</th>\n",
              "      <td>4</td>\n",
              "      <td>Государственная энергетическая компания Индоне...</td>\n",
              "      <td>0</td>\n",
              "      <td>positive</td>\n",
              "    </tr>\n",
              "  </tbody>\n",
              "</table>\n",
              "</div>\n",
              "    <div class=\"colab-df-buttons\">\n",
              "\n",
              "  <div class=\"colab-df-container\">\n",
              "    <button class=\"colab-df-convert\" onclick=\"convertToInteractive('df-22275a49-4665-42f4-a73e-d95372a63d95')\"\n",
              "            title=\"Convert this dataframe to an interactive table.\"\n",
              "            style=\"display:none;\">\n",
              "\n",
              "  <svg xmlns=\"http://www.w3.org/2000/svg\" height=\"24px\" viewBox=\"0 -960 960 960\">\n",
              "    <path d=\"M120-120v-720h720v720H120Zm60-500h600v-160H180v160Zm220 220h160v-160H400v160Zm0 220h160v-160H400v160ZM180-400h160v-160H180v160Zm440 0h160v-160H620v160ZM180-180h160v-160H180v160Zm440 0h160v-160H620v160Z\"/>\n",
              "  </svg>\n",
              "    </button>\n",
              "\n",
              "  <style>\n",
              "    .colab-df-container {\n",
              "      display:flex;\n",
              "      gap: 12px;\n",
              "    }\n",
              "\n",
              "    .colab-df-convert {\n",
              "      background-color: #E8F0FE;\n",
              "      border: none;\n",
              "      border-radius: 50%;\n",
              "      cursor: pointer;\n",
              "      display: none;\n",
              "      fill: #1967D2;\n",
              "      height: 32px;\n",
              "      padding: 0 0 0 0;\n",
              "      width: 32px;\n",
              "    }\n",
              "\n",
              "    .colab-df-convert:hover {\n",
              "      background-color: #E2EBFA;\n",
              "      box-shadow: 0px 1px 2px rgba(60, 64, 67, 0.3), 0px 1px 3px 1px rgba(60, 64, 67, 0.15);\n",
              "      fill: #174EA6;\n",
              "    }\n",
              "\n",
              "    .colab-df-buttons div {\n",
              "      margin-bottom: 4px;\n",
              "    }\n",
              "\n",
              "    [theme=dark] .colab-df-convert {\n",
              "      background-color: #3B4455;\n",
              "      fill: #D2E3FC;\n",
              "    }\n",
              "\n",
              "    [theme=dark] .colab-df-convert:hover {\n",
              "      background-color: #434B5C;\n",
              "      box-shadow: 0px 1px 3px 1px rgba(0, 0, 0, 0.15);\n",
              "      filter: drop-shadow(0px 1px 2px rgba(0, 0, 0, 0.3));\n",
              "      fill: #FFFFFF;\n",
              "    }\n",
              "  </style>\n",
              "\n",
              "    <script>\n",
              "      const buttonEl =\n",
              "        document.querySelector('#df-22275a49-4665-42f4-a73e-d95372a63d95 button.colab-df-convert');\n",
              "      buttonEl.style.display =\n",
              "        google.colab.kernel.accessAllowed ? 'block' : 'none';\n",
              "\n",
              "      async function convertToInteractive(key) {\n",
              "        const element = document.querySelector('#df-22275a49-4665-42f4-a73e-d95372a63d95');\n",
              "        const dataTable =\n",
              "          await google.colab.kernel.invokeFunction('convertToInteractive',\n",
              "                                                    [key], {});\n",
              "        if (!dataTable) return;\n",
              "\n",
              "        const docLinkHtml = 'Like what you see? Visit the ' +\n",
              "          '<a target=\"_blank\" href=https://colab.research.google.com/notebooks/data_table.ipynb>data table notebook</a>'\n",
              "          + ' to learn more about interactive tables.';\n",
              "        element.innerHTML = '';\n",
              "        dataTable['output_type'] = 'display_data';\n",
              "        await google.colab.output.renderOutput(dataTable, element);\n",
              "        const docLink = document.createElement('div');\n",
              "        docLink.innerHTML = docLinkHtml;\n",
              "        element.appendChild(docLink);\n",
              "      }\n",
              "    </script>\n",
              "  </div>\n",
              "\n",
              "\n",
              "<div id=\"df-c691e90c-b32f-49a7-99e5-0dd0d2e5e846\">\n",
              "  <button class=\"colab-df-quickchart\" onclick=\"quickchart('df-c691e90c-b32f-49a7-99e5-0dd0d2e5e846')\"\n",
              "            title=\"Suggest charts\"\n",
              "            style=\"display:none;\">\n",
              "\n",
              "<svg xmlns=\"http://www.w3.org/2000/svg\" height=\"24px\"viewBox=\"0 0 24 24\"\n",
              "     width=\"24px\">\n",
              "    <g>\n",
              "        <path d=\"M19 3H5c-1.1 0-2 .9-2 2v14c0 1.1.9 2 2 2h14c1.1 0 2-.9 2-2V5c0-1.1-.9-2-2-2zM9 17H7v-7h2v7zm4 0h-2V7h2v10zm4 0h-2v-4h2v4z\"/>\n",
              "    </g>\n",
              "</svg>\n",
              "  </button>\n",
              "\n",
              "<style>\n",
              "  .colab-df-quickchart {\n",
              "      --bg-color: #E8F0FE;\n",
              "      --fill-color: #1967D2;\n",
              "      --hover-bg-color: #E2EBFA;\n",
              "      --hover-fill-color: #174EA6;\n",
              "      --disabled-fill-color: #AAA;\n",
              "      --disabled-bg-color: #DDD;\n",
              "  }\n",
              "\n",
              "  [theme=dark] .colab-df-quickchart {\n",
              "      --bg-color: #3B4455;\n",
              "      --fill-color: #D2E3FC;\n",
              "      --hover-bg-color: #434B5C;\n",
              "      --hover-fill-color: #FFFFFF;\n",
              "      --disabled-bg-color: #3B4455;\n",
              "      --disabled-fill-color: #666;\n",
              "  }\n",
              "\n",
              "  .colab-df-quickchart {\n",
              "    background-color: var(--bg-color);\n",
              "    border: none;\n",
              "    border-radius: 50%;\n",
              "    cursor: pointer;\n",
              "    display: none;\n",
              "    fill: var(--fill-color);\n",
              "    height: 32px;\n",
              "    padding: 0;\n",
              "    width: 32px;\n",
              "  }\n",
              "\n",
              "  .colab-df-quickchart:hover {\n",
              "    background-color: var(--hover-bg-color);\n",
              "    box-shadow: 0 1px 2px rgba(60, 64, 67, 0.3), 0 1px 3px 1px rgba(60, 64, 67, 0.15);\n",
              "    fill: var(--button-hover-fill-color);\n",
              "  }\n",
              "\n",
              "  .colab-df-quickchart-complete:disabled,\n",
              "  .colab-df-quickchart-complete:disabled:hover {\n",
              "    background-color: var(--disabled-bg-color);\n",
              "    fill: var(--disabled-fill-color);\n",
              "    box-shadow: none;\n",
              "  }\n",
              "\n",
              "  .colab-df-spinner {\n",
              "    border: 2px solid var(--fill-color);\n",
              "    border-color: transparent;\n",
              "    border-bottom-color: var(--fill-color);\n",
              "    animation:\n",
              "      spin 1s steps(1) infinite;\n",
              "  }\n",
              "\n",
              "  @keyframes spin {\n",
              "    0% {\n",
              "      border-color: transparent;\n",
              "      border-bottom-color: var(--fill-color);\n",
              "      border-left-color: var(--fill-color);\n",
              "    }\n",
              "    20% {\n",
              "      border-color: transparent;\n",
              "      border-left-color: var(--fill-color);\n",
              "      border-top-color: var(--fill-color);\n",
              "    }\n",
              "    30% {\n",
              "      border-color: transparent;\n",
              "      border-left-color: var(--fill-color);\n",
              "      border-top-color: var(--fill-color);\n",
              "      border-right-color: var(--fill-color);\n",
              "    }\n",
              "    40% {\n",
              "      border-color: transparent;\n",
              "      border-right-color: var(--fill-color);\n",
              "      border-top-color: var(--fill-color);\n",
              "    }\n",
              "    60% {\n",
              "      border-color: transparent;\n",
              "      border-right-color: var(--fill-color);\n",
              "    }\n",
              "    80% {\n",
              "      border-color: transparent;\n",
              "      border-right-color: var(--fill-color);\n",
              "      border-bottom-color: var(--fill-color);\n",
              "    }\n",
              "    90% {\n",
              "      border-color: transparent;\n",
              "      border-bottom-color: var(--fill-color);\n",
              "    }\n",
              "  }\n",
              "</style>\n",
              "\n",
              "  <script>\n",
              "    async function quickchart(key) {\n",
              "      const quickchartButtonEl =\n",
              "        document.querySelector('#' + key + ' button');\n",
              "      quickchartButtonEl.disabled = true;  // To prevent multiple clicks.\n",
              "      quickchartButtonEl.classList.add('colab-df-spinner');\n",
              "      try {\n",
              "        const charts = await google.colab.kernel.invokeFunction(\n",
              "            'suggestCharts', [key], {});\n",
              "      } catch (error) {\n",
              "        console.error('Error during call to suggestCharts:', error);\n",
              "      }\n",
              "      quickchartButtonEl.classList.remove('colab-df-spinner');\n",
              "      quickchartButtonEl.classList.add('colab-df-quickchart-complete');\n",
              "    }\n",
              "    (() => {\n",
              "      let quickchartButtonEl =\n",
              "        document.querySelector('#df-c691e90c-b32f-49a7-99e5-0dd0d2e5e846 button');\n",
              "      quickchartButtonEl.style.display =\n",
              "        google.colab.kernel.accessAllowed ? 'block' : 'none';\n",
              "    })();\n",
              "  </script>\n",
              "</div>\n",
              "\n",
              "    </div>\n",
              "  </div>\n"
            ],
            "application/vnd.google.colaboratory.intrinsic+json": {
              "type": "dataframe",
              "variable_name": "df_labelled",
              "summary": "{\n  \"name\": \"df_labelled\",\n  \"rows\": 9835,\n  \"fields\": [\n    {\n      \"column\": \"Unnamed: 0\",\n      \"properties\": {\n        \"dtype\": \"number\",\n        \"std\": 2839,\n        \"min\": 0,\n        \"max\": 9834,\n        \"num_unique_values\": 9835,\n        \"samples\": [\n          9757,\n          9709,\n          2588\n        ],\n        \"semantic_type\": \"\",\n        \"description\": \"\"\n      }\n    },\n    {\n      \"column\": \"text\",\n      \"properties\": {\n        \"dtype\": \"string\",\n        \"num_unique_values\": 6935,\n        \"samples\": [\n          \"Autotor Kaliningrad, \\u0420\\u0430\\u0437\\u0432\\u0438\\u0442\\u0438\\u0435 \\u0431\\u0440\\u0435\\u043d\\u0434\\u0430 \\u043a\\u0438\\u0442\\u0430\\u0439\\u0441\\u043a\\u043e\\u0433\\u043e \\u0431\\u0440\\u0435\\u043d\\u0434\\u0430, \\u0440\\u043e\\u0441\\u0441\\u0438\\u0439\\u0441\\u043a\\u0430\\u044f \\u0444\\u0430\\u0431\\u0440\\u0438\\u043a\\u0430\",\n          \"\\u0415\\u0432\\u0440\\u043e\\u043f\\u0435\\u0439\\u0441\\u043a\\u0430\\u044f \\u043a\\u043e\\u043c\\u0438\\u0441\\u0441\\u0438\\u044f \\u0440\\u0430\\u0437\\u043c\\u0435\\u0441\\u0442\\u0438\\u043b\\u0430 \\u0434\\u0435\\u0441\\u044f\\u0442\\u044b\\u0439 \\u043f\\u0430\\u043a\\u0435\\u0442 \\u0441\\u0430\\u043d\\u043a\\u0446\\u0438\\u0439 \\u043f\\u0440\\u043e\\u0442\\u0438\\u0432 \\u0420\\u043e\\u0441\\u0441\\u0438\\u0438 \\u0438 \\u0438\\u0440\\u0430\\u043d\\u0441\\u043a\\u0438\\u0445 \\u043f\\u043e\\u0441\\u0442\\u0430\\u0432\\u0449\\u0438\\u043a\\u043e\\u0432 \\u0431\\u0435\\u0441\\u043f\\u0438\\u043b\\u043e\\u0442\\u043d\\u0438\\u043a\\u043e\\u0432, \\u0430 \\u0442\\u0430\\u043a\\u0436\\u0435 \\u043f\\u0440\\u0435\\u0434\\u043b\\u043e\\u0436\\u0438\\u043b\\u0430 \\u0437\\u0430\\u043f\\u0440\\u0435\\u0442\\u0438\\u0442\\u044c \\u041c\\u043e\\u0441\\u043a\\u0432\\u0443 \\u043f\\u0440\\u0438\\u043e\\u0431\\u0440\\u0435\\u0442\\u0430\\u0442\\u044c \\u043f\\u0435\\u0440\\u0435\\u0434\\u043e\\u0432\\u044b\\u0435 \\u0442\\u0435\\u0445\\u043d\\u043e\\u043b\\u043e\\u0433\\u0438\\u0438.\",\n          \"\\u0423\\u043f\\u0440\\u0430\\u0432\\u043b\\u0435\\u043d\\u0438\\u0435 \\u043f\\u043e \\u043a\\u043e\\u043d\\u0442\\u0440\\u043e\\u043b\\u044e \\u0437\\u0430 \\u0438\\u043d\\u043e\\u0441\\u0442\\u0440\\u0430\\u043d\\u043d\\u044b\\u043c\\u0438 \\u0430\\u043a\\u0442\\u0438\\u0432\\u0430\\u043c\\u0438 \\u0421\\u0428\\u0410 (OFAC) \\u0437\\u0430\\u043c\\u043e\\u0440\\u043e\\u0437\\u0438\\u043b\\u043e \\u043f\\u043b\\u0430\\u0442\\u0435\\u0436\\u0438 \\u043d\\u0435\\u0441\\u043a\\u043e\\u043b\\u044c\\u043a\\u0438\\u0445 \\u0438\\u043d\\u0434\\u0438\\u0439\\u0441\\u043a\\u0438\\u0445 \\u043a\\u043e\\u043c\\u043f\\u0430\\u043d\\u0438\\u0439 \\u043d\\u0430 \\u0441\\u0443\\u043c\\u043c\\u0443 \\u043e\\u043a\\u043e\\u043b\\u043e $26 \\u043c\\u043b\\u043d. \\u041f\\u043e \\u0434\\u0430\\u043d\\u043d\\u044b\\u043c OFAC, \\u043e\\u043d\\u0438 \\u0438\\u043c\\u043f\\u043e\\u0440\\u0442\\u0438\\u0440\\u043e\\u0432\\u0430\\u043b\\u0438 \\u0440\\u043e\\u0441\\u0441\\u0438\\u0439\\u0441\\u043a\\u043e\\u0435 \\u0430\\u043b\\u043c\\u0430\\u0437\\u043d\\u043e\\u0435 \\u0441\\u044b\\u0440\\u044c\\u0435.\"\n        ],\n        \"semantic_type\": \"\",\n        \"description\": \"\"\n      }\n    },\n    {\n      \"column\": \"label\",\n      \"properties\": {\n        \"dtype\": \"number\",\n        \"std\": 0,\n        \"min\": 0,\n        \"max\": 2,\n        \"num_unique_values\": 3,\n        \"samples\": [\n          2,\n          0,\n          1\n        ],\n        \"semantic_type\": \"\",\n        \"description\": \"\"\n      }\n    },\n    {\n      \"column\": \"sentiment\",\n      \"properties\": {\n        \"dtype\": \"category\",\n        \"num_unique_values\": 3,\n        \"samples\": [\n          \"negative\",\n          \"positive\",\n          \"neutral\"\n        ],\n        \"semantic_type\": \"\",\n        \"description\": \"\"\n      }\n    }\n  ]\n}"
            }
          },
          "metadata": {},
          "execution_count": 17
        },
        {
          "output_type": "stream",
          "name": "stdout",
          "text": [
            "time: 88.3 ms (started: 2024-06-21 13:43:37 +00:00)\n"
          ]
        }
      ],
      "source": [
        "sentiment_mapping = {0: 'positive', 1: 'neutral', 2: 'negative'}\n",
        "\n",
        "df_labelled['sentiment'] = df_labelled['label'].replace(sentiment_mapping)\n",
        "\n",
        "df_labelled.head()"
      ]
    },
    {
      "cell_type": "markdown",
      "metadata": {
        "id": "0hCQUwlfazOw"
      },
      "source": [
        "We need text classification for titles and for news texts."
      ]
    },
    {
      "cell_type": "code",
      "execution_count": null,
      "metadata": {
        "colab": {
          "base_uri": "https://localhost:8080/"
        },
        "id": "wyHnskupX9RC",
        "outputId": "16618395-13d7-45a5-ca96-ff7aaf12d9db"
      },
      "outputs": [
        {
          "output_type": "stream",
          "name": "stdout",
          "text": [
            "time: 9 ms (started: 2024-06-21 13:43:37 +00:00)\n"
          ]
        }
      ],
      "source": [
        "df_titles = df[['title', 'sentiment']]\n",
        "df_text = df_labelled[['text', 'sentiment']]"
      ]
    },
    {
      "cell_type": "code",
      "source": [
        "df_val = df_titles.copy()"
      ],
      "metadata": {
        "colab": {
          "base_uri": "https://localhost:8080/"
        },
        "id": "xAb6LMo5u8Q7",
        "outputId": "5ef59442-5b1b-43d8-a8d5-b3df106c8514"
      },
      "execution_count": null,
      "outputs": [
        {
          "output_type": "stream",
          "name": "stdout",
          "text": [
            "time: 748 µs (started: 2024-06-21 13:43:37 +00:00)\n"
          ]
        }
      ]
    },
    {
      "cell_type": "markdown",
      "metadata": {
        "id": "IVGStvwEesYR"
      },
      "source": [
        "## Explore the Basic Properties of the Dataset"
      ]
    },
    {
      "cell_type": "markdown",
      "metadata": {
        "id": "jv5LdMFJex2V"
      },
      "source": [
        "### Shape of the dataset"
      ]
    },
    {
      "cell_type": "code",
      "execution_count": null,
      "metadata": {
        "colab": {
          "base_uri": "https://localhost:8080/"
        },
        "id": "mme4YZtDdL7G",
        "outputId": "ae76c980-1abc-4e0c-88f7-5fb724cdcffd"
      },
      "outputs": [
        {
          "output_type": "stream",
          "name": "stdout",
          "text": [
            "Shape of texts (rows, cols)=> (9835, 2)\n",
            "Shape of titles (rows, cols)=> (486, 2)\n",
            "time: 811 µs (started: 2024-06-21 13:43:37 +00:00)\n"
          ]
        }
      ],
      "source": [
        "print(f\"Shape of texts (rows, cols)=> {df_text.shape}\")\n",
        "print(f\"Shape of titles (rows, cols)=> {df_titles.shape}\")"
      ]
    },
    {
      "cell_type": "markdown",
      "metadata": {
        "id": "pIQe5LyvsZcz"
      },
      "source": [
        "### Check the duplicates\n"
      ]
    },
    {
      "cell_type": "code",
      "execution_count": null,
      "metadata": {
        "colab": {
          "base_uri": "https://localhost:8080/",
          "height": 192
        },
        "id": "WGSL52O8r6WK",
        "outputId": "4dd241d0-f271-4313-bb64-ed924c93bfbe"
      },
      "outputs": [
        {
          "output_type": "execute_result",
          "data": {
            "text/plain": [
              "                                                     text sentiment\n",
              "count                                                9835      9835\n",
              "unique                                               6935         3\n",
              "top     Американский производитель спортивной одежды N...  positive\n",
              "freq                                                    9      3694"
            ],
            "text/html": [
              "\n",
              "  <div id=\"df-fb0f6959-1b1c-46f5-a039-0e8f20ee153a\" class=\"colab-df-container\">\n",
              "    <div>\n",
              "<style scoped>\n",
              "    .dataframe tbody tr th:only-of-type {\n",
              "        vertical-align: middle;\n",
              "    }\n",
              "\n",
              "    .dataframe tbody tr th {\n",
              "        vertical-align: top;\n",
              "    }\n",
              "\n",
              "    .dataframe thead th {\n",
              "        text-align: right;\n",
              "    }\n",
              "</style>\n",
              "<table border=\"1\" class=\"dataframe\">\n",
              "  <thead>\n",
              "    <tr style=\"text-align: right;\">\n",
              "      <th></th>\n",
              "      <th>text</th>\n",
              "      <th>sentiment</th>\n",
              "    </tr>\n",
              "  </thead>\n",
              "  <tbody>\n",
              "    <tr>\n",
              "      <th>count</th>\n",
              "      <td>9835</td>\n",
              "      <td>9835</td>\n",
              "    </tr>\n",
              "    <tr>\n",
              "      <th>unique</th>\n",
              "      <td>6935</td>\n",
              "      <td>3</td>\n",
              "    </tr>\n",
              "    <tr>\n",
              "      <th>top</th>\n",
              "      <td>Американский производитель спортивной одежды N...</td>\n",
              "      <td>positive</td>\n",
              "    </tr>\n",
              "    <tr>\n",
              "      <th>freq</th>\n",
              "      <td>9</td>\n",
              "      <td>3694</td>\n",
              "    </tr>\n",
              "  </tbody>\n",
              "</table>\n",
              "</div>\n",
              "    <div class=\"colab-df-buttons\">\n",
              "\n",
              "  <div class=\"colab-df-container\">\n",
              "    <button class=\"colab-df-convert\" onclick=\"convertToInteractive('df-fb0f6959-1b1c-46f5-a039-0e8f20ee153a')\"\n",
              "            title=\"Convert this dataframe to an interactive table.\"\n",
              "            style=\"display:none;\">\n",
              "\n",
              "  <svg xmlns=\"http://www.w3.org/2000/svg\" height=\"24px\" viewBox=\"0 -960 960 960\">\n",
              "    <path d=\"M120-120v-720h720v720H120Zm60-500h600v-160H180v160Zm220 220h160v-160H400v160Zm0 220h160v-160H400v160ZM180-400h160v-160H180v160Zm440 0h160v-160H620v160ZM180-180h160v-160H180v160Zm440 0h160v-160H620v160Z\"/>\n",
              "  </svg>\n",
              "    </button>\n",
              "\n",
              "  <style>\n",
              "    .colab-df-container {\n",
              "      display:flex;\n",
              "      gap: 12px;\n",
              "    }\n",
              "\n",
              "    .colab-df-convert {\n",
              "      background-color: #E8F0FE;\n",
              "      border: none;\n",
              "      border-radius: 50%;\n",
              "      cursor: pointer;\n",
              "      display: none;\n",
              "      fill: #1967D2;\n",
              "      height: 32px;\n",
              "      padding: 0 0 0 0;\n",
              "      width: 32px;\n",
              "    }\n",
              "\n",
              "    .colab-df-convert:hover {\n",
              "      background-color: #E2EBFA;\n",
              "      box-shadow: 0px 1px 2px rgba(60, 64, 67, 0.3), 0px 1px 3px 1px rgba(60, 64, 67, 0.15);\n",
              "      fill: #174EA6;\n",
              "    }\n",
              "\n",
              "    .colab-df-buttons div {\n",
              "      margin-bottom: 4px;\n",
              "    }\n",
              "\n",
              "    [theme=dark] .colab-df-convert {\n",
              "      background-color: #3B4455;\n",
              "      fill: #D2E3FC;\n",
              "    }\n",
              "\n",
              "    [theme=dark] .colab-df-convert:hover {\n",
              "      background-color: #434B5C;\n",
              "      box-shadow: 0px 1px 3px 1px rgba(0, 0, 0, 0.15);\n",
              "      filter: drop-shadow(0px 1px 2px rgba(0, 0, 0, 0.3));\n",
              "      fill: #FFFFFF;\n",
              "    }\n",
              "  </style>\n",
              "\n",
              "    <script>\n",
              "      const buttonEl =\n",
              "        document.querySelector('#df-fb0f6959-1b1c-46f5-a039-0e8f20ee153a button.colab-df-convert');\n",
              "      buttonEl.style.display =\n",
              "        google.colab.kernel.accessAllowed ? 'block' : 'none';\n",
              "\n",
              "      async function convertToInteractive(key) {\n",
              "        const element = document.querySelector('#df-fb0f6959-1b1c-46f5-a039-0e8f20ee153a');\n",
              "        const dataTable =\n",
              "          await google.colab.kernel.invokeFunction('convertToInteractive',\n",
              "                                                    [key], {});\n",
              "        if (!dataTable) return;\n",
              "\n",
              "        const docLinkHtml = 'Like what you see? Visit the ' +\n",
              "          '<a target=\"_blank\" href=https://colab.research.google.com/notebooks/data_table.ipynb>data table notebook</a>'\n",
              "          + ' to learn more about interactive tables.';\n",
              "        element.innerHTML = '';\n",
              "        dataTable['output_type'] = 'display_data';\n",
              "        await google.colab.output.renderOutput(dataTable, element);\n",
              "        const docLink = document.createElement('div');\n",
              "        docLink.innerHTML = docLinkHtml;\n",
              "        element.appendChild(docLink);\n",
              "      }\n",
              "    </script>\n",
              "  </div>\n",
              "\n",
              "\n",
              "<div id=\"df-36854573-1f8f-4d40-ad01-95cb40abf75c\">\n",
              "  <button class=\"colab-df-quickchart\" onclick=\"quickchart('df-36854573-1f8f-4d40-ad01-95cb40abf75c')\"\n",
              "            title=\"Suggest charts\"\n",
              "            style=\"display:none;\">\n",
              "\n",
              "<svg xmlns=\"http://www.w3.org/2000/svg\" height=\"24px\"viewBox=\"0 0 24 24\"\n",
              "     width=\"24px\">\n",
              "    <g>\n",
              "        <path d=\"M19 3H5c-1.1 0-2 .9-2 2v14c0 1.1.9 2 2 2h14c1.1 0 2-.9 2-2V5c0-1.1-.9-2-2-2zM9 17H7v-7h2v7zm4 0h-2V7h2v10zm4 0h-2v-4h2v4z\"/>\n",
              "    </g>\n",
              "</svg>\n",
              "  </button>\n",
              "\n",
              "<style>\n",
              "  .colab-df-quickchart {\n",
              "      --bg-color: #E8F0FE;\n",
              "      --fill-color: #1967D2;\n",
              "      --hover-bg-color: #E2EBFA;\n",
              "      --hover-fill-color: #174EA6;\n",
              "      --disabled-fill-color: #AAA;\n",
              "      --disabled-bg-color: #DDD;\n",
              "  }\n",
              "\n",
              "  [theme=dark] .colab-df-quickchart {\n",
              "      --bg-color: #3B4455;\n",
              "      --fill-color: #D2E3FC;\n",
              "      --hover-bg-color: #434B5C;\n",
              "      --hover-fill-color: #FFFFFF;\n",
              "      --disabled-bg-color: #3B4455;\n",
              "      --disabled-fill-color: #666;\n",
              "  }\n",
              "\n",
              "  .colab-df-quickchart {\n",
              "    background-color: var(--bg-color);\n",
              "    border: none;\n",
              "    border-radius: 50%;\n",
              "    cursor: pointer;\n",
              "    display: none;\n",
              "    fill: var(--fill-color);\n",
              "    height: 32px;\n",
              "    padding: 0;\n",
              "    width: 32px;\n",
              "  }\n",
              "\n",
              "  .colab-df-quickchart:hover {\n",
              "    background-color: var(--hover-bg-color);\n",
              "    box-shadow: 0 1px 2px rgba(60, 64, 67, 0.3), 0 1px 3px 1px rgba(60, 64, 67, 0.15);\n",
              "    fill: var(--button-hover-fill-color);\n",
              "  }\n",
              "\n",
              "  .colab-df-quickchart-complete:disabled,\n",
              "  .colab-df-quickchart-complete:disabled:hover {\n",
              "    background-color: var(--disabled-bg-color);\n",
              "    fill: var(--disabled-fill-color);\n",
              "    box-shadow: none;\n",
              "  }\n",
              "\n",
              "  .colab-df-spinner {\n",
              "    border: 2px solid var(--fill-color);\n",
              "    border-color: transparent;\n",
              "    border-bottom-color: var(--fill-color);\n",
              "    animation:\n",
              "      spin 1s steps(1) infinite;\n",
              "  }\n",
              "\n",
              "  @keyframes spin {\n",
              "    0% {\n",
              "      border-color: transparent;\n",
              "      border-bottom-color: var(--fill-color);\n",
              "      border-left-color: var(--fill-color);\n",
              "    }\n",
              "    20% {\n",
              "      border-color: transparent;\n",
              "      border-left-color: var(--fill-color);\n",
              "      border-top-color: var(--fill-color);\n",
              "    }\n",
              "    30% {\n",
              "      border-color: transparent;\n",
              "      border-left-color: var(--fill-color);\n",
              "      border-top-color: var(--fill-color);\n",
              "      border-right-color: var(--fill-color);\n",
              "    }\n",
              "    40% {\n",
              "      border-color: transparent;\n",
              "      border-right-color: var(--fill-color);\n",
              "      border-top-color: var(--fill-color);\n",
              "    }\n",
              "    60% {\n",
              "      border-color: transparent;\n",
              "      border-right-color: var(--fill-color);\n",
              "    }\n",
              "    80% {\n",
              "      border-color: transparent;\n",
              "      border-right-color: var(--fill-color);\n",
              "      border-bottom-color: var(--fill-color);\n",
              "    }\n",
              "    90% {\n",
              "      border-color: transparent;\n",
              "      border-bottom-color: var(--fill-color);\n",
              "    }\n",
              "  }\n",
              "</style>\n",
              "\n",
              "  <script>\n",
              "    async function quickchart(key) {\n",
              "      const quickchartButtonEl =\n",
              "        document.querySelector('#' + key + ' button');\n",
              "      quickchartButtonEl.disabled = true;  // To prevent multiple clicks.\n",
              "      quickchartButtonEl.classList.add('colab-df-spinner');\n",
              "      try {\n",
              "        const charts = await google.colab.kernel.invokeFunction(\n",
              "            'suggestCharts', [key], {});\n",
              "      } catch (error) {\n",
              "        console.error('Error during call to suggestCharts:', error);\n",
              "      }\n",
              "      quickchartButtonEl.classList.remove('colab-df-spinner');\n",
              "      quickchartButtonEl.classList.add('colab-df-quickchart-complete');\n",
              "    }\n",
              "    (() => {\n",
              "      let quickchartButtonEl =\n",
              "        document.querySelector('#df-36854573-1f8f-4d40-ad01-95cb40abf75c button');\n",
              "      quickchartButtonEl.style.display =\n",
              "        google.colab.kernel.accessAllowed ? 'block' : 'none';\n",
              "    })();\n",
              "  </script>\n",
              "</div>\n",
              "\n",
              "    </div>\n",
              "  </div>\n"
            ],
            "application/vnd.google.colaboratory.intrinsic+json": {
              "type": "dataframe",
              "summary": "{\n  \"name\": \"df_text\",\n  \"rows\": 4,\n  \"fields\": [\n    {\n      \"column\": \"text\",\n      \"properties\": {\n        \"dtype\": \"string\",\n        \"num_unique_values\": 4,\n        \"samples\": [\n          6935,\n          \"9\",\n          \"9835\"\n        ],\n        \"semantic_type\": \"\",\n        \"description\": \"\"\n      }\n    },\n    {\n      \"column\": \"sentiment\",\n      \"properties\": {\n        \"dtype\": \"string\",\n        \"num_unique_values\": 4,\n        \"samples\": [\n          3,\n          \"3694\",\n          \"9835\"\n        ],\n        \"semantic_type\": \"\",\n        \"description\": \"\"\n      }\n    }\n  ]\n}"
            }
          },
          "metadata": {},
          "execution_count": 21
        },
        {
          "output_type": "stream",
          "name": "stdout",
          "text": [
            "time: 44.6 ms (started: 2024-06-21 13:43:37 +00:00)\n"
          ]
        }
      ],
      "source": [
        "df_text.describe(include='all')"
      ]
    },
    {
      "cell_type": "code",
      "execution_count": null,
      "metadata": {
        "colab": {
          "base_uri": "https://localhost:8080/",
          "height": 192
        },
        "id": "05zQSDVyc4iD",
        "outputId": "d6bc1a7b-96d6-43c9-eb5e-319256434381"
      },
      "outputs": [
        {
          "output_type": "execute_result",
          "data": {
            "text/plain": [
              "                                                    title sentiment\n",
              "count                                                 486       486\n",
              "unique                                                484         3\n",
              "top     Экспорт российского мороженого в 2022 году упа...  negative\n",
              "freq                                                    2       291"
            ],
            "text/html": [
              "\n",
              "  <div id=\"df-35578564-32ce-4436-a209-bda0a8e0702c\" class=\"colab-df-container\">\n",
              "    <div>\n",
              "<style scoped>\n",
              "    .dataframe tbody tr th:only-of-type {\n",
              "        vertical-align: middle;\n",
              "    }\n",
              "\n",
              "    .dataframe tbody tr th {\n",
              "        vertical-align: top;\n",
              "    }\n",
              "\n",
              "    .dataframe thead th {\n",
              "        text-align: right;\n",
              "    }\n",
              "</style>\n",
              "<table border=\"1\" class=\"dataframe\">\n",
              "  <thead>\n",
              "    <tr style=\"text-align: right;\">\n",
              "      <th></th>\n",
              "      <th>title</th>\n",
              "      <th>sentiment</th>\n",
              "    </tr>\n",
              "  </thead>\n",
              "  <tbody>\n",
              "    <tr>\n",
              "      <th>count</th>\n",
              "      <td>486</td>\n",
              "      <td>486</td>\n",
              "    </tr>\n",
              "    <tr>\n",
              "      <th>unique</th>\n",
              "      <td>484</td>\n",
              "      <td>3</td>\n",
              "    </tr>\n",
              "    <tr>\n",
              "      <th>top</th>\n",
              "      <td>Экспорт российского мороженого в 2022 году упа...</td>\n",
              "      <td>negative</td>\n",
              "    </tr>\n",
              "    <tr>\n",
              "      <th>freq</th>\n",
              "      <td>2</td>\n",
              "      <td>291</td>\n",
              "    </tr>\n",
              "  </tbody>\n",
              "</table>\n",
              "</div>\n",
              "    <div class=\"colab-df-buttons\">\n",
              "\n",
              "  <div class=\"colab-df-container\">\n",
              "    <button class=\"colab-df-convert\" onclick=\"convertToInteractive('df-35578564-32ce-4436-a209-bda0a8e0702c')\"\n",
              "            title=\"Convert this dataframe to an interactive table.\"\n",
              "            style=\"display:none;\">\n",
              "\n",
              "  <svg xmlns=\"http://www.w3.org/2000/svg\" height=\"24px\" viewBox=\"0 -960 960 960\">\n",
              "    <path d=\"M120-120v-720h720v720H120Zm60-500h600v-160H180v160Zm220 220h160v-160H400v160Zm0 220h160v-160H400v160ZM180-400h160v-160H180v160Zm440 0h160v-160H620v160ZM180-180h160v-160H180v160Zm440 0h160v-160H620v160Z\"/>\n",
              "  </svg>\n",
              "    </button>\n",
              "\n",
              "  <style>\n",
              "    .colab-df-container {\n",
              "      display:flex;\n",
              "      gap: 12px;\n",
              "    }\n",
              "\n",
              "    .colab-df-convert {\n",
              "      background-color: #E8F0FE;\n",
              "      border: none;\n",
              "      border-radius: 50%;\n",
              "      cursor: pointer;\n",
              "      display: none;\n",
              "      fill: #1967D2;\n",
              "      height: 32px;\n",
              "      padding: 0 0 0 0;\n",
              "      width: 32px;\n",
              "    }\n",
              "\n",
              "    .colab-df-convert:hover {\n",
              "      background-color: #E2EBFA;\n",
              "      box-shadow: 0px 1px 2px rgba(60, 64, 67, 0.3), 0px 1px 3px 1px rgba(60, 64, 67, 0.15);\n",
              "      fill: #174EA6;\n",
              "    }\n",
              "\n",
              "    .colab-df-buttons div {\n",
              "      margin-bottom: 4px;\n",
              "    }\n",
              "\n",
              "    [theme=dark] .colab-df-convert {\n",
              "      background-color: #3B4455;\n",
              "      fill: #D2E3FC;\n",
              "    }\n",
              "\n",
              "    [theme=dark] .colab-df-convert:hover {\n",
              "      background-color: #434B5C;\n",
              "      box-shadow: 0px 1px 3px 1px rgba(0, 0, 0, 0.15);\n",
              "      filter: drop-shadow(0px 1px 2px rgba(0, 0, 0, 0.3));\n",
              "      fill: #FFFFFF;\n",
              "    }\n",
              "  </style>\n",
              "\n",
              "    <script>\n",
              "      const buttonEl =\n",
              "        document.querySelector('#df-35578564-32ce-4436-a209-bda0a8e0702c button.colab-df-convert');\n",
              "      buttonEl.style.display =\n",
              "        google.colab.kernel.accessAllowed ? 'block' : 'none';\n",
              "\n",
              "      async function convertToInteractive(key) {\n",
              "        const element = document.querySelector('#df-35578564-32ce-4436-a209-bda0a8e0702c');\n",
              "        const dataTable =\n",
              "          await google.colab.kernel.invokeFunction('convertToInteractive',\n",
              "                                                    [key], {});\n",
              "        if (!dataTable) return;\n",
              "\n",
              "        const docLinkHtml = 'Like what you see? Visit the ' +\n",
              "          '<a target=\"_blank\" href=https://colab.research.google.com/notebooks/data_table.ipynb>data table notebook</a>'\n",
              "          + ' to learn more about interactive tables.';\n",
              "        element.innerHTML = '';\n",
              "        dataTable['output_type'] = 'display_data';\n",
              "        await google.colab.output.renderOutput(dataTable, element);\n",
              "        const docLink = document.createElement('div');\n",
              "        docLink.innerHTML = docLinkHtml;\n",
              "        element.appendChild(docLink);\n",
              "      }\n",
              "    </script>\n",
              "  </div>\n",
              "\n",
              "\n",
              "<div id=\"df-6aa8dfd2-8654-4077-9094-f3fe49c9a1ec\">\n",
              "  <button class=\"colab-df-quickchart\" onclick=\"quickchart('df-6aa8dfd2-8654-4077-9094-f3fe49c9a1ec')\"\n",
              "            title=\"Suggest charts\"\n",
              "            style=\"display:none;\">\n",
              "\n",
              "<svg xmlns=\"http://www.w3.org/2000/svg\" height=\"24px\"viewBox=\"0 0 24 24\"\n",
              "     width=\"24px\">\n",
              "    <g>\n",
              "        <path d=\"M19 3H5c-1.1 0-2 .9-2 2v14c0 1.1.9 2 2 2h14c1.1 0 2-.9 2-2V5c0-1.1-.9-2-2-2zM9 17H7v-7h2v7zm4 0h-2V7h2v10zm4 0h-2v-4h2v4z\"/>\n",
              "    </g>\n",
              "</svg>\n",
              "  </button>\n",
              "\n",
              "<style>\n",
              "  .colab-df-quickchart {\n",
              "      --bg-color: #E8F0FE;\n",
              "      --fill-color: #1967D2;\n",
              "      --hover-bg-color: #E2EBFA;\n",
              "      --hover-fill-color: #174EA6;\n",
              "      --disabled-fill-color: #AAA;\n",
              "      --disabled-bg-color: #DDD;\n",
              "  }\n",
              "\n",
              "  [theme=dark] .colab-df-quickchart {\n",
              "      --bg-color: #3B4455;\n",
              "      --fill-color: #D2E3FC;\n",
              "      --hover-bg-color: #434B5C;\n",
              "      --hover-fill-color: #FFFFFF;\n",
              "      --disabled-bg-color: #3B4455;\n",
              "      --disabled-fill-color: #666;\n",
              "  }\n",
              "\n",
              "  .colab-df-quickchart {\n",
              "    background-color: var(--bg-color);\n",
              "    border: none;\n",
              "    border-radius: 50%;\n",
              "    cursor: pointer;\n",
              "    display: none;\n",
              "    fill: var(--fill-color);\n",
              "    height: 32px;\n",
              "    padding: 0;\n",
              "    width: 32px;\n",
              "  }\n",
              "\n",
              "  .colab-df-quickchart:hover {\n",
              "    background-color: var(--hover-bg-color);\n",
              "    box-shadow: 0 1px 2px rgba(60, 64, 67, 0.3), 0 1px 3px 1px rgba(60, 64, 67, 0.15);\n",
              "    fill: var(--button-hover-fill-color);\n",
              "  }\n",
              "\n",
              "  .colab-df-quickchart-complete:disabled,\n",
              "  .colab-df-quickchart-complete:disabled:hover {\n",
              "    background-color: var(--disabled-bg-color);\n",
              "    fill: var(--disabled-fill-color);\n",
              "    box-shadow: none;\n",
              "  }\n",
              "\n",
              "  .colab-df-spinner {\n",
              "    border: 2px solid var(--fill-color);\n",
              "    border-color: transparent;\n",
              "    border-bottom-color: var(--fill-color);\n",
              "    animation:\n",
              "      spin 1s steps(1) infinite;\n",
              "  }\n",
              "\n",
              "  @keyframes spin {\n",
              "    0% {\n",
              "      border-color: transparent;\n",
              "      border-bottom-color: var(--fill-color);\n",
              "      border-left-color: var(--fill-color);\n",
              "    }\n",
              "    20% {\n",
              "      border-color: transparent;\n",
              "      border-left-color: var(--fill-color);\n",
              "      border-top-color: var(--fill-color);\n",
              "    }\n",
              "    30% {\n",
              "      border-color: transparent;\n",
              "      border-left-color: var(--fill-color);\n",
              "      border-top-color: var(--fill-color);\n",
              "      border-right-color: var(--fill-color);\n",
              "    }\n",
              "    40% {\n",
              "      border-color: transparent;\n",
              "      border-right-color: var(--fill-color);\n",
              "      border-top-color: var(--fill-color);\n",
              "    }\n",
              "    60% {\n",
              "      border-color: transparent;\n",
              "      border-right-color: var(--fill-color);\n",
              "    }\n",
              "    80% {\n",
              "      border-color: transparent;\n",
              "      border-right-color: var(--fill-color);\n",
              "      border-bottom-color: var(--fill-color);\n",
              "    }\n",
              "    90% {\n",
              "      border-color: transparent;\n",
              "      border-bottom-color: var(--fill-color);\n",
              "    }\n",
              "  }\n",
              "</style>\n",
              "\n",
              "  <script>\n",
              "    async function quickchart(key) {\n",
              "      const quickchartButtonEl =\n",
              "        document.querySelector('#' + key + ' button');\n",
              "      quickchartButtonEl.disabled = true;  // To prevent multiple clicks.\n",
              "      quickchartButtonEl.classList.add('colab-df-spinner');\n",
              "      try {\n",
              "        const charts = await google.colab.kernel.invokeFunction(\n",
              "            'suggestCharts', [key], {});\n",
              "      } catch (error) {\n",
              "        console.error('Error during call to suggestCharts:', error);\n",
              "      }\n",
              "      quickchartButtonEl.classList.remove('colab-df-spinner');\n",
              "      quickchartButtonEl.classList.add('colab-df-quickchart-complete');\n",
              "    }\n",
              "    (() => {\n",
              "      let quickchartButtonEl =\n",
              "        document.querySelector('#df-6aa8dfd2-8654-4077-9094-f3fe49c9a1ec button');\n",
              "      quickchartButtonEl.style.display =\n",
              "        google.colab.kernel.accessAllowed ? 'block' : 'none';\n",
              "    })();\n",
              "  </script>\n",
              "</div>\n",
              "\n",
              "    </div>\n",
              "  </div>\n"
            ],
            "application/vnd.google.colaboratory.intrinsic+json": {
              "type": "dataframe",
              "summary": "{\n  \"name\": \"df_titles\",\n  \"rows\": 4,\n  \"fields\": [\n    {\n      \"column\": \"title\",\n      \"properties\": {\n        \"dtype\": \"string\",\n        \"num_unique_values\": 4,\n        \"samples\": [\n          484,\n          \"2\",\n          \"486\"\n        ],\n        \"semantic_type\": \"\",\n        \"description\": \"\"\n      }\n    },\n    {\n      \"column\": \"sentiment\",\n      \"properties\": {\n        \"dtype\": \"string\",\n        \"num_unique_values\": 4,\n        \"samples\": [\n          3,\n          \"291\",\n          \"486\"\n        ],\n        \"semantic_type\": \"\",\n        \"description\": \"\"\n      }\n    }\n  ]\n}"
            }
          },
          "metadata": {},
          "execution_count": 22
        },
        {
          "output_type": "stream",
          "name": "stdout",
          "text": [
            "time: 26.4 ms (started: 2024-06-21 13:43:37 +00:00)\n"
          ]
        }
      ],
      "source": [
        "df_titles.describe(include='all')"
      ]
    },
    {
      "cell_type": "code",
      "execution_count": null,
      "metadata": {
        "colab": {
          "base_uri": "https://localhost:8080/"
        },
        "id": "Dmasszt1tyZ1",
        "outputId": "c0683f9c-d036-4a89-b5f3-10529ef6d478"
      },
      "outputs": [
        {
          "output_type": "execute_result",
          "data": {
            "text/plain": [
              "title\n",
              "False    484\n",
              "True       2\n",
              "Name: count, dtype: int64"
            ]
          },
          "metadata": {},
          "execution_count": 23
        },
        {
          "output_type": "stream",
          "name": "stdout",
          "text": [
            "time: 11.2 ms (started: 2024-06-21 13:43:37 +00:00)\n"
          ]
        }
      ],
      "source": [
        "df_titles.title.duplicated(keep=\"first\").value_counts()"
      ]
    },
    {
      "cell_type": "code",
      "execution_count": null,
      "metadata": {
        "colab": {
          "base_uri": "https://localhost:8080/"
        },
        "id": "qnajbNire9gh",
        "outputId": "50a9faba-d545-47d2-a4d9-6b2d20c33bfa"
      },
      "outputs": [
        {
          "output_type": "execute_result",
          "data": {
            "text/plain": [
              "text\n",
              "False    6935\n",
              "True     2900\n",
              "Name: count, dtype: int64"
            ]
          },
          "metadata": {},
          "execution_count": 24
        },
        {
          "output_type": "stream",
          "name": "stdout",
          "text": [
            "time: 19.3 ms (started: 2024-06-21 13:43:37 +00:00)\n"
          ]
        }
      ],
      "source": [
        "df_text.text.duplicated(keep=\"first\").value_counts()"
      ]
    },
    {
      "cell_type": "code",
      "execution_count": null,
      "metadata": {
        "colab": {
          "base_uri": "https://localhost:8080/",
          "height": 192
        },
        "id": "RiCAy8lqt6ns",
        "outputId": "c7758932-872a-4f51-ce9a-9b6f4435a466"
      },
      "outputs": [
        {
          "output_type": "execute_result",
          "data": {
            "text/plain": [
              "                                                     text sentiment\n",
              "count                                                6935      6935\n",
              "unique                                               6935         3\n",
              "top     США в очередной раз ужесточили правила экспорт...  positive\n",
              "freq                                                    1      2594"
            ],
            "text/html": [
              "\n",
              "  <div id=\"df-4f1397f5-68f6-43fb-a238-0fc5944eed23\" class=\"colab-df-container\">\n",
              "    <div>\n",
              "<style scoped>\n",
              "    .dataframe tbody tr th:only-of-type {\n",
              "        vertical-align: middle;\n",
              "    }\n",
              "\n",
              "    .dataframe tbody tr th {\n",
              "        vertical-align: top;\n",
              "    }\n",
              "\n",
              "    .dataframe thead th {\n",
              "        text-align: right;\n",
              "    }\n",
              "</style>\n",
              "<table border=\"1\" class=\"dataframe\">\n",
              "  <thead>\n",
              "    <tr style=\"text-align: right;\">\n",
              "      <th></th>\n",
              "      <th>text</th>\n",
              "      <th>sentiment</th>\n",
              "    </tr>\n",
              "  </thead>\n",
              "  <tbody>\n",
              "    <tr>\n",
              "      <th>count</th>\n",
              "      <td>6935</td>\n",
              "      <td>6935</td>\n",
              "    </tr>\n",
              "    <tr>\n",
              "      <th>unique</th>\n",
              "      <td>6935</td>\n",
              "      <td>3</td>\n",
              "    </tr>\n",
              "    <tr>\n",
              "      <th>top</th>\n",
              "      <td>США в очередной раз ужесточили правила экспорт...</td>\n",
              "      <td>positive</td>\n",
              "    </tr>\n",
              "    <tr>\n",
              "      <th>freq</th>\n",
              "      <td>1</td>\n",
              "      <td>2594</td>\n",
              "    </tr>\n",
              "  </tbody>\n",
              "</table>\n",
              "</div>\n",
              "    <div class=\"colab-df-buttons\">\n",
              "\n",
              "  <div class=\"colab-df-container\">\n",
              "    <button class=\"colab-df-convert\" onclick=\"convertToInteractive('df-4f1397f5-68f6-43fb-a238-0fc5944eed23')\"\n",
              "            title=\"Convert this dataframe to an interactive table.\"\n",
              "            style=\"display:none;\">\n",
              "\n",
              "  <svg xmlns=\"http://www.w3.org/2000/svg\" height=\"24px\" viewBox=\"0 -960 960 960\">\n",
              "    <path d=\"M120-120v-720h720v720H120Zm60-500h600v-160H180v160Zm220 220h160v-160H400v160Zm0 220h160v-160H400v160ZM180-400h160v-160H180v160Zm440 0h160v-160H620v160ZM180-180h160v-160H180v160Zm440 0h160v-160H620v160Z\"/>\n",
              "  </svg>\n",
              "    </button>\n",
              "\n",
              "  <style>\n",
              "    .colab-df-container {\n",
              "      display:flex;\n",
              "      gap: 12px;\n",
              "    }\n",
              "\n",
              "    .colab-df-convert {\n",
              "      background-color: #E8F0FE;\n",
              "      border: none;\n",
              "      border-radius: 50%;\n",
              "      cursor: pointer;\n",
              "      display: none;\n",
              "      fill: #1967D2;\n",
              "      height: 32px;\n",
              "      padding: 0 0 0 0;\n",
              "      width: 32px;\n",
              "    }\n",
              "\n",
              "    .colab-df-convert:hover {\n",
              "      background-color: #E2EBFA;\n",
              "      box-shadow: 0px 1px 2px rgba(60, 64, 67, 0.3), 0px 1px 3px 1px rgba(60, 64, 67, 0.15);\n",
              "      fill: #174EA6;\n",
              "    }\n",
              "\n",
              "    .colab-df-buttons div {\n",
              "      margin-bottom: 4px;\n",
              "    }\n",
              "\n",
              "    [theme=dark] .colab-df-convert {\n",
              "      background-color: #3B4455;\n",
              "      fill: #D2E3FC;\n",
              "    }\n",
              "\n",
              "    [theme=dark] .colab-df-convert:hover {\n",
              "      background-color: #434B5C;\n",
              "      box-shadow: 0px 1px 3px 1px rgba(0, 0, 0, 0.15);\n",
              "      filter: drop-shadow(0px 1px 2px rgba(0, 0, 0, 0.3));\n",
              "      fill: #FFFFFF;\n",
              "    }\n",
              "  </style>\n",
              "\n",
              "    <script>\n",
              "      const buttonEl =\n",
              "        document.querySelector('#df-4f1397f5-68f6-43fb-a238-0fc5944eed23 button.colab-df-convert');\n",
              "      buttonEl.style.display =\n",
              "        google.colab.kernel.accessAllowed ? 'block' : 'none';\n",
              "\n",
              "      async function convertToInteractive(key) {\n",
              "        const element = document.querySelector('#df-4f1397f5-68f6-43fb-a238-0fc5944eed23');\n",
              "        const dataTable =\n",
              "          await google.colab.kernel.invokeFunction('convertToInteractive',\n",
              "                                                    [key], {});\n",
              "        if (!dataTable) return;\n",
              "\n",
              "        const docLinkHtml = 'Like what you see? Visit the ' +\n",
              "          '<a target=\"_blank\" href=https://colab.research.google.com/notebooks/data_table.ipynb>data table notebook</a>'\n",
              "          + ' to learn more about interactive tables.';\n",
              "        element.innerHTML = '';\n",
              "        dataTable['output_type'] = 'display_data';\n",
              "        await google.colab.output.renderOutput(dataTable, element);\n",
              "        const docLink = document.createElement('div');\n",
              "        docLink.innerHTML = docLinkHtml;\n",
              "        element.appendChild(docLink);\n",
              "      }\n",
              "    </script>\n",
              "  </div>\n",
              "\n",
              "\n",
              "<div id=\"df-3714c231-8cab-4e17-8f6a-3d50ee3a8a7b\">\n",
              "  <button class=\"colab-df-quickchart\" onclick=\"quickchart('df-3714c231-8cab-4e17-8f6a-3d50ee3a8a7b')\"\n",
              "            title=\"Suggest charts\"\n",
              "            style=\"display:none;\">\n",
              "\n",
              "<svg xmlns=\"http://www.w3.org/2000/svg\" height=\"24px\"viewBox=\"0 0 24 24\"\n",
              "     width=\"24px\">\n",
              "    <g>\n",
              "        <path d=\"M19 3H5c-1.1 0-2 .9-2 2v14c0 1.1.9 2 2 2h14c1.1 0 2-.9 2-2V5c0-1.1-.9-2-2-2zM9 17H7v-7h2v7zm4 0h-2V7h2v10zm4 0h-2v-4h2v4z\"/>\n",
              "    </g>\n",
              "</svg>\n",
              "  </button>\n",
              "\n",
              "<style>\n",
              "  .colab-df-quickchart {\n",
              "      --bg-color: #E8F0FE;\n",
              "      --fill-color: #1967D2;\n",
              "      --hover-bg-color: #E2EBFA;\n",
              "      --hover-fill-color: #174EA6;\n",
              "      --disabled-fill-color: #AAA;\n",
              "      --disabled-bg-color: #DDD;\n",
              "  }\n",
              "\n",
              "  [theme=dark] .colab-df-quickchart {\n",
              "      --bg-color: #3B4455;\n",
              "      --fill-color: #D2E3FC;\n",
              "      --hover-bg-color: #434B5C;\n",
              "      --hover-fill-color: #FFFFFF;\n",
              "      --disabled-bg-color: #3B4455;\n",
              "      --disabled-fill-color: #666;\n",
              "  }\n",
              "\n",
              "  .colab-df-quickchart {\n",
              "    background-color: var(--bg-color);\n",
              "    border: none;\n",
              "    border-radius: 50%;\n",
              "    cursor: pointer;\n",
              "    display: none;\n",
              "    fill: var(--fill-color);\n",
              "    height: 32px;\n",
              "    padding: 0;\n",
              "    width: 32px;\n",
              "  }\n",
              "\n",
              "  .colab-df-quickchart:hover {\n",
              "    background-color: var(--hover-bg-color);\n",
              "    box-shadow: 0 1px 2px rgba(60, 64, 67, 0.3), 0 1px 3px 1px rgba(60, 64, 67, 0.15);\n",
              "    fill: var(--button-hover-fill-color);\n",
              "  }\n",
              "\n",
              "  .colab-df-quickchart-complete:disabled,\n",
              "  .colab-df-quickchart-complete:disabled:hover {\n",
              "    background-color: var(--disabled-bg-color);\n",
              "    fill: var(--disabled-fill-color);\n",
              "    box-shadow: none;\n",
              "  }\n",
              "\n",
              "  .colab-df-spinner {\n",
              "    border: 2px solid var(--fill-color);\n",
              "    border-color: transparent;\n",
              "    border-bottom-color: var(--fill-color);\n",
              "    animation:\n",
              "      spin 1s steps(1) infinite;\n",
              "  }\n",
              "\n",
              "  @keyframes spin {\n",
              "    0% {\n",
              "      border-color: transparent;\n",
              "      border-bottom-color: var(--fill-color);\n",
              "      border-left-color: var(--fill-color);\n",
              "    }\n",
              "    20% {\n",
              "      border-color: transparent;\n",
              "      border-left-color: var(--fill-color);\n",
              "      border-top-color: var(--fill-color);\n",
              "    }\n",
              "    30% {\n",
              "      border-color: transparent;\n",
              "      border-left-color: var(--fill-color);\n",
              "      border-top-color: var(--fill-color);\n",
              "      border-right-color: var(--fill-color);\n",
              "    }\n",
              "    40% {\n",
              "      border-color: transparent;\n",
              "      border-right-color: var(--fill-color);\n",
              "      border-top-color: var(--fill-color);\n",
              "    }\n",
              "    60% {\n",
              "      border-color: transparent;\n",
              "      border-right-color: var(--fill-color);\n",
              "    }\n",
              "    80% {\n",
              "      border-color: transparent;\n",
              "      border-right-color: var(--fill-color);\n",
              "      border-bottom-color: var(--fill-color);\n",
              "    }\n",
              "    90% {\n",
              "      border-color: transparent;\n",
              "      border-bottom-color: var(--fill-color);\n",
              "    }\n",
              "  }\n",
              "</style>\n",
              "\n",
              "  <script>\n",
              "    async function quickchart(key) {\n",
              "      const quickchartButtonEl =\n",
              "        document.querySelector('#' + key + ' button');\n",
              "      quickchartButtonEl.disabled = true;  // To prevent multiple clicks.\n",
              "      quickchartButtonEl.classList.add('colab-df-spinner');\n",
              "      try {\n",
              "        const charts = await google.colab.kernel.invokeFunction(\n",
              "            'suggestCharts', [key], {});\n",
              "      } catch (error) {\n",
              "        console.error('Error during call to suggestCharts:', error);\n",
              "      }\n",
              "      quickchartButtonEl.classList.remove('colab-df-spinner');\n",
              "      quickchartButtonEl.classList.add('colab-df-quickchart-complete');\n",
              "    }\n",
              "    (() => {\n",
              "      let quickchartButtonEl =\n",
              "        document.querySelector('#df-3714c231-8cab-4e17-8f6a-3d50ee3a8a7b button');\n",
              "      quickchartButtonEl.style.display =\n",
              "        google.colab.kernel.accessAllowed ? 'block' : 'none';\n",
              "    })();\n",
              "  </script>\n",
              "</div>\n",
              "\n",
              "    </div>\n",
              "  </div>\n"
            ],
            "application/vnd.google.colaboratory.intrinsic+json": {
              "type": "dataframe",
              "summary": "{\n  \"name\": \"df_text\",\n  \"rows\": 4,\n  \"fields\": [\n    {\n      \"column\": \"text\",\n      \"properties\": {\n        \"dtype\": \"string\",\n        \"num_unique_values\": 3,\n        \"samples\": [\n          \"6935\",\n          \"\\u0421\\u0428\\u0410 \\u0432 \\u043e\\u0447\\u0435\\u0440\\u0435\\u0434\\u043d\\u043e\\u0439 \\u0440\\u0430\\u0437 \\u0443\\u0436\\u0435\\u0441\\u0442\\u043e\\u0447\\u0438\\u043b\\u0438 \\u043f\\u0440\\u0430\\u0432\\u0438\\u043b\\u0430 \\u044d\\u043a\\u0441\\u043f\\u043e\\u0440\\u0442\\u043d\\u043e\\u0433\\u043e \\u043a\\u043e\\u043d\\u0442\\u0440\\u043e\\u043b\\u044f \\u0432 \\u043e\\u0442\\u043d\\u043e\\u0448\\u0435\\u043d\\u0438\\u0438 \\u043f\\u043e\\u0441\\u0442\\u0430\\u0432\\u043e\\u043a \\u0442\\u043e\\u0432\\u0430\\u0440\\u043e\\u0432 \\u0432 \\u0420\\u043e\\u0441\\u0441\\u0438\\u044e. 29 \\u0438\\u044e\\u043d\\u044f 2020 \\u0433. \\u0432\\u0441\\u0442\\u0443\\u043f\\u0438\\u043b\\u0438 \\u0432 \\u0441\\u0438\\u043b\\u0443 \\u0434\\u0432\\u0430 \\u043d\\u043e\\u0432\\u044b\\u0445 \\u043f\\u0440\\u0430\\u0432\\u0438\\u043b\\u0430 \\u0411\\u044e\\u0440\\u043e \\u043f\\u0440\\u043e\\u043c\\u044b\\u0448\\u043b\\u0435\\u043d\\u043d\\u043e\\u0441\\u0442\\u0438 \\u0438 \\u0431\\u0435\\u0437\\u043e\\u043f\\u0430\\u0441\\u043d\\u043e\\u0441\\u0442\\u0438 (BIS) \\u041c\\u0438\\u043d\\u0438\\u0441\\u0442\\u0435\\u0440\\u0441\\u0442\\u0432\\u0430 \\u0442\\u043e\\u0440\\u0433\\u043e\\u0432\\u043b\\u0438 \\u0421\\u0428\\u0410, \\u043a\\u043e\\u0442\\u043e\\u0440\\u044b\\u0435 \\u0435\\u0449\\u0435 \\u0431\\u043e\\u043b\\u044c\\u0448\\u0435 \\u043e\\u0433\\u0440\\u0430\\u043d\\u0438\\u0447\\u0438\\u0432\\u0430\\u044e\\u0442 \\u043f\\u043e\\u0442\\u0435\\u043d\\u0446\\u0438\\u0430\\u043b\\u044c\\u043d\\u044b\\u0439 \\u044d\\u043a\\u0441\\u043f\\u043e\\u0440\\u0442 \\u0447\\u0443\\u0432\\u0441\\u0442\\u0432\\u0438\\u0442\\u0435\\u043b\\u044c\\u043d\\u044b\\u0445 \\u0442\\u0435\\u0445\\u043d\\u043e\\u043b\\u043e\\u0433\\u0438\\u0439 \\u0432 \\u0420\\u043e\\u0441\\u0441\\u0438\\u044e (\\u0430 \\u0442\\u0430\\u043a\\u0436\\u0435 \\u0432 \\u041a\\u0438\\u0442\\u0430\\u0439 \\u0438 \\u0412\\u0435\\u043d\\u0435\\u0441\\u0443\\u044d\\u043b\\u0443). \\u041f\\u0435\\u0440\\u0432\\u043e\\u0435 \\u043f\\u0440\\u0430\\u0432\\u0438\\u043b\\u043e \\u043e\\u0442\\u043c\\u0435\\u043d\\u044f\\u0435\\u0442 \\u0438\\u0441\\u043a\\u043b\\u044e\\u0447\\u0435\\u043d\\u0438\\u0435 \\u0434\\u043b\\u044f \\u0430\\u043c\\u0435\\u0440\\u0438\\u043a\\u0430\\u043d\\u0441\\u043a\\u0438\\u0445 \\u044d\\u043a\\u0441\\u043f\\u043e\\u0440\\u0442\\u0435\\u0440\\u043e\\u0432, \\u043a\\u043e\\u0442\\u043e\\u0440\\u044b\\u0435 \\u0434\\u043e \\u044d\\u0442\\u043e\\u0433\\u043e \\u043c\\u043e\\u0433\\u043b\\u0438 \\u043f\\u043e\\u0441\\u0442\\u0430\\u0432\\u043b\\u044f\\u0442\\u044c \\u0432 \\u0420\\u043e\\u0441\\u0441\\u0438\\u044e \\u0431\\u0435\\u0437 \\u043b\\u0438\\u0446\\u0435\\u043d\\u0437\\u0438\\u0438 \\u043e\\u0442\\u043d\\u043e\\u0441\\u0438\\u0442\\u0435\\u043b\\u044c\\u043d\\u043e \\u0448\\u0438\\u0440\\u043e\\u043a\\u0438\\u0439 \\u0441\\u043f\\u0435\\u043a\\u0442\\u0440 \\u0442\\u043e\\u0432\\u0430\\u0440\\u043e\\u0432, \\u0435\\u0441\\u043b\\u0438 \\u043e\\u043d\\u0438 \\u043f\\u0440\\u0435\\u0434\\u043d\\u0430\\u0437\\u043d\\u0430\\u0447\\u0435\\u043d\\u044b \\u0434\\u043b\\u044f \\u0433\\u0440\\u0430\\u0436\\u0434\\u0430\\u043d\\u0441\\u043a\\u043e\\u0433\\u043e \\u0438\\u0441\\u043f\\u043e\\u043b\\u044c\\u0437\\u043e\\u0432\\u0430\\u043d\\u0438\\u044f \\u0433\\u0440\\u0430\\u0436\\u0434\\u0430\\u043d\\u0441\\u043a\\u0438\\u043c\\u0438 \\u043f\\u043e\\u0442\\u0440\\u0435\\u0431\\u0438\\u0442\\u0435\\u043b\\u044f\\u043c\\u0438. \\u042d\\u0442\\u043e \\u043f\\u043e\\u0434\\u0448\\u0438\\u043f\\u043d\\u0438\\u043a\\u0438, \\u043f\\u043e\\u043b\\u0443\\u043f\\u0440\\u043e\\u0432\\u043e\\u0434\\u043d\\u0438\\u043a\\u0438, \\u043a\\u043e\\u043c\\u043f\\u044c\\u044e\\u0442\\u0435\\u0440\\u044b, \\u0442\\u0435\\u043b\\u0435\\u043a\\u043e\\u043c\\u043c\\u0443\\u043d\\u0438\\u043a\\u0430\\u0446\\u0438\\u043e\\u043d\\u043d\\u043e\\u0435 \\u043e\\u0431\\u043e\\u0440\\u0443\\u0434\\u043e\\u0432\\u0430\\u043d\\u0438\\u0435, \\u0440\\u0430\\u0434\\u0438\\u043e\\u043b\\u043e\\u043a\\u0430\\u0446\\u0438\\u043e\\u043d\\u043d\\u044b\\u0435 \\u0441\\u0438\\u0441\\u0442\\u0435\\u043c\\u044b, \\u043e\\u0431\\u043e\\u0440\\u0443\\u0434\\u043e\\u0432\\u0430\\u043d\\u0438\\u0435 \\u0434\\u043b\\u044f \\u043f\\u0440\\u043e\\u0438\\u0437\\u0432\\u043e\\u0434\\u0441\\u0442\\u0432\\u0430 \\u0441\\u0430\\u043c\\u043e\\u043b\\u0435\\u0442\\u043d\\u044b\\u0445 \\u0434\\u0432\\u0438\\u0433\\u0430\\u0442\\u0435\\u043b\\u0435\\u0439 \\u0438 \\u0434\\u0440\\u0443\\u0433\\u043e\\u0435. \\u0412\\u0442\\u043e\\u0440\\u043e\\u0435 \\u043f\\u0440\\u0430\\u0432\\u0438\\u043b\\u043e \\u0440\\u0430\\u0441\\u0448\\u0438\\u0440\\u044f\\u0435\\u0442 \\u043e\\u043f\\u0440\\u0435\\u0434\\u0435\\u043b\\u0435\\u043d\\u0438\\u0435 \\u00ab\\u0432\\u043e\\u0435\\u043d\\u043d\\u043e\\u0433\\u043e \\u0438\\u0441\\u043f\\u043e\\u043b\\u044c\\u0437\\u043e\\u0432\\u0430\\u043d\\u0438\\u044f\\u00bb \\u0442\\u043e\\u0432\\u0430\\u0440\\u043e\\u0432, \\u0447\\u0442\\u043e \\u0441\\u0443\\u0437\\u0438\\u0442 \\u0438 \\u0431\\u0435\\u0437 \\u0442\\u043e\\u0433\\u043e \\u043c\\u0438\\u043d\\u0438\\u043c\\u0430\\u043b\\u044c\\u043d\\u044b\\u0435 \\u0432\\u043e\\u0437\\u043c\\u043e\\u0436\\u043d\\u043e\\u0441\\u0442\\u0438 \\u0440\\u043e\\u0441\\u0441\\u0438\\u0439\\u0441\\u043a\\u043e\\u0433\\u043e \\u043e\\u0431\\u043e\\u0440\\u043e\\u043d\\u043d\\u043e\\u0433\\u043e \\u0441\\u0435\\u043a\\u0442\\u043e\\u0440\\u0430 \\u0437\\u0430\\u043a\\u0443\\u043f\\u0430\\u0442\\u044c \\u0430\\u043c\\u0435\\u0440\\u0438\\u043a\\u0430\\u043d\\u0441\\u043a\\u0438\\u0435 \\u0442\\u043e\\u0432\\u0430\\u0440\\u044b, \\u0442\\u0435\\u0445\\u043d\\u043e\\u043b\\u043e\\u0433\\u0438\\u0438 \\u0438 \\u043f\\u0440\\u043e\\u0433\\u0440\\u0430\\u043c\\u043c\\u043d\\u043e\\u0435 \\u043e\\u0431\\u0435\\u0441\\u043f\\u0435\\u0447\\u0435\\u043d\\u0438\\u0435.\",\n          \"1\"\n        ],\n        \"semantic_type\": \"\",\n        \"description\": \"\"\n      }\n    },\n    {\n      \"column\": \"sentiment\",\n      \"properties\": {\n        \"dtype\": \"string\",\n        \"num_unique_values\": 4,\n        \"samples\": [\n          3,\n          \"2594\",\n          \"6935\"\n        ],\n        \"semantic_type\": \"\",\n        \"description\": \"\"\n      }\n    }\n  ]\n}"
            }
          },
          "metadata": {},
          "execution_count": 25
        },
        {
          "output_type": "stream",
          "name": "stdout",
          "text": [
            "time: 57.2 ms (started: 2024-06-21 13:43:37 +00:00)\n"
          ]
        }
      ],
      "source": [
        "df_text = df_text.drop_duplicates(subset=\"text\", keep=\"first\").reset_index(drop=True)\n",
        "df_text.describe()"
      ]
    },
    {
      "cell_type": "code",
      "execution_count": null,
      "metadata": {
        "colab": {
          "base_uri": "https://localhost:8080/",
          "height": 192
        },
        "id": "7dY7JWUdfd7X",
        "outputId": "5bd6ebdd-5c21-422d-9230-a09fbcfda649"
      },
      "outputs": [
        {
          "output_type": "execute_result",
          "data": {
            "text/plain": [
              "                                                    title sentiment\n",
              "count                                                 484       484\n",
              "unique                                                484         3\n",
              "top     Экс-глава итальянского правительства Сильвио Б...  negative\n",
              "freq                                                    1       290"
            ],
            "text/html": [
              "\n",
              "  <div id=\"df-b432d671-d39b-4d85-9ea3-207982685c06\" class=\"colab-df-container\">\n",
              "    <div>\n",
              "<style scoped>\n",
              "    .dataframe tbody tr th:only-of-type {\n",
              "        vertical-align: middle;\n",
              "    }\n",
              "\n",
              "    .dataframe tbody tr th {\n",
              "        vertical-align: top;\n",
              "    }\n",
              "\n",
              "    .dataframe thead th {\n",
              "        text-align: right;\n",
              "    }\n",
              "</style>\n",
              "<table border=\"1\" class=\"dataframe\">\n",
              "  <thead>\n",
              "    <tr style=\"text-align: right;\">\n",
              "      <th></th>\n",
              "      <th>title</th>\n",
              "      <th>sentiment</th>\n",
              "    </tr>\n",
              "  </thead>\n",
              "  <tbody>\n",
              "    <tr>\n",
              "      <th>count</th>\n",
              "      <td>484</td>\n",
              "      <td>484</td>\n",
              "    </tr>\n",
              "    <tr>\n",
              "      <th>unique</th>\n",
              "      <td>484</td>\n",
              "      <td>3</td>\n",
              "    </tr>\n",
              "    <tr>\n",
              "      <th>top</th>\n",
              "      <td>Экс-глава итальянского правительства Сильвио Б...</td>\n",
              "      <td>negative</td>\n",
              "    </tr>\n",
              "    <tr>\n",
              "      <th>freq</th>\n",
              "      <td>1</td>\n",
              "      <td>290</td>\n",
              "    </tr>\n",
              "  </tbody>\n",
              "</table>\n",
              "</div>\n",
              "    <div class=\"colab-df-buttons\">\n",
              "\n",
              "  <div class=\"colab-df-container\">\n",
              "    <button class=\"colab-df-convert\" onclick=\"convertToInteractive('df-b432d671-d39b-4d85-9ea3-207982685c06')\"\n",
              "            title=\"Convert this dataframe to an interactive table.\"\n",
              "            style=\"display:none;\">\n",
              "\n",
              "  <svg xmlns=\"http://www.w3.org/2000/svg\" height=\"24px\" viewBox=\"0 -960 960 960\">\n",
              "    <path d=\"M120-120v-720h720v720H120Zm60-500h600v-160H180v160Zm220 220h160v-160H400v160Zm0 220h160v-160H400v160ZM180-400h160v-160H180v160Zm440 0h160v-160H620v160ZM180-180h160v-160H180v160Zm440 0h160v-160H620v160Z\"/>\n",
              "  </svg>\n",
              "    </button>\n",
              "\n",
              "  <style>\n",
              "    .colab-df-container {\n",
              "      display:flex;\n",
              "      gap: 12px;\n",
              "    }\n",
              "\n",
              "    .colab-df-convert {\n",
              "      background-color: #E8F0FE;\n",
              "      border: none;\n",
              "      border-radius: 50%;\n",
              "      cursor: pointer;\n",
              "      display: none;\n",
              "      fill: #1967D2;\n",
              "      height: 32px;\n",
              "      padding: 0 0 0 0;\n",
              "      width: 32px;\n",
              "    }\n",
              "\n",
              "    .colab-df-convert:hover {\n",
              "      background-color: #E2EBFA;\n",
              "      box-shadow: 0px 1px 2px rgba(60, 64, 67, 0.3), 0px 1px 3px 1px rgba(60, 64, 67, 0.15);\n",
              "      fill: #174EA6;\n",
              "    }\n",
              "\n",
              "    .colab-df-buttons div {\n",
              "      margin-bottom: 4px;\n",
              "    }\n",
              "\n",
              "    [theme=dark] .colab-df-convert {\n",
              "      background-color: #3B4455;\n",
              "      fill: #D2E3FC;\n",
              "    }\n",
              "\n",
              "    [theme=dark] .colab-df-convert:hover {\n",
              "      background-color: #434B5C;\n",
              "      box-shadow: 0px 1px 3px 1px rgba(0, 0, 0, 0.15);\n",
              "      filter: drop-shadow(0px 1px 2px rgba(0, 0, 0, 0.3));\n",
              "      fill: #FFFFFF;\n",
              "    }\n",
              "  </style>\n",
              "\n",
              "    <script>\n",
              "      const buttonEl =\n",
              "        document.querySelector('#df-b432d671-d39b-4d85-9ea3-207982685c06 button.colab-df-convert');\n",
              "      buttonEl.style.display =\n",
              "        google.colab.kernel.accessAllowed ? 'block' : 'none';\n",
              "\n",
              "      async function convertToInteractive(key) {\n",
              "        const element = document.querySelector('#df-b432d671-d39b-4d85-9ea3-207982685c06');\n",
              "        const dataTable =\n",
              "          await google.colab.kernel.invokeFunction('convertToInteractive',\n",
              "                                                    [key], {});\n",
              "        if (!dataTable) return;\n",
              "\n",
              "        const docLinkHtml = 'Like what you see? Visit the ' +\n",
              "          '<a target=\"_blank\" href=https://colab.research.google.com/notebooks/data_table.ipynb>data table notebook</a>'\n",
              "          + ' to learn more about interactive tables.';\n",
              "        element.innerHTML = '';\n",
              "        dataTable['output_type'] = 'display_data';\n",
              "        await google.colab.output.renderOutput(dataTable, element);\n",
              "        const docLink = document.createElement('div');\n",
              "        docLink.innerHTML = docLinkHtml;\n",
              "        element.appendChild(docLink);\n",
              "      }\n",
              "    </script>\n",
              "  </div>\n",
              "\n",
              "\n",
              "<div id=\"df-5d238381-2e24-420b-a3a6-d843fa2bdf0f\">\n",
              "  <button class=\"colab-df-quickchart\" onclick=\"quickchart('df-5d238381-2e24-420b-a3a6-d843fa2bdf0f')\"\n",
              "            title=\"Suggest charts\"\n",
              "            style=\"display:none;\">\n",
              "\n",
              "<svg xmlns=\"http://www.w3.org/2000/svg\" height=\"24px\"viewBox=\"0 0 24 24\"\n",
              "     width=\"24px\">\n",
              "    <g>\n",
              "        <path d=\"M19 3H5c-1.1 0-2 .9-2 2v14c0 1.1.9 2 2 2h14c1.1 0 2-.9 2-2V5c0-1.1-.9-2-2-2zM9 17H7v-7h2v7zm4 0h-2V7h2v10zm4 0h-2v-4h2v4z\"/>\n",
              "    </g>\n",
              "</svg>\n",
              "  </button>\n",
              "\n",
              "<style>\n",
              "  .colab-df-quickchart {\n",
              "      --bg-color: #E8F0FE;\n",
              "      --fill-color: #1967D2;\n",
              "      --hover-bg-color: #E2EBFA;\n",
              "      --hover-fill-color: #174EA6;\n",
              "      --disabled-fill-color: #AAA;\n",
              "      --disabled-bg-color: #DDD;\n",
              "  }\n",
              "\n",
              "  [theme=dark] .colab-df-quickchart {\n",
              "      --bg-color: #3B4455;\n",
              "      --fill-color: #D2E3FC;\n",
              "      --hover-bg-color: #434B5C;\n",
              "      --hover-fill-color: #FFFFFF;\n",
              "      --disabled-bg-color: #3B4455;\n",
              "      --disabled-fill-color: #666;\n",
              "  }\n",
              "\n",
              "  .colab-df-quickchart {\n",
              "    background-color: var(--bg-color);\n",
              "    border: none;\n",
              "    border-radius: 50%;\n",
              "    cursor: pointer;\n",
              "    display: none;\n",
              "    fill: var(--fill-color);\n",
              "    height: 32px;\n",
              "    padding: 0;\n",
              "    width: 32px;\n",
              "  }\n",
              "\n",
              "  .colab-df-quickchart:hover {\n",
              "    background-color: var(--hover-bg-color);\n",
              "    box-shadow: 0 1px 2px rgba(60, 64, 67, 0.3), 0 1px 3px 1px rgba(60, 64, 67, 0.15);\n",
              "    fill: var(--button-hover-fill-color);\n",
              "  }\n",
              "\n",
              "  .colab-df-quickchart-complete:disabled,\n",
              "  .colab-df-quickchart-complete:disabled:hover {\n",
              "    background-color: var(--disabled-bg-color);\n",
              "    fill: var(--disabled-fill-color);\n",
              "    box-shadow: none;\n",
              "  }\n",
              "\n",
              "  .colab-df-spinner {\n",
              "    border: 2px solid var(--fill-color);\n",
              "    border-color: transparent;\n",
              "    border-bottom-color: var(--fill-color);\n",
              "    animation:\n",
              "      spin 1s steps(1) infinite;\n",
              "  }\n",
              "\n",
              "  @keyframes spin {\n",
              "    0% {\n",
              "      border-color: transparent;\n",
              "      border-bottom-color: var(--fill-color);\n",
              "      border-left-color: var(--fill-color);\n",
              "    }\n",
              "    20% {\n",
              "      border-color: transparent;\n",
              "      border-left-color: var(--fill-color);\n",
              "      border-top-color: var(--fill-color);\n",
              "    }\n",
              "    30% {\n",
              "      border-color: transparent;\n",
              "      border-left-color: var(--fill-color);\n",
              "      border-top-color: var(--fill-color);\n",
              "      border-right-color: var(--fill-color);\n",
              "    }\n",
              "    40% {\n",
              "      border-color: transparent;\n",
              "      border-right-color: var(--fill-color);\n",
              "      border-top-color: var(--fill-color);\n",
              "    }\n",
              "    60% {\n",
              "      border-color: transparent;\n",
              "      border-right-color: var(--fill-color);\n",
              "    }\n",
              "    80% {\n",
              "      border-color: transparent;\n",
              "      border-right-color: var(--fill-color);\n",
              "      border-bottom-color: var(--fill-color);\n",
              "    }\n",
              "    90% {\n",
              "      border-color: transparent;\n",
              "      border-bottom-color: var(--fill-color);\n",
              "    }\n",
              "  }\n",
              "</style>\n",
              "\n",
              "  <script>\n",
              "    async function quickchart(key) {\n",
              "      const quickchartButtonEl =\n",
              "        document.querySelector('#' + key + ' button');\n",
              "      quickchartButtonEl.disabled = true;  // To prevent multiple clicks.\n",
              "      quickchartButtonEl.classList.add('colab-df-spinner');\n",
              "      try {\n",
              "        const charts = await google.colab.kernel.invokeFunction(\n",
              "            'suggestCharts', [key], {});\n",
              "      } catch (error) {\n",
              "        console.error('Error during call to suggestCharts:', error);\n",
              "      }\n",
              "      quickchartButtonEl.classList.remove('colab-df-spinner');\n",
              "      quickchartButtonEl.classList.add('colab-df-quickchart-complete');\n",
              "    }\n",
              "    (() => {\n",
              "      let quickchartButtonEl =\n",
              "        document.querySelector('#df-5d238381-2e24-420b-a3a6-d843fa2bdf0f button');\n",
              "      quickchartButtonEl.style.display =\n",
              "        google.colab.kernel.accessAllowed ? 'block' : 'none';\n",
              "    })();\n",
              "  </script>\n",
              "</div>\n",
              "\n",
              "    </div>\n",
              "  </div>\n"
            ],
            "application/vnd.google.colaboratory.intrinsic+json": {
              "type": "dataframe",
              "summary": "{\n  \"name\": \"df_titles\",\n  \"rows\": 4,\n  \"fields\": [\n    {\n      \"column\": \"title\",\n      \"properties\": {\n        \"dtype\": \"string\",\n        \"num_unique_values\": 3,\n        \"samples\": [\n          \"484\",\n          \"\\u042d\\u043a\\u0441-\\u0433\\u043b\\u0430\\u0432\\u0430 \\u0438\\u0442\\u0430\\u043b\\u044c\\u044f\\u043d\\u0441\\u043a\\u043e\\u0433\\u043e \\u043f\\u0440\\u0430\\u0432\\u0438\\u0442\\u0435\\u043b\\u044c\\u0441\\u0442\\u0432\\u0430 \\u0421\\u0438\\u043b\\u044c\\u0432\\u0438\\u043e \\u0411\\u0435\\u0440\\u043b\\u0443\\u0441\\u043a\\u043e\\u043d\\u0438 \\u0437\\u0430\\u044f\\u0432\\u0438\\u043b, \\u0447\\u0442\\u043e \\u0420\\u043e\\u0441\\u0441\\u0438\\u044f \\u0438\\u0437\\u043e\\u043b\\u0438\\u0440\\u043e\\u0432\\u0430\\u043d\\u0430 \\u043e\\u0442 \\u0417\\u0430\\u043f\\u0430\\u0434\\u0430, \\u043d\\u043e \\u0417\\u0430\\u043f\\u0430\\u0434 \\u0438\\u0437\\u043e\\u043b\\u0438\\u0440\\u043e\\u0432\\u0430\\u043d \\u043e\\u0442 \\u043e\\u0441\\u0442\\u0430\\u043b\\u044c\\u043d\\u044b\\u0445 \\u0433\\u043e\\u0441\\u0443\\u0434\\u0430\\u0440\\u0441\\u0442\\u0432 \\u043c\\u0438\\u0440\\u0430, \\u0442\\u0430\\u043a \\u043a\\u0430\\u043a \\u0434\\u0430\\u0436\\u0435 \\u0422\\u0443\\u0440\\u0446\\u0438\\u044f \\u043d\\u0435 \\u043f\\u0440\\u0438\\u0441\\u043e\\u0435\\u0434\\u0438\\u043d\\u0438\\u043b\\u0430\\u0441\\u044c \\u043a \\u0437\\u0430\\u043f\\u0430\\u0434\\u043d\\u044b\\u043c \\u0441\\u0430\\u043d\\u043a\\u0446\\u0438\\u044f\\u043c \\u043f\\u0440\\u043e\\u0442\\u0438\\u0432 \\u041c\\u043e\\u0441\\u043a\\u0432\\u044b.\",\n          \"1\"\n        ],\n        \"semantic_type\": \"\",\n        \"description\": \"\"\n      }\n    },\n    {\n      \"column\": \"sentiment\",\n      \"properties\": {\n        \"dtype\": \"string\",\n        \"num_unique_values\": 4,\n        \"samples\": [\n          3,\n          \"290\",\n          \"484\"\n        ],\n        \"semantic_type\": \"\",\n        \"description\": \"\"\n      }\n    }\n  ]\n}"
            }
          },
          "metadata": {},
          "execution_count": 26
        },
        {
          "output_type": "stream",
          "name": "stdout",
          "text": [
            "time: 32.1 ms (started: 2024-06-21 13:43:37 +00:00)\n"
          ]
        }
      ],
      "source": [
        "df_titles = df_titles.drop_duplicates(subset=\"title\", keep=\"first\").reset_index(drop=True)\n",
        "df_titles.describe()"
      ]
    },
    {
      "cell_type": "markdown",
      "metadata": {
        "id": "cMAgeynpfzZt"
      },
      "source": [
        "# **Working with text**"
      ]
    },
    {
      "cell_type": "markdown",
      "metadata": {
        "id": "N0QifWeLWbNs"
      },
      "source": [
        "## Analyze the Classes (Sentiments)"
      ]
    },
    {
      "cell_type": "code",
      "execution_count": null,
      "metadata": {
        "colab": {
          "base_uri": "https://localhost:8080/"
        },
        "id": "ZZoFykmCXC0E",
        "outputId": "6a4e246c-0ee0-42ba-f71e-64631c00f415"
      },
      "outputs": [
        {
          "output_type": "stream",
          "name": "stdout",
          "text": [
            "Sentiments:\n",
            " ['negative' 'positive' 'neutral']\n",
            "time: 3.49 ms (started: 2024-06-21 13:43:37 +00:00)\n"
          ]
        }
      ],
      "source": [
        "sentiment_list = df_text.sentiment.unique()\n",
        "print(\"Sentiments:\\n\", sentiment_list)"
      ]
    },
    {
      "cell_type": "code",
      "execution_count": null,
      "metadata": {
        "colab": {
          "base_uri": "https://localhost:8080/"
        },
        "id": "9DImVJ7PWklp",
        "outputId": "773f714e-94ad-4edb-9272-abaf32e7b8d7"
      },
      "outputs": [
        {
          "output_type": "stream",
          "name": "stdout",
          "text": [
            "Number of Topics:  3\n",
            "time: 3.71 ms (started: 2024-06-21 13:43:37 +00:00)\n"
          ]
        }
      ],
      "source": [
        "number_of_sentiments = len(sentiment_list)\n",
        "print(\"Number of Topics: \",number_of_sentiments)"
      ]
    },
    {
      "cell_type": "markdown",
      "metadata": {
        "id": "b643VGKouXct"
      },
      "source": [
        "### Number of texts per Sentiments"
      ]
    },
    {
      "cell_type": "code",
      "execution_count": null,
      "metadata": {
        "colab": {
          "base_uri": "https://localhost:8080/"
        },
        "id": "l_OovJL5tE7y",
        "outputId": "70e89cba-d8f7-4274-b420-e508ec9b64d5"
      },
      "outputs": [
        {
          "output_type": "execute_result",
          "data": {
            "text/plain": [
              "sentiment\n",
              "positive    2594\n",
              "negative    2171\n",
              "neutral     2170\n",
              "Name: count, dtype: int64"
            ]
          },
          "metadata": {},
          "execution_count": 29
        },
        {
          "output_type": "stream",
          "name": "stdout",
          "text": [
            "time: 17.5 ms (started: 2024-06-21 13:43:37 +00:00)\n"
          ]
        }
      ],
      "source": [
        "df_text.sentiment.value_counts()"
      ]
    },
    {
      "cell_type": "code",
      "execution_count": null,
      "metadata": {
        "colab": {
          "base_uri": "https://localhost:8080/",
          "height": 456
        },
        "id": "Y8ibVYKDT7sC",
        "outputId": "5f18bb34-c44d-48e9-eba1-4509ebdcf939"
      },
      "outputs": [
        {
          "output_type": "display_data",
          "data": {
            "text/plain": [
              "<Figure size 3200x800 with 1 Axes>"
            ],
            "image/png": "[encoded data removed]"
          },
          "metadata": {}
        },
        {
          "output_type": "stream",
          "name": "stdout",
          "text": [
            "time: 610 ms (started: 2024-06-21 13:43:37 +00:00)\n"
          ]
        }
      ],
      "source": [
        "df_text.sentiment.value_counts().plot.bar(x=\"Sentiments\", y=\"Texts\", figsize=(32, 8), color=['green', 'blue', 'red'])\n",
        "\n",
        "plt.title('Sentiment Counts')\n",
        "plt.xlabel('Sentiments')\n",
        "plt.ylabel('Counts')\n",
        "\n",
        "plt.show()"
      ]
    },
    {
      "cell_type": "markdown",
      "metadata": {
        "id": "UDZ2HVOuRSP0"
      },
      "source": [
        "The dataset is **balanced (more or less)**: the number of samples are almost evenly distrubuted over the sentiments."
      ]
    },
    {
      "cell_type": "markdown",
      "metadata": {
        "id": "JELXXpTBIev2"
      },
      "source": [
        "The dataset is too small and we need to **augment** it."
      ]
    },
    {
      "cell_type": "markdown",
      "metadata": {
        "id": "y_pg-opRXsBY"
      },
      "source": [
        "## Analyze News (Text)"
      ]
    },
    {
      "cell_type": "markdown",
      "metadata": {
        "id": "ToOs5UcfVxQD"
      },
      "source": [
        "### Calculate the number of words in each reviews"
      ]
    },
    {
      "cell_type": "code",
      "execution_count": null,
      "metadata": {
        "colab": {
          "base_uri": "https://localhost:8080/"
        },
        "id": "9aLw9WZBsgCu",
        "outputId": "37e81407-675c-446f-c90e-696de18d83d5"
      },
      "outputs": [
        {
          "output_type": "stream",
          "name": "stdout",
          "text": [
            "time: 8.55 s (started: 2024-06-21 13:43:38 +00:00)\n"
          ]
        }
      ],
      "source": [
        "df_text['words'] = df_text['text'].apply(lambda x: len(word_tokenize(x)))"
      ]
    },
    {
      "cell_type": "code",
      "execution_count": null,
      "metadata": {
        "colab": {
          "base_uri": "https://localhost:8080/",
          "height": 224
        },
        "id": "P7No8hJRuFP-",
        "outputId": "c37200e7-a1ab-4df3-c7e6-70d68e49410d"
      },
      "outputs": [
        {
          "output_type": "execute_result",
          "data": {
            "text/plain": [
              "                                                   text sentiment  words\n",
              "6930  Польша запустила запрет Европейского Союза на ...   neutral     31\n",
              "6931  В 2022 году Китай тщательно контролировал санк...  negative     33\n",
              "6932  Немецкий производитель нефти и газа Wintershal...   neutral     27\n",
              "6933  Российский энергетический гигант Роснефт объяв...  positive     32\n",
              "6934  Индия отказывается от долларов на торговлю неф...  positive     13"
            ],
            "text/html": [
              "\n",
              "  <div id=\"df-77c1939d-1050-4a20-9cab-92d7e49da131\" class=\"colab-df-container\">\n",
              "    <div>\n",
              "<style scoped>\n",
              "    .dataframe tbody tr th:only-of-type {\n",
              "        vertical-align: middle;\n",
              "    }\n",
              "\n",
              "    .dataframe tbody tr th {\n",
              "        vertical-align: top;\n",
              "    }\n",
              "\n",
              "    .dataframe thead th {\n",
              "        text-align: right;\n",
              "    }\n",
              "</style>\n",
              "<table border=\"1\" class=\"dataframe\">\n",
              "  <thead>\n",
              "    <tr style=\"text-align: right;\">\n",
              "      <th></th>\n",
              "      <th>text</th>\n",
              "      <th>sentiment</th>\n",
              "      <th>words</th>\n",
              "    </tr>\n",
              "  </thead>\n",
              "  <tbody>\n",
              "    <tr>\n",
              "      <th>6930</th>\n",
              "      <td>Польша запустила запрет Европейского Союза на ...</td>\n",
              "      <td>neutral</td>\n",
              "      <td>31</td>\n",
              "    </tr>\n",
              "    <tr>\n",
              "      <th>6931</th>\n",
              "      <td>В 2022 году Китай тщательно контролировал санк...</td>\n",
              "      <td>negative</td>\n",
              "      <td>33</td>\n",
              "    </tr>\n",
              "    <tr>\n",
              "      <th>6932</th>\n",
              "      <td>Немецкий производитель нефти и газа Wintershal...</td>\n",
              "      <td>neutral</td>\n",
              "      <td>27</td>\n",
              "    </tr>\n",
              "    <tr>\n",
              "      <th>6933</th>\n",
              "      <td>Российский энергетический гигант Роснефт объяв...</td>\n",
              "      <td>positive</td>\n",
              "      <td>32</td>\n",
              "    </tr>\n",
              "    <tr>\n",
              "      <th>6934</th>\n",
              "      <td>Индия отказывается от долларов на торговлю неф...</td>\n",
              "      <td>positive</td>\n",
              "      <td>13</td>\n",
              "    </tr>\n",
              "  </tbody>\n",
              "</table>\n",
              "</div>\n",
              "    <div class=\"colab-df-buttons\">\n",
              "\n",
              "  <div class=\"colab-df-container\">\n",
              "    <button class=\"colab-df-convert\" onclick=\"convertToInteractive('df-77c1939d-1050-4a20-9cab-92d7e49da131')\"\n",
              "            title=\"Convert this dataframe to an interactive table.\"\n",
              "            style=\"display:none;\">\n",
              "\n",
              "  <svg xmlns=\"http://www.w3.org/2000/svg\" height=\"24px\" viewBox=\"0 -960 960 960\">\n",
              "    <path d=\"M120-120v-720h720v720H120Zm60-500h600v-160H180v160Zm220 220h160v-160H400v160Zm0 220h160v-160H400v160ZM180-400h160v-160H180v160Zm440 0h160v-160H620v160ZM180-180h160v-160H180v160Zm440 0h160v-160H620v160Z\"/>\n",
              "  </svg>\n",
              "    </button>\n",
              "\n",
              "  <style>\n",
              "    .colab-df-container {\n",
              "      display:flex;\n",
              "      gap: 12px;\n",
              "    }\n",
              "\n",
              "    .colab-df-convert {\n",
              "      background-color: #E8F0FE;\n",
              "      border: none;\n",
              "      border-radius: 50%;\n",
              "      cursor: pointer;\n",
              "      display: none;\n",
              "      fill: #1967D2;\n",
              "      height: 32px;\n",
              "      padding: 0 0 0 0;\n",
              "      width: 32px;\n",
              "    }\n",
              "\n",
              "    .colab-df-convert:hover {\n",
              "      background-color: #E2EBFA;\n",
              "      box-shadow: 0px 1px 2px rgba(60, 64, 67, 0.3), 0px 1px 3px 1px rgba(60, 64, 67, 0.15);\n",
              "      fill: #174EA6;\n",
              "    }\n",
              "\n",
              "    .colab-df-buttons div {\n",
              "      margin-bottom: 4px;\n",
              "    }\n",
              "\n",
              "    [theme=dark] .colab-df-convert {\n",
              "      background-color: #3B4455;\n",
              "      fill: #D2E3FC;\n",
              "    }\n",
              "\n",
              "    [theme=dark] .colab-df-convert:hover {\n",
              "      background-color: #434B5C;\n",
              "      box-shadow: 0px 1px 3px 1px rgba(0, 0, 0, 0.15);\n",
              "      filter: drop-shadow(0px 1px 2px rgba(0, 0, 0, 0.3));\n",
              "      fill: #FFFFFF;\n",
              "    }\n",
              "  </style>\n",
              "\n",
              "    <script>\n",
              "      const buttonEl =\n",
              "        document.querySelector('#df-77c1939d-1050-4a20-9cab-92d7e49da131 button.colab-df-convert');\n",
              "      buttonEl.style.display =\n",
              "        google.colab.kernel.accessAllowed ? 'block' : 'none';\n",
              "\n",
              "      async function convertToInteractive(key) {\n",
              "        const element = document.querySelector('#df-77c1939d-1050-4a20-9cab-92d7e49da131');\n",
              "        const dataTable =\n",
              "          await google.colab.kernel.invokeFunction('convertToInteractive',\n",
              "                                                    [key], {});\n",
              "        if (!dataTable) return;\n",
              "\n",
              "        const docLinkHtml = 'Like what you see? Visit the ' +\n",
              "          '<a target=\"_blank\" href=https://colab.research.google.com/notebooks/data_table.ipynb>data table notebook</a>'\n",
              "          + ' to learn more about interactive tables.';\n",
              "        element.innerHTML = '';\n",
              "        dataTable['output_type'] = 'display_data';\n",
              "        await google.colab.output.renderOutput(dataTable, element);\n",
              "        const docLink = document.createElement('div');\n",
              "        docLink.innerHTML = docLinkHtml;\n",
              "        element.appendChild(docLink);\n",
              "      }\n",
              "    </script>\n",
              "  </div>\n",
              "\n",
              "\n",
              "<div id=\"df-ac4a9362-33de-44d7-828e-4e7db366cefd\">\n",
              "  <button class=\"colab-df-quickchart\" onclick=\"quickchart('df-ac4a9362-33de-44d7-828e-4e7db366cefd')\"\n",
              "            title=\"Suggest charts\"\n",
              "            style=\"display:none;\">\n",
              "\n",
              "<svg xmlns=\"http://www.w3.org/2000/svg\" height=\"24px\"viewBox=\"0 0 24 24\"\n",
              "     width=\"24px\">\n",
              "    <g>\n",
              "        <path d=\"M19 3H5c-1.1 0-2 .9-2 2v14c0 1.1.9 2 2 2h14c1.1 0 2-.9 2-2V5c0-1.1-.9-2-2-2zM9 17H7v-7h2v7zm4 0h-2V7h2v10zm4 0h-2v-4h2v4z\"/>\n",
              "    </g>\n",
              "</svg>\n",
              "  </button>\n",
              "\n",
              "<style>\n",
              "  .colab-df-quickchart {\n",
              "      --bg-color: #E8F0FE;\n",
              "      --fill-color: #1967D2;\n",
              "      --hover-bg-color: #E2EBFA;\n",
              "      --hover-fill-color: #174EA6;\n",
              "      --disabled-fill-color: #AAA;\n",
              "      --disabled-bg-color: #DDD;\n",
              "  }\n",
              "\n",
              "  [theme=dark] .colab-df-quickchart {\n",
              "      --bg-color: #3B4455;\n",
              "      --fill-color: #D2E3FC;\n",
              "      --hover-bg-color: #434B5C;\n",
              "      --hover-fill-color: #FFFFFF;\n",
              "      --disabled-bg-color: #3B4455;\n",
              "      --disabled-fill-color: #666;\n",
              "  }\n",
              "\n",
              "  .colab-df-quickchart {\n",
              "    background-color: var(--bg-color);\n",
              "    border: none;\n",
              "    border-radius: 50%;\n",
              "    cursor: pointer;\n",
              "    display: none;\n",
              "    fill: var(--fill-color);\n",
              "    height: 32px;\n",
              "    padding: 0;\n",
              "    width: 32px;\n",
              "  }\n",
              "\n",
              "  .colab-df-quickchart:hover {\n",
              "    background-color: var(--hover-bg-color);\n",
              "    box-shadow: 0 1px 2px rgba(60, 64, 67, 0.3), 0 1px 3px 1px rgba(60, 64, 67, 0.15);\n",
              "    fill: var(--button-hover-fill-color);\n",
              "  }\n",
              "\n",
              "  .colab-df-quickchart-complete:disabled,\n",
              "  .colab-df-quickchart-complete:disabled:hover {\n",
              "    background-color: var(--disabled-bg-color);\n",
              "    fill: var(--disabled-fill-color);\n",
              "    box-shadow: none;\n",
              "  }\n",
              "\n",
              "  .colab-df-spinner {\n",
              "    border: 2px solid var(--fill-color);\n",
              "    border-color: transparent;\n",
              "    border-bottom-color: var(--fill-color);\n",
              "    animation:\n",
              "      spin 1s steps(1) infinite;\n",
              "  }\n",
              "\n",
              "  @keyframes spin {\n",
              "    0% {\n",
              "      border-color: transparent;\n",
              "      border-bottom-color: var(--fill-color);\n",
              "      border-left-color: var(--fill-color);\n",
              "    }\n",
              "    20% {\n",
              "      border-color: transparent;\n",
              "      border-left-color: var(--fill-color);\n",
              "      border-top-color: var(--fill-color);\n",
              "    }\n",
              "    30% {\n",
              "      border-color: transparent;\n",
              "      border-left-color: var(--fill-color);\n",
              "      border-top-color: var(--fill-color);\n",
              "      border-right-color: var(--fill-color);\n",
              "    }\n",
              "    40% {\n",
              "      border-color: transparent;\n",
              "      border-right-color: var(--fill-color);\n",
              "      border-top-color: var(--fill-color);\n",
              "    }\n",
              "    60% {\n",
              "      border-color: transparent;\n",
              "      border-right-color: var(--fill-color);\n",
              "    }\n",
              "    80% {\n",
              "      border-color: transparent;\n",
              "      border-right-color: var(--fill-color);\n",
              "      border-bottom-color: var(--fill-color);\n",
              "    }\n",
              "    90% {\n",
              "      border-color: transparent;\n",
              "      border-bottom-color: var(--fill-color);\n",
              "    }\n",
              "  }\n",
              "</style>\n",
              "\n",
              "  <script>\n",
              "    async function quickchart(key) {\n",
              "      const quickchartButtonEl =\n",
              "        document.querySelector('#' + key + ' button');\n",
              "      quickchartButtonEl.disabled = true;  // To prevent multiple clicks.\n",
              "      quickchartButtonEl.classList.add('colab-df-spinner');\n",
              "      try {\n",
              "        const charts = await google.colab.kernel.invokeFunction(\n",
              "            'suggestCharts', [key], {});\n",
              "      } catch (error) {\n",
              "        console.error('Error during call to suggestCharts:', error);\n",
              "      }\n",
              "      quickchartButtonEl.classList.remove('colab-df-spinner');\n",
              "      quickchartButtonEl.classList.add('colab-df-quickchart-complete');\n",
              "    }\n",
              "    (() => {\n",
              "      let quickchartButtonEl =\n",
              "        document.querySelector('#df-ac4a9362-33de-44d7-828e-4e7db366cefd button');\n",
              "      quickchartButtonEl.style.display =\n",
              "        google.colab.kernel.accessAllowed ? 'block' : 'none';\n",
              "    })();\n",
              "  </script>\n",
              "</div>\n",
              "\n",
              "    </div>\n",
              "  </div>\n"
            ],
            "application/vnd.google.colaboratory.intrinsic+json": {
              "type": "dataframe",
              "summary": "{\n  \"name\": \"df_text\",\n  \"rows\": 5,\n  \"fields\": [\n    {\n      \"column\": \"text\",\n      \"properties\": {\n        \"dtype\": \"string\",\n        \"num_unique_values\": 5,\n        \"samples\": [\n          \"\\u0412 2022 \\u0433\\u043e\\u0434\\u0443 \\u041a\\u0438\\u0442\\u0430\\u0439 \\u0442\\u0449\\u0430\\u0442\\u0435\\u043b\\u044c\\u043d\\u043e \\u043a\\u043e\\u043d\\u0442\\u0440\\u043e\\u043b\\u0438\\u0440\\u043e\\u0432\\u0430\\u043b \\u0441\\u0430\\u043d\\u043a\\u0446\\u0438\\u0438 \\u0417\\u0430\\u043f\\u0430\\u0434\\u0430 \\u043f\\u0440\\u043e\\u0442\\u0438\\u0432 \\u0420\\u043e\\u0441\\u0441\\u0438\\u0438, \\u0432 \\u0442\\u043e \\u0432\\u0440\\u0435\\u043c\\u044f \\u043a\\u0430\\u043a \\u041f\\u0435\\u043a\\u0438\\u043d \\u043e\\u043f\\u0430\\u0441\\u0430\\u0435\\u0442\\u0441\\u044f, \\u0447\\u0442\\u043e \\u0430\\u043d\\u0430\\u043b\\u043e\\u0433\\u0438\\u0447\\u043d\\u044b\\u0435 \\u043d\\u0430\\u043a\\u0430\\u0437\\u0430\\u043d\\u0438\\u0435 \\u0441\\u0435\\u043c\\u0435\\u0440\\u044b \\u0424\\u0438\\u043d\\u0430\\u043d\\u0441\\u043e\\u0432\\u044b\\u0435 \\u0443\\u0441\\u043b\\u0443\\u0433\\u0438, \\u0442\\u0430\\u043a\\u0438\\u0435 \\u043a\\u0430\\u043a \\u0441\\u0442\\u0440\\u0430\\u0445\\u043e\\u0432\\u0430\\u043d\\u0438\\u0435 \\u043d\\u0430\\u0433\\u0440\\u0443\\u0437\\u043a\\u0438 \\u0441 \\u043e\\u0433\\u0440\\u0430\\u043d\\u0438\\u0447\\u0435\\u043d\\u043d\\u044b\\u043c\\u0438 \\u043d\\u0430\\u0440\\u0443\\u0448\\u0435\\u043d\\u0438\\u044f\\u043c\\u0438.\",\n          \"\\u0418\\u043d\\u0434\\u0438\\u044f \\u043e\\u0442\\u043a\\u0430\\u0437\\u044b\\u0432\\u0430\\u0435\\u0442\\u0441\\u044f \\u043e\\u0442 \\u0434\\u043e\\u043b\\u043b\\u0430\\u0440\\u043e\\u0432 \\u043d\\u0430 \\u0442\\u043e\\u0440\\u0433\\u043e\\u0432\\u043b\\u044e \\u043d\\u0435\\u0444\\u0442\\u0438 \\u0441 \\u0420\\u043e\\u0441\\u0441\\u0438\\u0435\\u0439 \\u0438\\u0437 -\\u0437\\u0430 \\u0441\\u0430\\u043d\\u043a\\u0446\\u0438\\u0439.\",\n          \"\\u041d\\u0435\\u043c\\u0435\\u0446\\u043a\\u0438\\u0439 \\u043f\\u0440\\u043e\\u0438\\u0437\\u0432\\u043e\\u0434\\u0438\\u0442\\u0435\\u043b\\u044c \\u043d\\u0435\\u0444\\u0442\\u0438 \\u0438 \\u0433\\u0430\\u0437\\u0430 Wintershall DEA, \\u043a\\u043e\\u0442\\u043e\\u0440\\u044b\\u0439 \\u0442\\u043e\\u043b\\u044c\\u043a\\u043e \\u0447\\u0442\\u043e \\u043f\\u043e\\u043a\\u0438\\u043d\\u0443\\u043b \\u0434\\u043e\\u043b\\u0433\\u043e\\u0441\\u0440\\u043e\\u0447\\u043d\\u043e\\u0435 \\u043f\\u0430\\u0440\\u0442\\u043d\\u0435\\u0440\\u0441\\u0442\\u0432\\u043e \\u0441 \\u0420\\u043e\\u0441\\u0441\\u0438\\u0435\\u0439, \\u0440\\u0430\\u0441\\u0441\\u043c\\u043e\\u0442\\u0440\\u0438\\u0442 \\u0432\\u043e\\u0437\\u043c\\u043e\\u0436\\u043d\\u044b\\u0435 \\u043f\\u0440\\u043e\\u0446\\u0435\\u0441\\u0441\\u044b \\u043f\\u0440\\u043e\\u0442\\u0438\\u0432 \\u041c\\u043e\\u0441\\u043a\\u0432\\u044b \\u0438\\u043b\\u0438 \\u0434\\u0440\\u0443\\u0433\\u0438\\u0445 \\u043f\\u0440\\u043e\\u0438\\u0433\\u0440\\u044b\\u0448\\u043d\\u044b\\u0445 \\u043e\\u0440\\u0433\\u0430\\u043d\\u0438\\u0437\\u0430\\u0446\\u0438\\u0439.\"\n        ],\n        \"semantic_type\": \"\",\n        \"description\": \"\"\n      }\n    },\n    {\n      \"column\": \"sentiment\",\n      \"properties\": {\n        \"dtype\": \"string\",\n        \"num_unique_values\": 3,\n        \"samples\": [\n          \"neutral\",\n          \"negative\",\n          \"positive\"\n        ],\n        \"semantic_type\": \"\",\n        \"description\": \"\"\n      }\n    },\n    {\n      \"column\": \"words\",\n      \"properties\": {\n        \"dtype\": \"number\",\n        \"std\": 8,\n        \"min\": 13,\n        \"max\": 33,\n        \"num_unique_values\": 5,\n        \"samples\": [\n          33,\n          13,\n          27\n        ],\n        \"semantic_type\": \"\",\n        \"description\": \"\"\n      }\n    }\n  ]\n}"
            }
          },
          "metadata": {},
          "execution_count": 32
        },
        {
          "output_type": "stream",
          "name": "stdout",
          "text": [
            "time: 28.1 ms (started: 2024-06-21 13:43:46 +00:00)\n"
          ]
        }
      ],
      "source": [
        "df_text.tail()"
      ]
    },
    {
      "cell_type": "markdown",
      "metadata": {
        "id": "wxCoazI7ijY1"
      },
      "source": [
        "### Review Length in terms of Number of Words"
      ]
    },
    {
      "cell_type": "code",
      "execution_count": null,
      "metadata": {
        "colab": {
          "base_uri": "https://localhost:8080/"
        },
        "id": "YOW4a_p1sd1T",
        "outputId": "bad8039b-994f-408a-8876-8af3745ea050"
      },
      "outputs": [
        {
          "output_type": "execute_result",
          "data": {
            "text/plain": [
              "count    6935.000000\n",
              "mean       40.967412\n",
              "std        27.173944\n",
              "min         2.000000\n",
              "25%        23.000000\n",
              "50%        33.000000\n",
              "75%        51.000000\n",
              "max       281.000000\n",
              "Name: words, dtype: float64"
            ]
          },
          "metadata": {},
          "execution_count": 33
        },
        {
          "output_type": "stream",
          "name": "stdout",
          "text": [
            "time: 31.7 ms (started: 2024-06-21 13:43:46 +00:00)\n"
          ]
        }
      ],
      "source": [
        "df_text['words'].describe()"
      ]
    },
    {
      "cell_type": "markdown",
      "metadata": {
        "id": "5J_cioUCjcbJ"
      },
      "source": [
        "### Review Length in terms of Number of Words per Topic"
      ]
    },
    {
      "cell_type": "code",
      "execution_count": null,
      "metadata": {
        "colab": {
          "base_uri": "https://localhost:8080/",
          "height": 192
        },
        "id": "WmsXRoIYi4G8",
        "outputId": "deb5a1ec-be41-45df-cec0-41a1cd8e9ea2"
      },
      "outputs": [
        {
          "output_type": "execute_result",
          "data": {
            "text/plain": [
              "            count       mean        std  min   25%   50%   75%    max\n",
              "sentiment                                                            \n",
              "negative   2171.0  41.203593  28.440527  6.0  22.0  32.0  52.0  231.0\n",
              "neutral    2170.0  39.125346  25.903266  2.0  23.0  32.0  46.0  281.0\n",
              "positive   2594.0  42.310717  27.051205  2.0  23.0  35.0  53.0  279.0"
            ],
            "text/html": [
              "\n",
              "  <div id=\"df-3938af8a-7837-4665-8bfd-716a9a53ad23\" class=\"colab-df-container\">\n",
              "    <div>\n",
              "<style scoped>\n",
              "    .dataframe tbody tr th:only-of-type {\n",
              "        vertical-align: middle;\n",
              "    }\n",
              "\n",
              "    .dataframe tbody tr th {\n",
              "        vertical-align: top;\n",
              "    }\n",
              "\n",
              "    .dataframe thead th {\n",
              "        text-align: right;\n",
              "    }\n",
              "</style>\n",
              "<table border=\"1\" class=\"dataframe\">\n",
              "  <thead>\n",
              "    <tr style=\"text-align: right;\">\n",
              "      <th></th>\n",
              "      <th>count</th>\n",
              "      <th>mean</th>\n",
              "      <th>std</th>\n",
              "      <th>min</th>\n",
              "      <th>25%</th>\n",
              "      <th>50%</th>\n",
              "      <th>75%</th>\n",
              "      <th>max</th>\n",
              "    </tr>\n",
              "    <tr>\n",
              "      <th>sentiment</th>\n",
              "      <th></th>\n",
              "      <th></th>\n",
              "      <th></th>\n",
              "      <th></th>\n",
              "      <th></th>\n",
              "      <th></th>\n",
              "      <th></th>\n",
              "      <th></th>\n",
              "    </tr>\n",
              "  </thead>\n",
              "  <tbody>\n",
              "    <tr>\n",
              "      <th>negative</th>\n",
              "      <td>2171.0</td>\n",
              "      <td>41.203593</td>\n",
              "      <td>28.440527</td>\n",
              "      <td>6.0</td>\n",
              "      <td>22.0</td>\n",
              "      <td>32.0</td>\n",
              "      <td>52.0</td>\n",
              "      <td>231.0</td>\n",
              "    </tr>\n",
              "    <tr>\n",
              "      <th>neutral</th>\n",
              "      <td>2170.0</td>\n",
              "      <td>39.125346</td>\n",
              "      <td>25.903266</td>\n",
              "      <td>2.0</td>\n",
              "      <td>23.0</td>\n",
              "      <td>32.0</td>\n",
              "      <td>46.0</td>\n",
              "      <td>281.0</td>\n",
              "    </tr>\n",
              "    <tr>\n",
              "      <th>positive</th>\n",
              "      <td>2594.0</td>\n",
              "      <td>42.310717</td>\n",
              "      <td>27.051205</td>\n",
              "      <td>2.0</td>\n",
              "      <td>23.0</td>\n",
              "      <td>35.0</td>\n",
              "      <td>53.0</td>\n",
              "      <td>279.0</td>\n",
              "    </tr>\n",
              "  </tbody>\n",
              "</table>\n",
              "</div>\n",
              "    <div class=\"colab-df-buttons\">\n",
              "\n",
              "  <div class=\"colab-df-container\">\n",
              "    <button class=\"colab-df-convert\" onclick=\"convertToInteractive('df-3938af8a-7837-4665-8bfd-716a9a53ad23')\"\n",
              "            title=\"Convert this dataframe to an interactive table.\"\n",
              "            style=\"display:none;\">\n",
              "\n",
              "  <svg xmlns=\"http://www.w3.org/2000/svg\" height=\"24px\" viewBox=\"0 -960 960 960\">\n",
              "    <path d=\"M120-120v-720h720v720H120Zm60-500h600v-160H180v160Zm220 220h160v-160H400v160Zm0 220h160v-160H400v160ZM180-400h160v-160H180v160Zm440 0h160v-160H620v160ZM180-180h160v-160H180v160Zm440 0h160v-160H620v160Z\"/>\n",
              "  </svg>\n",
              "    </button>\n",
              "\n",
              "  <style>\n",
              "    .colab-df-container {\n",
              "      display:flex;\n",
              "      gap: 12px;\n",
              "    }\n",
              "\n",
              "    .colab-df-convert {\n",
              "      background-color: #E8F0FE;\n",
              "      border: none;\n",
              "      border-radius: 50%;\n",
              "      cursor: pointer;\n",
              "      display: none;\n",
              "      fill: #1967D2;\n",
              "      height: 32px;\n",
              "      padding: 0 0 0 0;\n",
              "      width: 32px;\n",
              "    }\n",
              "\n",
              "    .colab-df-convert:hover {\n",
              "      background-color: #E2EBFA;\n",
              "      box-shadow: 0px 1px 2px rgba(60, 64, 67, 0.3), 0px 1px 3px 1px rgba(60, 64, 67, 0.15);\n",
              "      fill: #174EA6;\n",
              "    }\n",
              "\n",
              "    .colab-df-buttons div {\n",
              "      margin-bottom: 4px;\n",
              "    }\n",
              "\n",
              "    [theme=dark] .colab-df-convert {\n",
              "      background-color: #3B4455;\n",
              "      fill: #D2E3FC;\n",
              "    }\n",
              "\n",
              "    [theme=dark] .colab-df-convert:hover {\n",
              "      background-color: #434B5C;\n",
              "      box-shadow: 0px 1px 3px 1px rgba(0, 0, 0, 0.15);\n",
              "      filter: drop-shadow(0px 1px 2px rgba(0, 0, 0, 0.3));\n",
              "      fill: #FFFFFF;\n",
              "    }\n",
              "  </style>\n",
              "\n",
              "    <script>\n",
              "      const buttonEl =\n",
              "        document.querySelector('#df-3938af8a-7837-4665-8bfd-716a9a53ad23 button.colab-df-convert');\n",
              "      buttonEl.style.display =\n",
              "        google.colab.kernel.accessAllowed ? 'block' : 'none';\n",
              "\n",
              "      async function convertToInteractive(key) {\n",
              "        const element = document.querySelector('#df-3938af8a-7837-4665-8bfd-716a9a53ad23');\n",
              "        const dataTable =\n",
              "          await google.colab.kernel.invokeFunction('convertToInteractive',\n",
              "                                                    [key], {});\n",
              "        if (!dataTable) return;\n",
              "\n",
              "        const docLinkHtml = 'Like what you see? Visit the ' +\n",
              "          '<a target=\"_blank\" href=https://colab.research.google.com/notebooks/data_table.ipynb>data table notebook</a>'\n",
              "          + ' to learn more about interactive tables.';\n",
              "        element.innerHTML = '';\n",
              "        dataTable['output_type'] = 'display_data';\n",
              "        await google.colab.output.renderOutput(dataTable, element);\n",
              "        const docLink = document.createElement('div');\n",
              "        docLink.innerHTML = docLinkHtml;\n",
              "        element.appendChild(docLink);\n",
              "      }\n",
              "    </script>\n",
              "  </div>\n",
              "\n",
              "\n",
              "<div id=\"df-b74ae1f5-031a-4bb1-858c-6849bceab03c\">\n",
              "  <button class=\"colab-df-quickchart\" onclick=\"quickchart('df-b74ae1f5-031a-4bb1-858c-6849bceab03c')\"\n",
              "            title=\"Suggest charts\"\n",
              "            style=\"display:none;\">\n",
              "\n",
              "<svg xmlns=\"http://www.w3.org/2000/svg\" height=\"24px\"viewBox=\"0 0 24 24\"\n",
              "     width=\"24px\">\n",
              "    <g>\n",
              "        <path d=\"M19 3H5c-1.1 0-2 .9-2 2v14c0 1.1.9 2 2 2h14c1.1 0 2-.9 2-2V5c0-1.1-.9-2-2-2zM9 17H7v-7h2v7zm4 0h-2V7h2v10zm4 0h-2v-4h2v4z\"/>\n",
              "    </g>\n",
              "</svg>\n",
              "  </button>\n",
              "\n",
              "<style>\n",
              "  .colab-df-quickchart {\n",
              "      --bg-color: #E8F0FE;\n",
              "      --fill-color: #1967D2;\n",
              "      --hover-bg-color: #E2EBFA;\n",
              "      --hover-fill-color: #174EA6;\n",
              "      --disabled-fill-color: #AAA;\n",
              "      --disabled-bg-color: #DDD;\n",
              "  }\n",
              "\n",
              "  [theme=dark] .colab-df-quickchart {\n",
              "      --bg-color: #3B4455;\n",
              "      --fill-color: #D2E3FC;\n",
              "      --hover-bg-color: #434B5C;\n",
              "      --hover-fill-color: #FFFFFF;\n",
              "      --disabled-bg-color: #3B4455;\n",
              "      --disabled-fill-color: #666;\n",
              "  }\n",
              "\n",
              "  .colab-df-quickchart {\n",
              "    background-color: var(--bg-color);\n",
              "    border: none;\n",
              "    border-radius: 50%;\n",
              "    cursor: pointer;\n",
              "    display: none;\n",
              "    fill: var(--fill-color);\n",
              "    height: 32px;\n",
              "    padding: 0;\n",
              "    width: 32px;\n",
              "  }\n",
              "\n",
              "  .colab-df-quickchart:hover {\n",
              "    background-color: var(--hover-bg-color);\n",
              "    box-shadow: 0 1px 2px rgba(60, 64, 67, 0.3), 0 1px 3px 1px rgba(60, 64, 67, 0.15);\n",
              "    fill: var(--button-hover-fill-color);\n",
              "  }\n",
              "\n",
              "  .colab-df-quickchart-complete:disabled,\n",
              "  .colab-df-quickchart-complete:disabled:hover {\n",
              "    background-color: var(--disabled-bg-color);\n",
              "    fill: var(--disabled-fill-color);\n",
              "    box-shadow: none;\n",
              "  }\n",
              "\n",
              "  .colab-df-spinner {\n",
              "    border: 2px solid var(--fill-color);\n",
              "    border-color: transparent;\n",
              "    border-bottom-color: var(--fill-color);\n",
              "    animation:\n",
              "      spin 1s steps(1) infinite;\n",
              "  }\n",
              "\n",
              "  @keyframes spin {\n",
              "    0% {\n",
              "      border-color: transparent;\n",
              "      border-bottom-color: var(--fill-color);\n",
              "      border-left-color: var(--fill-color);\n",
              "    }\n",
              "    20% {\n",
              "      border-color: transparent;\n",
              "      border-left-color: var(--fill-color);\n",
              "      border-top-color: var(--fill-color);\n",
              "    }\n",
              "    30% {\n",
              "      border-color: transparent;\n",
              "      border-left-color: var(--fill-color);\n",
              "      border-top-color: var(--fill-color);\n",
              "      border-right-color: var(--fill-color);\n",
              "    }\n",
              "    40% {\n",
              "      border-color: transparent;\n",
              "      border-right-color: var(--fill-color);\n",
              "      border-top-color: var(--fill-color);\n",
              "    }\n",
              "    60% {\n",
              "      border-color: transparent;\n",
              "      border-right-color: var(--fill-color);\n",
              "    }\n",
              "    80% {\n",
              "      border-color: transparent;\n",
              "      border-right-color: var(--fill-color);\n",
              "      border-bottom-color: var(--fill-color);\n",
              "    }\n",
              "    90% {\n",
              "      border-color: transparent;\n",
              "      border-bottom-color: var(--fill-color);\n",
              "    }\n",
              "  }\n",
              "</style>\n",
              "\n",
              "  <script>\n",
              "    async function quickchart(key) {\n",
              "      const quickchartButtonEl =\n",
              "        document.querySelector('#' + key + ' button');\n",
              "      quickchartButtonEl.disabled = true;  // To prevent multiple clicks.\n",
              "      quickchartButtonEl.classList.add('colab-df-spinner');\n",
              "      try {\n",
              "        const charts = await google.colab.kernel.invokeFunction(\n",
              "            'suggestCharts', [key], {});\n",
              "      } catch (error) {\n",
              "        console.error('Error during call to suggestCharts:', error);\n",
              "      }\n",
              "      quickchartButtonEl.classList.remove('colab-df-spinner');\n",
              "      quickchartButtonEl.classList.add('colab-df-quickchart-complete');\n",
              "    }\n",
              "    (() => {\n",
              "      let quickchartButtonEl =\n",
              "        document.querySelector('#df-b74ae1f5-031a-4bb1-858c-6849bceab03c button');\n",
              "      quickchartButtonEl.style.display =\n",
              "        google.colab.kernel.accessAllowed ? 'block' : 'none';\n",
              "    })();\n",
              "  </script>\n",
              "</div>\n",
              "\n",
              "    </div>\n",
              "  </div>\n"
            ],
            "application/vnd.google.colaboratory.intrinsic+json": {
              "type": "dataframe",
              "summary": "{\n  \"name\": \"df_text\",\n  \"rows\": 3,\n  \"fields\": [\n    {\n      \"column\": \"sentiment\",\n      \"properties\": {\n        \"dtype\": \"string\",\n        \"num_unique_values\": 3,\n        \"samples\": [\n          \"negative\",\n          \"neutral\",\n          \"positive\"\n        ],\n        \"semantic_type\": \"\",\n        \"description\": \"\"\n      }\n    },\n    {\n      \"column\": \"count\",\n      \"properties\": {\n        \"dtype\": \"number\",\n        \"std\": 244.50835023232506,\n        \"min\": 2170.0,\n        \"max\": 2594.0,\n        \"num_unique_values\": 3,\n        \"samples\": [\n          2171.0,\n          2170.0,\n          2594.0\n        ],\n        \"semantic_type\": \"\",\n        \"description\": \"\"\n      }\n    },\n    {\n      \"column\": \"mean\",\n      \"properties\": {\n        \"dtype\": \"number\",\n        \"std\": 1.6171696729728258,\n        \"min\": 39.125345622119816,\n        \"max\": 42.31071703932151,\n        \"num_unique_values\": 3,\n        \"samples\": [\n          41.203592814371255,\n          39.125345622119816,\n          42.31071703932151\n        ],\n        \"semantic_type\": \"\",\n        \"description\": \"\"\n      }\n    },\n    {\n      \"column\": \"std\",\n      \"properties\": {\n        \"dtype\": \"number\",\n        \"std\": 1.2705427701838683,\n        \"min\": 25.903266391902008,\n        \"max\": 28.44052742107576,\n        \"num_unique_values\": 3,\n        \"samples\": [\n          28.44052742107576,\n          25.903266391902008,\n          27.051204549744114\n        ],\n        \"semantic_type\": \"\",\n        \"description\": \"\"\n      }\n    },\n    {\n      \"column\": \"min\",\n      \"properties\": {\n        \"dtype\": \"number\",\n        \"std\": 2.3094010767585034,\n        \"min\": 2.0,\n        \"max\": 6.0,\n        \"num_unique_values\": 2,\n        \"samples\": [\n          2.0,\n          6.0\n        ],\n        \"semantic_type\": \"\",\n        \"description\": \"\"\n      }\n    },\n    {\n      \"column\": \"25%\",\n      \"properties\": {\n        \"dtype\": \"number\",\n        \"std\": 0.5773502691896258,\n        \"min\": 22.0,\n        \"max\": 23.0,\n        \"num_unique_values\": 2,\n        \"samples\": [\n          23.0,\n          22.0\n        ],\n        \"semantic_type\": \"\",\n        \"description\": \"\"\n      }\n    },\n    {\n      \"column\": \"50%\",\n      \"properties\": {\n        \"dtype\": \"number\",\n        \"std\": 1.7320508075688772,\n        \"min\": 32.0,\n        \"max\": 35.0,\n        \"num_unique_values\": 2,\n        \"samples\": [\n          35.0,\n          32.0\n        ],\n        \"semantic_type\": \"\",\n        \"description\": \"\"\n      }\n    },\n    {\n      \"column\": \"75%\",\n      \"properties\": {\n        \"dtype\": \"number\",\n        \"std\": 3.785938897200183,\n        \"min\": 46.0,\n        \"max\": 53.0,\n        \"num_unique_values\": 3,\n        \"samples\": [\n          52.0,\n          46.0\n        ],\n        \"semantic_type\": \"\",\n        \"description\": \"\"\n      }\n    },\n    {\n      \"column\": \"max\",\n      \"properties\": {\n        \"dtype\": \"number\",\n        \"std\": 28.307831660749525,\n        \"min\": 231.0,\n        \"max\": 281.0,\n        \"num_unique_values\": 3,\n        \"samples\": [\n          231.0,\n          281.0\n        ],\n        \"semantic_type\": \"\",\n        \"description\": \"\"\n      }\n    }\n  ]\n}"
            }
          },
          "metadata": {},
          "execution_count": 34
        },
        {
          "output_type": "stream",
          "name": "stdout",
          "text": [
            "time: 147 ms (started: 2024-06-21 13:43:47 +00:00)\n"
          ]
        }
      ],
      "source": [
        "df_text.groupby(['sentiment'])['words'].describe()"
      ]
    },
    {
      "cell_type": "markdown",
      "metadata": {
        "id": "eXt_MIF9Z2pY"
      },
      "source": [
        "### Number of short reviews\n",
        "\n",
        "We can check the number of short reviews by comparing a threshold:"
      ]
    },
    {
      "cell_type": "code",
      "execution_count": null,
      "metadata": {
        "colab": {
          "base_uri": "https://localhost:8080/"
        },
        "id": "NX9NBHpZaNCG",
        "outputId": "ebf82e6c-68ac-4853-e663-74109d622830"
      },
      "outputs": [
        {
          "output_type": "execute_result",
          "data": {
            "text/plain": [
              "text         6848\n",
              "sentiment    6848\n",
              "words        6848\n",
              "dtype: int64"
            ]
          },
          "metadata": {},
          "execution_count": 35
        },
        {
          "output_type": "stream",
          "name": "stdout",
          "text": [
            "time: 20.9 ms (started: 2024-06-21 13:43:47 +00:00)\n"
          ]
        }
      ],
      "source": [
        "min_review_size = 9\n",
        "df_text[df_text['words']>min_review_size].count()"
      ]
    },
    {
      "cell_type": "markdown",
      "metadata": {
        "id": "F3DfehMNZUXh"
      },
      "source": [
        "Let's see some short review samples:"
      ]
    },
    {
      "cell_type": "code",
      "execution_count": null,
      "metadata": {
        "colab": {
          "base_uri": "https://localhost:8080/",
          "height": 1000
        },
        "id": "mLajsdMjarqg",
        "outputId": "0866bcfd-2d4e-4a2b-c49c-b0139e944cbf",
        "collapsed": true
      },
      "outputs": [
        {
          "output_type": "execute_result",
          "data": {
            "text/plain": [
              "                                                   text sentiment  words\n",
              "18       Турция не будет вводить санкции против России.  positive      8\n",
              "590   Военные заключенные Анхеузера-Буша в Украине-Б...   neutral      6\n",
              "601     Тюркие не будет налагать санкции против России.  positive      8\n",
              "680            Упира Karelia предоставит Азию на рынок.  positive      7\n",
              "962   Разрыв американского производителя одежды не п...  positive      8\n",
              "967    Индонезия готовится отвергнуть Россию из России.  negative      7\n",
              "1068  Применить одобрение процесса имущества OPEC в ...   neutral      8\n",
              "1124                      Ожидайте стран \"больших семи\"  positive      6\n",
              "1130  Решение Японии запретить наиболее используемые...   neutral      8\n",
              "1185           Тюркие не наложил санкции против России.  positive      7\n",
              "1258                  Карелия представит Азию на рынок.  positive      6\n",
              "1345       Россия и поставки в запрещенную страну стран  positive      7\n",
              "1351  Министр финансового министра Индонезии Шри Мул...  negative      8\n",
              "1653                             Nissan Motor Co. Анкет   neutral      4\n",
              "1701  Роснефт назначил китайского командира глобальн...  positive      7\n",
              "1862  Турецкий банк взаимодействовал с системой плат...  negative      8\n",
              "1881  Россия и поставки запрещены и страну грузовика...  positive      8\n",
              "2118  Китай продемонстрировал разногласия с прошлым ...  negative      6\n",
              "2218  Роснефт назначил китайского правителя главой г...  positive      8\n",
              "2232          Президент России Путин Путин Путин Путин.   neutral      7\n",
              "2247  Европейский союз разрабатывает план в случае Р...   neutral      8\n",
              "2250           Хаки не принимает санкцию против России.  positive      7\n",
              "2316    Древесина от Карелию предоставит Азию на рынок.  positive      8\n",
              "2345  Сенат США ввел законопроект Китая в Соединенны...  negative      8\n",
              "2411    Европейский союз - помощь Российской федерации.  negative      7\n",
              "2558  Американский производитель одежды Gap не покин...  positive      8\n",
              "2696             Иракский Лавроврок вы наказали Сергей\"   neutral      6\n",
              "2715  ROSNFT назначил китайского менеджера по мирово...  positive      8\n",
              "2810  Пиломатериалы из Карелии доставляют Азию на ры...  positive      8\n",
              "2866                                  16.3.2.2.3.3.3.3.  positive      2\n",
              "3015  Беларусь экспортирует экспорт мясных продуктов...   neutral      8\n",
              "3750  Русетхозор Сергей Данквезор видел антироссийск...  positive      7\n",
              "3922       Японская Honda не хочет продолжать в России.   neutral      8\n",
              "4054    Роснефт назначил лидера мировой торговли Китая.  positive      7\n",
              "4084       Тюркие не накладывает санкции против России.  positive      7\n",
              "4371  Ошибка английского местного местного провайдер...  negative      7\n",
              "4495    Бывший совет директоров Конова в Sibur Hold Dom  positive      8\n",
              "4556                 Смартфон поставки до 10 000 рупий.  negative      7\n",
              "4653      Ассоциация воздушного транспорта его воздуха.  negative      6\n",
              "4700  Американский производитель одежды Gap не покид...  positive      8\n",
              "4815  Роснофт назначил китайского менеджера главой м...  positive      8\n",
              "4835          Türkiye не накладывает санкции на Россию.  positive      7\n",
              "4885          Дерево Carélie предоставит Азию на рынок.  positive      7\n",
              "5048  Белорусные экспорты мясных продуктов в Китай с...   neutral      8\n",
              "5387            Американская одежда не покинула Россию;  positive      6\n",
              "5463                       Высокопоставленные чиновники   neutral      2\n",
              "5516                  Британская грандинополия. скидок.   neutral      5\n",
              "5712       Японский бизнес Renault или резюме в России.   neutral      8\n",
              "5713  Отверстие американского производителя одежды н...  positive      8\n",
              "6026  Американский производитель одежды не покинул Р...  positive      7\n",
              "6146            Рыбаки Primorye не останавливают краба.  positive      6\n",
              "6301  Belarus экспортирует экспорт мясных продуктов ...   neutral      8\n",
              "6435    Турция не будет налагать санкции против России.  positive      8\n",
              "6617  Belarus достигла исторического максимума экспо...  positive      7\n",
              "6746  Оросенджон Й Bolomжtoй bolomжtoй bolomжtoй bol...   neutral      7\n",
              "6884  Чиновники Канады решили запретить сеть WeChat ...   neutral      8"
            ],
            "text/html": [
              "\n",
              "  <div id=\"df-812eb360-a879-4e8d-b8ec-0bb3798f84f5\" class=\"colab-df-container\">\n",
              "    <div>\n",
              "<style scoped>\n",
              "    .dataframe tbody tr th:only-of-type {\n",
              "        vertical-align: middle;\n",
              "    }\n",
              "\n",
              "    .dataframe tbody tr th {\n",
              "        vertical-align: top;\n",
              "    }\n",
              "\n",
              "    .dataframe thead th {\n",
              "        text-align: right;\n",
              "    }\n",
              "</style>\n",
              "<table border=\"1\" class=\"dataframe\">\n",
              "  <thead>\n",
              "    <tr style=\"text-align: right;\">\n",
              "      <th></th>\n",
              "      <th>text</th>\n",
              "      <th>sentiment</th>\n",
              "      <th>words</th>\n",
              "    </tr>\n",
              "  </thead>\n",
              "  <tbody>\n",
              "    <tr>\n",
              "      <th>18</th>\n",
              "      <td>Турция не будет вводить санкции против России.</td>\n",
              "      <td>positive</td>\n",
              "      <td>8</td>\n",
              "    </tr>\n",
              "    <tr>\n",
              "      <th>590</th>\n",
              "      <td>Военные заключенные Анхеузера-Буша в Украине-Б...</td>\n",
              "      <td>neutral</td>\n",
              "      <td>6</td>\n",
              "    </tr>\n",
              "    <tr>\n",
              "      <th>601</th>\n",
              "      <td>Тюркие не будет налагать санкции против России.</td>\n",
              "      <td>positive</td>\n",
              "      <td>8</td>\n",
              "    </tr>\n",
              "    <tr>\n",
              "      <th>680</th>\n",
              "      <td>Упира Karelia предоставит Азию на рынок.</td>\n",
              "      <td>positive</td>\n",
              "      <td>7</td>\n",
              "    </tr>\n",
              "    <tr>\n",
              "      <th>962</th>\n",
              "      <td>Разрыв американского производителя одежды не п...</td>\n",
              "      <td>positive</td>\n",
              "      <td>8</td>\n",
              "    </tr>\n",
              "    <tr>\n",
              "      <th>967</th>\n",
              "      <td>Индонезия готовится отвергнуть Россию из России.</td>\n",
              "      <td>negative</td>\n",
              "      <td>7</td>\n",
              "    </tr>\n",
              "    <tr>\n",
              "      <th>1068</th>\n",
              "      <td>Применить одобрение процесса имущества OPEC в ...</td>\n",
              "      <td>neutral</td>\n",
              "      <td>8</td>\n",
              "    </tr>\n",
              "    <tr>\n",
              "      <th>1124</th>\n",
              "      <td>Ожидайте стран \"больших семи\"</td>\n",
              "      <td>positive</td>\n",
              "      <td>6</td>\n",
              "    </tr>\n",
              "    <tr>\n",
              "      <th>1130</th>\n",
              "      <td>Решение Японии запретить наиболее используемые...</td>\n",
              "      <td>neutral</td>\n",
              "      <td>8</td>\n",
              "    </tr>\n",
              "    <tr>\n",
              "      <th>1185</th>\n",
              "      <td>Тюркие не наложил санкции против России.</td>\n",
              "      <td>positive</td>\n",
              "      <td>7</td>\n",
              "    </tr>\n",
              "    <tr>\n",
              "      <th>1258</th>\n",
              "      <td>Карелия представит Азию на рынок.</td>\n",
              "      <td>positive</td>\n",
              "      <td>6</td>\n",
              "    </tr>\n",
              "    <tr>\n",
              "      <th>1345</th>\n",
              "      <td>Россия и поставки в запрещенную страну стран</td>\n",
              "      <td>positive</td>\n",
              "      <td>7</td>\n",
              "    </tr>\n",
              "    <tr>\n",
              "      <th>1351</th>\n",
              "      <td>Министр финансового министра Индонезии Шри Мул...</td>\n",
              "      <td>negative</td>\n",
              "      <td>8</td>\n",
              "    </tr>\n",
              "    <tr>\n",
              "      <th>1653</th>\n",
              "      <td>Nissan Motor Co. Анкет</td>\n",
              "      <td>neutral</td>\n",
              "      <td>4</td>\n",
              "    </tr>\n",
              "    <tr>\n",
              "      <th>1701</th>\n",
              "      <td>Роснефт назначил китайского командира глобальн...</td>\n",
              "      <td>positive</td>\n",
              "      <td>7</td>\n",
              "    </tr>\n",
              "    <tr>\n",
              "      <th>1862</th>\n",
              "      <td>Турецкий банк взаимодействовал с системой плат...</td>\n",
              "      <td>negative</td>\n",
              "      <td>8</td>\n",
              "    </tr>\n",
              "    <tr>\n",
              "      <th>1881</th>\n",
              "      <td>Россия и поставки запрещены и страну грузовика...</td>\n",
              "      <td>positive</td>\n",
              "      <td>8</td>\n",
              "    </tr>\n",
              "    <tr>\n",
              "      <th>2118</th>\n",
              "      <td>Китай продемонстрировал разногласия с прошлым ...</td>\n",
              "      <td>negative</td>\n",
              "      <td>6</td>\n",
              "    </tr>\n",
              "    <tr>\n",
              "      <th>2218</th>\n",
              "      <td>Роснефт назначил китайского правителя главой г...</td>\n",
              "      <td>positive</td>\n",
              "      <td>8</td>\n",
              "    </tr>\n",
              "    <tr>\n",
              "      <th>2232</th>\n",
              "      <td>Президент России Путин Путин Путин Путин.</td>\n",
              "      <td>neutral</td>\n",
              "      <td>7</td>\n",
              "    </tr>\n",
              "    <tr>\n",
              "      <th>2247</th>\n",
              "      <td>Европейский союз разрабатывает план в случае Р...</td>\n",
              "      <td>neutral</td>\n",
              "      <td>8</td>\n",
              "    </tr>\n",
              "    <tr>\n",
              "      <th>2250</th>\n",
              "      <td>Хаки не принимает санкцию против России.</td>\n",
              "      <td>positive</td>\n",
              "      <td>7</td>\n",
              "    </tr>\n",
              "    <tr>\n",
              "      <th>2316</th>\n",
              "      <td>Древесина от Карелию предоставит Азию на рынок.</td>\n",
              "      <td>positive</td>\n",
              "      <td>8</td>\n",
              "    </tr>\n",
              "    <tr>\n",
              "      <th>2345</th>\n",
              "      <td>Сенат США ввел законопроект Китая в Соединенны...</td>\n",
              "      <td>negative</td>\n",
              "      <td>8</td>\n",
              "    </tr>\n",
              "    <tr>\n",
              "      <th>2411</th>\n",
              "      <td>Европейский союз - помощь Российской федерации.</td>\n",
              "      <td>negative</td>\n",
              "      <td>7</td>\n",
              "    </tr>\n",
              "    <tr>\n",
              "      <th>2558</th>\n",
              "      <td>Американский производитель одежды Gap не покин...</td>\n",
              "      <td>positive</td>\n",
              "      <td>8</td>\n",
              "    </tr>\n",
              "    <tr>\n",
              "      <th>2696</th>\n",
              "      <td>Иракский Лавроврок вы наказали Сергей\"</td>\n",
              "      <td>neutral</td>\n",
              "      <td>6</td>\n",
              "    </tr>\n",
              "    <tr>\n",
              "      <th>2715</th>\n",
              "      <td>ROSNFT назначил китайского менеджера по мирово...</td>\n",
              "      <td>positive</td>\n",
              "      <td>8</td>\n",
              "    </tr>\n",
              "    <tr>\n",
              "      <th>2810</th>\n",
              "      <td>Пиломатериалы из Карелии доставляют Азию на ры...</td>\n",
              "      <td>positive</td>\n",
              "      <td>8</td>\n",
              "    </tr>\n",
              "    <tr>\n",
              "      <th>2866</th>\n",
              "      <td>16.3.2.2.3.3.3.3.</td>\n",
              "      <td>positive</td>\n",
              "      <td>2</td>\n",
              "    </tr>\n",
              "    <tr>\n",
              "      <th>3015</th>\n",
              "      <td>Беларусь экспортирует экспорт мясных продуктов...</td>\n",
              "      <td>neutral</td>\n",
              "      <td>8</td>\n",
              "    </tr>\n",
              "    <tr>\n",
              "      <th>3750</th>\n",
              "      <td>Русетхозор Сергей Данквезор видел антироссийск...</td>\n",
              "      <td>positive</td>\n",
              "      <td>7</td>\n",
              "    </tr>\n",
              "    <tr>\n",
              "      <th>3922</th>\n",
              "      <td>Японская Honda не хочет продолжать в России.</td>\n",
              "      <td>neutral</td>\n",
              "      <td>8</td>\n",
              "    </tr>\n",
              "    <tr>\n",
              "      <th>4054</th>\n",
              "      <td>Роснефт назначил лидера мировой торговли Китая.</td>\n",
              "      <td>positive</td>\n",
              "      <td>7</td>\n",
              "    </tr>\n",
              "    <tr>\n",
              "      <th>4084</th>\n",
              "      <td>Тюркие не накладывает санкции против России.</td>\n",
              "      <td>positive</td>\n",
              "      <td>7</td>\n",
              "    </tr>\n",
              "    <tr>\n",
              "      <th>4371</th>\n",
              "      <td>Ошибка английского местного местного провайдер...</td>\n",
              "      <td>negative</td>\n",
              "      <td>7</td>\n",
              "    </tr>\n",
              "    <tr>\n",
              "      <th>4495</th>\n",
              "      <td>Бывший совет директоров Конова в Sibur Hold Dom</td>\n",
              "      <td>positive</td>\n",
              "      <td>8</td>\n",
              "    </tr>\n",
              "    <tr>\n",
              "      <th>4556</th>\n",
              "      <td>Смартфон поставки до 10 000 рупий.</td>\n",
              "      <td>negative</td>\n",
              "      <td>7</td>\n",
              "    </tr>\n",
              "    <tr>\n",
              "      <th>4653</th>\n",
              "      <td>Ассоциация воздушного транспорта его воздуха.</td>\n",
              "      <td>negative</td>\n",
              "      <td>6</td>\n",
              "    </tr>\n",
              "    <tr>\n",
              "      <th>4700</th>\n",
              "      <td>Американский производитель одежды Gap не покид...</td>\n",
              "      <td>positive</td>\n",
              "      <td>8</td>\n",
              "    </tr>\n",
              "    <tr>\n",
              "      <th>4815</th>\n",
              "      <td>Роснофт назначил китайского менеджера главой м...</td>\n",
              "      <td>positive</td>\n",
              "      <td>8</td>\n",
              "    </tr>\n",
              "    <tr>\n",
              "      <th>4835</th>\n",
              "      <td>Türkiye не накладывает санкции на Россию.</td>\n",
              "      <td>positive</td>\n",
              "      <td>7</td>\n",
              "    </tr>\n",
              "    <tr>\n",
              "      <th>4885</th>\n",
              "      <td>Дерево Carélie предоставит Азию на рынок.</td>\n",
              "      <td>positive</td>\n",
              "      <td>7</td>\n",
              "    </tr>\n",
              "    <tr>\n",
              "      <th>5048</th>\n",
              "      <td>Белорусные экспорты мясных продуктов в Китай с...</td>\n",
              "      <td>neutral</td>\n",
              "      <td>8</td>\n",
              "    </tr>\n",
              "    <tr>\n",
              "      <th>5387</th>\n",
              "      <td>Американская одежда не покинула Россию;</td>\n",
              "      <td>positive</td>\n",
              "      <td>6</td>\n",
              "    </tr>\n",
              "    <tr>\n",
              "      <th>5463</th>\n",
              "      <td>Высокопоставленные чиновники</td>\n",
              "      <td>neutral</td>\n",
              "      <td>2</td>\n",
              "    </tr>\n",
              "    <tr>\n",
              "      <th>5516</th>\n",
              "      <td>Британская грандинополия. скидок.</td>\n",
              "      <td>neutral</td>\n",
              "      <td>5</td>\n",
              "    </tr>\n",
              "    <tr>\n",
              "      <th>5712</th>\n",
              "      <td>Японский бизнес Renault или резюме в России.</td>\n",
              "      <td>neutral</td>\n",
              "      <td>8</td>\n",
              "    </tr>\n",
              "    <tr>\n",
              "      <th>5713</th>\n",
              "      <td>Отверстие американского производителя одежды н...</td>\n",
              "      <td>positive</td>\n",
              "      <td>8</td>\n",
              "    </tr>\n",
              "    <tr>\n",
              "      <th>6026</th>\n",
              "      <td>Американский производитель одежды не покинул Р...</td>\n",
              "      <td>positive</td>\n",
              "      <td>7</td>\n",
              "    </tr>\n",
              "    <tr>\n",
              "      <th>6146</th>\n",
              "      <td>Рыбаки Primorye не останавливают краба.</td>\n",
              "      <td>positive</td>\n",
              "      <td>6</td>\n",
              "    </tr>\n",
              "    <tr>\n",
              "      <th>6301</th>\n",
              "      <td>Belarus экспортирует экспорт мясных продуктов ...</td>\n",
              "      <td>neutral</td>\n",
              "      <td>8</td>\n",
              "    </tr>\n",
              "    <tr>\n",
              "      <th>6435</th>\n",
              "      <td>Турция не будет налагать санкции против России.</td>\n",
              "      <td>positive</td>\n",
              "      <td>8</td>\n",
              "    </tr>\n",
              "    <tr>\n",
              "      <th>6617</th>\n",
              "      <td>Belarus достигла исторического максимума экспо...</td>\n",
              "      <td>positive</td>\n",
              "      <td>7</td>\n",
              "    </tr>\n",
              "    <tr>\n",
              "      <th>6746</th>\n",
              "      <td>Оросенджон Й Bolomжtoй bolomжtoй bolomжtoй bol...</td>\n",
              "      <td>neutral</td>\n",
              "      <td>7</td>\n",
              "    </tr>\n",
              "    <tr>\n",
              "      <th>6884</th>\n",
              "      <td>Чиновники Канады решили запретить сеть WeChat ...</td>\n",
              "      <td>neutral</td>\n",
              "      <td>8</td>\n",
              "    </tr>\n",
              "  </tbody>\n",
              "</table>\n",
              "</div>\n",
              "    <div class=\"colab-df-buttons\">\n",
              "\n",
              "  <div class=\"colab-df-container\">\n",
              "    <button class=\"colab-df-convert\" onclick=\"convertToInteractive('df-812eb360-a879-4e8d-b8ec-0bb3798f84f5')\"\n",
              "            title=\"Convert this dataframe to an interactive table.\"\n",
              "            style=\"display:none;\">\n",
              "\n",
              "  <svg xmlns=\"http://www.w3.org/2000/svg\" height=\"24px\" viewBox=\"0 -960 960 960\">\n",
              "    <path d=\"M120-120v-720h720v720H120Zm60-500h600v-160H180v160Zm220 220h160v-160H400v160Zm0 220h160v-160H400v160ZM180-400h160v-160H180v160Zm440 0h160v-160H620v160ZM180-180h160v-160H180v160Zm440 0h160v-160H620v160Z\"/>\n",
              "  </svg>\n",
              "    </button>\n",
              "\n",
              "  <style>\n",
              "    .colab-df-container {\n",
              "      display:flex;\n",
              "      gap: 12px;\n",
              "    }\n",
              "\n",
              "    .colab-df-convert {\n",
              "      background-color: #E8F0FE;\n",
              "      border: none;\n",
              "      border-radius: 50%;\n",
              "      cursor: pointer;\n",
              "      display: none;\n",
              "      fill: #1967D2;\n",
              "      height: 32px;\n",
              "      padding: 0 0 0 0;\n",
              "      width: 32px;\n",
              "    }\n",
              "\n",
              "    .colab-df-convert:hover {\n",
              "      background-color: #E2EBFA;\n",
              "      box-shadow: 0px 1px 2px rgba(60, 64, 67, 0.3), 0px 1px 3px 1px rgba(60, 64, 67, 0.15);\n",
              "      fill: #174EA6;\n",
              "    }\n",
              "\n",
              "    .colab-df-buttons div {\n",
              "      margin-bottom: 4px;\n",
              "    }\n",
              "\n",
              "    [theme=dark] .colab-df-convert {\n",
              "      background-color: #3B4455;\n",
              "      fill: #D2E3FC;\n",
              "    }\n",
              "\n",
              "    [theme=dark] .colab-df-convert:hover {\n",
              "      background-color: #434B5C;\n",
              "      box-shadow: 0px 1px 3px 1px rgba(0, 0, 0, 0.15);\n",
              "      filter: drop-shadow(0px 1px 2px rgba(0, 0, 0, 0.3));\n",
              "      fill: #FFFFFF;\n",
              "    }\n",
              "  </style>\n",
              "\n",
              "    <script>\n",
              "      const buttonEl =\n",
              "        document.querySelector('#df-812eb360-a879-4e8d-b8ec-0bb3798f84f5 button.colab-df-convert');\n",
              "      buttonEl.style.display =\n",
              "        google.colab.kernel.accessAllowed ? 'block' : 'none';\n",
              "\n",
              "      async function convertToInteractive(key) {\n",
              "        const element = document.querySelector('#df-812eb360-a879-4e8d-b8ec-0bb3798f84f5');\n",
              "        const dataTable =\n",
              "          await google.colab.kernel.invokeFunction('convertToInteractive',\n",
              "                                                    [key], {});\n",
              "        if (!dataTable) return;\n",
              "\n",
              "        const docLinkHtml = 'Like what you see? Visit the ' +\n",
              "          '<a target=\"_blank\" href=https://colab.research.google.com/notebooks/data_table.ipynb>data table notebook</a>'\n",
              "          + ' to learn more about interactive tables.';\n",
              "        element.innerHTML = '';\n",
              "        dataTable['output_type'] = 'display_data';\n",
              "        await google.colab.output.renderOutput(dataTable, element);\n",
              "        const docLink = document.createElement('div');\n",
              "        docLink.innerHTML = docLinkHtml;\n",
              "        element.appendChild(docLink);\n",
              "      }\n",
              "    </script>\n",
              "  </div>\n",
              "\n",
              "\n",
              "<div id=\"df-d39e392f-afa7-409e-8fda-10ccf4d13ab8\">\n",
              "  <button class=\"colab-df-quickchart\" onclick=\"quickchart('df-d39e392f-afa7-409e-8fda-10ccf4d13ab8')\"\n",
              "            title=\"Suggest charts\"\n",
              "            style=\"display:none;\">\n",
              "\n",
              "<svg xmlns=\"http://www.w3.org/2000/svg\" height=\"24px\"viewBox=\"0 0 24 24\"\n",
              "     width=\"24px\">\n",
              "    <g>\n",
              "        <path d=\"M19 3H5c-1.1 0-2 .9-2 2v14c0 1.1.9 2 2 2h14c1.1 0 2-.9 2-2V5c0-1.1-.9-2-2-2zM9 17H7v-7h2v7zm4 0h-2V7h2v10zm4 0h-2v-4h2v4z\"/>\n",
              "    </g>\n",
              "</svg>\n",
              "  </button>\n",
              "\n",
              "<style>\n",
              "  .colab-df-quickchart {\n",
              "      --bg-color: #E8F0FE;\n",
              "      --fill-color: #1967D2;\n",
              "      --hover-bg-color: #E2EBFA;\n",
              "      --hover-fill-color: #174EA6;\n",
              "      --disabled-fill-color: #AAA;\n",
              "      --disabled-bg-color: #DDD;\n",
              "  }\n",
              "\n",
              "  [theme=dark] .colab-df-quickchart {\n",
              "      --bg-color: #3B4455;\n",
              "      --fill-color: #D2E3FC;\n",
              "      --hover-bg-color: #434B5C;\n",
              "      --hover-fill-color: #FFFFFF;\n",
              "      --disabled-bg-color: #3B4455;\n",
              "      --disabled-fill-color: #666;\n",
              "  }\n",
              "\n",
              "  .colab-df-quickchart {\n",
              "    background-color: var(--bg-color);\n",
              "    border: none;\n",
              "    border-radius: 50%;\n",
              "    cursor: pointer;\n",
              "    display: none;\n",
              "    fill: var(--fill-color);\n",
              "    height: 32px;\n",
              "    padding: 0;\n",
              "    width: 32px;\n",
              "  }\n",
              "\n",
              "  .colab-df-quickchart:hover {\n",
              "    background-color: var(--hover-bg-color);\n",
              "    box-shadow: 0 1px 2px rgba(60, 64, 67, 0.3), 0 1px 3px 1px rgba(60, 64, 67, 0.15);\n",
              "    fill: var(--button-hover-fill-color);\n",
              "  }\n",
              "\n",
              "  .colab-df-quickchart-complete:disabled,\n",
              "  .colab-df-quickchart-complete:disabled:hover {\n",
              "    background-color: var(--disabled-bg-color);\n",
              "    fill: var(--disabled-fill-color);\n",
              "    box-shadow: none;\n",
              "  }\n",
              "\n",
              "  .colab-df-spinner {\n",
              "    border: 2px solid var(--fill-color);\n",
              "    border-color: transparent;\n",
              "    border-bottom-color: var(--fill-color);\n",
              "    animation:\n",
              "      spin 1s steps(1) infinite;\n",
              "  }\n",
              "\n",
              "  @keyframes spin {\n",
              "    0% {\n",
              "      border-color: transparent;\n",
              "      border-bottom-color: var(--fill-color);\n",
              "      border-left-color: var(--fill-color);\n",
              "    }\n",
              "    20% {\n",
              "      border-color: transparent;\n",
              "      border-left-color: var(--fill-color);\n",
              "      border-top-color: var(--fill-color);\n",
              "    }\n",
              "    30% {\n",
              "      border-color: transparent;\n",
              "      border-left-color: var(--fill-color);\n",
              "      border-top-color: var(--fill-color);\n",
              "      border-right-color: var(--fill-color);\n",
              "    }\n",
              "    40% {\n",
              "      border-color: transparent;\n",
              "      border-right-color: var(--fill-color);\n",
              "      border-top-color: var(--fill-color);\n",
              "    }\n",
              "    60% {\n",
              "      border-color: transparent;\n",
              "      border-right-color: var(--fill-color);\n",
              "    }\n",
              "    80% {\n",
              "      border-color: transparent;\n",
              "      border-right-color: var(--fill-color);\n",
              "      border-bottom-color: var(--fill-color);\n",
              "    }\n",
              "    90% {\n",
              "      border-color: transparent;\n",
              "      border-bottom-color: var(--fill-color);\n",
              "    }\n",
              "  }\n",
              "</style>\n",
              "\n",
              "  <script>\n",
              "    async function quickchart(key) {\n",
              "      const quickchartButtonEl =\n",
              "        document.querySelector('#' + key + ' button');\n",
              "      quickchartButtonEl.disabled = true;  // To prevent multiple clicks.\n",
              "      quickchartButtonEl.classList.add('colab-df-spinner');\n",
              "      try {\n",
              "        const charts = await google.colab.kernel.invokeFunction(\n",
              "            'suggestCharts', [key], {});\n",
              "      } catch (error) {\n",
              "        console.error('Error during call to suggestCharts:', error);\n",
              "      }\n",
              "      quickchartButtonEl.classList.remove('colab-df-spinner');\n",
              "      quickchartButtonEl.classList.add('colab-df-quickchart-complete');\n",
              "    }\n",
              "    (() => {\n",
              "      let quickchartButtonEl =\n",
              "        document.querySelector('#df-d39e392f-afa7-409e-8fda-10ccf4d13ab8 button');\n",
              "      quickchartButtonEl.style.display =\n",
              "        google.colab.kernel.accessAllowed ? 'block' : 'none';\n",
              "    })();\n",
              "  </script>\n",
              "</div>\n",
              "\n",
              "    </div>\n",
              "  </div>\n"
            ],
            "application/vnd.google.colaboratory.intrinsic+json": {
              "type": "dataframe",
              "summary": "{\n  \"name\": \"df_text[df_text['words']<min_review_size]\",\n  \"rows\": 56,\n  \"fields\": [\n    {\n      \"column\": \"text\",\n      \"properties\": {\n        \"dtype\": \"string\",\n        \"num_unique_values\": 56,\n        \"samples\": [\n          \"\\u0422\\u0443\\u0440\\u0446\\u0438\\u044f \\u043d\\u0435 \\u0431\\u0443\\u0434\\u0435\\u0442 \\u0432\\u0432\\u043e\\u0434\\u0438\\u0442\\u044c \\u0441\\u0430\\u043d\\u043a\\u0446\\u0438\\u0438 \\u043f\\u0440\\u043e\\u0442\\u0438\\u0432 \\u0420\\u043e\\u0441\\u0441\\u0438\\u0438.\",\n          \"\\u0418\\u043d\\u0434\\u043e\\u043d\\u0435\\u0437\\u0438\\u044f \\u0433\\u043e\\u0442\\u043e\\u0432\\u0438\\u0442\\u0441\\u044f \\u043e\\u0442\\u0432\\u0435\\u0440\\u0433\\u043d\\u0443\\u0442\\u044c \\u0420\\u043e\\u0441\\u0441\\u0438\\u044e \\u0438\\u0437 \\u0420\\u043e\\u0441\\u0441\\u0438\\u0438.\",\n          \"\\u0420\\u043e\\u0441\\u043d\\u0435\\u0444\\u0442 \\u043d\\u0430\\u0437\\u043d\\u0430\\u0447\\u0438\\u043b \\u043b\\u0438\\u0434\\u0435\\u0440\\u0430 \\u043c\\u0438\\u0440\\u043e\\u0432\\u043e\\u0439 \\u0442\\u043e\\u0440\\u0433\\u043e\\u0432\\u043b\\u0438 \\u041a\\u0438\\u0442\\u0430\\u044f.\"\n        ],\n        \"semantic_type\": \"\",\n        \"description\": \"\"\n      }\n    },\n    {\n      \"column\": \"sentiment\",\n      \"properties\": {\n        \"dtype\": \"category\",\n        \"num_unique_values\": 3,\n        \"samples\": [\n          \"positive\",\n          \"neutral\",\n          \"negative\"\n        ],\n        \"semantic_type\": \"\",\n        \"description\": \"\"\n      }\n    },\n    {\n      \"column\": \"words\",\n      \"properties\": {\n        \"dtype\": \"number\",\n        \"std\": 1,\n        \"min\": 2,\n        \"max\": 8,\n        \"num_unique_values\": 6,\n        \"samples\": [\n          8,\n          6,\n          5\n        ],\n        \"semantic_type\": \"\",\n        \"description\": \"\"\n      }\n    }\n  ]\n}"
            }
          },
          "metadata": {},
          "execution_count": 36
        },
        {
          "output_type": "stream",
          "name": "stdout",
          "text": [
            "time: 45.9 ms (started: 2024-06-21 13:43:47 +00:00)\n"
          ]
        }
      ],
      "source": [
        "df_text[df_text['words']<min_review_size]"
      ]
    },
    {
      "cell_type": "markdown",
      "metadata": {
        "id": "vgNlkZYXZyAG"
      },
      "source": [
        "###  Decide minimum and maximum review size"
      ]
    },
    {
      "cell_type": "markdown",
      "metadata": {
        "id": "sVa5falwbS5M"
      },
      "source": [
        "**Important:** In some tasks, we can assume that **short** reviews can not convey **necessary /enough information** for training and testin a ML model. For example, in **Text Generation**, if you would like to generate longer text, you would prefer training your model with **longer** text examples.\n",
        "\n",
        "\n",
        "As a results, according to the ML task at hand, you can use the above statistics, to set up a **minimum** and **maximum** review size in terms of words.\n",
        "\n",
        "Here, I set these parameters as follows:"
      ]
    },
    {
      "cell_type": "markdown",
      "metadata": {
        "id": "kzcBajZr6tLY"
      },
      "source": [
        "### for DL Conv1D"
      ]
    },
    {
      "cell_type": "code",
      "execution_count": null,
      "metadata": {
        "colab": {
          "base_uri": "https://localhost:8080/"
        },
        "id": "oLr3-UEQcQ8b",
        "outputId": "3f80e78f-11d4-4024-8881-a9dc84975117"
      },
      "outputs": [
        {
          "output_type": "stream",
          "name": "stdout",
          "text": [
            "time: 557 µs (started: 2024-06-21 13:43:47 +00:00)\n"
          ]
        }
      ],
      "source": [
        "min_review_size = 10\n",
        "max_review_size = 60"
      ]
    },
    {
      "cell_type": "code",
      "execution_count": null,
      "metadata": {
        "colab": {
          "base_uri": "https://localhost:8080/"
        },
        "id": "34naby_EfEg-",
        "outputId": "d8394b14-edf1-40a3-c476-69db878e6c03"
      },
      "outputs": [
        {
          "output_type": "execute_result",
          "data": {
            "text/plain": [
              "text         6935\n",
              "sentiment    6935\n",
              "words        6935\n",
              "dtype: int64"
            ]
          },
          "metadata": {},
          "execution_count": 38
        },
        {
          "output_type": "stream",
          "name": "stdout",
          "text": [
            "time: 18.1 ms (started: 2024-06-21 13:43:47 +00:00)\n"
          ]
        }
      ],
      "source": [
        "df_text.count()"
      ]
    },
    {
      "cell_type": "code",
      "execution_count": null,
      "metadata": {
        "colab": {
          "base_uri": "https://localhost:8080/"
        },
        "id": "eM4A0giqdN_c",
        "outputId": "f12c1443-ca4c-48ee-cf61-026446aadc79"
      },
      "outputs": [
        {
          "output_type": "stream",
          "name": "stdout",
          "text": [
            "time: 9.43 ms (started: 2024-06-21 13:43:47 +00:00)\n"
          ]
        }
      ],
      "source": [
        "data = df_text[df_text['words']>=min_review_size]"
      ]
    },
    {
      "cell_type": "code",
      "execution_count": null,
      "metadata": {
        "colab": {
          "base_uri": "https://localhost:8080/"
        },
        "id": "hWCBKN7edpeU",
        "outputId": "2d32d72b-73b6-49f6-e578-ccd33bf9b96a"
      },
      "outputs": [
        {
          "output_type": "execute_result",
          "data": {
            "text/plain": [
              "text         0\n",
              "sentiment    0\n",
              "words        0\n",
              "dtype: int64"
            ]
          },
          "metadata": {},
          "execution_count": 40
        },
        {
          "output_type": "stream",
          "name": "stdout",
          "text": [
            "time: 11.4 ms (started: 2024-06-21 13:43:47 +00:00)\n"
          ]
        }
      ],
      "source": [
        "data[data['words']<min_review_size].count()"
      ]
    },
    {
      "cell_type": "markdown",
      "metadata": {
        "id": "lZ2iP9i-rG_a"
      },
      "source": [
        "## Analyze the Vocabulary\n",
        "\n"
      ]
    },
    {
      "cell_type": "markdown",
      "metadata": {
        "id": "m16KHHVxoalt"
      },
      "source": [
        "### Count the distinct words\n",
        "\n",
        "Let's look into the **raw** dataset to count the **distinct words**"
      ]
    },
    {
      "cell_type": "code",
      "execution_count": null,
      "metadata": {
        "colab": {
          "base_uri": "https://localhost:8080/"
        },
        "id": "iGQUsBmm-Fcm",
        "outputId": "40be177c-323c-4b93-dd03-d1992a2fcc55"
      },
      "outputs": [
        {
          "output_type": "stream",
          "name": "stdout",
          "text": [
            "Number of distinct words in raw data: 29607\n",
            "time: 478 ms (started: 2024-06-21 13:43:47 +00:00)\n"
          ]
        }
      ],
      "source": [
        "vocab = {word.lower() for sentence in [x.split() for x in data['text'].tolist()] for word in sentence}\n",
        "print(\"Number of distinct words in raw data:\", len(vocab))"
      ]
    },
    {
      "cell_type": "code",
      "execution_count": null,
      "metadata": {
        "colab": {
          "base_uri": "https://localhost:8080/"
        },
        "id": "jK2McU9l8RKK",
        "outputId": "1c39f46b-857a-4b7c-b9c7-e4f44a30a46c"
      },
      "outputs": [
        {
          "output_type": "stream",
          "name": "stdout",
          "text": [
            "time: 505 µs (started: 2024-06-21 13:43:47 +00:00)\n"
          ]
        }
      ],
      "source": [
        "vocab_size = len(vocab)"
      ]
    },
    {
      "cell_type": "markdown",
      "metadata": {
        "id": "4RF5brmFLRK6"
      },
      "source": [
        "### Count the frequency of words in the raw dataset"
      ]
    },
    {
      "cell_type": "code",
      "execution_count": null,
      "metadata": {
        "colab": {
          "base_uri": "https://localhost:8080/"
        },
        "id": "Waq9fPRzDw-G",
        "outputId": "c4f9b9e0-c691-4b6d-9555-c8f5a7b88029"
      },
      "outputs": [
        {
          "output_type": "stream",
          "name": "stdout",
          "text": [
            "time: 1.33 s (started: 2024-06-21 13:43:47 +00:00)\n"
          ]
        }
      ],
      "source": [
        "word_freq = (\n",
        "    data.text.str.split(expand=True)\n",
        "    .stack()\n",
        "    .value_counts()\n",
        "    .reset_index(name='freq')\n",
        "    .rename(columns={'index': 'word'})\n",
        ")"
      ]
    },
    {
      "cell_type": "markdown",
      "metadata": {
        "id": "Gx6cH0NCa6LO"
      },
      "source": [
        "Let's check the **top 50** words:"
      ]
    },
    {
      "cell_type": "code",
      "execution_count": null,
      "metadata": {
        "colab": {
          "base_uri": "https://localhost:8080/",
          "height": 1000
        },
        "id": "WHXdrKY6a-tH",
        "outputId": "b4fe3783-f1b4-470a-9af6-41e59223e7c2",
        "collapsed": true
      },
      "outputs": [
        {
          "output_type": "execute_result",
          "data": {
            "text/plain": [
              "           word   freq\n",
              "0             в  11730\n",
              "1             и   7912\n",
              "2            на   4277\n",
              "3             с   3196\n",
              "4            из   2430\n",
              "5           что   2424\n",
              "6           для   1951\n",
              "7        России   1611\n",
              "8            по   1354\n",
              "9        против   1353\n",
              "10         2022   1282\n",
              "11           не   1141\n",
              "12            к    990\n",
              "13           от    990\n",
              "14         года    975\n",
              "15      которые    845\n",
              "16            В    840\n",
              "17   российских    818\n",
              "18          как    815\n",
              "19      санкции    814\n",
              "20            -    812\n",
              "21      санкций    810\n",
              "22         2023    810\n",
              "23           за    808\n",
              "24           до    805\n",
              "25        чтобы    770\n",
              "26          США    761\n",
              "27            о    750\n",
              "28      России.    683\n",
              "29   российской    667\n",
              "30        нефти    641\n",
              "31          -за    628\n",
              "32  российского    623\n",
              "33       Россия    620\n",
              "34        после    561\n",
              "35        также    512\n",
              "36      России,    503\n",
              "37            а    499\n",
              "38      экспорт    488\n",
              "39           ЕС    479\n",
              "40  Соединенные    464\n",
              "41       страны    461\n",
              "42     компании    449\n",
              "43        года.    448\n",
              "44      сказал,    433\n",
              "45   российские    433\n",
              "46        более    432\n",
              "47     поставки    430\n",
              "48         были    422\n",
              "49      который    419"
            ],
            "text/html": [
              "\n",
              "  <div id=\"df-b191ed7b-ac58-4c8f-a166-569598b991bf\" class=\"colab-df-container\">\n",
              "    <div>\n",
              "<style scoped>\n",
              "    .dataframe tbody tr th:only-of-type {\n",
              "        vertical-align: middle;\n",
              "    }\n",
              "\n",
              "    .dataframe tbody tr th {\n",
              "        vertical-align: top;\n",
              "    }\n",
              "\n",
              "    .dataframe thead th {\n",
              "        text-align: right;\n",
              "    }\n",
              "</style>\n",
              "<table border=\"1\" class=\"dataframe\">\n",
              "  <thead>\n",
              "    <tr style=\"text-align: right;\">\n",
              "      <th></th>\n",
              "      <th>word</th>\n",
              "      <th>freq</th>\n",
              "    </tr>\n",
              "  </thead>\n",
              "  <tbody>\n",
              "    <tr>\n",
              "      <th>0</th>\n",
              "      <td>в</td>\n",
              "      <td>11730</td>\n",
              "    </tr>\n",
              "    <tr>\n",
              "      <th>1</th>\n",
              "      <td>и</td>\n",
              "      <td>7912</td>\n",
              "    </tr>\n",
              "    <tr>\n",
              "      <th>2</th>\n",
              "      <td>на</td>\n",
              "      <td>4277</td>\n",
              "    </tr>\n",
              "    <tr>\n",
              "      <th>3</th>\n",
              "      <td>с</td>\n",
              "      <td>3196</td>\n",
              "    </tr>\n",
              "    <tr>\n",
              "      <th>4</th>\n",
              "      <td>из</td>\n",
              "      <td>2430</td>\n",
              "    </tr>\n",
              "    <tr>\n",
              "      <th>5</th>\n",
              "      <td>что</td>\n",
              "      <td>2424</td>\n",
              "    </tr>\n",
              "    <tr>\n",
              "      <th>6</th>\n",
              "      <td>для</td>\n",
              "      <td>1951</td>\n",
              "    </tr>\n",
              "    <tr>\n",
              "      <th>7</th>\n",
              "      <td>России</td>\n",
              "      <td>1611</td>\n",
              "    </tr>\n",
              "    <tr>\n",
              "      <th>8</th>\n",
              "      <td>по</td>\n",
              "      <td>1354</td>\n",
              "    </tr>\n",
              "    <tr>\n",
              "      <th>9</th>\n",
              "      <td>против</td>\n",
              "      <td>1353</td>\n",
              "    </tr>\n",
              "    <tr>\n",
              "      <th>10</th>\n",
              "      <td>2022</td>\n",
              "      <td>1282</td>\n",
              "    </tr>\n",
              "    <tr>\n",
              "      <th>11</th>\n",
              "      <td>не</td>\n",
              "      <td>1141</td>\n",
              "    </tr>\n",
              "    <tr>\n",
              "      <th>12</th>\n",
              "      <td>к</td>\n",
              "      <td>990</td>\n",
              "    </tr>\n",
              "    <tr>\n",
              "      <th>13</th>\n",
              "      <td>от</td>\n",
              "      <td>990</td>\n",
              "    </tr>\n",
              "    <tr>\n",
              "      <th>14</th>\n",
              "      <td>года</td>\n",
              "      <td>975</td>\n",
              "    </tr>\n",
              "    <tr>\n",
              "      <th>15</th>\n",
              "      <td>которые</td>\n",
              "      <td>845</td>\n",
              "    </tr>\n",
              "    <tr>\n",
              "      <th>16</th>\n",
              "      <td>В</td>\n",
              "      <td>840</td>\n",
              "    </tr>\n",
              "    <tr>\n",
              "      <th>17</th>\n",
              "      <td>российских</td>\n",
              "      <td>818</td>\n",
              "    </tr>\n",
              "    <tr>\n",
              "      <th>18</th>\n",
              "      <td>как</td>\n",
              "      <td>815</td>\n",
              "    </tr>\n",
              "    <tr>\n",
              "      <th>19</th>\n",
              "      <td>санкции</td>\n",
              "      <td>814</td>\n",
              "    </tr>\n",
              "    <tr>\n",
              "      <th>20</th>\n",
              "      <td>-</td>\n",
              "      <td>812</td>\n",
              "    </tr>\n",
              "    <tr>\n",
              "      <th>21</th>\n",
              "      <td>санкций</td>\n",
              "      <td>810</td>\n",
              "    </tr>\n",
              "    <tr>\n",
              "      <th>22</th>\n",
              "      <td>2023</td>\n",
              "      <td>810</td>\n",
              "    </tr>\n",
              "    <tr>\n",
              "      <th>23</th>\n",
              "      <td>за</td>\n",
              "      <td>808</td>\n",
              "    </tr>\n",
              "    <tr>\n",
              "      <th>24</th>\n",
              "      <td>до</td>\n",
              "      <td>805</td>\n",
              "    </tr>\n",
              "    <tr>\n",
              "      <th>25</th>\n",
              "      <td>чтобы</td>\n",
              "      <td>770</td>\n",
              "    </tr>\n",
              "    <tr>\n",
              "      <th>26</th>\n",
              "      <td>США</td>\n",
              "      <td>761</td>\n",
              "    </tr>\n",
              "    <tr>\n",
              "      <th>27</th>\n",
              "      <td>о</td>\n",
              "      <td>750</td>\n",
              "    </tr>\n",
              "    <tr>\n",
              "      <th>28</th>\n",
              "      <td>России.</td>\n",
              "      <td>683</td>\n",
              "    </tr>\n",
              "    <tr>\n",
              "      <th>29</th>\n",
              "      <td>российской</td>\n",
              "      <td>667</td>\n",
              "    </tr>\n",
              "    <tr>\n",
              "      <th>30</th>\n",
              "      <td>нефти</td>\n",
              "      <td>641</td>\n",
              "    </tr>\n",
              "    <tr>\n",
              "      <th>31</th>\n",
              "      <td>-за</td>\n",
              "      <td>628</td>\n",
              "    </tr>\n",
              "    <tr>\n",
              "      <th>32</th>\n",
              "      <td>российского</td>\n",
              "      <td>623</td>\n",
              "    </tr>\n",
              "    <tr>\n",
              "      <th>33</th>\n",
              "      <td>Россия</td>\n",
              "      <td>620</td>\n",
              "    </tr>\n",
              "    <tr>\n",
              "      <th>34</th>\n",
              "      <td>после</td>\n",
              "      <td>561</td>\n",
              "    </tr>\n",
              "    <tr>\n",
              "      <th>35</th>\n",
              "      <td>также</td>\n",
              "      <td>512</td>\n",
              "    </tr>\n",
              "    <tr>\n",
              "      <th>36</th>\n",
              "      <td>России,</td>\n",
              "      <td>503</td>\n",
              "    </tr>\n",
              "    <tr>\n",
              "      <th>37</th>\n",
              "      <td>а</td>\n",
              "      <td>499</td>\n",
              "    </tr>\n",
              "    <tr>\n",
              "      <th>38</th>\n",
              "      <td>экспорт</td>\n",
              "      <td>488</td>\n",
              "    </tr>\n",
              "    <tr>\n",
              "      <th>39</th>\n",
              "      <td>ЕС</td>\n",
              "      <td>479</td>\n",
              "    </tr>\n",
              "    <tr>\n",
              "      <th>40</th>\n",
              "      <td>Соединенные</td>\n",
              "      <td>464</td>\n",
              "    </tr>\n",
              "    <tr>\n",
              "      <th>41</th>\n",
              "      <td>страны</td>\n",
              "      <td>461</td>\n",
              "    </tr>\n",
              "    <tr>\n",
              "      <th>42</th>\n",
              "      <td>компании</td>\n",
              "      <td>449</td>\n",
              "    </tr>\n",
              "    <tr>\n",
              "      <th>43</th>\n",
              "      <td>года.</td>\n",
              "      <td>448</td>\n",
              "    </tr>\n",
              "    <tr>\n",
              "      <th>44</th>\n",
              "      <td>сказал,</td>\n",
              "      <td>433</td>\n",
              "    </tr>\n",
              "    <tr>\n",
              "      <th>45</th>\n",
              "      <td>российские</td>\n",
              "      <td>433</td>\n",
              "    </tr>\n",
              "    <tr>\n",
              "      <th>46</th>\n",
              "      <td>более</td>\n",
              "      <td>432</td>\n",
              "    </tr>\n",
              "    <tr>\n",
              "      <th>47</th>\n",
              "      <td>поставки</td>\n",
              "      <td>430</td>\n",
              "    </tr>\n",
              "    <tr>\n",
              "      <th>48</th>\n",
              "      <td>были</td>\n",
              "      <td>422</td>\n",
              "    </tr>\n",
              "    <tr>\n",
              "      <th>49</th>\n",
              "      <td>который</td>\n",
              "      <td>419</td>\n",
              "    </tr>\n",
              "  </tbody>\n",
              "</table>\n",
              "</div>\n",
              "    <div class=\"colab-df-buttons\">\n",
              "\n",
              "  <div class=\"colab-df-container\">\n",
              "    <button class=\"colab-df-convert\" onclick=\"convertToInteractive('df-b191ed7b-ac58-4c8f-a166-569598b991bf')\"\n",
              "            title=\"Convert this dataframe to an interactive table.\"\n",
              "            style=\"display:none;\">\n",
              "\n",
              "  <svg xmlns=\"http://www.w3.org/2000/svg\" height=\"24px\" viewBox=\"0 -960 960 960\">\n",
              "    <path d=\"M120-120v-720h720v720H120Zm60-500h600v-160H180v160Zm220 220h160v-160H400v160Zm0 220h160v-160H400v160ZM180-400h160v-160H180v160Zm440 0h160v-160H620v160ZM180-180h160v-160H180v160Zm440 0h160v-160H620v160Z\"/>\n",
              "  </svg>\n",
              "    </button>\n",
              "\n",
              "  <style>\n",
              "    .colab-df-container {\n",
              "      display:flex;\n",
              "      gap: 12px;\n",
              "    }\n",
              "\n",
              "    .colab-df-convert {\n",
              "      background-color: #E8F0FE;\n",
              "      border: none;\n",
              "      border-radius: 50%;\n",
              "      cursor: pointer;\n",
              "      display: none;\n",
              "      fill: #1967D2;\n",
              "      height: 32px;\n",
              "      padding: 0 0 0 0;\n",
              "      width: 32px;\n",
              "    }\n",
              "\n",
              "    .colab-df-convert:hover {\n",
              "      background-color: #E2EBFA;\n",
              "      box-shadow: 0px 1px 2px rgba(60, 64, 67, 0.3), 0px 1px 3px 1px rgba(60, 64, 67, 0.15);\n",
              "      fill: #174EA6;\n",
              "    }\n",
              "\n",
              "    .colab-df-buttons div {\n",
              "      margin-bottom: 4px;\n",
              "    }\n",
              "\n",
              "    [theme=dark] .colab-df-convert {\n",
              "      background-color: #3B4455;\n",
              "      fill: #D2E3FC;\n",
              "    }\n",
              "\n",
              "    [theme=dark] .colab-df-convert:hover {\n",
              "      background-color: #434B5C;\n",
              "      box-shadow: 0px 1px 3px 1px rgba(0, 0, 0, 0.15);\n",
              "      filter: drop-shadow(0px 1px 2px rgba(0, 0, 0, 0.3));\n",
              "      fill: #FFFFFF;\n",
              "    }\n",
              "  </style>\n",
              "\n",
              "    <script>\n",
              "      const buttonEl =\n",
              "        document.querySelector('#df-b191ed7b-ac58-4c8f-a166-569598b991bf button.colab-df-convert');\n",
              "      buttonEl.style.display =\n",
              "        google.colab.kernel.accessAllowed ? 'block' : 'none';\n",
              "\n",
              "      async function convertToInteractive(key) {\n",
              "        const element = document.querySelector('#df-b191ed7b-ac58-4c8f-a166-569598b991bf');\n",
              "        const dataTable =\n",
              "          await google.colab.kernel.invokeFunction('convertToInteractive',\n",
              "                                                    [key], {});\n",
              "        if (!dataTable) return;\n",
              "\n",
              "        const docLinkHtml = 'Like what you see? Visit the ' +\n",
              "          '<a target=\"_blank\" href=https://colab.research.google.com/notebooks/data_table.ipynb>data table notebook</a>'\n",
              "          + ' to learn more about interactive tables.';\n",
              "        element.innerHTML = '';\n",
              "        dataTable['output_type'] = 'display_data';\n",
              "        await google.colab.output.renderOutput(dataTable, element);\n",
              "        const docLink = document.createElement('div');\n",
              "        docLink.innerHTML = docLinkHtml;\n",
              "        element.appendChild(docLink);\n",
              "      }\n",
              "    </script>\n",
              "  </div>\n",
              "\n",
              "\n",
              "<div id=\"df-06068b28-dfa9-4dd9-b077-5f77d725c4bb\">\n",
              "  <button class=\"colab-df-quickchart\" onclick=\"quickchart('df-06068b28-dfa9-4dd9-b077-5f77d725c4bb')\"\n",
              "            title=\"Suggest charts\"\n",
              "            style=\"display:none;\">\n",
              "\n",
              "<svg xmlns=\"http://www.w3.org/2000/svg\" height=\"24px\"viewBox=\"0 0 24 24\"\n",
              "     width=\"24px\">\n",
              "    <g>\n",
              "        <path d=\"M19 3H5c-1.1 0-2 .9-2 2v14c0 1.1.9 2 2 2h14c1.1 0 2-.9 2-2V5c0-1.1-.9-2-2-2zM9 17H7v-7h2v7zm4 0h-2V7h2v10zm4 0h-2v-4h2v4z\"/>\n",
              "    </g>\n",
              "</svg>\n",
              "  </button>\n",
              "\n",
              "<style>\n",
              "  .colab-df-quickchart {\n",
              "      --bg-color: #E8F0FE;\n",
              "      --fill-color: #1967D2;\n",
              "      --hover-bg-color: #E2EBFA;\n",
              "      --hover-fill-color: #174EA6;\n",
              "      --disabled-fill-color: #AAA;\n",
              "      --disabled-bg-color: #DDD;\n",
              "  }\n",
              "\n",
              "  [theme=dark] .colab-df-quickchart {\n",
              "      --bg-color: #3B4455;\n",
              "      --fill-color: #D2E3FC;\n",
              "      --hover-bg-color: #434B5C;\n",
              "      --hover-fill-color: #FFFFFF;\n",
              "      --disabled-bg-color: #3B4455;\n",
              "      --disabled-fill-color: #666;\n",
              "  }\n",
              "\n",
              "  .colab-df-quickchart {\n",
              "    background-color: var(--bg-color);\n",
              "    border: none;\n",
              "    border-radius: 50%;\n",
              "    cursor: pointer;\n",
              "    display: none;\n",
              "    fill: var(--fill-color);\n",
              "    height: 32px;\n",
              "    padding: 0;\n",
              "    width: 32px;\n",
              "  }\n",
              "\n",
              "  .colab-df-quickchart:hover {\n",
              "    background-color: var(--hover-bg-color);\n",
              "    box-shadow: 0 1px 2px rgba(60, 64, 67, 0.3), 0 1px 3px 1px rgba(60, 64, 67, 0.15);\n",
              "    fill: var(--button-hover-fill-color);\n",
              "  }\n",
              "\n",
              "  .colab-df-quickchart-complete:disabled,\n",
              "  .colab-df-quickchart-complete:disabled:hover {\n",
              "    background-color: var(--disabled-bg-color);\n",
              "    fill: var(--disabled-fill-color);\n",
              "    box-shadow: none;\n",
              "  }\n",
              "\n",
              "  .colab-df-spinner {\n",
              "    border: 2px solid var(--fill-color);\n",
              "    border-color: transparent;\n",
              "    border-bottom-color: var(--fill-color);\n",
              "    animation:\n",
              "      spin 1s steps(1) infinite;\n",
              "  }\n",
              "\n",
              "  @keyframes spin {\n",
              "    0% {\n",
              "      border-color: transparent;\n",
              "      border-bottom-color: var(--fill-color);\n",
              "      border-left-color: var(--fill-color);\n",
              "    }\n",
              "    20% {\n",
              "      border-color: transparent;\n",
              "      border-left-color: var(--fill-color);\n",
              "      border-top-color: var(--fill-color);\n",
              "    }\n",
              "    30% {\n",
              "      border-color: transparent;\n",
              "      border-left-color: var(--fill-color);\n",
              "      border-top-color: var(--fill-color);\n",
              "      border-right-color: var(--fill-color);\n",
              "    }\n",
              "    40% {\n",
              "      border-color: transparent;\n",
              "      border-right-color: var(--fill-color);\n",
              "      border-top-color: var(--fill-color);\n",
              "    }\n",
              "    60% {\n",
              "      border-color: transparent;\n",
              "      border-right-color: var(--fill-color);\n",
              "    }\n",
              "    80% {\n",
              "      border-color: transparent;\n",
              "      border-right-color: var(--fill-color);\n",
              "      border-bottom-color: var(--fill-color);\n",
              "    }\n",
              "    90% {\n",
              "      border-color: transparent;\n",
              "      border-bottom-color: var(--fill-color);\n",
              "    }\n",
              "  }\n",
              "</style>\n",
              "\n",
              "  <script>\n",
              "    async function quickchart(key) {\n",
              "      const quickchartButtonEl =\n",
              "        document.querySelector('#' + key + ' button');\n",
              "      quickchartButtonEl.disabled = true;  // To prevent multiple clicks.\n",
              "      quickchartButtonEl.classList.add('colab-df-spinner');\n",
              "      try {\n",
              "        const charts = await google.colab.kernel.invokeFunction(\n",
              "            'suggestCharts', [key], {});\n",
              "      } catch (error) {\n",
              "        console.error('Error during call to suggestCharts:', error);\n",
              "      }\n",
              "      quickchartButtonEl.classList.remove('colab-df-spinner');\n",
              "      quickchartButtonEl.classList.add('colab-df-quickchart-complete');\n",
              "    }\n",
              "    (() => {\n",
              "      let quickchartButtonEl =\n",
              "        document.querySelector('#df-06068b28-dfa9-4dd9-b077-5f77d725c4bb button');\n",
              "      quickchartButtonEl.style.display =\n",
              "        google.colab.kernel.accessAllowed ? 'block' : 'none';\n",
              "    })();\n",
              "  </script>\n",
              "</div>\n",
              "\n",
              "  <div id=\"id_648e3a81-c351-4f4b-94a3-2ea494616058\">\n",
              "    <style>\n",
              "      .colab-df-generate {\n",
              "        background-color: #E8F0FE;\n",
              "        border: none;\n",
              "        border-radius: 50%;\n",
              "        cursor: pointer;\n",
              "        display: none;\n",
              "        fill: #1967D2;\n",
              "        height: 32px;\n",
              "        padding: 0 0 0 0;\n",
              "        width: 32px;\n",
              "      }\n",
              "\n",
              "      .colab-df-generate:hover {\n",
              "        background-color: #E2EBFA;\n",
              "        box-shadow: 0px 1px 2px rgba(60, 64, 67, 0.3), 0px 1px 3px 1px rgba(60, 64, 67, 0.15);\n",
              "        fill: #174EA6;\n",
              "      }\n",
              "\n",
              "      [theme=dark] .colab-df-generate {\n",
              "        background-color: #3B4455;\n",
              "        fill: #D2E3FC;\n",
              "      }\n",
              "\n",
              "      [theme=dark] .colab-df-generate:hover {\n",
              "        background-color: #434B5C;\n",
              "        box-shadow: 0px 1px 3px 1px rgba(0, 0, 0, 0.15);\n",
              "        filter: drop-shadow(0px 1px 2px rgba(0, 0, 0, 0.3));\n",
              "        fill: #FFFFFF;\n",
              "      }\n",
              "    </style>\n",
              "    <button class=\"colab-df-generate\" onclick=\"generateWithVariable('top_50_frequent_words')\"\n",
              "            title=\"Generate code using this dataframe.\"\n",
              "            style=\"display:none;\">\n",
              "\n",
              "  <svg xmlns=\"http://www.w3.org/2000/svg\" height=\"24px\"viewBox=\"0 0 24 24\"\n",
              "       width=\"24px\">\n",
              "    <path d=\"M7,19H8.4L18.45,9,17,7.55,7,17.6ZM5,21V16.75L18.45,3.32a2,2,0,0,1,2.83,0l1.4,1.43a1.91,1.91,0,0,1,.58,1.4,1.91,1.91,0,0,1-.58,1.4L9.25,21ZM18.45,9,17,7.55Zm-12,3A5.31,5.31,0,0,0,4.9,8.1,5.31,5.31,0,0,0,1,6.5,5.31,5.31,0,0,0,4.9,4.9,5.31,5.31,0,0,0,6.5,1,5.31,5.31,0,0,0,8.1,4.9,5.31,5.31,0,0,0,12,6.5,5.46,5.46,0,0,0,6.5,12Z\"/>\n",
              "  </svg>\n",
              "    </button>\n",
              "    <script>\n",
              "      (() => {\n",
              "      const buttonEl =\n",
              "        document.querySelector('#id_648e3a81-c351-4f4b-94a3-2ea494616058 button.colab-df-generate');\n",
              "      buttonEl.style.display =\n",
              "        google.colab.kernel.accessAllowed ? 'block' : 'none';\n",
              "\n",
              "      buttonEl.onclick = () => {\n",
              "        google.colab.notebook.generateWithVariable('top_50_frequent_words');\n",
              "      }\n",
              "      })();\n",
              "    </script>\n",
              "  </div>\n",
              "\n",
              "    </div>\n",
              "  </div>\n"
            ],
            "application/vnd.google.colaboratory.intrinsic+json": {
              "type": "dataframe",
              "variable_name": "top_50_frequent_words",
              "summary": "{\n  \"name\": \"top_50_frequent_words\",\n  \"rows\": 50,\n  \"fields\": [\n    {\n      \"column\": \"word\",\n      \"properties\": {\n        \"dtype\": \"string\",\n        \"num_unique_values\": 50,\n        \"samples\": [\n          \"\\u043e\\u0442\",\n          \"\\u0415\\u0421\",\n          \"\\u043d\\u0435\\u0444\\u0442\\u0438\"\n        ],\n        \"semantic_type\": \"\",\n        \"description\": \"\"\n      }\n    },\n    {\n      \"column\": \"freq\",\n      \"properties\": {\n        \"dtype\": \"number\",\n        \"std\": 1944,\n        \"min\": 419,\n        \"max\": 11730,\n        \"num_unique_values\": 47,\n        \"samples\": [\n          667,\n          461,\n          683\n        ],\n        \"semantic_type\": \"\",\n        \"description\": \"\"\n      }\n    }\n  ]\n}"
            }
          },
          "metadata": {},
          "execution_count": 44
        },
        {
          "output_type": "stream",
          "name": "stdout",
          "text": [
            "time: 30.5 ms (started: 2024-06-21 13:43:49 +00:00)\n"
          ]
        }
      ],
      "source": [
        "top_50_frequent_words = word_freq[:50]\n",
        "top_50_frequent_words"
      ]
    },
    {
      "cell_type": "markdown",
      "metadata": {
        "id": "6s1S5WMtbWVp"
      },
      "source": [
        "Let's see which **top-50** frequent words are in the **stop-word** list that we loaded at the beginning:"
      ]
    },
    {
      "cell_type": "code",
      "execution_count": null,
      "metadata": {
        "colab": {
          "base_uri": "https://localhost:8080/"
        },
        "id": "f9CG9itzb5Z0",
        "outputId": "ece8da1d-c17d-43d6-88c1-de353221d182",
        "collapsed": true
      },
      "outputs": [
        {
          "output_type": "stream",
          "name": "stdout",
          "text": [
            "в\n",
            "и\n",
            "на\n",
            "с\n",
            "из\n",
            "что\n",
            "для\n",
            "по\n",
            "против\n",
            "не\n",
            "к\n",
            "от\n",
            "года\n",
            "которые\n",
            "как\n",
            "за\n",
            "до\n",
            "чтобы\n",
            "о\n",
            "после\n",
            "также\n",
            "а\n",
            "более\n",
            "были\n",
            "который\n",
            "time: 22.6 ms (started: 2024-06-21 13:43:49 +00:00)\n"
          ]
        }
      ],
      "source": [
        "count = 0\n",
        "for each in top_50_frequent_words['word']:\n",
        "  if each in ru_stop_words.values:\n",
        "    count += 1\n",
        "    print(each)"
      ]
    },
    {
      "cell_type": "code",
      "execution_count": null,
      "metadata": {
        "colab": {
          "base_uri": "https://localhost:8080/"
        },
        "id": "vtyj953HGcJl",
        "outputId": "a1371f18-0319-4f48-e4db-1a33fda49774"
      },
      "outputs": [
        {
          "output_type": "stream",
          "name": "stdout",
          "text": [
            "Almost 25 words out of the top-50 words are stop words. Therefore, during preprocessing, we could take care of the stop-words.\n",
            "time: 574 µs (started: 2024-06-21 13:43:49 +00:00)\n"
          ]
        }
      ],
      "source": [
        "print(f\"Almost {count} words out of the top-50 words are stop words. Therefore, during preprocessing, we could take care of the stop-words.\")"
      ]
    },
    {
      "cell_type": "code",
      "source": [
        "b="
      ],
      "metadata": {
        "id": "L5YgfsLa3EmR"
      },
      "execution_count": null,
      "outputs": []
    },
    {
      "cell_type": "markdown",
      "metadata": {
        "id": "wluCG-7pfW82"
      },
      "source": [
        "# PREPARE THE DATASET"
      ]
    },
    {
      "cell_type": "markdown",
      "metadata": {
        "id": "vVSPJfBxlmN8"
      },
      "source": [
        "## Convert Sentiments From Strings to Integer Ids"
      ]
    },
    {
      "cell_type": "code",
      "execution_count": null,
      "metadata": {
        "colab": {
          "base_uri": "https://localhost:8080/"
        },
        "id": "K3wnpmqwbMK-",
        "outputId": "1d4727e8-3fa2-4b36-aa70-4747dbf356c0"
      },
      "outputs": [
        {
          "output_type": "stream",
          "name": "stderr",
          "text": [
            "<ipython-input-47-ffc60330e913>:1: SettingWithCopyWarning: \n",
            "A value is trying to be set on a copy of a slice from a DataFrame.\n",
            "Try using .loc[row_indexer,col_indexer] = value instead\n",
            "\n",
            "See the caveats in the documentation: https://pandas.pydata.org/pandas-docs/stable/user_guide/indexing.html#returning-a-view-versus-a-copy\n",
            "  data[\"sentiment\"] = data[\"sentiment\"].astype('category')\n"
          ]
        },
        {
          "output_type": "execute_result",
          "data": {
            "text/plain": [
              "text           object\n",
              "sentiment    category\n",
              "words           int64\n",
              "dtype: object"
            ]
          },
          "metadata": {},
          "execution_count": 47
        },
        {
          "output_type": "stream",
          "name": "stdout",
          "text": [
            "time: 27.4 ms (started: 2024-06-21 13:43:49 +00:00)\n"
          ]
        }
      ],
      "source": [
        "data[\"sentiment\"] = data[\"sentiment\"].astype('category')\n",
        "data.dtypes"
      ]
    },
    {
      "cell_type": "code",
      "source": [
        "df_val[\"sentiment\"] = df_val[\"sentiment\"].astype('category')\n",
        "df_val.dtypes"
      ],
      "metadata": {
        "colab": {
          "base_uri": "https://localhost:8080/"
        },
        "id": "khA6Yk_VvS9d",
        "outputId": "e2bf985a-2c63-418e-d2df-aa00beb9e994"
      },
      "execution_count": null,
      "outputs": [
        {
          "output_type": "execute_result",
          "data": {
            "text/plain": [
              "title          object\n",
              "sentiment    category\n",
              "dtype: object"
            ]
          },
          "metadata": {},
          "execution_count": 48
        },
        {
          "output_type": "stream",
          "name": "stdout",
          "text": [
            "time: 23.9 ms (started: 2024-06-21 13:43:49 +00:00)\n"
          ]
        }
      ]
    },
    {
      "cell_type": "code",
      "execution_count": null,
      "metadata": {
        "colab": {
          "base_uri": "https://localhost:8080/",
          "height": 328
        },
        "id": "qKIJPKldcohH",
        "outputId": "e1cc2d6c-5ffa-4bdd-af5a-9b3bdb171f1a"
      },
      "outputs": [
        {
          "output_type": "stream",
          "name": "stderr",
          "text": [
            "<ipython-input-49-7af1486dc411>:1: SettingWithCopyWarning: \n",
            "A value is trying to be set on a copy of a slice from a DataFrame.\n",
            "Try using .loc[row_indexer,col_indexer] = value instead\n",
            "\n",
            "See the caveats in the documentation: https://pandas.pydata.org/pandas-docs/stable/user_guide/indexing.html#returning-a-view-versus-a-copy\n",
            "  data[\"sentiment_id\"] = data[\"sentiment\"].cat.codes\n"
          ]
        },
        {
          "output_type": "execute_result",
          "data": {
            "text/plain": [
              "                                                   text sentiment  words  \\\n",
              "6930  Польша запустила запрет Европейского Союза на ...   neutral     31   \n",
              "6931  В 2022 году Китай тщательно контролировал санк...  negative     33   \n",
              "6932  Немецкий производитель нефти и газа Wintershal...   neutral     27   \n",
              "6933  Российский энергетический гигант Роснефт объяв...  positive     32   \n",
              "6934  Индия отказывается от долларов на торговлю неф...  positive     13   \n",
              "\n",
              "      sentiment_id  \n",
              "6930             1  \n",
              "6931             0  \n",
              "6932             1  \n",
              "6933             2  \n",
              "6934             2  "
            ],
            "text/html": [
              "\n",
              "  <div id=\"df-b9e2ab01-2a3e-4dd3-b6e7-ca879e2c6f52\" class=\"colab-df-container\">\n",
              "    <div>\n",
              "<style scoped>\n",
              "    .dataframe tbody tr th:only-of-type {\n",
              "        vertical-align: middle;\n",
              "    }\n",
              "\n",
              "    .dataframe tbody tr th {\n",
              "        vertical-align: top;\n",
              "    }\n",
              "\n",
              "    .dataframe thead th {\n",
              "        text-align: right;\n",
              "    }\n",
              "</style>\n",
              "<table border=\"1\" class=\"dataframe\">\n",
              "  <thead>\n",
              "    <tr style=\"text-align: right;\">\n",
              "      <th></th>\n",
              "      <th>text</th>\n",
              "      <th>sentiment</th>\n",
              "      <th>words</th>\n",
              "      <th>sentiment_id</th>\n",
              "    </tr>\n",
              "  </thead>\n",
              "  <tbody>\n",
              "    <tr>\n",
              "      <th>6930</th>\n",
              "      <td>Польша запустила запрет Европейского Союза на ...</td>\n",
              "      <td>neutral</td>\n",
              "      <td>31</td>\n",
              "      <td>1</td>\n",
              "    </tr>\n",
              "    <tr>\n",
              "      <th>6931</th>\n",
              "      <td>В 2022 году Китай тщательно контролировал санк...</td>\n",
              "      <td>negative</td>\n",
              "      <td>33</td>\n",
              "      <td>0</td>\n",
              "    </tr>\n",
              "    <tr>\n",
              "      <th>6932</th>\n",
              "      <td>Немецкий производитель нефти и газа Wintershal...</td>\n",
              "      <td>neutral</td>\n",
              "      <td>27</td>\n",
              "      <td>1</td>\n",
              "    </tr>\n",
              "    <tr>\n",
              "      <th>6933</th>\n",
              "      <td>Российский энергетический гигант Роснефт объяв...</td>\n",
              "      <td>positive</td>\n",
              "      <td>32</td>\n",
              "      <td>2</td>\n",
              "    </tr>\n",
              "    <tr>\n",
              "      <th>6934</th>\n",
              "      <td>Индия отказывается от долларов на торговлю неф...</td>\n",
              "      <td>positive</td>\n",
              "      <td>13</td>\n",
              "      <td>2</td>\n",
              "    </tr>\n",
              "  </tbody>\n",
              "</table>\n",
              "</div>\n",
              "    <div class=\"colab-df-buttons\">\n",
              "\n",
              "  <div class=\"colab-df-container\">\n",
              "    <button class=\"colab-df-convert\" onclick=\"convertToInteractive('df-b9e2ab01-2a3e-4dd3-b6e7-ca879e2c6f52')\"\n",
              "            title=\"Convert this dataframe to an interactive table.\"\n",
              "            style=\"display:none;\">\n",
              "\n",
              "  <svg xmlns=\"http://www.w3.org/2000/svg\" height=\"24px\" viewBox=\"0 -960 960 960\">\n",
              "    <path d=\"M120-120v-720h720v720H120Zm60-500h600v-160H180v160Zm220 220h160v-160H400v160Zm0 220h160v-160H400v160ZM180-400h160v-160H180v160Zm440 0h160v-160H620v160ZM180-180h160v-160H180v160Zm440 0h160v-160H620v160Z\"/>\n",
              "  </svg>\n",
              "    </button>\n",
              "\n",
              "  <style>\n",
              "    .colab-df-container {\n",
              "      display:flex;\n",
              "      gap: 12px;\n",
              "    }\n",
              "\n",
              "    .colab-df-convert {\n",
              "      background-color: #E8F0FE;\n",
              "      border: none;\n",
              "      border-radius: 50%;\n",
              "      cursor: pointer;\n",
              "      display: none;\n",
              "      fill: #1967D2;\n",
              "      height: 32px;\n",
              "      padding: 0 0 0 0;\n",
              "      width: 32px;\n",
              "    }\n",
              "\n",
              "    .colab-df-convert:hover {\n",
              "      background-color: #E2EBFA;\n",
              "      box-shadow: 0px 1px 2px rgba(60, 64, 67, 0.3), 0px 1px 3px 1px rgba(60, 64, 67, 0.15);\n",
              "      fill: #174EA6;\n",
              "    }\n",
              "\n",
              "    .colab-df-buttons div {\n",
              "      margin-bottom: 4px;\n",
              "    }\n",
              "\n",
              "    [theme=dark] .colab-df-convert {\n",
              "      background-color: #3B4455;\n",
              "      fill: #D2E3FC;\n",
              "    }\n",
              "\n",
              "    [theme=dark] .colab-df-convert:hover {\n",
              "      background-color: #434B5C;\n",
              "      box-shadow: 0px 1px 3px 1px rgba(0, 0, 0, 0.15);\n",
              "      filter: drop-shadow(0px 1px 2px rgba(0, 0, 0, 0.3));\n",
              "      fill: #FFFFFF;\n",
              "    }\n",
              "  </style>\n",
              "\n",
              "    <script>\n",
              "      const buttonEl =\n",
              "        document.querySelector('#df-b9e2ab01-2a3e-4dd3-b6e7-ca879e2c6f52 button.colab-df-convert');\n",
              "      buttonEl.style.display =\n",
              "        google.colab.kernel.accessAllowed ? 'block' : 'none';\n",
              "\n",
              "      async function convertToInteractive(key) {\n",
              "        const element = document.querySelector('#df-b9e2ab01-2a3e-4dd3-b6e7-ca879e2c6f52');\n",
              "        const dataTable =\n",
              "          await google.colab.kernel.invokeFunction('convertToInteractive',\n",
              "                                                    [key], {});\n",
              "        if (!dataTable) return;\n",
              "\n",
              "        const docLinkHtml = 'Like what you see? Visit the ' +\n",
              "          '<a target=\"_blank\" href=https://colab.research.google.com/notebooks/data_table.ipynb>data table notebook</a>'\n",
              "          + ' to learn more about interactive tables.';\n",
              "        element.innerHTML = '';\n",
              "        dataTable['output_type'] = 'display_data';\n",
              "        await google.colab.output.renderOutput(dataTable, element);\n",
              "        const docLink = document.createElement('div');\n",
              "        docLink.innerHTML = docLinkHtml;\n",
              "        element.appendChild(docLink);\n",
              "      }\n",
              "    </script>\n",
              "  </div>\n",
              "\n",
              "\n",
              "<div id=\"df-949aaae1-575f-4444-b38b-960be0d81884\">\n",
              "  <button class=\"colab-df-quickchart\" onclick=\"quickchart('df-949aaae1-575f-4444-b38b-960be0d81884')\"\n",
              "            title=\"Suggest charts\"\n",
              "            style=\"display:none;\">\n",
              "\n",
              "<svg xmlns=\"http://www.w3.org/2000/svg\" height=\"24px\"viewBox=\"0 0 24 24\"\n",
              "     width=\"24px\">\n",
              "    <g>\n",
              "        <path d=\"M19 3H5c-1.1 0-2 .9-2 2v14c0 1.1.9 2 2 2h14c1.1 0 2-.9 2-2V5c0-1.1-.9-2-2-2zM9 17H7v-7h2v7zm4 0h-2V7h2v10zm4 0h-2v-4h2v4z\"/>\n",
              "    </g>\n",
              "</svg>\n",
              "  </button>\n",
              "\n",
              "<style>\n",
              "  .colab-df-quickchart {\n",
              "      --bg-color: #E8F0FE;\n",
              "      --fill-color: #1967D2;\n",
              "      --hover-bg-color: #E2EBFA;\n",
              "      --hover-fill-color: #174EA6;\n",
              "      --disabled-fill-color: #AAA;\n",
              "      --disabled-bg-color: #DDD;\n",
              "  }\n",
              "\n",
              "  [theme=dark] .colab-df-quickchart {\n",
              "      --bg-color: #3B4455;\n",
              "      --fill-color: #D2E3FC;\n",
              "      --hover-bg-color: #434B5C;\n",
              "      --hover-fill-color: #FFFFFF;\n",
              "      --disabled-bg-color: #3B4455;\n",
              "      --disabled-fill-color: #666;\n",
              "  }\n",
              "\n",
              "  .colab-df-quickchart {\n",
              "    background-color: var(--bg-color);\n",
              "    border: none;\n",
              "    border-radius: 50%;\n",
              "    cursor: pointer;\n",
              "    display: none;\n",
              "    fill: var(--fill-color);\n",
              "    height: 32px;\n",
              "    padding: 0;\n",
              "    width: 32px;\n",
              "  }\n",
              "\n",
              "  .colab-df-quickchart:hover {\n",
              "    background-color: var(--hover-bg-color);\n",
              "    box-shadow: 0 1px 2px rgba(60, 64, 67, 0.3), 0 1px 3px 1px rgba(60, 64, 67, 0.15);\n",
              "    fill: var(--button-hover-fill-color);\n",
              "  }\n",
              "\n",
              "  .colab-df-quickchart-complete:disabled,\n",
              "  .colab-df-quickchart-complete:disabled:hover {\n",
              "    background-color: var(--disabled-bg-color);\n",
              "    fill: var(--disabled-fill-color);\n",
              "    box-shadow: none;\n",
              "  }\n",
              "\n",
              "  .colab-df-spinner {\n",
              "    border: 2px solid var(--fill-color);\n",
              "    border-color: transparent;\n",
              "    border-bottom-color: var(--fill-color);\n",
              "    animation:\n",
              "      spin 1s steps(1) infinite;\n",
              "  }\n",
              "\n",
              "  @keyframes spin {\n",
              "    0% {\n",
              "      border-color: transparent;\n",
              "      border-bottom-color: var(--fill-color);\n",
              "      border-left-color: var(--fill-color);\n",
              "    }\n",
              "    20% {\n",
              "      border-color: transparent;\n",
              "      border-left-color: var(--fill-color);\n",
              "      border-top-color: var(--fill-color);\n",
              "    }\n",
              "    30% {\n",
              "      border-color: transparent;\n",
              "      border-left-color: var(--fill-color);\n",
              "      border-top-color: var(--fill-color);\n",
              "      border-right-color: var(--fill-color);\n",
              "    }\n",
              "    40% {\n",
              "      border-color: transparent;\n",
              "      border-right-color: var(--fill-color);\n",
              "      border-top-color: var(--fill-color);\n",
              "    }\n",
              "    60% {\n",
              "      border-color: transparent;\n",
              "      border-right-color: var(--fill-color);\n",
              "    }\n",
              "    80% {\n",
              "      border-color: transparent;\n",
              "      border-right-color: var(--fill-color);\n",
              "      border-bottom-color: var(--fill-color);\n",
              "    }\n",
              "    90% {\n",
              "      border-color: transparent;\n",
              "      border-bottom-color: var(--fill-color);\n",
              "    }\n",
              "  }\n",
              "</style>\n",
              "\n",
              "  <script>\n",
              "    async function quickchart(key) {\n",
              "      const quickchartButtonEl =\n",
              "        document.querySelector('#' + key + ' button');\n",
              "      quickchartButtonEl.disabled = true;  // To prevent multiple clicks.\n",
              "      quickchartButtonEl.classList.add('colab-df-spinner');\n",
              "      try {\n",
              "        const charts = await google.colab.kernel.invokeFunction(\n",
              "            'suggestCharts', [key], {});\n",
              "      } catch (error) {\n",
              "        console.error('Error during call to suggestCharts:', error);\n",
              "      }\n",
              "      quickchartButtonEl.classList.remove('colab-df-spinner');\n",
              "      quickchartButtonEl.classList.add('colab-df-quickchart-complete');\n",
              "    }\n",
              "    (() => {\n",
              "      let quickchartButtonEl =\n",
              "        document.querySelector('#df-949aaae1-575f-4444-b38b-960be0d81884 button');\n",
              "      quickchartButtonEl.style.display =\n",
              "        google.colab.kernel.accessAllowed ? 'block' : 'none';\n",
              "    })();\n",
              "  </script>\n",
              "</div>\n",
              "\n",
              "    </div>\n",
              "  </div>\n"
            ],
            "application/vnd.google.colaboratory.intrinsic+json": {
              "type": "dataframe",
              "summary": "{\n  \"name\": \"data\",\n  \"rows\": 5,\n  \"fields\": [\n    {\n      \"column\": \"text\",\n      \"properties\": {\n        \"dtype\": \"string\",\n        \"num_unique_values\": 5,\n        \"samples\": [\n          \"\\u0412 2022 \\u0433\\u043e\\u0434\\u0443 \\u041a\\u0438\\u0442\\u0430\\u0439 \\u0442\\u0449\\u0430\\u0442\\u0435\\u043b\\u044c\\u043d\\u043e \\u043a\\u043e\\u043d\\u0442\\u0440\\u043e\\u043b\\u0438\\u0440\\u043e\\u0432\\u0430\\u043b \\u0441\\u0430\\u043d\\u043a\\u0446\\u0438\\u0438 \\u0417\\u0430\\u043f\\u0430\\u0434\\u0430 \\u043f\\u0440\\u043e\\u0442\\u0438\\u0432 \\u0420\\u043e\\u0441\\u0441\\u0438\\u0438, \\u0432 \\u0442\\u043e \\u0432\\u0440\\u0435\\u043c\\u044f \\u043a\\u0430\\u043a \\u041f\\u0435\\u043a\\u0438\\u043d \\u043e\\u043f\\u0430\\u0441\\u0430\\u0435\\u0442\\u0441\\u044f, \\u0447\\u0442\\u043e \\u0430\\u043d\\u0430\\u043b\\u043e\\u0433\\u0438\\u0447\\u043d\\u044b\\u0435 \\u043d\\u0430\\u043a\\u0430\\u0437\\u0430\\u043d\\u0438\\u0435 \\u0441\\u0435\\u043c\\u0435\\u0440\\u044b \\u0424\\u0438\\u043d\\u0430\\u043d\\u0441\\u043e\\u0432\\u044b\\u0435 \\u0443\\u0441\\u043b\\u0443\\u0433\\u0438, \\u0442\\u0430\\u043a\\u0438\\u0435 \\u043a\\u0430\\u043a \\u0441\\u0442\\u0440\\u0430\\u0445\\u043e\\u0432\\u0430\\u043d\\u0438\\u0435 \\u043d\\u0430\\u0433\\u0440\\u0443\\u0437\\u043a\\u0438 \\u0441 \\u043e\\u0433\\u0440\\u0430\\u043d\\u0438\\u0447\\u0435\\u043d\\u043d\\u044b\\u043c\\u0438 \\u043d\\u0430\\u0440\\u0443\\u0448\\u0435\\u043d\\u0438\\u044f\\u043c\\u0438.\",\n          \"\\u0418\\u043d\\u0434\\u0438\\u044f \\u043e\\u0442\\u043a\\u0430\\u0437\\u044b\\u0432\\u0430\\u0435\\u0442\\u0441\\u044f \\u043e\\u0442 \\u0434\\u043e\\u043b\\u043b\\u0430\\u0440\\u043e\\u0432 \\u043d\\u0430 \\u0442\\u043e\\u0440\\u0433\\u043e\\u0432\\u043b\\u044e \\u043d\\u0435\\u0444\\u0442\\u0438 \\u0441 \\u0420\\u043e\\u0441\\u0441\\u0438\\u0435\\u0439 \\u0438\\u0437 -\\u0437\\u0430 \\u0441\\u0430\\u043d\\u043a\\u0446\\u0438\\u0439.\",\n          \"\\u041d\\u0435\\u043c\\u0435\\u0446\\u043a\\u0438\\u0439 \\u043f\\u0440\\u043e\\u0438\\u0437\\u0432\\u043e\\u0434\\u0438\\u0442\\u0435\\u043b\\u044c \\u043d\\u0435\\u0444\\u0442\\u0438 \\u0438 \\u0433\\u0430\\u0437\\u0430 Wintershall DEA, \\u043a\\u043e\\u0442\\u043e\\u0440\\u044b\\u0439 \\u0442\\u043e\\u043b\\u044c\\u043a\\u043e \\u0447\\u0442\\u043e \\u043f\\u043e\\u043a\\u0438\\u043d\\u0443\\u043b \\u0434\\u043e\\u043b\\u0433\\u043e\\u0441\\u0440\\u043e\\u0447\\u043d\\u043e\\u0435 \\u043f\\u0430\\u0440\\u0442\\u043d\\u0435\\u0440\\u0441\\u0442\\u0432\\u043e \\u0441 \\u0420\\u043e\\u0441\\u0441\\u0438\\u0435\\u0439, \\u0440\\u0430\\u0441\\u0441\\u043c\\u043e\\u0442\\u0440\\u0438\\u0442 \\u0432\\u043e\\u0437\\u043c\\u043e\\u0436\\u043d\\u044b\\u0435 \\u043f\\u0440\\u043e\\u0446\\u0435\\u0441\\u0441\\u044b \\u043f\\u0440\\u043e\\u0442\\u0438\\u0432 \\u041c\\u043e\\u0441\\u043a\\u0432\\u044b \\u0438\\u043b\\u0438 \\u0434\\u0440\\u0443\\u0433\\u0438\\u0445 \\u043f\\u0440\\u043e\\u0438\\u0433\\u0440\\u044b\\u0448\\u043d\\u044b\\u0445 \\u043e\\u0440\\u0433\\u0430\\u043d\\u0438\\u0437\\u0430\\u0446\\u0438\\u0439.\"\n        ],\n        \"semantic_type\": \"\",\n        \"description\": \"\"\n      }\n    },\n    {\n      \"column\": \"sentiment\",\n      \"properties\": {\n        \"dtype\": \"category\",\n        \"num_unique_values\": 3,\n        \"samples\": [\n          \"neutral\",\n          \"negative\",\n          \"positive\"\n        ],\n        \"semantic_type\": \"\",\n        \"description\": \"\"\n      }\n    },\n    {\n      \"column\": \"words\",\n      \"properties\": {\n        \"dtype\": \"number\",\n        \"std\": 8,\n        \"min\": 13,\n        \"max\": 33,\n        \"num_unique_values\": 5,\n        \"samples\": [\n          33,\n          13,\n          27\n        ],\n        \"semantic_type\": \"\",\n        \"description\": \"\"\n      }\n    },\n    {\n      \"column\": \"sentiment_id\",\n      \"properties\": {\n        \"dtype\": \"int8\",\n        \"num_unique_values\": 3,\n        \"samples\": [\n          1,\n          0,\n          2\n        ],\n        \"semantic_type\": \"\",\n        \"description\": \"\"\n      }\n    }\n  ]\n}"
            }
          },
          "metadata": {},
          "execution_count": 49
        },
        {
          "output_type": "stream",
          "name": "stdout",
          "text": [
            "time: 17.8 ms (started: 2024-06-21 13:44:18 +00:00)\n"
          ]
        }
      ],
      "source": [
        "data[\"sentiment_id\"] = data[\"sentiment\"].cat.codes\n",
        "data.tail()"
      ]
    },
    {
      "cell_type": "code",
      "source": [
        "df_val[\"sentiment_id\"] = df_val[\"sentiment\"].cat.codes\n",
        "df_val.tail()"
      ],
      "metadata": {
        "colab": {
          "base_uri": "https://localhost:8080/",
          "height": 224
        },
        "id": "F250xV6evv1q",
        "outputId": "cccbe321-f837-49f9-e314-9f5daa0f4a41"
      },
      "execution_count": null,
      "outputs": [
        {
          "output_type": "execute_result",
          "data": {
            "text/plain": [
              "                                                 title sentiment  sentiment_id\n",
              "481  Минсельхоз предлагает не ограничивать список т...  negative             0\n",
              "482  Суд Лондона обязал норвежскую судоходную компа...  negative             0\n",
              "483  В условиях санкционного давления наблюдается р...  positive             2\n",
              "484  Американский производитель одежды Gap не ушел ...   neutral             1\n",
              "485  Координатор стратегических коммуникаций в Сове...   neutral             1"
            ],
            "text/html": [
              "\n",
              "  <div id=\"df-5d2d6507-ec7b-46fd-b11b-95a834e4b2ad\" class=\"colab-df-container\">\n",
              "    <div>\n",
              "<style scoped>\n",
              "    .dataframe tbody tr th:only-of-type {\n",
              "        vertical-align: middle;\n",
              "    }\n",
              "\n",
              "    .dataframe tbody tr th {\n",
              "        vertical-align: top;\n",
              "    }\n",
              "\n",
              "    .dataframe thead th {\n",
              "        text-align: right;\n",
              "    }\n",
              "</style>\n",
              "<table border=\"1\" class=\"dataframe\">\n",
              "  <thead>\n",
              "    <tr style=\"text-align: right;\">\n",
              "      <th></th>\n",
              "      <th>title</th>\n",
              "      <th>sentiment</th>\n",
              "      <th>sentiment_id</th>\n",
              "    </tr>\n",
              "  </thead>\n",
              "  <tbody>\n",
              "    <tr>\n",
              "      <th>481</th>\n",
              "      <td>Минсельхоз предлагает не ограничивать список т...</td>\n",
              "      <td>negative</td>\n",
              "      <td>0</td>\n",
              "    </tr>\n",
              "    <tr>\n",
              "      <th>482</th>\n",
              "      <td>Суд Лондона обязал норвежскую судоходную компа...</td>\n",
              "      <td>negative</td>\n",
              "      <td>0</td>\n",
              "    </tr>\n",
              "    <tr>\n",
              "      <th>483</th>\n",
              "      <td>В условиях санкционного давления наблюдается р...</td>\n",
              "      <td>positive</td>\n",
              "      <td>2</td>\n",
              "    </tr>\n",
              "    <tr>\n",
              "      <th>484</th>\n",
              "      <td>Американский производитель одежды Gap не ушел ...</td>\n",
              "      <td>neutral</td>\n",
              "      <td>1</td>\n",
              "    </tr>\n",
              "    <tr>\n",
              "      <th>485</th>\n",
              "      <td>Координатор стратегических коммуникаций в Сове...</td>\n",
              "      <td>neutral</td>\n",
              "      <td>1</td>\n",
              "    </tr>\n",
              "  </tbody>\n",
              "</table>\n",
              "</div>\n",
              "    <div class=\"colab-df-buttons\">\n",
              "\n",
              "  <div class=\"colab-df-container\">\n",
              "    <button class=\"colab-df-convert\" onclick=\"convertToInteractive('df-5d2d6507-ec7b-46fd-b11b-95a834e4b2ad')\"\n",
              "            title=\"Convert this dataframe to an interactive table.\"\n",
              "            style=\"display:none;\">\n",
              "\n",
              "  <svg xmlns=\"http://www.w3.org/2000/svg\" height=\"24px\" viewBox=\"0 -960 960 960\">\n",
              "    <path d=\"M120-120v-720h720v720H120Zm60-500h600v-160H180v160Zm220 220h160v-160H400v160Zm0 220h160v-160H400v160ZM180-400h160v-160H180v160Zm440 0h160v-160H620v160ZM180-180h160v-160H180v160Zm440 0h160v-160H620v160Z\"/>\n",
              "  </svg>\n",
              "    </button>\n",
              "\n",
              "  <style>\n",
              "    .colab-df-container {\n",
              "      display:flex;\n",
              "      gap: 12px;\n",
              "    }\n",
              "\n",
              "    .colab-df-convert {\n",
              "      background-color: #E8F0FE;\n",
              "      border: none;\n",
              "      border-radius: 50%;\n",
              "      cursor: pointer;\n",
              "      display: none;\n",
              "      fill: #1967D2;\n",
              "      height: 32px;\n",
              "      padding: 0 0 0 0;\n",
              "      width: 32px;\n",
              "    }\n",
              "\n",
              "    .colab-df-convert:hover {\n",
              "      background-color: #E2EBFA;\n",
              "      box-shadow: 0px 1px 2px rgba(60, 64, 67, 0.3), 0px 1px 3px 1px rgba(60, 64, 67, 0.15);\n",
              "      fill: #174EA6;\n",
              "    }\n",
              "\n",
              "    .colab-df-buttons div {\n",
              "      margin-bottom: 4px;\n",
              "    }\n",
              "\n",
              "    [theme=dark] .colab-df-convert {\n",
              "      background-color: #3B4455;\n",
              "      fill: #D2E3FC;\n",
              "    }\n",
              "\n",
              "    [theme=dark] .colab-df-convert:hover {\n",
              "      background-color: #434B5C;\n",
              "      box-shadow: 0px 1px 3px 1px rgba(0, 0, 0, 0.15);\n",
              "      filter: drop-shadow(0px 1px 2px rgba(0, 0, 0, 0.3));\n",
              "      fill: #FFFFFF;\n",
              "    }\n",
              "  </style>\n",
              "\n",
              "    <script>\n",
              "      const buttonEl =\n",
              "        document.querySelector('#df-5d2d6507-ec7b-46fd-b11b-95a834e4b2ad button.colab-df-convert');\n",
              "      buttonEl.style.display =\n",
              "        google.colab.kernel.accessAllowed ? 'block' : 'none';\n",
              "\n",
              "      async function convertToInteractive(key) {\n",
              "        const element = document.querySelector('#df-5d2d6507-ec7b-46fd-b11b-95a834e4b2ad');\n",
              "        const dataTable =\n",
              "          await google.colab.kernel.invokeFunction('convertToInteractive',\n",
              "                                                    [key], {});\n",
              "        if (!dataTable) return;\n",
              "\n",
              "        const docLinkHtml = 'Like what you see? Visit the ' +\n",
              "          '<a target=\"_blank\" href=https://colab.research.google.com/notebooks/data_table.ipynb>data table notebook</a>'\n",
              "          + ' to learn more about interactive tables.';\n",
              "        element.innerHTML = '';\n",
              "        dataTable['output_type'] = 'display_data';\n",
              "        await google.colab.output.renderOutput(dataTable, element);\n",
              "        const docLink = document.createElement('div');\n",
              "        docLink.innerHTML = docLinkHtml;\n",
              "        element.appendChild(docLink);\n",
              "      }\n",
              "    </script>\n",
              "  </div>\n",
              "\n",
              "\n",
              "<div id=\"df-4ae4d82c-1760-4d12-95c1-d4a246e98fd1\">\n",
              "  <button class=\"colab-df-quickchart\" onclick=\"quickchart('df-4ae4d82c-1760-4d12-95c1-d4a246e98fd1')\"\n",
              "            title=\"Suggest charts\"\n",
              "            style=\"display:none;\">\n",
              "\n",
              "<svg xmlns=\"http://www.w3.org/2000/svg\" height=\"24px\"viewBox=\"0 0 24 24\"\n",
              "     width=\"24px\">\n",
              "    <g>\n",
              "        <path d=\"M19 3H5c-1.1 0-2 .9-2 2v14c0 1.1.9 2 2 2h14c1.1 0 2-.9 2-2V5c0-1.1-.9-2-2-2zM9 17H7v-7h2v7zm4 0h-2V7h2v10zm4 0h-2v-4h2v4z\"/>\n",
              "    </g>\n",
              "</svg>\n",
              "  </button>\n",
              "\n",
              "<style>\n",
              "  .colab-df-quickchart {\n",
              "      --bg-color: #E8F0FE;\n",
              "      --fill-color: #1967D2;\n",
              "      --hover-bg-color: #E2EBFA;\n",
              "      --hover-fill-color: #174EA6;\n",
              "      --disabled-fill-color: #AAA;\n",
              "      --disabled-bg-color: #DDD;\n",
              "  }\n",
              "\n",
              "  [theme=dark] .colab-df-quickchart {\n",
              "      --bg-color: #3B4455;\n",
              "      --fill-color: #D2E3FC;\n",
              "      --hover-bg-color: #434B5C;\n",
              "      --hover-fill-color: #FFFFFF;\n",
              "      --disabled-bg-color: #3B4455;\n",
              "      --disabled-fill-color: #666;\n",
              "  }\n",
              "\n",
              "  .colab-df-quickchart {\n",
              "    background-color: var(--bg-color);\n",
              "    border: none;\n",
              "    border-radius: 50%;\n",
              "    cursor: pointer;\n",
              "    display: none;\n",
              "    fill: var(--fill-color);\n",
              "    height: 32px;\n",
              "    padding: 0;\n",
              "    width: 32px;\n",
              "  }\n",
              "\n",
              "  .colab-df-quickchart:hover {\n",
              "    background-color: var(--hover-bg-color);\n",
              "    box-shadow: 0 1px 2px rgba(60, 64, 67, 0.3), 0 1px 3px 1px rgba(60, 64, 67, 0.15);\n",
              "    fill: var(--button-hover-fill-color);\n",
              "  }\n",
              "\n",
              "  .colab-df-quickchart-complete:disabled,\n",
              "  .colab-df-quickchart-complete:disabled:hover {\n",
              "    background-color: var(--disabled-bg-color);\n",
              "    fill: var(--disabled-fill-color);\n",
              "    box-shadow: none;\n",
              "  }\n",
              "\n",
              "  .colab-df-spinner {\n",
              "    border: 2px solid var(--fill-color);\n",
              "    border-color: transparent;\n",
              "    border-bottom-color: var(--fill-color);\n",
              "    animation:\n",
              "      spin 1s steps(1) infinite;\n",
              "  }\n",
              "\n",
              "  @keyframes spin {\n",
              "    0% {\n",
              "      border-color: transparent;\n",
              "      border-bottom-color: var(--fill-color);\n",
              "      border-left-color: var(--fill-color);\n",
              "    }\n",
              "    20% {\n",
              "      border-color: transparent;\n",
              "      border-left-color: var(--fill-color);\n",
              "      border-top-color: var(--fill-color);\n",
              "    }\n",
              "    30% {\n",
              "      border-color: transparent;\n",
              "      border-left-color: var(--fill-color);\n",
              "      border-top-color: var(--fill-color);\n",
              "      border-right-color: var(--fill-color);\n",
              "    }\n",
              "    40% {\n",
              "      border-color: transparent;\n",
              "      border-right-color: var(--fill-color);\n",
              "      border-top-color: var(--fill-color);\n",
              "    }\n",
              "    60% {\n",
              "      border-color: transparent;\n",
              "      border-right-color: var(--fill-color);\n",
              "    }\n",
              "    80% {\n",
              "      border-color: transparent;\n",
              "      border-right-color: var(--fill-color);\n",
              "      border-bottom-color: var(--fill-color);\n",
              "    }\n",
              "    90% {\n",
              "      border-color: transparent;\n",
              "      border-bottom-color: var(--fill-color);\n",
              "    }\n",
              "  }\n",
              "</style>\n",
              "\n",
              "  <script>\n",
              "    async function quickchart(key) {\n",
              "      const quickchartButtonEl =\n",
              "        document.querySelector('#' + key + ' button');\n",
              "      quickchartButtonEl.disabled = true;  // To prevent multiple clicks.\n",
              "      quickchartButtonEl.classList.add('colab-df-spinner');\n",
              "      try {\n",
              "        const charts = await google.colab.kernel.invokeFunction(\n",
              "            'suggestCharts', [key], {});\n",
              "      } catch (error) {\n",
              "        console.error('Error during call to suggestCharts:', error);\n",
              "      }\n",
              "      quickchartButtonEl.classList.remove('colab-df-spinner');\n",
              "      quickchartButtonEl.classList.add('colab-df-quickchart-complete');\n",
              "    }\n",
              "    (() => {\n",
              "      let quickchartButtonEl =\n",
              "        document.querySelector('#df-4ae4d82c-1760-4d12-95c1-d4a246e98fd1 button');\n",
              "      quickchartButtonEl.style.display =\n",
              "        google.colab.kernel.accessAllowed ? 'block' : 'none';\n",
              "    })();\n",
              "  </script>\n",
              "</div>\n",
              "\n",
              "    </div>\n",
              "  </div>\n"
            ],
            "application/vnd.google.colaboratory.intrinsic+json": {
              "type": "dataframe",
              "summary": "{\n  \"name\": \"df_val\",\n  \"rows\": 5,\n  \"fields\": [\n    {\n      \"column\": \"title\",\n      \"properties\": {\n        \"dtype\": \"string\",\n        \"num_unique_values\": 5,\n        \"samples\": [\n          \"\\u0421\\u0443\\u0434 \\u041b\\u043e\\u043d\\u0434\\u043e\\u043d\\u0430 \\u043e\\u0431\\u044f\\u0437\\u0430\\u043b \\u043d\\u043e\\u0440\\u0432\\u0435\\u0436\\u0441\\u043a\\u0443\\u044e \\u0441\\u0443\\u0434\\u043e\\u0445\\u043e\\u0434\\u043d\\u0443\\u044e \\u043a\\u043e\\u043c\\u043f\\u0430\\u043d\\u0438\\u044e Havila \\u0432\\u044b\\u043f\\u043b\\u0430\\u0442\\u0438\\u0442\\u044c \\u0435\\u0432\\u0440\\u043e\\u043f\\u0435\\u0439\\u0441\\u043a\\u043e\\u0439 \\u0434\\u043e\\u0447\\u043a\\u0435 \\\"\\u0413\\u043e\\u0441\\u0443\\u0434\\u0430\\u0440\\u0441\\u0442\\u0432\\u0435\\u043d\\u043d\\u043e\\u0439 \\u0442\\u0440\\u0430\\u043d\\u0441\\u043f\\u043e\\u0440\\u0442\\u043d\\u043e\\u0439 \\u043b\\u0438\\u0437\\u0438\\u043d\\u0433\\u043e\\u0432\\u043e\\u0439 \\u043a\\u043e\\u043c\\u043f\\u0430\\u043d\\u0438\\u0438\\\" 220 \\u043c\\u0438\\u043b\\u043b\\u0438\\u043e\\u043d\\u043e\\u0432 \\u0435\\u0432\\u0440\\u043e \\u0437\\u0430 \\u0438\\u0437\\u044a\\u044f\\u0442\\u044b\\u0435 \\u043f\\u0430\\u0440\\u043e\\u043c\\u044b. \\u041f\\u043e \\u0437\\u0430\\u043a\\u0430\\u0437\\u0443 GTLK Europe \\u0434\\u043b\\u044f Havila \\u0432 \\u0422\\u0443\\u0440\\u0446\\u0438\\u0438 \\u0441\\u0442\\u0440\\u043e\\u0438\\u043b\\u043e\\u0441\\u044c \\u0447\\u0435\\u0442\\u044b\\u0440\\u0435 \\u043f\\u0430\\u0440\\u043e\\u043c\\u0430 \\u0434\\u043b\\u044f \\u043f\\u0435\\u0440\\u0435\\u0432\\u043e\\u0437\\u043a\\u0438 \\u043f\\u0430\\u0441\\u0441\\u0430\\u0436\\u0438\\u0440\\u043e\\u0432 \\u0438 \\u0430\\u0432\\u0442\\u043e\\u0442\\u0440\\u0430\\u043d\\u0441\\u043f\\u043e\\u0440\\u0442\\u0430 \\u043f\\u043e \\u0444\\u044c\\u043e\\u0440\\u0434\\u0430\\u043c.\",\n          \"\\u041a\\u043e\\u043e\\u0440\\u0434\\u0438\\u043d\\u0430\\u0442\\u043e\\u0440 \\u0441\\u0442\\u0440\\u0430\\u0442\\u0435\\u0433\\u0438\\u0447\\u0435\\u0441\\u043a\\u0438\\u0445 \\u043a\\u043e\\u043c\\u043c\\u0443\\u043d\\u0438\\u043a\\u0430\\u0446\\u0438\\u0439 \\u0432 \\u0421\\u043e\\u0432\\u0435\\u0442\\u0435 \\u043d\\u0430\\u0446\\u0438\\u043e\\u043d\\u0430\\u043b\\u044c\\u043d\\u043e\\u0439 \\u0431\\u0435\\u0437\\u043e\\u043f\\u0430\\u0441\\u043d\\u043e\\u0441\\u0442\\u0438 \\u0421\\u0428\\u0410 \\u0414\\u0436\\u043e\\u043d \\u041a\\u0438\\u0440\\u0431\\u0438 \\u0437\\u0430\\u044f\\u0432\\u0438\\u043b, \\u0447\\u0442\\u043e \\u0421\\u0428\\u0410 \\u043d\\u0435 \\u043f\\u0440\\u043e\\u0442\\u0438\\u0432 \\u0437\\u0430\\u043a\\u0443\\u043f\\u043e\\u043a \\u0418\\u043d\\u0434\\u0438\\u0435\\u0439 \\u043d\\u0435\\u0444\\u0442\\u0438 \\u0432 \\u0420\\u043e\\u0441\\u0441\\u0438\\u0438 \\u0438 \\u043d\\u0430\\u0434\\u0435\\u044e\\u0442\\u0441\\u044f, \\u0447\\u0442\\u043e \\u0442\\u0430 \\u043f\\u0440\\u043e\\u0434\\u043e\\u043b\\u0436\\u0438\\u0442 \\u043f\\u043e\\u043b\\u044c\\u0437\\u043e\\u0432\\u0430\\u0442\\u044c\\u0441\\u044f \\u0432\\u044b\\u0433\\u043e\\u0434\\u0430\\u043c\\u0438 \\u0441\\u043e\\u0433\\u043b\\u0430\\u0441\\u043e\\u0432\\u0430\\u043d\\u043d\\u043e\\u0433\\u043e \\u0417\\u0430\\u043f\\u0430\\u0434\\u043e\\u043c \\\"\\u0446\\u0435\\u043d\\u043e\\u0432\\u043e\\u0433\\u043e \\u043f\\u043e\\u0442\\u043e\\u043b\\u043a\\u0430\\\".\",\n          \"\\u0412 \\u0443\\u0441\\u043b\\u043e\\u0432\\u0438\\u044f\\u0445 \\u0441\\u0430\\u043d\\u043a\\u0446\\u0438\\u043e\\u043d\\u043d\\u043e\\u0433\\u043e \\u0434\\u0430\\u0432\\u043b\\u0435\\u043d\\u0438\\u044f \\u043d\\u0430\\u0431\\u043b\\u044e\\u0434\\u0430\\u0435\\u0442\\u0441\\u044f \\u0440\\u043e\\u0441\\u0442 \\u043f\\u043e\\u043a\\u0430\\u0437\\u0430\\u0442\\u0435\\u043b\\u0435\\u0439 \\u0442\\u043e\\u0440\\u0433\\u043e\\u0432\\u043e\\u0433\\u043e \\u0441\\u043e\\u0442\\u0440\\u0443\\u0434\\u043d\\u0438\\u0447\\u0435\\u0441\\u0442\\u0432\\u0430 \\u0414\\u0430\\u0433\\u0435\\u0441\\u0442\\u0430\\u043d\\u0430 \\u0441\\u043e \\u0441\\u0442\\u0440\\u0430\\u043d\\u0430\\u043c\\u0438 \\u041e\\u0440\\u0433\\u0430\\u043d\\u0438\\u0437\\u0430\\u0446\\u0438\\u0438 \\u0438\\u0441\\u043b\\u0430\\u043c\\u0441\\u043a\\u043e\\u0433\\u043e \\u0441\\u043e\\u0442\\u0440\\u0443\\u0434\\u043d\\u0438\\u0447\\u0435\\u0441\\u0442\\u0432\\u0430 (\\u041e\\u0418\\u0421). \\u0422\\u043e\\u0432\\u0430\\u0440\\u043e\\u043e\\u0431\\u043e\\u0440\\u043e\\u0442 \\u0441 \\u043d\\u0438\\u043c\\u0438 \\u0432\\u044b\\u0440\\u043e\\u0441 \\u043d\\u0430 66%, \\u0432 \\u0442\\u043e\\u043c \\u0447\\u0438\\u0441\\u043b\\u0435 \\u0437\\u0430 \\u0441\\u0447\\u0435\\u0442 \\u0443\\u0432\\u0435\\u043b\\u0438\\u0447\\u0435\\u043d\\u0438\\u044f \\u0432 2,3 \\u0440\\u0430\\u0437\\u0430 \\u044d\\u043a\\u0441\\u043f\\u043e\\u0440\\u0442\\u0430 \\u0438 \\u043d\\u0430 14% \\u2014 \\u0438\\u043c\\u043f\\u043e\\u0440\\u0442\\u0430. \\u041f\\u0440\\u0438 \\u044d\\u0442\\u043e\\u043c 77% \\u0440\\u0435\\u0441\\u043f\\u0443\\u0431\\u043b\\u0438\\u043a\\u0430\\u043d\\u0441\\u043a\\u043e\\u0433\\u043e \\u044d\\u043a\\u0441\\u043f\\u043e\\u0440\\u0442\\u0430 \\u043d\\u0430\\u043f\\u0440\\u0430\\u0432\\u043b\\u044f\\u0435\\u0442\\u0441\\u044f \\u0432 \\u0418\\u0440\\u0430\\u043d, \\u0418\\u0440\\u0430\\u043a, \\u0410\\u0437\\u0435\\u0440\\u0431\\u0430\\u0439\\u0434\\u0436\\u0430\\u043d, \\u0422\\u0443\\u0440\\u0446\\u0438\\u044e, \\u041a\\u0430\\u0437\\u0430\\u0445\\u0441\\u0442\\u0430\\u043d, \\u0423\\u0437\\u0431\\u0435\\u043a\\u0438\\u0441\\u0442\\u0430\\u043d, \\u0410\\u0444\\u0433\\u0430\\u043d\\u0438\\u0441\\u0442\\u0430\\u043d, \\u042d\\u043c\\u0438\\u0440\\u0430\\u0442\\u044b, \\u041b\\u0438\\u0432\\u0430\\u043d, \\u0418\\u043e\\u0440\\u0434\\u0430\\u043d\\u0438\\u044e. \\u0412 \\u0446\\u0435\\u043b\\u043e\\u043c \\u0440\\u0435\\u0441\\u043f\\u0443\\u0431\\u043b\\u0438\\u043a\\u0430 \\u0432 2022 \\u0433\\u043e\\u0434\\u0443 \\u043e\\u0441\\u0443\\u0449\\u0435\\u0441\\u0442\\u0432\\u043b\\u044f\\u043b\\u0430 \\u0442\\u043e\\u0440\\u0433\\u043e\\u0432\\u044b\\u0435 \\u0441\\u0432\\u044f\\u0437\\u0438 \\u0441 \\u0431\\u043e\\u043b\\u0435\\u0435 \\u0447\\u0435\\u043c 70 \\u0441\\u0442\\u0440\\u0430\\u043d\\u0430\\u043c\\u0438. \\u041e\\u0441\\u043d\\u043e\\u0432\\u043d\\u044b\\u043c\\u0438 \\u0442\\u043e\\u0440\\u0433\\u043e\\u0432\\u044b\\u043c\\u0438 \\u043f\\u0430\\u0440\\u0442\\u043d\\u0435\\u0440\\u0430\\u043c\\u0438 \\u0414\\u0430\\u0433\\u0435\\u0441\\u0442\\u0430\\u043d\\u0430 \\u043e\\u0441\\u0442\\u0430\\u044e\\u0442\\u0441\\u044f \\u0418\\u0440\\u0430\\u043d, \\u0410\\u0437\\u0435\\u0440\\u0431\\u0430\\u0439\\u0434\\u0436\\u0430\\u043d, \\u0411\\u0435\\u043b\\u043e\\u0440\\u0443\\u0441\\u0441\\u0438\\u044f, \\u041a\\u0430\\u0437\\u0430\\u0445\\u0441\\u0442\\u0430\\u043d, \\u0423\\u0437\\u0431\\u0435\\u043a\\u0438\\u0441\\u0442\\u0430\\u043d, \\u0430 \\u0442\\u0430\\u043a\\u0436\\u0435 \\u0441\\u0442\\u0440\\u0430\\u043d\\u044b \\u0434\\u0430\\u043b\\u044c\\u043d\\u0435\\u0433\\u043e \\u0437\\u0430\\u0440\\u0443\\u0431\\u0435\\u0436\\u044c\\u044f \\u2014 \\u0422\\u0443\\u0440\\u0446\\u0438\\u044f, \\u0418\\u0440\\u0430\\u043a, \\u041a\\u0438\\u0442\\u0430\\u0439.\"\n        ],\n        \"semantic_type\": \"\",\n        \"description\": \"\"\n      }\n    },\n    {\n      \"column\": \"sentiment\",\n      \"properties\": {\n        \"dtype\": \"category\",\n        \"num_unique_values\": 3,\n        \"samples\": [\n          \"negative\",\n          \"positive\",\n          \"neutral\"\n        ],\n        \"semantic_type\": \"\",\n        \"description\": \"\"\n      }\n    },\n    {\n      \"column\": \"sentiment_id\",\n      \"properties\": {\n        \"dtype\": \"int8\",\n        \"num_unique_values\": 3,\n        \"samples\": [\n          0,\n          2,\n          1\n        ],\n        \"semantic_type\": \"\",\n        \"description\": \"\"\n      }\n    }\n  ]\n}"
            }
          },
          "metadata": {},
          "execution_count": 50
        },
        {
          "output_type": "stream",
          "name": "stdout",
          "text": [
            "time: 17.3 ms (started: 2024-06-21 13:44:18 +00:00)\n"
          ]
        }
      ]
    },
    {
      "cell_type": "markdown",
      "metadata": {
        "id": "FZAJct7ZmKzo"
      },
      "source": [
        "## Build a Dictionary for id to text sentiments:"
      ]
    },
    {
      "cell_type": "code",
      "execution_count": null,
      "metadata": {
        "colab": {
          "base_uri": "https://localhost:8080/"
        },
        "id": "a_aImG2odN4m",
        "outputId": "09e943f4-0d6d-49c4-e96d-9df9bbd6c023"
      },
      "outputs": [
        {
          "output_type": "execute_result",
          "data": {
            "text/plain": [
              "{0: 'negative', 2: 'positive', 1: 'neutral'}"
            ]
          },
          "metadata": {},
          "execution_count": 51
        },
        {
          "output_type": "stream",
          "name": "stdout",
          "text": [
            "time: 15.5 ms (started: 2024-06-21 13:44:19 +00:00)\n"
          ]
        }
      ],
      "source": [
        "id_to_sentiment = pd.Series(data.sentiment.values,index=data.sentiment_id).to_dict()\n",
        "id_to_sentiment"
      ]
    },
    {
      "cell_type": "markdown",
      "metadata": {
        "id": "biZu_Tv8mYnf"
      },
      "source": [
        "## Build another Dictionary for sentiments to text:"
      ]
    },
    {
      "cell_type": "code",
      "execution_count": null,
      "metadata": {
        "colab": {
          "base_uri": "https://localhost:8080/"
        },
        "id": "_Sqjaeasdgy7",
        "outputId": "f3c2aee5-b1f6-407e-e784-6f62f005a735"
      },
      "outputs": [
        {
          "output_type": "execute_result",
          "data": {
            "text/plain": [
              "{'negative': 0, 'positive': 2, 'neutral': 1}"
            ]
          },
          "metadata": {},
          "execution_count": 52
        },
        {
          "output_type": "stream",
          "name": "stdout",
          "text": [
            "time: 5.63 ms (started: 2024-06-21 13:44:19 +00:00)\n"
          ]
        }
      ],
      "source": [
        "sentiment_to_id = {v:k for k,v in id_to_sentiment.items()}\n",
        "sentiment_to_id"
      ]
    },
    {
      "cell_type": "markdown",
      "metadata": {
        "id": "P-NKEQdJmgQj"
      },
      "source": [
        "### Check the conversions:"
      ]
    },
    {
      "cell_type": "code",
      "execution_count": null,
      "metadata": {
        "colab": {
          "base_uri": "https://localhost:8080/"
        },
        "id": "vKQWFiii4hLo",
        "outputId": "d3618072-8374-40e3-d32f-f45e36fbc459"
      },
      "outputs": [
        {
          "output_type": "stream",
          "name": "stdout",
          "text": [
            "[Errno 2] No such file or directory: '__seminary_practice'\n",
            "/content/drive/MyDrive/Colab_Notebooks/nlp_with_python/__seminary_practice\n",
            " 00_eda.ipynb\t\t\t\t      SentiWordNet_3.0.0.txt\n",
            " augmented_full_sentiment_16_x_english.xlsx   stop_words_english.txt\n",
            " augmented_full_sentiment_16_x.xlsx\t      stopwords-ru.txt\n",
            "'How to solve the task.gdoc'\t\t      sums_lang_for_news.xlsx\n",
            " id_to_sentiment.pkl\t\t\t      text_classifiaction_using_lora.ipynb\n",
            " logs\t\t\t\t\t      text-classification-using-lora.ipynb\n",
            " lora_bert_model\t\t\t     'text-classification-using-lora_latest (1).ipynb'\n",
            " lora_models\t\t\t\t      text-classification-using-lora_latest.ipynb\n",
            " model.png\t\t\t\t     'Text Classification with Deep Learning Models.ipynb'\n",
            " models\t\t\t\t\t      texts_for_news.xlsx\n",
            " MultiClassTextClassification_Conv1D\t      upgraded_lora.ipynb\n",
            " MultiClassTextClassification_FFN\t      vectorize_layer_model\n",
            " optimized_lora_distilbert_model_quantized   'Позитивные-негативные англ (1).docx'\n",
            " Otchet\t\t\t\t\t      санкции_full_20240416.xlsx\n",
            " results\t\t\t\t      страны_партнеры_с_тональностью_общий_271123.xlsx\n",
            " Sentiment_analyse.ipynb\t\t     'Тональность_Санкции (1).docx'\n",
            " sentiment_full.xlsx\n",
            "time: 108 ms (started: 2024-06-21 13:44:20 +00:00)\n"
          ]
        }
      ],
      "source": [
        "%cd \"__seminary_practice\"\n",
        "!ls"
      ]
    },
    {
      "cell_type": "code",
      "execution_count": null,
      "metadata": {
        "colab": {
          "base_uri": "https://localhost:8080/"
        },
        "id": "gmpN3u_wR0n_",
        "outputId": "a0d56d3c-f86c-463d-e471-2a8b5240cf83"
      },
      "outputs": [
        {
          "output_type": "stream",
          "name": "stdout",
          "text": [
            "time: 314 ms (started: 2024-06-21 13:44:20 +00:00)\n"
          ]
        }
      ],
      "source": [
        "import pickle\n",
        "with open('id_to_sentiment.pkl', 'wb') as fp:\n",
        "    pickle.dump(id_to_sentiment, fp)"
      ]
    },
    {
      "cell_type": "code",
      "execution_count": null,
      "metadata": {
        "colab": {
          "base_uri": "https://localhost:8080/"
        },
        "id": "ysWDQwSOTDC2",
        "outputId": "8015913e-1cce-4d53-f1c6-485fed8589c0"
      },
      "outputs": [
        {
          "output_type": "stream",
          "name": "stdout",
          "text": [
            "time: 13.9 ms (started: 2024-06-21 13:44:20 +00:00)\n"
          ]
        }
      ],
      "source": [
        "with open('id_to_sentiment.pkl', 'rb') as fp:\n",
        "    id_to_sentiment_loaded = pickle.load(fp)"
      ]
    },
    {
      "cell_type": "code",
      "execution_count": null,
      "metadata": {
        "colab": {
          "base_uri": "https://localhost:8080/"
        },
        "id": "ZirtZa_-4Ehh",
        "outputId": "dde615de-3486-4916-c2a4-8ca1e9e32f61"
      },
      "outputs": [
        {
          "output_type": "execute_result",
          "data": {
            "text/plain": [
              "{0: 'negative', 2: 'positive', 1: 'neutral'}"
            ]
          },
          "metadata": {},
          "execution_count": 56
        },
        {
          "output_type": "stream",
          "name": "stdout",
          "text": [
            "time: 3.7 ms (started: 2024-06-21 13:44:20 +00:00)\n"
          ]
        }
      ],
      "source": [
        "id_to_sentiment_loaded"
      ]
    },
    {
      "cell_type": "code",
      "execution_count": null,
      "metadata": {
        "colab": {
          "base_uri": "https://localhost:8080/"
        },
        "id": "Yg4850NH-Ncz",
        "outputId": "23ba9aa5-e505-4d49-cf43-c27bacdcf9e7"
      },
      "outputs": [
        {
          "output_type": "stream",
          "name": "stdout",
          "text": [
            "number of sentiments: 3\n",
            "time: 718 µs (started: 2024-06-21 13:44:20 +00:00)\n"
          ]
        }
      ],
      "source": [
        "number_of_sentiment = len(sentiment_to_id)\n",
        "print(f\"number of sentiments: {number_of_sentiment}\")"
      ]
    },
    {
      "cell_type": "markdown",
      "metadata": {
        "id": "Rt9KpOpKnMk7"
      },
      "source": [
        "## Split the Raw Dataset into Train, Validation, and Test Datasets\n"
      ]
    },
    {
      "cell_type": "markdown",
      "metadata": {
        "id": "2wn4SE2gWsKa"
      },
      "source": [
        "### Split Train & Test Datasets"
      ]
    },
    {
      "cell_type": "code",
      "source": [
        "data"
      ],
      "metadata": {
        "colab": {
          "base_uri": "https://localhost:8080/",
          "height": 441
        },
        "id": "TcknPREFxKWH",
        "outputId": "8a3af56b-09d1-4f87-e918-f3929e4bd7d8"
      },
      "execution_count": null,
      "outputs": [
        {
          "output_type": "execute_result",
          "data": {
            "text/plain": [
              "                                                   text sentiment  words  \\\n",
              "0     США в очередной раз ужесточили правила экспорт...  negative    136   \n",
              "1     Санкции, введенные против России, такие как ис...  negative     92   \n",
              "2     Посол Бразилии в Организации Объединенных Наци...  negative     82   \n",
              "3     Беспрецедентные санкции против российских банк...  negative     81   \n",
              "4     Государственная энергетическая компания Индоне...  positive     41   \n",
              "...                                                 ...       ...    ...   \n",
              "6930  Польша запустила запрет Европейского Союза на ...   neutral     31   \n",
              "6931  В 2022 году Китай тщательно контролировал санк...  negative     33   \n",
              "6932  Немецкий производитель нефти и газа Wintershal...   neutral     27   \n",
              "6933  Российский энергетический гигант Роснефт объяв...  positive     32   \n",
              "6934  Индия отказывается от долларов на торговлю неф...  positive     13   \n",
              "\n",
              "      sentiment_id  \n",
              "0                0  \n",
              "1                0  \n",
              "2                0  \n",
              "3                0  \n",
              "4                2  \n",
              "...            ...  \n",
              "6930             1  \n",
              "6931             0  \n",
              "6932             1  \n",
              "6933             2  \n",
              "6934             2  \n",
              "\n",
              "[6848 rows x 4 columns]"
            ],
            "text/html": [
              "\n",
              "  <div id=\"df-216ba21e-c1de-4ea3-a8f8-baefe124e3a9\" class=\"colab-df-container\">\n",
              "    <div>\n",
              "<style scoped>\n",
              "    .dataframe tbody tr th:only-of-type {\n",
              "        vertical-align: middle;\n",
              "    }\n",
              "\n",
              "    .dataframe tbody tr th {\n",
              "        vertical-align: top;\n",
              "    }\n",
              "\n",
              "    .dataframe thead th {\n",
              "        text-align: right;\n",
              "    }\n",
              "</style>\n",
              "<table border=\"1\" class=\"dataframe\">\n",
              "  <thead>\n",
              "    <tr style=\"text-align: right;\">\n",
              "      <th></th>\n",
              "      <th>text</th>\n",
              "      <th>sentiment</th>\n",
              "      <th>words</th>\n",
              "      <th>sentiment_id</th>\n",
              "    </tr>\n",
              "  </thead>\n",
              "  <tbody>\n",
              "    <tr>\n",
              "      <th>0</th>\n",
              "      <td>США в очередной раз ужесточили правила экспорт...</td>\n",
              "      <td>negative</td>\n",
              "      <td>136</td>\n",
              "      <td>0</td>\n",
              "    </tr>\n",
              "    <tr>\n",
              "      <th>1</th>\n",
              "      <td>Санкции, введенные против России, такие как ис...</td>\n",
              "      <td>negative</td>\n",
              "      <td>92</td>\n",
              "      <td>0</td>\n",
              "    </tr>\n",
              "    <tr>\n",
              "      <th>2</th>\n",
              "      <td>Посол Бразилии в Организации Объединенных Наци...</td>\n",
              "      <td>negative</td>\n",
              "      <td>82</td>\n",
              "      <td>0</td>\n",
              "    </tr>\n",
              "    <tr>\n",
              "      <th>3</th>\n",
              "      <td>Беспрецедентные санкции против российских банк...</td>\n",
              "      <td>negative</td>\n",
              "      <td>81</td>\n",
              "      <td>0</td>\n",
              "    </tr>\n",
              "    <tr>\n",
              "      <th>4</th>\n",
              "      <td>Государственная энергетическая компания Индоне...</td>\n",
              "      <td>positive</td>\n",
              "      <td>41</td>\n",
              "      <td>2</td>\n",
              "    </tr>\n",
              "    <tr>\n",
              "      <th>...</th>\n",
              "      <td>...</td>\n",
              "      <td>...</td>\n",
              "      <td>...</td>\n",
              "      <td>...</td>\n",
              "    </tr>\n",
              "    <tr>\n",
              "      <th>6930</th>\n",
              "      <td>Польша запустила запрет Европейского Союза на ...</td>\n",
              "      <td>neutral</td>\n",
              "      <td>31</td>\n",
              "      <td>1</td>\n",
              "    </tr>\n",
              "    <tr>\n",
              "      <th>6931</th>\n",
              "      <td>В 2022 году Китай тщательно контролировал санк...</td>\n",
              "      <td>negative</td>\n",
              "      <td>33</td>\n",
              "      <td>0</td>\n",
              "    </tr>\n",
              "    <tr>\n",
              "      <th>6932</th>\n",
              "      <td>Немецкий производитель нефти и газа Wintershal...</td>\n",
              "      <td>neutral</td>\n",
              "      <td>27</td>\n",
              "      <td>1</td>\n",
              "    </tr>\n",
              "    <tr>\n",
              "      <th>6933</th>\n",
              "      <td>Российский энергетический гигант Роснефт объяв...</td>\n",
              "      <td>positive</td>\n",
              "      <td>32</td>\n",
              "      <td>2</td>\n",
              "    </tr>\n",
              "    <tr>\n",
              "      <th>6934</th>\n",
              "      <td>Индия отказывается от долларов на торговлю неф...</td>\n",
              "      <td>positive</td>\n",
              "      <td>13</td>\n",
              "      <td>2</td>\n",
              "    </tr>\n",
              "  </tbody>\n",
              "</table>\n",
              "<p>6848 rows × 4 columns</p>\n",
              "</div>\n",
              "    <div class=\"colab-df-buttons\">\n",
              "\n",
              "  <div class=\"colab-df-container\">\n",
              "    <button class=\"colab-df-convert\" onclick=\"convertToInteractive('df-216ba21e-c1de-4ea3-a8f8-baefe124e3a9')\"\n",
              "            title=\"Convert this dataframe to an interactive table.\"\n",
              "            style=\"display:none;\">\n",
              "\n",
              "  <svg xmlns=\"http://www.w3.org/2000/svg\" height=\"24px\" viewBox=\"0 -960 960 960\">\n",
              "    <path d=\"M120-120v-720h720v720H120Zm60-500h600v-160H180v160Zm220 220h160v-160H400v160Zm0 220h160v-160H400v160ZM180-400h160v-160H180v160Zm440 0h160v-160H620v160ZM180-180h160v-160H180v160Zm440 0h160v-160H620v160Z\"/>\n",
              "  </svg>\n",
              "    </button>\n",
              "\n",
              "  <style>\n",
              "    .colab-df-container {\n",
              "      display:flex;\n",
              "      gap: 12px;\n",
              "    }\n",
              "\n",
              "    .colab-df-convert {\n",
              "      background-color: #E8F0FE;\n",
              "      border: none;\n",
              "      border-radius: 50%;\n",
              "      cursor: pointer;\n",
              "      display: none;\n",
              "      fill: #1967D2;\n",
              "      height: 32px;\n",
              "      padding: 0 0 0 0;\n",
              "      width: 32px;\n",
              "    }\n",
              "\n",
              "    .colab-df-convert:hover {\n",
              "      background-color: #E2EBFA;\n",
              "      box-shadow: 0px 1px 2px rgba(60, 64, 67, 0.3), 0px 1px 3px 1px rgba(60, 64, 67, 0.15);\n",
              "      fill: #174EA6;\n",
              "    }\n",
              "\n",
              "    .colab-df-buttons div {\n",
              "      margin-bottom: 4px;\n",
              "    }\n",
              "\n",
              "    [theme=dark] .colab-df-convert {\n",
              "      background-color: #3B4455;\n",
              "      fill: #D2E3FC;\n",
              "    }\n",
              "\n",
              "    [theme=dark] .colab-df-convert:hover {\n",
              "      background-color: #434B5C;\n",
              "      box-shadow: 0px 1px 3px 1px rgba(0, 0, 0, 0.15);\n",
              "      filter: drop-shadow(0px 1px 2px rgba(0, 0, 0, 0.3));\n",
              "      fill: #FFFFFF;\n",
              "    }\n",
              "  </style>\n",
              "\n",
              "    <script>\n",
              "      const buttonEl =\n",
              "        document.querySelector('#df-216ba21e-c1de-4ea3-a8f8-baefe124e3a9 button.colab-df-convert');\n",
              "      buttonEl.style.display =\n",
              "        google.colab.kernel.accessAllowed ? 'block' : 'none';\n",
              "\n",
              "      async function convertToInteractive(key) {\n",
              "        const element = document.querySelector('#df-216ba21e-c1de-4ea3-a8f8-baefe124e3a9');\n",
              "        const dataTable =\n",
              "          await google.colab.kernel.invokeFunction('convertToInteractive',\n",
              "                                                    [key], {});\n",
              "        if (!dataTable) return;\n",
              "\n",
              "        const docLinkHtml = 'Like what you see? Visit the ' +\n",
              "          '<a target=\"_blank\" href=https://colab.research.google.com/notebooks/data_table.ipynb>data table notebook</a>'\n",
              "          + ' to learn more about interactive tables.';\n",
              "        element.innerHTML = '';\n",
              "        dataTable['output_type'] = 'display_data';\n",
              "        await google.colab.output.renderOutput(dataTable, element);\n",
              "        const docLink = document.createElement('div');\n",
              "        docLink.innerHTML = docLinkHtml;\n",
              "        element.appendChild(docLink);\n",
              "      }\n",
              "    </script>\n",
              "  </div>\n",
              "\n",
              "\n",
              "<div id=\"df-84fbdae0-a301-4f65-874b-22ea186d67a6\">\n",
              "  <button class=\"colab-df-quickchart\" onclick=\"quickchart('df-84fbdae0-a301-4f65-874b-22ea186d67a6')\"\n",
              "            title=\"Suggest charts\"\n",
              "            style=\"display:none;\">\n",
              "\n",
              "<svg xmlns=\"http://www.w3.org/2000/svg\" height=\"24px\"viewBox=\"0 0 24 24\"\n",
              "     width=\"24px\">\n",
              "    <g>\n",
              "        <path d=\"M19 3H5c-1.1 0-2 .9-2 2v14c0 1.1.9 2 2 2h14c1.1 0 2-.9 2-2V5c0-1.1-.9-2-2-2zM9 17H7v-7h2v7zm4 0h-2V7h2v10zm4 0h-2v-4h2v4z\"/>\n",
              "    </g>\n",
              "</svg>\n",
              "  </button>\n",
              "\n",
              "<style>\n",
              "  .colab-df-quickchart {\n",
              "      --bg-color: #E8F0FE;\n",
              "      --fill-color: #1967D2;\n",
              "      --hover-bg-color: #E2EBFA;\n",
              "      --hover-fill-color: #174EA6;\n",
              "      --disabled-fill-color: #AAA;\n",
              "      --disabled-bg-color: #DDD;\n",
              "  }\n",
              "\n",
              "  [theme=dark] .colab-df-quickchart {\n",
              "      --bg-color: #3B4455;\n",
              "      --fill-color: #D2E3FC;\n",
              "      --hover-bg-color: #434B5C;\n",
              "      --hover-fill-color: #FFFFFF;\n",
              "      --disabled-bg-color: #3B4455;\n",
              "      --disabled-fill-color: #666;\n",
              "  }\n",
              "\n",
              "  .colab-df-quickchart {\n",
              "    background-color: var(--bg-color);\n",
              "    border: none;\n",
              "    border-radius: 50%;\n",
              "    cursor: pointer;\n",
              "    display: none;\n",
              "    fill: var(--fill-color);\n",
              "    height: 32px;\n",
              "    padding: 0;\n",
              "    width: 32px;\n",
              "  }\n",
              "\n",
              "  .colab-df-quickchart:hover {\n",
              "    background-color: var(--hover-bg-color);\n",
              "    box-shadow: 0 1px 2px rgba(60, 64, 67, 0.3), 0 1px 3px 1px rgba(60, 64, 67, 0.15);\n",
              "    fill: var(--button-hover-fill-color);\n",
              "  }\n",
              "\n",
              "  .colab-df-quickchart-complete:disabled,\n",
              "  .colab-df-quickchart-complete:disabled:hover {\n",
              "    background-color: var(--disabled-bg-color);\n",
              "    fill: var(--disabled-fill-color);\n",
              "    box-shadow: none;\n",
              "  }\n",
              "\n",
              "  .colab-df-spinner {\n",
              "    border: 2px solid var(--fill-color);\n",
              "    border-color: transparent;\n",
              "    border-bottom-color: var(--fill-color);\n",
              "    animation:\n",
              "      spin 1s steps(1) infinite;\n",
              "  }\n",
              "\n",
              "  @keyframes spin {\n",
              "    0% {\n",
              "      border-color: transparent;\n",
              "      border-bottom-color: var(--fill-color);\n",
              "      border-left-color: var(--fill-color);\n",
              "    }\n",
              "    20% {\n",
              "      border-color: transparent;\n",
              "      border-left-color: var(--fill-color);\n",
              "      border-top-color: var(--fill-color);\n",
              "    }\n",
              "    30% {\n",
              "      border-color: transparent;\n",
              "      border-left-color: var(--fill-color);\n",
              "      border-top-color: var(--fill-color);\n",
              "      border-right-color: var(--fill-color);\n",
              "    }\n",
              "    40% {\n",
              "      border-color: transparent;\n",
              "      border-right-color: var(--fill-color);\n",
              "      border-top-color: var(--fill-color);\n",
              "    }\n",
              "    60% {\n",
              "      border-color: transparent;\n",
              "      border-right-color: var(--fill-color);\n",
              "    }\n",
              "    80% {\n",
              "      border-color: transparent;\n",
              "      border-right-color: var(--fill-color);\n",
              "      border-bottom-color: var(--fill-color);\n",
              "    }\n",
              "    90% {\n",
              "      border-color: transparent;\n",
              "      border-bottom-color: var(--fill-color);\n",
              "    }\n",
              "  }\n",
              "</style>\n",
              "\n",
              "  <script>\n",
              "    async function quickchart(key) {\n",
              "      const quickchartButtonEl =\n",
              "        document.querySelector('#' + key + ' button');\n",
              "      quickchartButtonEl.disabled = true;  // To prevent multiple clicks.\n",
              "      quickchartButtonEl.classList.add('colab-df-spinner');\n",
              "      try {\n",
              "        const charts = await google.colab.kernel.invokeFunction(\n",
              "            'suggestCharts', [key], {});\n",
              "      } catch (error) {\n",
              "        console.error('Error during call to suggestCharts:', error);\n",
              "      }\n",
              "      quickchartButtonEl.classList.remove('colab-df-spinner');\n",
              "      quickchartButtonEl.classList.add('colab-df-quickchart-complete');\n",
              "    }\n",
              "    (() => {\n",
              "      let quickchartButtonEl =\n",
              "        document.querySelector('#df-84fbdae0-a301-4f65-874b-22ea186d67a6 button');\n",
              "      quickchartButtonEl.style.display =\n",
              "        google.colab.kernel.accessAllowed ? 'block' : 'none';\n",
              "    })();\n",
              "  </script>\n",
              "</div>\n",
              "\n",
              "  <div id=\"id_79bbe375-89bf-4bc8-8702-be8104a37945\">\n",
              "    <style>\n",
              "      .colab-df-generate {\n",
              "        background-color: #E8F0FE;\n",
              "        border: none;\n",
              "        border-radius: 50%;\n",
              "        cursor: pointer;\n",
              "        display: none;\n",
              "        fill: #1967D2;\n",
              "        height: 32px;\n",
              "        padding: 0 0 0 0;\n",
              "        width: 32px;\n",
              "      }\n",
              "\n",
              "      .colab-df-generate:hover {\n",
              "        background-color: #E2EBFA;\n",
              "        box-shadow: 0px 1px 2px rgba(60, 64, 67, 0.3), 0px 1px 3px 1px rgba(60, 64, 67, 0.15);\n",
              "        fill: #174EA6;\n",
              "      }\n",
              "\n",
              "      [theme=dark] .colab-df-generate {\n",
              "        background-color: #3B4455;\n",
              "        fill: #D2E3FC;\n",
              "      }\n",
              "\n",
              "      [theme=dark] .colab-df-generate:hover {\n",
              "        background-color: #434B5C;\n",
              "        box-shadow: 0px 1px 3px 1px rgba(0, 0, 0, 0.15);\n",
              "        filter: drop-shadow(0px 1px 2px rgba(0, 0, 0, 0.3));\n",
              "        fill: #FFFFFF;\n",
              "      }\n",
              "    </style>\n",
              "    <button class=\"colab-df-generate\" onclick=\"generateWithVariable('data')\"\n",
              "            title=\"Generate code using this dataframe.\"\n",
              "            style=\"display:none;\">\n",
              "\n",
              "  <svg xmlns=\"http://www.w3.org/2000/svg\" height=\"24px\"viewBox=\"0 0 24 24\"\n",
              "       width=\"24px\">\n",
              "    <path d=\"M7,19H8.4L18.45,9,17,7.55,7,17.6ZM5,21V16.75L18.45,3.32a2,2,0,0,1,2.83,0l1.4,1.43a1.91,1.91,0,0,1,.58,1.4,1.91,1.91,0,0,1-.58,1.4L9.25,21ZM18.45,9,17,7.55Zm-12,3A5.31,5.31,0,0,0,4.9,8.1,5.31,5.31,0,0,0,1,6.5,5.31,5.31,0,0,0,4.9,4.9,5.31,5.31,0,0,0,6.5,1,5.31,5.31,0,0,0,8.1,4.9,5.31,5.31,0,0,0,12,6.5,5.46,5.46,0,0,0,6.5,12Z\"/>\n",
              "  </svg>\n",
              "    </button>\n",
              "    <script>\n",
              "      (() => {\n",
              "      const buttonEl =\n",
              "        document.querySelector('#id_79bbe375-89bf-4bc8-8702-be8104a37945 button.colab-df-generate');\n",
              "      buttonEl.style.display =\n",
              "        google.colab.kernel.accessAllowed ? 'block' : 'none';\n",
              "\n",
              "      buttonEl.onclick = () => {\n",
              "        google.colab.notebook.generateWithVariable('data');\n",
              "      }\n",
              "      })();\n",
              "    </script>\n",
              "  </div>\n",
              "\n",
              "    </div>\n",
              "  </div>\n"
            ],
            "application/vnd.google.colaboratory.intrinsic+json": {
              "type": "dataframe",
              "variable_name": "data",
              "summary": "{\n  \"name\": \"data\",\n  \"rows\": 6848,\n  \"fields\": [\n    {\n      \"column\": \"text\",\n      \"properties\": {\n        \"dtype\": \"string\",\n        \"num_unique_values\": 6848,\n        \"samples\": [\n          \"\\u041f\\u0440\\u0435\\u0434\\u0441\\u0435\\u0434\\u0430\\u0442\\u0435\\u043b\\u044c \\u043f\\u0440\\u043e\\u0444\\u0441\\u043e\\u044e\\u0437\\u0430 \\u043a\\u0438\\u0442\\u0430\\u0439\\u0441\\u043a\\u0438\\u0445 \\u043f\\u0440\\u0435\\u0434\\u043f\\u0440\\u0438\\u043d\\u0438\\u043c\\u0430\\u0442\\u0435\\u043b\\u0435\\u0439 \\u0432 \\u0420\\u043e\\u0441\\u0441\\u0438\\u0438 \\u0427\\u0436\\u043e\\u0443 \\u041b\\u0438\\u0433\\u0443\\u043d \\u0441\\u043a\\u0430\\u0437\\u0430\\u043b, \\u0447\\u0442\\u043e \\u043f\\u043e\\u043a\\u0438\\u043d\\u0443\\u0442\\u044c \\u0440\\u043e\\u0441\\u0441\\u0438\\u0439\\u0441\\u043a\\u0438\\u0439 \\u0440\\u044b\\u043d\\u043e\\u043a \\u0437\\u0430\\u043f\\u0430\\u0434\\u043d\\u044b\\u0445 \\u043a\\u043e\\u043c\\u043f\\u0430\\u043d\\u0438\\u0439 \\u0440\\u0430\\u0441\\u0448\\u0438\\u0440\\u044f\\u0435\\u0442 \\u0432\\u043e\\u0437\\u043c\\u043e\\u0436\\u043d\\u043e\\u0441\\u0442\\u0438 \\u0441\\u043e\\u0442\\u0440\\u0443\\u0434\\u043d\\u0438\\u0447\\u0435\\u0441\\u0442\\u0432\\u0430 \\u0438 \\u0443\\u043a\\u0440\\u0435\\u043f\\u043b\\u044f\\u0435\\u0442 \\u043f\\u0430\\u0440\\u0442\\u043d\\u0435\\u0440\\u0441\\u0442\\u0432\\u043e \\u0420\\u043e\\u0441\\u0441\\u0438\\u0438 \\u0438 \\u041a\\u0438\\u0442\\u0430\\u044f, \\u0447\\u0442\\u043e \\u043c\\u043e\\u0436\\u0435\\u0442 \\u0440\\u0430\\u0441\\u0441\\u043c\\u0430\\u0442\\u0440\\u0438\\u0432\\u0430\\u0442\\u044c\\u0441\\u044f \\u043f\\u043e \\u0443\\u0432\\u0435\\u043b\\u0438\\u0447\\u0435\\u043d\\u0438\\u044e \\u0442\\u043e\\u0440\\u0433\\u043e\\u0432\\u043b\\u0438 \\u043c\\u0435\\u0436\\u0434\\u0443 \\u0434\\u0432\\u0443\\u043c\\u044f \\u0441\\u0442\\u0440\\u0430\\u043d\\u0430\\u043c\\u0438 \\u041f\\u0435\\u0440\\u0432\\u044b\\u0435 \\u0432\\u043e\\u0441\\u044c\\u043c\\u0438 \\u043c\\u0435\\u0441\\u044f\\u0446\\u0435\\u0432 2023 \\u0433\\u043e\\u0434\\u0430 \\u043e\\u0431\\u044a\\u0435\\u043c \\u0442\\u043e\\u0440\\u0433\\u043e\\u0432\\u043b\\u0438 \\u0441\\u043e\\u0441\\u0442\\u0430\\u0432\\u0438\\u043b 155,1 \\u043c\\u043b\\u0440\\u0434. \\u0414\\u043e\\u043b\\u043b. \\u0421\\u0428\\u0410, \\u0447\\u0442\\u043e \\u043d\\u0430 32% \\u0431\\u043e\\u043b\\u044c\\u0448\\u0435, \\u0447\\u0435\\u043c \\u0433\\u043e\\u0434 \\u043d\\u0430\\u0437\\u0430\\u0434, \\u041b\\u0438\\u043d\\u0447\\u0438\\u043d \\u0443\\u043f\\u043e\\u043c\\u044f\\u043d\\u0443\\u043b \\u0441\\u0438\\u043b\\u044c\\u043d\\u044b\\u0439 \\u0440\\u043e\\u0441\\u0442 \\u044d\\u043a\\u0441\\u043f\\u043e\\u0440\\u0442\\u0430 \\u0438\\u0437 \\u041a\\u0438\\u0442\\u0430\\u044f \\u0432 \\u0420\\u043e\\u0441\\u0441\\u0438\\u044e \\u0430\\u0432\\u0442\\u043e\\u043c\\u043e\\u0431\\u0438\\u043b\\u0435\\u0439 \\u0438 \\u0437\\u0430\\u043f\\u0430\\u0441\\u043d\\u044b\\u0445 \\u0447\\u0430\\u0441\\u0442\\u0435\\u0439. \\u042d\\u043a\\u0441\\u043f\\u043e\\u0440\\u0442 \\u0441\\u0435\\u043b\\u044c\\u0441\\u043a\\u043e\\u0445\\u043e\\u0437\\u044f\\u0439\\u0441\\u0442\\u0432\\u0435\\u043d\\u043d\\u044b\\u0445 \\u043f\\u0440\\u043e\\u0434\\u0443\\u043a\\u0442\\u043e\\u0432 - \\u0437\\u0435\\u0440\\u043d\\u043e, \\u043a\\u0443\\u043a\\u0443\\u0440\\u0443\\u0437\\u0430 \\u0438 \\u043f\\u0448\\u0435\\u043d\\u0438\\u0446\\u0430 \\u0440\\u0430\\u0441\\u0442\\u0435\\u0442.\",\n          \"\\u0422\\u044e\\u0440\\u043a\\u0438\\u0435 \\u043d\\u0435 \\u0431\\u0443\\u0434\\u0435\\u0442 \\u0441\\u0432\\u044f\\u0437\\u0430\\u043d \\u0441 \\u0441\\u0430\\u043d\\u043a\\u0446\\u0438\\u044f\\u043c\\u0438 \\u043f\\u0440\\u043e\\u0442\\u0438\\u0432 \\u0420\\u043e\\u0441\\u0441\\u0438\\u0438 \\u0432 \\u043e\\u0431\\u043b\\u0430\\u0441\\u0442\\u0438 \\u044d\\u043d\\u0435\\u0440\\u0433\\u0438\\u0438.\",\n          \"\\u042d\\u043a\\u0441\\u043f\\u043e\\u0440\\u0442 \\u0412\\u044c\\u0435\\u0442\\u043d\\u0430\\u043c\\u0430 \\u0432 \\u0420\\u043e\\u0441\\u0441\\u0438\\u044e \\u0432 \\u0442\\u0435\\u0447\\u0435\\u043d\\u0438\\u0435 \\u043f\\u0435\\u0440\\u0432\\u044b\\u0445 \\u0434\\u0432\\u0443\\u0445 \\u043c\\u0435\\u0441\\u044f\\u0446\\u0435\\u0432 2023 \\u0433\\u043e\\u0434\\u0430 \\u0443\\u043f\\u0430\\u043b \\u043f\\u043e\\u0447\\u0442\\u0438 \\u043d\\u0430 60% \\u0432 \\u0433\\u043e\\u0434\\u043e\\u0432\\u043e\\u043c \\u0440\\u0430\\u0441\\u0447\\u0435\\u0442\\u0435 \\u0432 \\u0440\\u0430\\u0437\\u043c\\u0435\\u0440\\u0435 205 \\u043c\\u0438\\u043b\\u043b\\u0438\\u043e\\u043d\\u043e\\u0432 \\u0434\\u043e\\u043b\\u043b\\u0430\\u0440\\u043e\\u0432. \\u041c\\u043e\\u0440\\u0435\\u043f\\u0440\\u043e\\u0434\\u0443\\u043a\\u0442\\u044b \\u0443\\u043f\\u0430\\u043b\\u0438 \\u043d\\u0430 20-50%. \\u0432 \\u0442\\u043e\\u043c \\u0447\\u0438\\u0441\\u043b\\u0435 \\u0412\\u044c\\u0435\\u0442\\u043d\\u0430\\u043c.\"\n        ],\n        \"semantic_type\": \"\",\n        \"description\": \"\"\n      }\n    },\n    {\n      \"column\": \"sentiment\",\n      \"properties\": {\n        \"dtype\": \"category\",\n        \"num_unique_values\": 3,\n        \"samples\": [\n          \"negative\",\n          \"positive\",\n          \"neutral\"\n        ],\n        \"semantic_type\": \"\",\n        \"description\": \"\"\n      }\n    },\n    {\n      \"column\": \"words\",\n      \"properties\": {\n        \"dtype\": \"number\",\n        \"std\": 27,\n        \"min\": 10,\n        \"max\": 281,\n        \"num_unique_values\": 170,\n        \"samples\": [\n          131,\n          16,\n          107\n        ],\n        \"semantic_type\": \"\",\n        \"description\": \"\"\n      }\n    },\n    {\n      \"column\": \"sentiment_id\",\n      \"properties\": {\n        \"dtype\": \"int8\",\n        \"num_unique_values\": 3,\n        \"samples\": [\n          0,\n          2,\n          1\n        ],\n        \"semantic_type\": \"\",\n        \"description\": \"\"\n      }\n    }\n  ]\n}"
            }
          },
          "metadata": {},
          "execution_count": 58
        },
        {
          "output_type": "stream",
          "name": "stdout",
          "text": [
            "time: 57.7 ms (started: 2024-06-21 13:44:22 +00:00)\n"
          ]
        }
      ]
    },
    {
      "cell_type": "code",
      "source": [
        "train_val_dataset"
      ],
      "metadata": {
        "colab": {
          "base_uri": "https://localhost:8080/",
          "height": 441
        },
        "id": "qla6gjOlCypT",
        "outputId": "6f8a1b0b-a2be-45bc-b95e-4264bdab49b1"
      },
      "execution_count": null,
      "outputs": [
        {
          "output_type": "execute_result",
          "data": {
            "text/plain": [
              "                                                   text sentiment  words  \\\n",
              "2275  В то время как серия санкций привела к колебан...  positive     23   \n",
              "1095  Испания и Франция уполномочили владельцев супе...   neutral     15   \n",
              "184   РФ и Бразилия продолжают обсуждение целого ряд...  positive     44   \n",
              "2853  Министр финансов Турции сказал предпринимателя...   neutral     35   \n",
              "5578  Министерство финансов США заместитель финансов...   neutral     30   \n",
              "...                                                 ...       ...    ...   \n",
              "1581  Объединенные арабские эмираты, учитывая возмож...  negative     38   \n",
              "1804  Благодаря бесчисленным случаям отказа выполнит...  negative     33   \n",
              "5984  Внедрение сырой российской нефти в Германии сн...  negative     84   \n",
              "4933  Многие предприятия отказываются иметь дело с р...  positive     27   \n",
              "3312  Промышленный горнодобывающий сектор во втором ...   neutral     22   \n",
              "\n",
              "      sentiment_id  \n",
              "2275             2  \n",
              "1095             1  \n",
              "184              2  \n",
              "2853             1  \n",
              "5578             1  \n",
              "...            ...  \n",
              "1581             0  \n",
              "1804             0  \n",
              "5984             0  \n",
              "4933             2  \n",
              "3312             1  \n",
              "\n",
              "[5478 rows x 4 columns]"
            ],
            "text/html": [
              "\n",
              "  <div id=\"df-4d2282f0-4412-44cb-8ba4-fc93ac6e8b62\" class=\"colab-df-container\">\n",
              "    <div>\n",
              "<style scoped>\n",
              "    .dataframe tbody tr th:only-of-type {\n",
              "        vertical-align: middle;\n",
              "    }\n",
              "\n",
              "    .dataframe tbody tr th {\n",
              "        vertical-align: top;\n",
              "    }\n",
              "\n",
              "    .dataframe thead th {\n",
              "        text-align: right;\n",
              "    }\n",
              "</style>\n",
              "<table border=\"1\" class=\"dataframe\">\n",
              "  <thead>\n",
              "    <tr style=\"text-align: right;\">\n",
              "      <th></th>\n",
              "      <th>text</th>\n",
              "      <th>sentiment</th>\n",
              "      <th>words</th>\n",
              "      <th>sentiment_id</th>\n",
              "    </tr>\n",
              "  </thead>\n",
              "  <tbody>\n",
              "    <tr>\n",
              "      <th>2275</th>\n",
              "      <td>В то время как серия санкций привела к колебан...</td>\n",
              "      <td>positive</td>\n",
              "      <td>23</td>\n",
              "      <td>2</td>\n",
              "    </tr>\n",
              "    <tr>\n",
              "      <th>1095</th>\n",
              "      <td>Испания и Франция уполномочили владельцев супе...</td>\n",
              "      <td>neutral</td>\n",
              "      <td>15</td>\n",
              "      <td>1</td>\n",
              "    </tr>\n",
              "    <tr>\n",
              "      <th>184</th>\n",
              "      <td>РФ и Бразилия продолжают обсуждение целого ряд...</td>\n",
              "      <td>positive</td>\n",
              "      <td>44</td>\n",
              "      <td>2</td>\n",
              "    </tr>\n",
              "    <tr>\n",
              "      <th>2853</th>\n",
              "      <td>Министр финансов Турции сказал предпринимателя...</td>\n",
              "      <td>neutral</td>\n",
              "      <td>35</td>\n",
              "      <td>1</td>\n",
              "    </tr>\n",
              "    <tr>\n",
              "      <th>5578</th>\n",
              "      <td>Министерство финансов США заместитель финансов...</td>\n",
              "      <td>neutral</td>\n",
              "      <td>30</td>\n",
              "      <td>1</td>\n",
              "    </tr>\n",
              "    <tr>\n",
              "      <th>...</th>\n",
              "      <td>...</td>\n",
              "      <td>...</td>\n",
              "      <td>...</td>\n",
              "      <td>...</td>\n",
              "    </tr>\n",
              "    <tr>\n",
              "      <th>1581</th>\n",
              "      <td>Объединенные арабские эмираты, учитывая возмож...</td>\n",
              "      <td>negative</td>\n",
              "      <td>38</td>\n",
              "      <td>0</td>\n",
              "    </tr>\n",
              "    <tr>\n",
              "      <th>1804</th>\n",
              "      <td>Благодаря бесчисленным случаям отказа выполнит...</td>\n",
              "      <td>negative</td>\n",
              "      <td>33</td>\n",
              "      <td>0</td>\n",
              "    </tr>\n",
              "    <tr>\n",
              "      <th>5984</th>\n",
              "      <td>Внедрение сырой российской нефти в Германии сн...</td>\n",
              "      <td>negative</td>\n",
              "      <td>84</td>\n",
              "      <td>0</td>\n",
              "    </tr>\n",
              "    <tr>\n",
              "      <th>4933</th>\n",
              "      <td>Многие предприятия отказываются иметь дело с р...</td>\n",
              "      <td>positive</td>\n",
              "      <td>27</td>\n",
              "      <td>2</td>\n",
              "    </tr>\n",
              "    <tr>\n",
              "      <th>3312</th>\n",
              "      <td>Промышленный горнодобывающий сектор во втором ...</td>\n",
              "      <td>neutral</td>\n",
              "      <td>22</td>\n",
              "      <td>1</td>\n",
              "    </tr>\n",
              "  </tbody>\n",
              "</table>\n",
              "<p>5478 rows × 4 columns</p>\n",
              "</div>\n",
              "    <div class=\"colab-df-buttons\">\n",
              "\n",
              "  <div class=\"colab-df-container\">\n",
              "    <button class=\"colab-df-convert\" onclick=\"convertToInteractive('df-4d2282f0-4412-44cb-8ba4-fc93ac6e8b62')\"\n",
              "            title=\"Convert this dataframe to an interactive table.\"\n",
              "            style=\"display:none;\">\n",
              "\n",
              "  <svg xmlns=\"http://www.w3.org/2000/svg\" height=\"24px\" viewBox=\"0 -960 960 960\">\n",
              "    <path d=\"M120-120v-720h720v720H120Zm60-500h600v-160H180v160Zm220 220h160v-160H400v160Zm0 220h160v-160H400v160ZM180-400h160v-160H180v160Zm440 0h160v-160H620v160ZM180-180h160v-160H180v160Zm440 0h160v-160H620v160Z\"/>\n",
              "  </svg>\n",
              "    </button>\n",
              "\n",
              "  <style>\n",
              "    .colab-df-container {\n",
              "      display:flex;\n",
              "      gap: 12px;\n",
              "    }\n",
              "\n",
              "    .colab-df-convert {\n",
              "      background-color: #E8F0FE;\n",
              "      border: none;\n",
              "      border-radius: 50%;\n",
              "      cursor: pointer;\n",
              "      display: none;\n",
              "      fill: #1967D2;\n",
              "      height: 32px;\n",
              "      padding: 0 0 0 0;\n",
              "      width: 32px;\n",
              "    }\n",
              "\n",
              "    .colab-df-convert:hover {\n",
              "      background-color: #E2EBFA;\n",
              "      box-shadow: 0px 1px 2px rgba(60, 64, 67, 0.3), 0px 1px 3px 1px rgba(60, 64, 67, 0.15);\n",
              "      fill: #174EA6;\n",
              "    }\n",
              "\n",
              "    .colab-df-buttons div {\n",
              "      margin-bottom: 4px;\n",
              "    }\n",
              "\n",
              "    [theme=dark] .colab-df-convert {\n",
              "      background-color: #3B4455;\n",
              "      fill: #D2E3FC;\n",
              "    }\n",
              "\n",
              "    [theme=dark] .colab-df-convert:hover {\n",
              "      background-color: #434B5C;\n",
              "      box-shadow: 0px 1px 3px 1px rgba(0, 0, 0, 0.15);\n",
              "      filter: drop-shadow(0px 1px 2px rgba(0, 0, 0, 0.3));\n",
              "      fill: #FFFFFF;\n",
              "    }\n",
              "  </style>\n",
              "\n",
              "    <script>\n",
              "      const buttonEl =\n",
              "        document.querySelector('#df-4d2282f0-4412-44cb-8ba4-fc93ac6e8b62 button.colab-df-convert');\n",
              "      buttonEl.style.display =\n",
              "        google.colab.kernel.accessAllowed ? 'block' : 'none';\n",
              "\n",
              "      async function convertToInteractive(key) {\n",
              "        const element = document.querySelector('#df-4d2282f0-4412-44cb-8ba4-fc93ac6e8b62');\n",
              "        const dataTable =\n",
              "          await google.colab.kernel.invokeFunction('convertToInteractive',\n",
              "                                                    [key], {});\n",
              "        if (!dataTable) return;\n",
              "\n",
              "        const docLinkHtml = 'Like what you see? Visit the ' +\n",
              "          '<a target=\"_blank\" href=https://colab.research.google.com/notebooks/data_table.ipynb>data table notebook</a>'\n",
              "          + ' to learn more about interactive tables.';\n",
              "        element.innerHTML = '';\n",
              "        dataTable['output_type'] = 'display_data';\n",
              "        await google.colab.output.renderOutput(dataTable, element);\n",
              "        const docLink = document.createElement('div');\n",
              "        docLink.innerHTML = docLinkHtml;\n",
              "        element.appendChild(docLink);\n",
              "      }\n",
              "    </script>\n",
              "  </div>\n",
              "\n",
              "\n",
              "<div id=\"df-5cb84c11-c522-4cb3-a629-467171bc86a8\">\n",
              "  <button class=\"colab-df-quickchart\" onclick=\"quickchart('df-5cb84c11-c522-4cb3-a629-467171bc86a8')\"\n",
              "            title=\"Suggest charts\"\n",
              "            style=\"display:none;\">\n",
              "\n",
              "<svg xmlns=\"http://www.w3.org/2000/svg\" height=\"24px\"viewBox=\"0 0 24 24\"\n",
              "     width=\"24px\">\n",
              "    <g>\n",
              "        <path d=\"M19 3H5c-1.1 0-2 .9-2 2v14c0 1.1.9 2 2 2h14c1.1 0 2-.9 2-2V5c0-1.1-.9-2-2-2zM9 17H7v-7h2v7zm4 0h-2V7h2v10zm4 0h-2v-4h2v4z\"/>\n",
              "    </g>\n",
              "</svg>\n",
              "  </button>\n",
              "\n",
              "<style>\n",
              "  .colab-df-quickchart {\n",
              "      --bg-color: #E8F0FE;\n",
              "      --fill-color: #1967D2;\n",
              "      --hover-bg-color: #E2EBFA;\n",
              "      --hover-fill-color: #174EA6;\n",
              "      --disabled-fill-color: #AAA;\n",
              "      --disabled-bg-color: #DDD;\n",
              "  }\n",
              "\n",
              "  [theme=dark] .colab-df-quickchart {\n",
              "      --bg-color: #3B4455;\n",
              "      --fill-color: #D2E3FC;\n",
              "      --hover-bg-color: #434B5C;\n",
              "      --hover-fill-color: #FFFFFF;\n",
              "      --disabled-bg-color: #3B4455;\n",
              "      --disabled-fill-color: #666;\n",
              "  }\n",
              "\n",
              "  .colab-df-quickchart {\n",
              "    background-color: var(--bg-color);\n",
              "    border: none;\n",
              "    border-radius: 50%;\n",
              "    cursor: pointer;\n",
              "    display: none;\n",
              "    fill: var(--fill-color);\n",
              "    height: 32px;\n",
              "    padding: 0;\n",
              "    width: 32px;\n",
              "  }\n",
              "\n",
              "  .colab-df-quickchart:hover {\n",
              "    background-color: var(--hover-bg-color);\n",
              "    box-shadow: 0 1px 2px rgba(60, 64, 67, 0.3), 0 1px 3px 1px rgba(60, 64, 67, 0.15);\n",
              "    fill: var(--button-hover-fill-color);\n",
              "  }\n",
              "\n",
              "  .colab-df-quickchart-complete:disabled,\n",
              "  .colab-df-quickchart-complete:disabled:hover {\n",
              "    background-color: var(--disabled-bg-color);\n",
              "    fill: var(--disabled-fill-color);\n",
              "    box-shadow: none;\n",
              "  }\n",
              "\n",
              "  .colab-df-spinner {\n",
              "    border: 2px solid var(--fill-color);\n",
              "    border-color: transparent;\n",
              "    border-bottom-color: var(--fill-color);\n",
              "    animation:\n",
              "      spin 1s steps(1) infinite;\n",
              "  }\n",
              "\n",
              "  @keyframes spin {\n",
              "    0% {\n",
              "      border-color: transparent;\n",
              "      border-bottom-color: var(--fill-color);\n",
              "      border-left-color: var(--fill-color);\n",
              "    }\n",
              "    20% {\n",
              "      border-color: transparent;\n",
              "      border-left-color: var(--fill-color);\n",
              "      border-top-color: var(--fill-color);\n",
              "    }\n",
              "    30% {\n",
              "      border-color: transparent;\n",
              "      border-left-color: var(--fill-color);\n",
              "      border-top-color: var(--fill-color);\n",
              "      border-right-color: var(--fill-color);\n",
              "    }\n",
              "    40% {\n",
              "      border-color: transparent;\n",
              "      border-right-color: var(--fill-color);\n",
              "      border-top-color: var(--fill-color);\n",
              "    }\n",
              "    60% {\n",
              "      border-color: transparent;\n",
              "      border-right-color: var(--fill-color);\n",
              "    }\n",
              "    80% {\n",
              "      border-color: transparent;\n",
              "      border-right-color: var(--fill-color);\n",
              "      border-bottom-color: var(--fill-color);\n",
              "    }\n",
              "    90% {\n",
              "      border-color: transparent;\n",
              "      border-bottom-color: var(--fill-color);\n",
              "    }\n",
              "  }\n",
              "</style>\n",
              "\n",
              "  <script>\n",
              "    async function quickchart(key) {\n",
              "      const quickchartButtonEl =\n",
              "        document.querySelector('#' + key + ' button');\n",
              "      quickchartButtonEl.disabled = true;  // To prevent multiple clicks.\n",
              "      quickchartButtonEl.classList.add('colab-df-spinner');\n",
              "      try {\n",
              "        const charts = await google.colab.kernel.invokeFunction(\n",
              "            'suggestCharts', [key], {});\n",
              "      } catch (error) {\n",
              "        console.error('Error during call to suggestCharts:', error);\n",
              "      }\n",
              "      quickchartButtonEl.classList.remove('colab-df-spinner');\n",
              "      quickchartButtonEl.classList.add('colab-df-quickchart-complete');\n",
              "    }\n",
              "    (() => {\n",
              "      let quickchartButtonEl =\n",
              "        document.querySelector('#df-5cb84c11-c522-4cb3-a629-467171bc86a8 button');\n",
              "      quickchartButtonEl.style.display =\n",
              "        google.colab.kernel.accessAllowed ? 'block' : 'none';\n",
              "    })();\n",
              "  </script>\n",
              "</div>\n",
              "\n",
              "  <div id=\"id_549e3787-1b9c-41e1-a8c2-8eb22b9be797\">\n",
              "    <style>\n",
              "      .colab-df-generate {\n",
              "        background-color: #E8F0FE;\n",
              "        border: none;\n",
              "        border-radius: 50%;\n",
              "        cursor: pointer;\n",
              "        display: none;\n",
              "        fill: #1967D2;\n",
              "        height: 32px;\n",
              "        padding: 0 0 0 0;\n",
              "        width: 32px;\n",
              "      }\n",
              "\n",
              "      .colab-df-generate:hover {\n",
              "        background-color: #E2EBFA;\n",
              "        box-shadow: 0px 1px 2px rgba(60, 64, 67, 0.3), 0px 1px 3px 1px rgba(60, 64, 67, 0.15);\n",
              "        fill: #174EA6;\n",
              "      }\n",
              "\n",
              "      [theme=dark] .colab-df-generate {\n",
              "        background-color: #3B4455;\n",
              "        fill: #D2E3FC;\n",
              "      }\n",
              "\n",
              "      [theme=dark] .colab-df-generate:hover {\n",
              "        background-color: #434B5C;\n",
              "        box-shadow: 0px 1px 3px 1px rgba(0, 0, 0, 0.15);\n",
              "        filter: drop-shadow(0px 1px 2px rgba(0, 0, 0, 0.3));\n",
              "        fill: #FFFFFF;\n",
              "      }\n",
              "    </style>\n",
              "    <button class=\"colab-df-generate\" onclick=\"generateWithVariable('train_val_dataset')\"\n",
              "            title=\"Generate code using this dataframe.\"\n",
              "            style=\"display:none;\">\n",
              "\n",
              "  <svg xmlns=\"http://www.w3.org/2000/svg\" height=\"24px\"viewBox=\"0 0 24 24\"\n",
              "       width=\"24px\">\n",
              "    <path d=\"M7,19H8.4L18.45,9,17,7.55,7,17.6ZM5,21V16.75L18.45,3.32a2,2,0,0,1,2.83,0l1.4,1.43a1.91,1.91,0,0,1,.58,1.4,1.91,1.91,0,0,1-.58,1.4L9.25,21ZM18.45,9,17,7.55Zm-12,3A5.31,5.31,0,0,0,4.9,8.1,5.31,5.31,0,0,0,1,6.5,5.31,5.31,0,0,0,4.9,4.9,5.31,5.31,0,0,0,6.5,1,5.31,5.31,0,0,0,8.1,4.9,5.31,5.31,0,0,0,12,6.5,5.46,5.46,0,0,0,6.5,12Z\"/>\n",
              "  </svg>\n",
              "    </button>\n",
              "    <script>\n",
              "      (() => {\n",
              "      const buttonEl =\n",
              "        document.querySelector('#id_549e3787-1b9c-41e1-a8c2-8eb22b9be797 button.colab-df-generate');\n",
              "      buttonEl.style.display =\n",
              "        google.colab.kernel.accessAllowed ? 'block' : 'none';\n",
              "\n",
              "      buttonEl.onclick = () => {\n",
              "        google.colab.notebook.generateWithVariable('train_val_dataset');\n",
              "      }\n",
              "      })();\n",
              "    </script>\n",
              "  </div>\n",
              "\n",
              "    </div>\n",
              "  </div>\n"
            ],
            "application/vnd.google.colaboratory.intrinsic+json": {
              "type": "dataframe",
              "variable_name": "train_val_dataset",
              "summary": "{\n  \"name\": \"train_val_dataset\",\n  \"rows\": 5478,\n  \"fields\": [\n    {\n      \"column\": \"text\",\n      \"properties\": {\n        \"dtype\": \"string\",\n        \"num_unique_values\": 5478,\n        \"samples\": [\n          \"\\u0421\\u043e\\u0435\\u0434\\u0438\\u043d\\u0435\\u043d\\u043d\\u044b\\u0435 \\u0428\\u0442\\u0430\\u0442\\u044b \\u043e\\u0431\\u044a\\u044f\\u0432\\u0438\\u043b\\u0438 \\u043e \\u0437\\u0430\\u043f\\u0440\\u0435\\u0442\\u0435 \\u043d\\u0430 \\u0438\\u043c\\u043f\\u043e\\u0440\\u0442 \\u0437\\u043e\\u043b\\u043e\\u0442\\u0430 \\u0443 \\u0420\\u043e\\u0441\\u0441\\u0438\\u0438, \\u043f\\u043e\\u0434\\u0434\\u0435\\u0440\\u0436\\u0438\\u0432\\u0430\\u044f \\u0431\\u0440\\u0438\\u0442\\u0430\\u043d\\u0441\\u043a\\u043e\\u0435 \\u0437\\u0430\\u044f\\u0432\\u043b\\u0435\\u043d\\u0438\\u0435 \\u0432\\u043e \\u0432\\u0440\\u0435\\u043c\\u044f \\u0441\\u0430\\u043c\\u043c\\u0438\\u0442\\u0430 G7 \\u043e\\u0431 \\u044d\\u043c\\u0431\\u0430\\u0440\\u0433\\u043e \\u043d\\u0430 \\u043f\\u043e\\u043a\\u0443\\u043f\\u043a\\u0443 \\u0440\\u043e\\u0441\\u0441\\u0438\\u0439\\u0441\\u043a\\u0438\\u0445 \\u0434\\u0440\\u0430\\u0433\\u043e\\u0446\\u0435\\u043d\\u043d\\u044b\\u0445 \\u043c\\u0435\\u0442\\u0430\\u043b\\u043b\\u043e\\u0432 (\\u0432 \\u0418\\u0422 \\u0442\\u0430\\u043a\\u0436\\u0435 \\u0443\\u0447\\u0430\\u0441\\u0442\\u0432\\u0443\\u044e\\u0442 \\u042f\\u043f\\u043e\\u043d\\u0438\\u044f \\u0438 \\u041a\\u0430\\u043d\\u0430\\u0434\\u0430).\\n\\u041f\\u043e \\u0441\\u043b\\u043e\\u0432\\u0430\\u043c \\u044d\\u043a\\u0441\\u043f\\u0435\\u0440\\u0442\\u043e\\u0432, \\u043a\\u0430\\u043a \\u044d\\u043c\\u0431\\u0430\\u0440\\u0433\\u043e \\u043f\\u043e \\u0438\\u043c\\u043f\\u043e\\u0440\\u0442\\u0443 \\u0432 \\u0421\\u043e\\u0435\\u0434\\u0438\\u043d\\u0435\\u043d\\u043d\\u044b\\u0445 \\u0428\\u0442\\u0430\\u0442\\u0430\\u0445, \\u0442\\u0430\\u043a \\u0438 \\u043e\\u0431\\u0449\\u0438\\u0439 \\u0437\\u0430\\u043f\\u0440\\u0435\\u0442 G7 \\u043d\\u0435 \\u0438\\u043c\\u0435\\u044e\\u0442 \\u0440\\u0435\\u0448\\u0430\\u044e\\u0449\\u0435\\u0433\\u043e \\u043a\\u0440\\u0438\\u0442\\u0438\\u0447\\u0435\\u0441\\u043a\\u043e\\u0433\\u043e \\u0434\\u043b\\u044f \\u0440\\u043e\\u0441\\u0441\\u0438\\u0439\\u0441\\u043a\\u0438\\u0445 \\u0448\\u0430\\u0445\\u0442\\u0435\\u0440\\u043e\\u0432. \\u042d\\u043a\\u0441\\u043f\\u0435\\u0440\\u0442\\u044b \\u0441\\u0447\\u0438\\u0442\\u0430\\u044e\\u0442, \\u0447\\u0442\\u043e \\u0442\\u0430\\u043a\\u0438\\u0435 \\u043c\\u0430\\u043d\\u0435\\u0432\\u0440\\u044b \\u0431\\u0443\\u0434\\u0443\\u0442 \\u0441\\u0442\\u043e\\u0438\\u0442\\u044c 1-2% \\u043f\\u043e\\u043b\\u044f, \\u0433\\u043b\\u0430\\u0432\\u043d\\u044b\\u043c \\u043e\\u0431\\u0440\\u0430\\u0437\\u043e\\u043c \\u0438\\u0437-\\u0437\\u0430 \\u0441\\u0442\\u043e\\u0438\\u043c\\u043e\\u0441\\u0442\\u0438 \\u00ab\\u043e\\u0442\\u044a\\u0435\\u0437\\u0434\\u0430\\u00bb.\\n\\u0413\\u0435\\u043e\\u0433\\u0440\\u0430\\u0444\\u0438\\u0447\\u0435\\u0441\\u043a\\u0438 \\u044d\\u043a\\u0441\\u043f\\u043e\\u0440\\u0442\\u043d\\u044b\\u0435 \\u0434\\u0432\\u0438\\u0436\\u0435\\u043d\\u0438\\u044f \\u0442\\u0430\\u043c - \\u0432 \\u0418\\u043d\\u0434\\u0438\\u0438, \\u041a\\u0438\\u0442\\u0430\\u0435 \\u0438 \\u041e\\u0410\\u042d, \\u043a\\u043e\\u0442\\u043e\\u0440\\u044b\\u0435 \\u044f\\u0432\\u043b\\u044f\\u044e\\u0442\\u0441\\u044f \\u043a\\u0440\\u0443\\u043f\\u043d\\u0435\\u0439\\u0448\\u0438\\u043c\\u0438 \\u043f\\u0440\\u043e\\u0438\\u0437\\u0432\\u043e\\u0434\\u0438\\u0442\\u0435\\u043b\\u044f\\u043c\\u0438 \\u0438 \\u0443\\u0447\\u0430\\u0441\\u0442\\u043d\\u0438\\u043a\\u0430\\u043c\\u0438 \\u0440\\u044b\\u043d\\u043a\\u0430 \\u0437\\u043e\\u043b\\u043e\\u0442\\u0430 \\u0438\\u0437 \\u0441\\u0442\\u0440\\u0430\\u043d G7 \\u0432 \\u0442\\u0435\\u0447\\u0435\\u043d\\u0438\\u0435 \\u0434\\u0432\\u0443\\u0445 \\u043b\\u0435\\u0442. \\u0417\\u0430\\u043a\\u0440\\u043e\\u0439\\u0442\\u0435 \\u043a\\u0430\\u043a \\u043c\\u043e\\u0436\\u043d\\u043e \\u0431\\u043e\\u043b\\u044c\\u0448\\u0435 \\u043a \\u0441\\u0441\\u044b\\u043b\\u043a\\u0435.\",\n          \"\\u042e\\u0433\\u043e -\\u0412\\u043e\\u0441\\u0442\\u043e\\u0447\\u043d\\u0430\\u044f \\u0410\\u0437\\u0438\\u044f, \\u043a\\u0430\\u043a \\u0438 \\u0431\\u043e\\u043b\\u044c\\u0448\\u0430\\u044f \\u0447\\u0430\\u0441\\u0442\\u044c \\u043e\\u0441\\u0442\\u0430\\u043b\\u044c\\u043d\\u043e\\u0439 \\u0447\\u0430\\u0441\\u0442\\u0438 \\u043c\\u0438\\u0440\\u0430, \\u0442\\u0435\\u0440\\u044f\\u0435\\u0442 \\u0442\\u0435\\u0440\\u043f\\u0435\\u043d\\u0438\\u0435 \\u0438\\u0437 -\\u0437\\u0430 \\u0434\\u043e\\u043c\\u0438\\u043d\\u0438\\u0440\\u043e\\u0432\\u0430\\u043d\\u0438\\u044f \\u0432 \\u0434\\u043e\\u043b\\u043b\\u0430\\u0440\\u0430\\u0445. \\u0423\\u043a\\u0440\\u0430\\u0438\\u043d\\u0441\\u043a\\u0438\\u0439 \\u043a\\u043e\\u043d\\u0444\\u043b\\u0438\\u043a\\u0442, \\u043f\\u043e\\u0431\\u0443\\u0434\\u0438\\u043b \\u0434\\u0430\\u0436\\u0435 \\u0442\\u0438\\u043f\\u0438\\u0447\\u043d\\u043e \\u0434\\u0438\\u043f\\u043b\\u043e\\u043c\\u0430\\u0442\\u0438\\u0447\\u0435\\u0441\\u043a\\u0443\\u044e \\u042e\\u0433\\u043e -\\u0412\\u043e\\u0441\\u0442\\u043e\\u0447\\u043d\\u0443\\u044e \\u0410\\u0437\\u0438\\u044e \\u043f\\u0440\\u0435\\u0434\\u043e\\u0442\\u0432\\u0440\\u0430\\u0442\\u0438\\u0442\\u044c \\u043f\\u043e\\u0441\\u043b\\u0435\\u0434\\u0441\\u0442\\u0432\\u0438\\u044f.\\u0423\\u043f\\u0440\\u0430\\u0432\\u043b\\u0435\\u043d\\u0438\\u0435.\",\n          \"\\u0412\\u043b\\u0430\\u0441\\u0442\\u0438 \\u0421\\u0435\\u0440\\u0431\\u0438\\u0438 \\u0434\\u043b\\u044f \\u0437\\u0430\\u043c\\u0435\\u043d\\u044b \\u0440\\u043e\\u0441\\u0441\\u0438\\u0439\\u0441\\u043a\\u043e\\u0439 \\u043d\\u0435\\u0444\\u0442\\u0438 \\u043d\\u0430 \\u0438\\u0445 \\u0418\\u0440\\u0430\\u043a \\u0438 \\u0418\\u0440\\u0430\\u043d\\u0435 \\u0421\\u044b\\u0440\\u044c\\u0435. \\u0438\\u0437 \\u0415\\u0421 SanctionIbus.Oleum Russia Country Darding Tankers \\u0432\\u043c\\u0435\\u0441\\u0442\\u0435 \\u0441 \\u0410\\u0434\\u0440\\u0438\\u0430\\u0442\\u0438\\u0447\\u0435\\u0441\\u043a\\u0438\\u043c \\u043c\\u043e\\u0440\\u0435\\u043c \\u0432 \\u0425\\u043e\\u0440\\u0432\\u0430\\u0442\\u0438\\u044e, \\u043f\\u043e\\u0441\\u043b\\u0435 \\u0447\\u0435\\u0433\\u043e \\u043e\\u043d\\u0438 \\u043d\\u0430\\u043a\\u0430\\u0447\\u0438\\u0432\\u0430\\u044e\\u0442\\u0441\\u044f \\u0438\\u0437 \\u043d\\u0435\\u0444\\u0442\\u044f\\u043d\\u043e\\u0433\\u043e \\u0442\\u0440\\u0443\\u0431\\u043e\\u043f\\u0440\\u043e\\u0432\\u043e\\u0434\\u0430 Janaf.\"\n        ],\n        \"semantic_type\": \"\",\n        \"description\": \"\"\n      }\n    },\n    {\n      \"column\": \"sentiment\",\n      \"properties\": {\n        \"dtype\": \"category\",\n        \"num_unique_values\": 3,\n        \"samples\": [\n          \"positive\",\n          \"neutral\",\n          \"negative\"\n        ],\n        \"semantic_type\": \"\",\n        \"description\": \"\"\n      }\n    },\n    {\n      \"column\": \"words\",\n      \"properties\": {\n        \"dtype\": \"number\",\n        \"std\": 26,\n        \"min\": 10,\n        \"max\": 281,\n        \"num_unique_values\": 162,\n        \"samples\": [\n          157,\n          163,\n          170\n        ],\n        \"semantic_type\": \"\",\n        \"description\": \"\"\n      }\n    },\n    {\n      \"column\": \"sentiment_id\",\n      \"properties\": {\n        \"dtype\": \"int8\",\n        \"num_unique_values\": 3,\n        \"samples\": [\n          2,\n          1,\n          0\n        ],\n        \"semantic_type\": \"\",\n        \"description\": \"\"\n      }\n    }\n  ]\n}"
            }
          },
          "metadata": {},
          "execution_count": 61
        },
        {
          "output_type": "stream",
          "name": "stdout",
          "text": [
            "time: 145 ms (started: 2024-06-21 13:45:08 +00:00)\n"
          ]
        }
      ]
    },
    {
      "cell_type": "code",
      "execution_count": null,
      "metadata": {
        "colab": {
          "base_uri": "https://localhost:8080/"
        },
        "id": "WQ1xGhHd6x9H",
        "outputId": "55c27d18-1aca-4046-8d7d-a3dfb1605ffd"
      },
      "outputs": [
        {
          "output_type": "stream",
          "name": "stdout",
          "text": [
            "time: 22 ms (started: 2024-06-21 13:45:24 +00:00)\n"
          ]
        }
      ],
      "source": [
        "train_val_dataset, test_dataset = train_test_split(data, test_size=0.2, random_state=23052024)\n",
        "train_dataset, val_dataset = train_test_split(train_val_dataset, test_size=0.1, random_state=23052024)\n",
        "\n",
        "train_features = train_dataset['text']\n",
        "train_target = train_dataset['sentiment_id']\n",
        "\n",
        "val_features = val_dataset['text']\n",
        "val_target = val_dataset['sentiment_id']\n",
        "\n",
        "test_features = test_dataset['text']\n",
        "test_target = test_dataset['sentiment_id']"
      ]
    },
    {
      "cell_type": "code",
      "execution_count": null,
      "metadata": {
        "colab": {
          "base_uri": "https://localhost:8080/"
        },
        "id": "liqAzjrL6x9H",
        "outputId": "f1df7ddf-d345-4cf3-e059-93e1e173a48f"
      },
      "outputs": [
        {
          "output_type": "stream",
          "name": "stdout",
          "text": [
            "Train Data Set size:  4930\n",
            "Validation Data Set size:  548\n",
            "Test Data Set size:  1370\n",
            "time: 2.72 ms (started: 2024-06-21 13:45:26 +00:00)\n"
          ]
        }
      ],
      "source": [
        "print(\"Train Data Set size: \", len(train_features))\n",
        "print(\"Validation Data Set size: \", len(val_features))\n",
        "print(\"Test Data Set size: \", len(test_features))"
      ]
    },
    {
      "cell_type": "markdown",
      "metadata": {
        "id": "lfl1PBpqrT9G"
      },
      "source": [
        "# PREPROCESSING TEXT WITH TF DATA PIPELINE AND KERAS TEXT VECTORIZATION LAYER"
      ]
    },
    {
      "cell_type": "markdown",
      "metadata": {
        "id": "BKuPtn1VoxnX"
      },
      "source": [
        "## Build the Train TensorFlow Datasets\n",
        "\n"
      ]
    },
    {
      "cell_type": "markdown",
      "metadata": {
        "id": "ht_pB8vkl55_"
      },
      "source": [
        "We will create 2 **TF Datasets** from the **raw** Train Dataframe for further processing:\n",
        "1. for input (text)\n",
        "2. for target (sentiments)"
      ]
    },
    {
      "cell_type": "code",
      "execution_count": null,
      "metadata": {
        "colab": {
          "base_uri": "https://localhost:8080/"
        },
        "id": "_njrFq8l2wiF",
        "outputId": "779eb02c-5cdf-41e3-b4b5-e9539cd9dbb3"
      },
      "outputs": [
        {
          "output_type": "stream",
          "name": "stdout",
          "text": [
            "Same elements: False\n",
            "time: 802 µs (started: 2024-06-21 13:45:30 +00:00)\n"
          ]
        }
      ],
      "source": [
        "same_elements = train_features.equals(val_features)\n",
        "\n",
        "print('Same elements:', same_elements)"
      ]
    },
    {
      "cell_type": "code",
      "execution_count": null,
      "metadata": {
        "colab": {
          "base_uri": "https://localhost:8080/"
        },
        "id": "ZQkacHLi2zTx",
        "outputId": "bcfbc9ab-6a72-45da-ac3f-0919f05ff51b"
      },
      "outputs": [
        {
          "output_type": "stream",
          "name": "stdout",
          "text": [
            "time: 38.9 ms (started: 2024-06-21 13:45:31 +00:00)\n"
          ]
        }
      ],
      "source": [
        "train_text_ds_raw = tf.data.Dataset.from_tensor_slices(\n",
        "            tf.cast(train_features.values, tf.string)\n",
        ")"
      ]
    },
    {
      "cell_type": "code",
      "execution_count": null,
      "metadata": {
        "colab": {
          "base_uri": "https://localhost:8080/"
        },
        "id": "cmxCFccruPNp",
        "outputId": "f7a3b1ee-ca74-4a7b-9d15-314cdb8a51ca"
      },
      "outputs": [
        {
          "output_type": "stream",
          "name": "stdout",
          "text": [
            "time: 13.3 ms (started: 2024-06-21 13:45:31 +00:00)\n"
          ]
        }
      ],
      "source": [
        "train_sentiment_ds_raw = tf.data.Dataset.from_tensor_slices(\n",
        "            tf.cast(train_target.values, tf.int64),\n",
        ")"
      ]
    },
    {
      "cell_type": "code",
      "execution_count": null,
      "metadata": {
        "colab": {
          "base_uri": "https://localhost:8080/"
        },
        "id": "iXBCb3fpxu2R",
        "outputId": "28af6c87-903c-4ef2-a4ba-addff8742b8f"
      },
      "outputs": [
        {
          "output_type": "execute_result",
          "data": {
            "text/plain": [
              "TensorSpec(shape=(), dtype=tf.string, name=None)"
            ]
          },
          "metadata": {},
          "execution_count": 67
        },
        {
          "output_type": "stream",
          "name": "stdout",
          "text": [
            "time: 6.68 ms (started: 2024-06-21 13:45:31 +00:00)\n"
          ]
        }
      ],
      "source": [
        "train_text_ds_raw.element_spec"
      ]
    },
    {
      "cell_type": "code",
      "execution_count": null,
      "metadata": {
        "colab": {
          "base_uri": "https://localhost:8080/",
          "height": 318
        },
        "id": "HgEl423nyKsq",
        "outputId": "087eeb6a-45e3-4b94-a8db-d14912ae4a81"
      },
      "outputs": [
        {
          "output_type": "execute_result",
          "data": {
            "text/plain": [
              "             words  sentiment_id\n",
              "count  6848.000000   6848.000000\n",
              "mean     41.389457      1.056513\n",
              "std      27.084682      0.826847\n",
              "min      10.000000      0.000000\n",
              "25%      23.000000      0.000000\n",
              "50%      33.000000      1.000000\n",
              "75%      51.000000      2.000000\n",
              "max     281.000000      2.000000"
            ],
            "text/html": [
              "\n",
              "  <div id=\"df-92acb3e8-902d-4ed9-9991-9d2a30d38c28\" class=\"colab-df-container\">\n",
              "    <div>\n",
              "<style scoped>\n",
              "    .dataframe tbody tr th:only-of-type {\n",
              "        vertical-align: middle;\n",
              "    }\n",
              "\n",
              "    .dataframe tbody tr th {\n",
              "        vertical-align: top;\n",
              "    }\n",
              "\n",
              "    .dataframe thead th {\n",
              "        text-align: right;\n",
              "    }\n",
              "</style>\n",
              "<table border=\"1\" class=\"dataframe\">\n",
              "  <thead>\n",
              "    <tr style=\"text-align: right;\">\n",
              "      <th></th>\n",
              "      <th>words</th>\n",
              "      <th>sentiment_id</th>\n",
              "    </tr>\n",
              "  </thead>\n",
              "  <tbody>\n",
              "    <tr>\n",
              "      <th>count</th>\n",
              "      <td>6848.000000</td>\n",
              "      <td>6848.000000</td>\n",
              "    </tr>\n",
              "    <tr>\n",
              "      <th>mean</th>\n",
              "      <td>41.389457</td>\n",
              "      <td>1.056513</td>\n",
              "    </tr>\n",
              "    <tr>\n",
              "      <th>std</th>\n",
              "      <td>27.084682</td>\n",
              "      <td>0.826847</td>\n",
              "    </tr>\n",
              "    <tr>\n",
              "      <th>min</th>\n",
              "      <td>10.000000</td>\n",
              "      <td>0.000000</td>\n",
              "    </tr>\n",
              "    <tr>\n",
              "      <th>25%</th>\n",
              "      <td>23.000000</td>\n",
              "      <td>0.000000</td>\n",
              "    </tr>\n",
              "    <tr>\n",
              "      <th>50%</th>\n",
              "      <td>33.000000</td>\n",
              "      <td>1.000000</td>\n",
              "    </tr>\n",
              "    <tr>\n",
              "      <th>75%</th>\n",
              "      <td>51.000000</td>\n",
              "      <td>2.000000</td>\n",
              "    </tr>\n",
              "    <tr>\n",
              "      <th>max</th>\n",
              "      <td>281.000000</td>\n",
              "      <td>2.000000</td>\n",
              "    </tr>\n",
              "  </tbody>\n",
              "</table>\n",
              "</div>\n",
              "    <div class=\"colab-df-buttons\">\n",
              "\n",
              "  <div class=\"colab-df-container\">\n",
              "    <button class=\"colab-df-convert\" onclick=\"convertToInteractive('df-92acb3e8-902d-4ed9-9991-9d2a30d38c28')\"\n",
              "            title=\"Convert this dataframe to an interactive table.\"\n",
              "            style=\"display:none;\">\n",
              "\n",
              "  <svg xmlns=\"http://www.w3.org/2000/svg\" height=\"24px\" viewBox=\"0 -960 960 960\">\n",
              "    <path d=\"M120-120v-720h720v720H120Zm60-500h600v-160H180v160Zm220 220h160v-160H400v160Zm0 220h160v-160H400v160ZM180-400h160v-160H180v160Zm440 0h160v-160H620v160ZM180-180h160v-160H180v160Zm440 0h160v-160H620v160Z\"/>\n",
              "  </svg>\n",
              "    </button>\n",
              "\n",
              "  <style>\n",
              "    .colab-df-container {\n",
              "      display:flex;\n",
              "      gap: 12px;\n",
              "    }\n",
              "\n",
              "    .colab-df-convert {\n",
              "      background-color: #E8F0FE;\n",
              "      border: none;\n",
              "      border-radius: 50%;\n",
              "      cursor: pointer;\n",
              "      display: none;\n",
              "      fill: #1967D2;\n",
              "      height: 32px;\n",
              "      padding: 0 0 0 0;\n",
              "      width: 32px;\n",
              "    }\n",
              "\n",
              "    .colab-df-convert:hover {\n",
              "      background-color: #E2EBFA;\n",
              "      box-shadow: 0px 1px 2px rgba(60, 64, 67, 0.3), 0px 1px 3px 1px rgba(60, 64, 67, 0.15);\n",
              "      fill: #174EA6;\n",
              "    }\n",
              "\n",
              "    .colab-df-buttons div {\n",
              "      margin-bottom: 4px;\n",
              "    }\n",
              "\n",
              "    [theme=dark] .colab-df-convert {\n",
              "      background-color: #3B4455;\n",
              "      fill: #D2E3FC;\n",
              "    }\n",
              "\n",
              "    [theme=dark] .colab-df-convert:hover {\n",
              "      background-color: #434B5C;\n",
              "      box-shadow: 0px 1px 3px 1px rgba(0, 0, 0, 0.15);\n",
              "      filter: drop-shadow(0px 1px 2px rgba(0, 0, 0, 0.3));\n",
              "      fill: #FFFFFF;\n",
              "    }\n",
              "  </style>\n",
              "\n",
              "    <script>\n",
              "      const buttonEl =\n",
              "        document.querySelector('#df-92acb3e8-902d-4ed9-9991-9d2a30d38c28 button.colab-df-convert');\n",
              "      buttonEl.style.display =\n",
              "        google.colab.kernel.accessAllowed ? 'block' : 'none';\n",
              "\n",
              "      async function convertToInteractive(key) {\n",
              "        const element = document.querySelector('#df-92acb3e8-902d-4ed9-9991-9d2a30d38c28');\n",
              "        const dataTable =\n",
              "          await google.colab.kernel.invokeFunction('convertToInteractive',\n",
              "                                                    [key], {});\n",
              "        if (!dataTable) return;\n",
              "\n",
              "        const docLinkHtml = 'Like what you see? Visit the ' +\n",
              "          '<a target=\"_blank\" href=https://colab.research.google.com/notebooks/data_table.ipynb>data table notebook</a>'\n",
              "          + ' to learn more about interactive tables.';\n",
              "        element.innerHTML = '';\n",
              "        dataTable['output_type'] = 'display_data';\n",
              "        await google.colab.output.renderOutput(dataTable, element);\n",
              "        const docLink = document.createElement('div');\n",
              "        docLink.innerHTML = docLinkHtml;\n",
              "        element.appendChild(docLink);\n",
              "      }\n",
              "    </script>\n",
              "  </div>\n",
              "\n",
              "\n",
              "<div id=\"df-5b9d52bb-8425-4f20-99ce-87c5e11bd9b6\">\n",
              "  <button class=\"colab-df-quickchart\" onclick=\"quickchart('df-5b9d52bb-8425-4f20-99ce-87c5e11bd9b6')\"\n",
              "            title=\"Suggest charts\"\n",
              "            style=\"display:none;\">\n",
              "\n",
              "<svg xmlns=\"http://www.w3.org/2000/svg\" height=\"24px\"viewBox=\"0 0 24 24\"\n",
              "     width=\"24px\">\n",
              "    <g>\n",
              "        <path d=\"M19 3H5c-1.1 0-2 .9-2 2v14c0 1.1.9 2 2 2h14c1.1 0 2-.9 2-2V5c0-1.1-.9-2-2-2zM9 17H7v-7h2v7zm4 0h-2V7h2v10zm4 0h-2v-4h2v4z\"/>\n",
              "    </g>\n",
              "</svg>\n",
              "  </button>\n",
              "\n",
              "<style>\n",
              "  .colab-df-quickchart {\n",
              "      --bg-color: #E8F0FE;\n",
              "      --fill-color: #1967D2;\n",
              "      --hover-bg-color: #E2EBFA;\n",
              "      --hover-fill-color: #174EA6;\n",
              "      --disabled-fill-color: #AAA;\n",
              "      --disabled-bg-color: #DDD;\n",
              "  }\n",
              "\n",
              "  [theme=dark] .colab-df-quickchart {\n",
              "      --bg-color: #3B4455;\n",
              "      --fill-color: #D2E3FC;\n",
              "      --hover-bg-color: #434B5C;\n",
              "      --hover-fill-color: #FFFFFF;\n",
              "      --disabled-bg-color: #3B4455;\n",
              "      --disabled-fill-color: #666;\n",
              "  }\n",
              "\n",
              "  .colab-df-quickchart {\n",
              "    background-color: var(--bg-color);\n",
              "    border: none;\n",
              "    border-radius: 50%;\n",
              "    cursor: pointer;\n",
              "    display: none;\n",
              "    fill: var(--fill-color);\n",
              "    height: 32px;\n",
              "    padding: 0;\n",
              "    width: 32px;\n",
              "  }\n",
              "\n",
              "  .colab-df-quickchart:hover {\n",
              "    background-color: var(--hover-bg-color);\n",
              "    box-shadow: 0 1px 2px rgba(60, 64, 67, 0.3), 0 1px 3px 1px rgba(60, 64, 67, 0.15);\n",
              "    fill: var(--button-hover-fill-color);\n",
              "  }\n",
              "\n",
              "  .colab-df-quickchart-complete:disabled,\n",
              "  .colab-df-quickchart-complete:disabled:hover {\n",
              "    background-color: var(--disabled-bg-color);\n",
              "    fill: var(--disabled-fill-color);\n",
              "    box-shadow: none;\n",
              "  }\n",
              "\n",
              "  .colab-df-spinner {\n",
              "    border: 2px solid var(--fill-color);\n",
              "    border-color: transparent;\n",
              "    border-bottom-color: var(--fill-color);\n",
              "    animation:\n",
              "      spin 1s steps(1) infinite;\n",
              "  }\n",
              "\n",
              "  @keyframes spin {\n",
              "    0% {\n",
              "      border-color: transparent;\n",
              "      border-bottom-color: var(--fill-color);\n",
              "      border-left-color: var(--fill-color);\n",
              "    }\n",
              "    20% {\n",
              "      border-color: transparent;\n",
              "      border-left-color: var(--fill-color);\n",
              "      border-top-color: var(--fill-color);\n",
              "    }\n",
              "    30% {\n",
              "      border-color: transparent;\n",
              "      border-left-color: var(--fill-color);\n",
              "      border-top-color: var(--fill-color);\n",
              "      border-right-color: var(--fill-color);\n",
              "    }\n",
              "    40% {\n",
              "      border-color: transparent;\n",
              "      border-right-color: var(--fill-color);\n",
              "      border-top-color: var(--fill-color);\n",
              "    }\n",
              "    60% {\n",
              "      border-color: transparent;\n",
              "      border-right-color: var(--fill-color);\n",
              "    }\n",
              "    80% {\n",
              "      border-color: transparent;\n",
              "      border-right-color: var(--fill-color);\n",
              "      border-bottom-color: var(--fill-color);\n",
              "    }\n",
              "    90% {\n",
              "      border-color: transparent;\n",
              "      border-bottom-color: var(--fill-color);\n",
              "    }\n",
              "  }\n",
              "</style>\n",
              "\n",
              "  <script>\n",
              "    async function quickchart(key) {\n",
              "      const quickchartButtonEl =\n",
              "        document.querySelector('#' + key + ' button');\n",
              "      quickchartButtonEl.disabled = true;  // To prevent multiple clicks.\n",
              "      quickchartButtonEl.classList.add('colab-df-spinner');\n",
              "      try {\n",
              "        const charts = await google.colab.kernel.invokeFunction(\n",
              "            'suggestCharts', [key], {});\n",
              "      } catch (error) {\n",
              "        console.error('Error during call to suggestCharts:', error);\n",
              "      }\n",
              "      quickchartButtonEl.classList.remove('colab-df-spinner');\n",
              "      quickchartButtonEl.classList.add('colab-df-quickchart-complete');\n",
              "    }\n",
              "    (() => {\n",
              "      let quickchartButtonEl =\n",
              "        document.querySelector('#df-5b9d52bb-8425-4f20-99ce-87c5e11bd9b6 button');\n",
              "      quickchartButtonEl.style.display =\n",
              "        google.colab.kernel.accessAllowed ? 'block' : 'none';\n",
              "    })();\n",
              "  </script>\n",
              "</div>\n",
              "\n",
              "    </div>\n",
              "  </div>\n"
            ],
            "application/vnd.google.colaboratory.intrinsic+json": {
              "type": "dataframe",
              "summary": "{\n  \"name\": \"data\",\n  \"rows\": 8,\n  \"fields\": [\n    {\n      \"column\": \"words\",\n      \"properties\": {\n        \"dtype\": \"number\",\n        \"std\": 2399.2004375257507,\n        \"min\": 10.0,\n        \"max\": 6848.0,\n        \"num_unique_values\": 8,\n        \"samples\": [\n          41.389456775700936,\n          33.0,\n          6848.0\n        ],\n        \"semantic_type\": \"\",\n        \"description\": \"\"\n      }\n    },\n    {\n      \"column\": \"sentiment_id\",\n      \"properties\": {\n        \"dtype\": \"number\",\n        \"std\": 2420.7860755553256,\n        \"min\": 0.0,\n        \"max\": 6848.0,\n        \"num_unique_values\": 6,\n        \"samples\": [\n          6848.0,\n          1.0565128504672898,\n          2.0\n        ],\n        \"semantic_type\": \"\",\n        \"description\": \"\"\n      }\n    }\n  ]\n}"
            }
          },
          "metadata": {},
          "execution_count": 68
        },
        {
          "output_type": "stream",
          "name": "stdout",
          "text": [
            "time: 22.1 ms (started: 2024-06-21 13:45:31 +00:00)\n"
          ]
        }
      ],
      "source": [
        "data.describe()"
      ]
    },
    {
      "cell_type": "markdown",
      "metadata": {
        "id": "I9oAjlqipore"
      },
      "source": [
        "## Decide the dictionary size and the review size\n",
        "\n",
        "For preprocessing the text, we need to decide the **dictionary (vocab) size** and the **maximum review (text) size**.\n",
        "\n",
        "We will just take the `min` and `max`."
      ]
    },
    {
      "cell_type": "code",
      "execution_count": null,
      "metadata": {
        "colab": {
          "base_uri": "https://localhost:8080/"
        },
        "id": "2frnPx9C4wE6",
        "outputId": "a46ff2ec-db2e-4382-d3d3-46604fc578a1"
      },
      "outputs": [
        {
          "output_type": "stream",
          "name": "stdout",
          "text": [
            "time: 823 µs (started: 2024-06-21 16:34:50 +00:00)\n"
          ]
        }
      ],
      "source": [
        "vocab_size = vocab_size\n",
        "max_len = max_review_size"
      ]
    },
    {
      "cell_type": "markdown",
      "metadata": {
        "id": "3pK1RrG8rROz"
      },
      "source": [
        "## Prepare the Keras Text Vectorization layer\n",
        "\n"
      ]
    },
    {
      "cell_type": "markdown",
      "metadata": {
        "id": "5oWtp04EnUiE"
      },
      "source": [
        "### Custom Standardization\n",
        "As a first step of text preprocessing, we will standardize the text by using the below function."
      ]
    },
    {
      "cell_type": "code",
      "execution_count": null,
      "metadata": {
        "colab": {
          "base_uri": "https://localhost:8080/"
        },
        "id": "cOT-mq3Q6fc6",
        "outputId": "3db6a1cc-b74d-477f-8d32-1669676b0692"
      },
      "outputs": [
        {
          "output_type": "stream",
          "name": "stdout",
          "text": [
            "time: 1.18 ms (started: 2024-06-21 13:45:32 +00:00)\n"
          ]
        }
      ],
      "source": [
        "@tf.keras.utils.register_keras_serializable()\n",
        "def custom_standardization(input_string):\n",
        "    \"\"\" Preprocess Russian text \"\"\"\n",
        "    # Convert text to lowercase\n",
        "    no_uppercased = tf.strings.lower(input_string, encoding='utf-8')\n",
        "    # Remove HTML tags\n",
        "    no_html_tags = tf.strings.regex_replace(no_uppercased, \"<[^>]+>\", \" \")\n",
        "    # Remove email addresses\n",
        "    no_emails = tf.strings.regex_replace(no_html_tags, r'\\S+@\\S+', ' ')\n",
        "    # Remove digits\n",
        "    no_digits = tf.strings.regex_replace(no_emails, r\"\\d\", \" \")\n",
        "    # Remove punctuation\n",
        "    no_punctuations = tf.strings.regex_replace(no_digits, f\"([{string.punctuation}])\", r\" \")\n",
        "    # Remove newlines\n",
        "    no_newlines = tf.strings.regex_replace(no_punctuations, \"\\n\", \" \")\n",
        "    # Remove extra spaces\n",
        "    no_extra_space = tf.strings.regex_replace(no_newlines, \" +\", \" \")\n",
        "    no_Ё = tf.strings.regex_replace(no_extra_space, \"ё\", \"е\")\n",
        "    no_Й = tf.strings.regex_replace(no_Ё, \"й\", \"и\")\n",
        "    return no_Й"
      ]
    },
    {
      "cell_type": "code",
      "execution_count": null,
      "metadata": {
        "colab": {
          "base_uri": "https://localhost:8080/"
        },
        "id": "4M2IQsBBuy-a",
        "outputId": "42ad9d44-a314-4934-fe1d-f97bf154e60d"
      },
      "outputs": [
        {
          "output_type": "stream",
          "name": "stdout",
          "text": [
            "input:   \n",
            "<html>\n",
            "<head>\n",
            "<title>Прймер -_=заголовка</title>\n",
            "</head>\n",
            "<body>\n",
            "<p>Это пример текста с некоторыми знаками пунктуации: тест, тест, тест.</p>\n",
            "<p>Также в нем содержатся цифры, напримёр 123456.</p>\n",
            "<p>И некоторые образцы - _ для удаления: образец1 и образец2.</p>\n",
            "<p>Контактный адрес электронной почты: example@example.com</p>\n",
            "</body>\n",
            "</html>\n",
            "\n",
            "output:   пример заголовка это пример текста с некоторыми знаками пунктуации тест тест тест также в нем содержатся цифры например и некоторые образцы для удаления образец и образец контактныи адрес электроннои почты \n",
            "time: 20.8 ms (started: 2024-06-21 13:45:32 +00:00)\n"
          ]
        }
      ],
      "source": [
        "input_string = \"\"\"\n",
        "<html>\n",
        "<head>\n",
        "<title>Прймер -_=заголовка</title>\n",
        "</head>\n",
        "<body>\n",
        "<p>Это пример текста с некоторыми знаками пунктуации: тест, тест, тест.</p>\n",
        "<p>Также в нем содержатся цифры, напримёр 123456.</p>\n",
        "<p>И некоторые образцы - _ для удаления: образец1 и образец2.</p>\n",
        "<p>Контактный адрес электронной почты: example@example.com</p>\n",
        "</body>\n",
        "</html>\n",
        "\"\"\"\n",
        "\n",
        "print(\"input:  \", input_string)\n",
        "output_string= custom_standardization(input_string)\n",
        "print(\"output: \", output_string.numpy().decode(\"utf-8\"))"
      ]
    },
    {
      "cell_type": "markdown",
      "metadata": {
        "id": "n13_xGT0n2G9"
      },
      "source": [
        "### Build a TextVectorization layer"
      ]
    },
    {
      "cell_type": "markdown",
      "metadata": {
        "id": "GkigEVBvjqmk"
      },
      "source": [
        "Let's build our `TextVectorization` layer:"
      ]
    },
    {
      "cell_type": "code",
      "execution_count": null,
      "metadata": {
        "colab": {
          "base_uri": "https://localhost:8080/"
        },
        "id": "8w0EVbmjQQTo",
        "outputId": "1d38c8f1-e514-44b5-f30c-fdf04960f915"
      },
      "outputs": [
        {
          "output_type": "stream",
          "name": "stdout",
          "text": [
            "time: 23.1 ms (started: 2024-06-21 13:45:33 +00:00)\n"
          ]
        }
      ],
      "source": [
        "vectorize_layer = TextVectorization(\n",
        "    standardize=custom_standardization,\n",
        "    max_tokens=vocab_size - 1,\n",
        "    output_mode=\"int\",\n",
        "    output_sequence_length=max_len,\n",
        ")"
      ]
    },
    {
      "cell_type": "markdown",
      "metadata": {
        "id": "-BNECmcJoA2k"
      },
      "source": [
        "### Adopt the Text Vectorization layer"
      ]
    },
    {
      "cell_type": "code",
      "execution_count": null,
      "metadata": {
        "colab": {
          "base_uri": "https://localhost:8080/"
        },
        "id": "N8nd1qGXwy-Q",
        "outputId": "9edd9957-d1c7-48b7-d927-77ec6c79600d"
      },
      "outputs": [
        {
          "output_type": "stream",
          "name": "stdout",
          "text": [
            "time: 10.5 s (started: 2024-06-21 13:45:33 +00:00)\n"
          ]
        }
      ],
      "source": [
        "vectorize_layer.adapt(train_text_ds_raw)\n",
        "vocab = vectorize_layer.get_vocabulary()"
      ]
    },
    {
      "cell_type": "markdown",
      "metadata": {
        "id": "4WOHYDCsoHA2"
      },
      "source": [
        "### Check the dictionary (vocab) and preprocessing"
      ]
    },
    {
      "cell_type": "code",
      "execution_count": null,
      "metadata": {
        "colab": {
          "base_uri": "https://localhost:8080/"
        },
        "id": "lUiKWQEzP78l",
        "outputId": "1f6ed017-511a-47ba-8ee5-32e5ae801d23"
      },
      "outputs": [
        {
          "output_type": "stream",
          "name": "stdout",
          "text": [
            "vocab has the  19507  entries\n",
            "vocab has the following first 10 entries\n",
            "0  represents the word:  \n",
            "1  represents the word:  [UNK]\n",
            "2  represents the word:  в\n",
            "3  represents the word:  и\n",
            "4  represents the word:  на\n",
            "5  represents the word:  с\n",
            "6  represents the word:  россии\n",
            "7  represents the word:  из\n",
            "8  represents the word:  санкции\n",
            "9  represents the word:  что\n",
            "2 sample text preprocessing:\n",
            " Given raw data: \n",
            "В первой половине 2023 года Виола (бывшее имя Валио), бывшая «дочь» финского Валио, которая покинула Россию, продала почти 6,5 тысяч тонн продуктов, что на 26% больше, чем за тот же период 2022 года. Из компании поставляется не только по всей России, но и в близлежащие страны за рубежом и во Вьетнаме.\n",
            " Tokenized and Transformed to a vector of integers: \n",
            "tf.Tensor(\n",
            "[[    2   492   597    11  3051  4838  2654  1693  3061  3087  3657  1693\n",
            "     52  2568    34  2857   175   193    58    51     9     4   143    79\n",
            "     12  1192   138   354    11     7    17  3302    16   129    13  2173\n",
            "      6    65     3     2 17388    25    12   855     3    94  2403     0\n",
            "      0     0     0     0     0     0     0     0     0     0     0     0]], shape=(1, 60), dtype=int64)\n",
            " Text after Tokenized and Transformed: \n",
            " в первои половине года виола бывшее имя валио бывшая «дочь» финского валио которая покинула россию продала почти тысяч тонн продуктов что на больше чем за тот же период года из компании поставляется не только по всеи россии но и в близлежащие страны за рубежом и во вьетнаме             \n",
            " Given raw data: \n",
            "Итальянская группа Unicredit видит интерес к российскому банку UniCredit из стран, которые не наложили санкции против России. В России заинтересованы в российских финансовых учреждениях, которые не попадают в санкции, заинтересованные компании для получения банковской лицензии в России, а также с потенциальными кандидатами из Китая, Турции и Индии, которые хотят получить шоу западных компаний в России Итальянская команда хочет сохранить возможность восстановить дочернюю компанию в будущем.\n",
            " Tokenized and Transformed to a vector of integers: \n",
            "tf.Tensor(\n",
            "[[1557  313 3090 3537 1045   19  689 5802 3090    7   40   21   16  612\n",
            "     8   14    6    2    6 1820    2   24 1068 5011   21   16 1641    2\n",
            "     8 4040   17   10 3310 2194  511    2    6   41   38    5 2876 6820\n",
            "     7   50   60    3   70   21  733  463 7411   59   17    2    6 1557\n",
            "  6801  890 1019  188]], shape=(1, 60), dtype=int64)\n",
            " Text after Tokenized and Transformed: \n",
            " итальянская группа unicredit видит интерес к россиискому банку unicredit из стран которые не наложили санкции против россии в россии заинтересованы в россииских финансовых учреждениях которые не попадают в санкции заинтересованные компании для получения банковскои лицензии в россии а также с потенциальными кандидатами из китая турции и индии которые хотят получить шоу западных компании в россии итальянская команда хочет сохранить возможность\n",
            "time: 94.1 ms (started: 2024-06-21 13:45:44 +00:00)\n"
          ]
        }
      ],
      "source": [
        "# Print the number of entries in the vocabulary\n",
        "print(\"vocab has the \", len(vocab),\" entries\")\n",
        "\n",
        "# Print the first 10 entries in the vocabulary\n",
        "print(\"vocab has the following first 10 entries\")\n",
        "for word in range(10):\n",
        "  print(word, \" represents the word: \", vocab[word])\n",
        "\n",
        "# Print a header indicating that the following code will preprocess 2 text samples\n",
        "print(\"2 sample text preprocessing:\")\n",
        "\n",
        "# Loop over 2 random samples from the train_text_ds_raw dataset\n",
        "for X in train_text_ds_raw.take(2):\n",
        "\n",
        "  # Print the raw text data for the current sample\n",
        "  print(\" Given raw data: \" )\n",
        "  print(X.numpy().decode(\"utf-8\") )\n",
        "\n",
        "  # Tokenize the raw text data using the TextVectorization layer and convert the tokens to a vector of integers\n",
        "  tokenized = vectorize_layer(tf.expand_dims(X, -1))\n",
        "\n",
        "  # Print the tokenized and transformed text data as a vector of integers\n",
        "  print(\" Tokenized and Transformed to a vector of integers: \" )\n",
        "  print (tokenized)\n",
        "\n",
        "  # Convert the vector of integers back to a string of words by looking up each integer in the vocabulary\n",
        "  transformed = \"\"\n",
        "  for each in tf.squeeze(tokenized):\n",
        "    transformed= transformed+ \" \"+ vocab[each]\n",
        "  print(\" Text after Tokenized and Transformed: \")\n",
        "  print(transformed)"
      ]
    },
    {
      "cell_type": "markdown",
      "metadata": {
        "id": "AwLTEYa7a2aD"
      },
      "source": [
        "### Save & Load the adopted TextVectorization layer\n",
        "Since adopting `TextVectorization` layer may take **considerable time**, you would like to save it for future runs.\n",
        "As a simple and straight way, we can save the trained `TextVectorization` layer by embedding in a Keras model as follows:"
      ]
    },
    {
      "cell_type": "code",
      "execution_count": null,
      "metadata": {
        "colab": {
          "base_uri": "https://localhost:8080/"
        },
        "id": "LRvfjtqQa8Wa",
        "outputId": "1c7af3de-567d-4a01-d9f2-0426ccc4ba79"
      },
      "outputs": [
        {
          "output_type": "stream",
          "name": "stdout",
          "text": [
            "Model: \"sequential\"\n",
            "_________________________________________________________________\n",
            " Layer (type)                Output Shape              Param #   \n",
            "=================================================================\n",
            " text_vectorization (TextVe  (None, 60)                0         \n",
            " ctorization)                                                    \n",
            "                                                                 \n",
            "=================================================================\n",
            "Total params: 0 (0.00 Byte)\n",
            "Trainable params: 0 (0.00 Byte)\n",
            "Non-trainable params: 0 (0.00 Byte)\n",
            "_________________________________________________________________\n"
          ]
        },
        {
          "output_type": "stream",
          "name": "stderr",
          "text": [
            "WARNING:tensorflow:Compiled the loaded model, but the compiled metrics have yet to be built. `model.compile_metrics` will be empty until you train or evaluate the model.\n"
          ]
        },
        {
          "output_type": "stream",
          "name": "stdout",
          "text": [
            "time: 2 s (started: 2024-06-21 13:45:44 +00:00)\n"
          ]
        }
      ],
      "source": [
        "vectorizer_model = tf.keras.models.Sequential()\n",
        "vectorizer_model.add(tf.keras.Input(shape=(1,), dtype=tf.string))\n",
        "vectorizer_model.add(vectorize_layer)\n",
        "vectorizer_model.summary()\n",
        "\n",
        "filepath = \"vectorize_layer_model\"\n",
        "vectorizer_model.save(filepath, save_format=\"tf\")"
      ]
    },
    {
      "cell_type": "code",
      "execution_count": null,
      "metadata": {
        "colab": {
          "base_uri": "https://localhost:8080/"
        },
        "id": "a-BtuFg-5-yL",
        "outputId": "e6bf8744-9564-4efb-fc5b-f6b9e77b4a4c"
      },
      "outputs": [
        {
          "output_type": "stream",
          "name": "stderr",
          "text": [
            "WARNING:tensorflow:No training configuration found in save file, so the model was *not* compiled. Compile it manually.\n"
          ]
        },
        {
          "output_type": "stream",
          "name": "stdout",
          "text": [
            "time: 342 ms (started: 2024-06-21 13:45:46 +00:00)\n"
          ]
        }
      ],
      "source": [
        "# Load the saved model\n",
        "loaded_vectorizer_model = tf.keras.models.load_model(filepath)\n",
        "loaded_vectorizer_layer = loaded_vectorizer_model.layers[0]"
      ]
    },
    {
      "cell_type": "markdown",
      "metadata": {
        "id": "CbV8D9hsopHQ"
      },
      "source": [
        "### Check the loaded Text Vectorization layer"
      ]
    },
    {
      "cell_type": "markdown",
      "metadata": {
        "id": "xHkFI6lKZXXP"
      },
      "source": [
        "We have 2 options:\n",
        "* Use the loaded model to vectorize the text, or\n",
        "* Use the loaded layer.\n",
        "\n",
        "Let's check if the loaded model and the layer have the same **vocab** and **preprocessing behaivor**."
      ]
    },
    {
      "cell_type": "code",
      "execution_count": null,
      "metadata": {
        "colab": {
          "base_uri": "https://localhost:8080/"
        },
        "id": "RuYPZL21br_i",
        "outputId": "af547041-9579-4afc-8fd8-1cba34a78d17"
      },
      "outputs": [
        {
          "output_type": "stream",
          "name": "stdout",
          "text": [
            "original vocab has the  19507  entries\n",
            "loaded_vectorizer_layer vocab has the  19507  entries\n",
            "original vocab:  ['', '[UNK]', 'в', 'и', 'на', 'с', 'россии', 'из', 'санкции', 'что']\n",
            "loaded vocab  :  ['', '[UNK]', 'в', 'и', 'на', 'с', 'россии', 'из', 'санкции', 'что']\n",
            "time: 87.9 ms (started: 2024-06-21 13:45:47 +00:00)\n"
          ]
        }
      ],
      "source": [
        "loaded_vocab = loaded_vectorizer_layer.get_vocabulary()\n",
        "print(\"original vocab has the \", len(vocab),\" entries\")\n",
        "print(\"loaded_vectorizer_layer vocab has the \", len(loaded_vocab),\" entries\")\n",
        "print(\"original vocab: \", vocab[:10])\n",
        "print(\"loaded vocab  : \", loaded_vocab[:10])"
      ]
    },
    {
      "cell_type": "code",
      "execution_count": null,
      "metadata": {
        "colab": {
          "base_uri": "https://localhost:8080/"
        },
        "id": "hk2CVBAjcsEx",
        "outputId": "01929943-d9cf-49b4-c567-ccc89718f60d"
      },
      "outputs": [
        {
          "output_type": "stream",
          "name": "stdout",
          "text": [
            " Given raw data: \n",
            "В первой половине 2023 года Виола (бывшее имя Валио), бывшая «дочь» финского Валио, которая покинула Россию, продала почти 6,5 тысяч тонн продуктов, что на 26% больше, чем за тот же период 2022 года. Из компании поставляется не только по всей России, но и в близлежащие страны за рубежом и во Вьетнаме.\n",
            " original vectorizer layer: Tokenized and Transformed to a vector of integers: \n",
            "tf.Tensor(\n",
            "[[    2   492   597    11  3051  4838  2654  1693  3061  3087  3657  1693\n",
            "     52  2568    34  2857   175   193    58    51     9     4   143    79\n",
            "     12  1192   138   354    11     7    17  3302    16   129    13  2173\n",
            "      6    65     3     2 17388    25    12   855     3    94  2403     0\n",
            "      0     0     0     0     0     0     0     0     0     0     0     0]], shape=(1, 60), dtype=int64)\n",
            " loaded_vectorizer_layer: Tokenized and Transformed to a vector of integers: \n",
            "tf.Tensor(\n",
            "[[    2   492   597    11  3051  4838  2654  1693  3061  3087  3657  1693\n",
            "     52  2568    34  2857   175   193    58    51     9     4   143    79\n",
            "     12  1192   138   354    11     7    17  3302    16   129    13  2173\n",
            "      6    65     3     2 17388    25    12   855     3    94  2403     0\n",
            "      0     0     0     0     0     0     0     0     0     0     0     0]], shape=(1, 60), dtype=int64)\n",
            "1/1 [==============================] - 0s 146ms/step\n",
            " loaded_vectorizer_model: Tokenized and Transformed to a vector of integers: \n",
            "[[    2   492   597    11  3051  4838  2654  1693  3061  3087  3657  1693\n",
            "     52  2568    34  2857   175   193    58    51     9     4   143    79\n",
            "     12  1192   138   354    11     7    17  3302    16   129    13  2173\n",
            "      6    65     3     2 17388    25    12   855     3    94  2403     0\n",
            "      0     0     0     0     0     0     0     0     0     0     0     0]]\n",
            " Text after Tokenized and Transformed: \n",
            " в первои половине года виола бывшее имя валио бывшая «дочь» финского валио которая покинула россию продала почти тысяч тонн продуктов что на больше чем за тот же период года из компании поставляется не только по всеи россии но и в близлежащие страны за рубежом и во вьетнаме             \n",
            "time: 274 ms (started: 2024-06-21 13:45:47 +00:00)\n"
          ]
        }
      ],
      "source": [
        "for X in train_text_ds_raw.take(1):\n",
        "  print(\" Given raw data: \" )\n",
        "  print(X.numpy().decode(\"utf-8\") )\n",
        "\n",
        "  tokenized = vectorize_layer(tf.expand_dims(X, -1))\n",
        "  print(\" original vectorizer layer: Tokenized and Transformed to a vector of integers: \" )\n",
        "  print(tokenized)\n",
        "\n",
        "  tokenized = loaded_vectorizer_layer(tf.expand_dims(X, -1))\n",
        "  print(\" loaded_vectorizer_layer: Tokenized and Transformed to a vector of integers: \" )\n",
        "  #print (tokenized.to_tensor(shape=[1, max_review_size]))\n",
        "  print(tokenized)\n",
        "\n",
        "  tokenized = loaded_vectorizer_model.predict(tf.expand_dims(X, -1))\n",
        "  print(\" loaded_vectorizer_model: Tokenized and Transformed to a vector of integers: \" )\n",
        "  #print (tokenized.to_tensor(shape=[1, max_review_size]))\n",
        "  print(tokenized)\n",
        "\n",
        "  print(\" Text after Tokenized and Transformed: \")\n",
        "  transformed = \"\"\n",
        "  for each in tf.squeeze(tokenized):\n",
        "    transformed= transformed+ \" \"+ vocab[each]\n",
        "  print(transformed)"
      ]
    },
    {
      "cell_type": "markdown",
      "metadata": {
        "id": "B8u-YGa_b51s"
      },
      "source": [
        "## Preprocess the Train & Test Data by the adopted TextVecorization Layer"
      ]
    },
    {
      "cell_type": "code",
      "execution_count": null,
      "metadata": {
        "colab": {
          "base_uri": "https://localhost:8080/"
        },
        "id": "sQAPD_JWUwDk",
        "outputId": "301d8609-ffe6-488d-a5d9-77f0cb27c5c5"
      },
      "outputs": [
        {
          "output_type": "stream",
          "name": "stdout",
          "text": [
            "time: 672 µs (started: 2024-06-21 13:45:47 +00:00)\n"
          ]
        }
      ],
      "source": [
        "prepare_lm_inputs_labels = lambda text: tf.squeeze(vectorize_layer(tf.expand_dims(text, -1)))"
      ]
    },
    {
      "cell_type": "markdown",
      "metadata": {
        "id": "wPPlnaI2Svqq"
      },
      "source": [
        "### Process the Train Data"
      ]
    },
    {
      "cell_type": "code",
      "execution_count": null,
      "metadata": {
        "colab": {
          "base_uri": "https://localhost:8080/"
        },
        "id": "1ZvtYD3fA6st",
        "outputId": "c622bd29-0ad8-4b98-ef56-7795853676b0"
      },
      "outputs": [
        {
          "output_type": "stream",
          "name": "stdout",
          "text": [
            "time: 73.5 ms (started: 2024-06-21 13:45:47 +00:00)\n"
          ]
        }
      ],
      "source": [
        "train_text_ds = train_text_ds_raw.map(prepare_lm_inputs_labels,\n",
        "                                  num_parallel_calls=tf.data.experimental.AUTOTUNE)"
      ]
    },
    {
      "cell_type": "markdown",
      "metadata": {
        "id": "u-z2eBUeEIxl"
      },
      "source": [
        "**Let's check the result**"
      ]
    },
    {
      "cell_type": "code",
      "execution_count": null,
      "metadata": {
        "colab": {
          "base_uri": "https://localhost:8080/"
        },
        "id": "fm6dSqnaVNJm",
        "outputId": "a321075f-8f90-41b1-bce4-d07247625cb4"
      },
      "outputs": [
        {
          "output_type": "execute_result",
          "data": {
            "text/plain": [
              "TensorSpec(shape=<unknown>, dtype=tf.int64, name=None)"
            ]
          },
          "metadata": {},
          "execution_count": 83
        },
        {
          "output_type": "stream",
          "name": "stdout",
          "text": [
            "time: 4.55 ms (started: 2024-06-21 13:45:47 +00:00)\n"
          ]
        }
      ],
      "source": [
        "train_text_ds.element_spec"
      ]
    },
    {
      "cell_type": "code",
      "execution_count": null,
      "metadata": {
        "colab": {
          "base_uri": "https://localhost:8080/"
        },
        "id": "C-VI2K5p7jSx",
        "outputId": "60c1e746-205f-4a5a-a314-170860c7d782"
      },
      "outputs": [
        {
          "output_type": "stream",
          "name": "stdout",
          "text": [
            "time: 4.3 ms (started: 2024-06-21 13:45:47 +00:00)\n"
          ]
        }
      ],
      "source": [
        "train_ds = tf.data.Dataset.zip(\n",
        "    (train_text_ds,train_sentiment_ds_raw)\n",
        ")"
      ]
    },
    {
      "cell_type": "code",
      "execution_count": null,
      "metadata": {
        "colab": {
          "base_uri": "https://localhost:8080/"
        },
        "id": "nz8zrDUlMkfp",
        "outputId": "33734f63-4044-4918-b71e-c359a88bd933"
      },
      "outputs": [
        {
          "output_type": "stream",
          "name": "stdout",
          "text": [
            "Train size:  4930\n",
            "time: 1.26 ms (started: 2024-06-21 13:45:47 +00:00)\n"
          ]
        }
      ],
      "source": [
        "train_size = train_ds.cardinality().numpy()\n",
        "print(\"Train size: \", train_size)"
      ]
    },
    {
      "cell_type": "markdown",
      "metadata": {
        "id": "YwHBcSzC2qW_"
      },
      "source": [
        "### Process the Validation Data"
      ]
    },
    {
      "cell_type": "markdown",
      "metadata": {
        "id": "6guXFRW7Gsy_"
      },
      "source": [
        "Let's create the input (text) and output TF Datasets:"
      ]
    },
    {
      "cell_type": "code",
      "execution_count": null,
      "metadata": {
        "colab": {
          "base_uri": "https://localhost:8080/"
        },
        "id": "5FiqWbvaGy1-",
        "outputId": "e8e56032-252d-494c-eec9-92eaf17e03bb"
      },
      "outputs": [
        {
          "output_type": "stream",
          "name": "stdout",
          "text": [
            "time: 5.04 ms (started: 2024-06-21 13:45:47 +00:00)\n"
          ]
        }
      ],
      "source": [
        "val_text_ds_raw = tf.data.Dataset.from_tensor_slices(\n",
        "            tf.cast(val_features.values, tf.string)\n",
        ")"
      ]
    },
    {
      "cell_type": "code",
      "execution_count": null,
      "metadata": {
        "colab": {
          "base_uri": "https://localhost:8080/"
        },
        "id": "t9yJLVQHG9we",
        "outputId": "2d04bff4-9132-40b5-811e-d01c783a174b"
      },
      "outputs": [
        {
          "output_type": "stream",
          "name": "stdout",
          "text": [
            "time: 4.79 ms (started: 2024-06-21 13:45:48 +00:00)\n"
          ]
        }
      ],
      "source": [
        "val_sentiment_ds_raw = tf.data.Dataset.from_tensor_slices(\n",
        "            tf.cast(val_target.values, tf.int64),\n",
        ")"
      ]
    },
    {
      "cell_type": "markdown",
      "metadata": {
        "id": "VsOjUVazHH0g"
      },
      "source": [
        "Let's apply the same fuction ```prepare_lm_inputs_labels``` for the text in the validation data as follows:"
      ]
    },
    {
      "cell_type": "code",
      "execution_count": null,
      "metadata": {
        "colab": {
          "base_uri": "https://localhost:8080/"
        },
        "id": "0SJK8Us3HM0K",
        "outputId": "5bdd1d77-165e-40d3-9478-383ace5f7ec7"
      },
      "outputs": [
        {
          "output_type": "stream",
          "name": "stdout",
          "text": [
            "time: 72.5 ms (started: 2024-06-21 13:45:54 +00:00)\n"
          ]
        }
      ],
      "source": [
        "val_text_ds = val_text_ds_raw.map(prepare_lm_inputs_labels,\n",
        "                                  num_parallel_calls=tf.data.experimental.AUTOTUNE)"
      ]
    },
    {
      "cell_type": "markdown",
      "metadata": {
        "id": "aovhTGq3HT8n"
      },
      "source": [
        "We can now create the validation dataset by putting together the input (tokenized text) and the expected output as follows:"
      ]
    },
    {
      "cell_type": "code",
      "execution_count": null,
      "metadata": {
        "colab": {
          "base_uri": "https://localhost:8080/"
        },
        "id": "VvyHSvgUHZhW",
        "outputId": "f8fbcd57-c88b-486d-e36f-699d2e95c247"
      },
      "outputs": [
        {
          "output_type": "stream",
          "name": "stdout",
          "text": [
            "time: 3.57 ms (started: 2024-06-21 13:45:54 +00:00)\n"
          ]
        }
      ],
      "source": [
        "val_ds = tf.data.Dataset.zip(\n",
        "    (val_text_ds, val_sentiment_ds_raw)\n",
        ")"
      ]
    },
    {
      "cell_type": "markdown",
      "metadata": {
        "id": "H0cwI_9iGL7v"
      },
      "source": [
        "### Process the Test Data"
      ]
    },
    {
      "cell_type": "code",
      "execution_count": null,
      "metadata": {
        "colab": {
          "base_uri": "https://localhost:8080/"
        },
        "id": "jEs5Zphj2pNp",
        "outputId": "c4e33d83-575d-4b45-e143-38cfd84c433f"
      },
      "outputs": [
        {
          "output_type": "stream",
          "name": "stdout",
          "text": [
            "time: 8.51 ms (started: 2024-06-21 13:45:56 +00:00)\n"
          ]
        }
      ],
      "source": [
        "test_text_ds_raw = tf.data.Dataset.from_tensor_slices(\n",
        "            tf.cast(test_features.values, tf.string)\n",
        ")"
      ]
    },
    {
      "cell_type": "code",
      "execution_count": null,
      "metadata": {
        "colab": {
          "base_uri": "https://localhost:8080/"
        },
        "id": "r9G0fIIN3GAk",
        "outputId": "19889cc7-1816-4d3e-b771-cc1278c9d78a"
      },
      "outputs": [
        {
          "output_type": "stream",
          "name": "stdout",
          "text": [
            "time: 4 ms (started: 2024-06-21 13:45:56 +00:00)\n"
          ]
        }
      ],
      "source": [
        "test_sentiment_ds_raw = tf.data.Dataset.from_tensor_slices(\n",
        "            tf.cast(test_target.values, tf.int64),\n",
        ")"
      ]
    },
    {
      "cell_type": "code",
      "execution_count": null,
      "metadata": {
        "colab": {
          "base_uri": "https://localhost:8080/"
        },
        "id": "Rswg9fBz3Wh0",
        "outputId": "533a0fc6-11d0-4d9e-a0c6-714bdd62985f"
      },
      "outputs": [
        {
          "output_type": "stream",
          "name": "stdout",
          "text": [
            "time: 58.2 ms (started: 2024-06-21 13:45:56 +00:00)\n"
          ]
        }
      ],
      "source": [
        "test_text_ds = test_text_ds_raw.map(prepare_lm_inputs_labels,\n",
        "                                  num_parallel_calls=tf.data.experimental.AUTOTUNE)"
      ]
    },
    {
      "cell_type": "markdown",
      "metadata": {
        "id": "h2wsgzTaWlaf"
      },
      "source": [
        "We can now create the test dataset by putting together the input (tokenized reviews) and the expected output (the topic/class id) as follows:"
      ]
    },
    {
      "cell_type": "code",
      "execution_count": null,
      "metadata": {
        "colab": {
          "base_uri": "https://localhost:8080/"
        },
        "id": "L6WNJPw33j4q",
        "outputId": "132d26e8-41d2-43e1-e044-d102f713d0d8"
      },
      "outputs": [
        {
          "output_type": "stream",
          "name": "stdout",
          "text": [
            "time: 6.41 ms (started: 2024-06-21 13:45:57 +00:00)\n"
          ]
        }
      ],
      "source": [
        "test_ds = tf.data.Dataset.zip(\n",
        "    (test_text_ds, test_sentiment_ds_raw)\n",
        ")"
      ]
    },
    {
      "cell_type": "code",
      "execution_count": null,
      "metadata": {
        "colab": {
          "base_uri": "https://localhost:8080/"
        },
        "id": "t3jw9GmYzAYG",
        "outputId": "57061017-003e-48b4-d5d6-857fd255ab1a"
      },
      "outputs": [
        {
          "output_type": "stream",
          "name": "stdout",
          "text": [
            "Test size:  1370\n",
            "time: 2.39 ms (started: 2024-06-21 13:45:58 +00:00)\n"
          ]
        }
      ],
      "source": [
        "test_size = test_ds.cardinality().numpy()\n",
        "print(\"Test size: \", test_size)"
      ]
    },
    {
      "cell_type": "markdown",
      "metadata": {
        "id": "6fTRI4VM22vs"
      },
      "source": [
        "## Finalize the TensorFlow Data Pipeline"
      ]
    },
    {
      "cell_type": "markdown",
      "metadata": {
        "id": "c8e7dQ3uX2FC"
      },
      "source": [
        "We can now configure and optimize the train, validation, and test datasets."
      ]
    },
    {
      "cell_type": "code",
      "execution_count": null,
      "metadata": {
        "colab": {
          "base_uri": "https://localhost:8080/"
        },
        "id": "aqgknEOoMaei",
        "outputId": "d39a5285-9b35-4d0f-87f9-3e6b095318ad"
      },
      "outputs": [
        {
          "output_type": "stream",
          "name": "stdout",
          "text": [
            "time: 28.4 ms (started: 2024-06-21 13:45:59 +00:00)\n"
          ]
        }
      ],
      "source": [
        "batch_size=64\n",
        "AUTOTUNE=tf.data.experimental.AUTOTUNE\n",
        "\n",
        "train_ds=train_ds.shuffle(buffer_size=train_size)\n",
        "train_ds=train_ds.batch(batch_size=batch_size,drop_remainder=True)\n",
        "train_ds=train_ds.cache()\n",
        "train_ds = train_ds.prefetch(AUTOTUNE)\n",
        "\n",
        "val_ds=val_ds.shuffle(buffer_size=train_size)\n",
        "val_ds=val_ds.batch(batch_size=batch_size,drop_remainder=True)\n",
        "val_ds=val_ds.cache()\n",
        "val_ds = val_ds.prefetch(AUTOTUNE)\n",
        "\n",
        "test_ds=test_ds.shuffle(buffer_size=train_size)\n",
        "test_ds=test_ds.batch(batch_size=batch_size,drop_remainder=True)\n",
        "test_ds=test_ds.cache()\n",
        "test_ds = test_ds.prefetch(AUTOTUNE)"
      ]
    },
    {
      "cell_type": "markdown",
      "metadata": {
        "id": "O5CZ1cVsYIoo"
      },
      "source": [
        "Notice that we have now batches of reviews and topics:"
      ]
    },
    {
      "cell_type": "code",
      "execution_count": null,
      "metadata": {
        "colab": {
          "base_uri": "https://localhost:8080/"
        },
        "id": "xb5oVnsq_iR_",
        "outputId": "060b480f-c163-4441-ea6c-f9ad23db4809"
      },
      "outputs": [
        {
          "output_type": "execute_result",
          "data": {
            "text/plain": [
              "(TensorSpec(shape=<unknown>, dtype=tf.int64, name=None),\n",
              " TensorSpec(shape=(64,), dtype=tf.int64, name=None))"
            ]
          },
          "metadata": {},
          "execution_count": 96
        },
        {
          "output_type": "stream",
          "name": "stdout",
          "text": [
            "time: 3.65 ms (started: 2024-06-21 13:46:01 +00:00)\n"
          ]
        }
      ],
      "source": [
        "train_ds.element_spec"
      ]
    },
    {
      "cell_type": "markdown",
      "metadata": {
        "id": "iq4UNwuelBn7"
      },
      "source": [
        "# TEXT CLASSIFICATION WITH AN EMBEDDING LAYER IN A FEED FORWARD NETWORK"
      ]
    },
    {
      "cell_type": "markdown",
      "metadata": {
        "id": "XlyhKgzFLx5v"
      },
      "source": [
        "## Keras Embedding Layer"
      ]
    },
    {
      "cell_type": "markdown",
      "metadata": {
        "id": "0pTSL9qS4bwN"
      },
      "source": [
        "## A simple model with an embedding layer"
      ]
    },
    {
      "cell_type": "code",
      "execution_count": null,
      "metadata": {
        "colab": {
          "base_uri": "https://localhost:8080/"
        },
        "id": "bQpQvZfiXP6Y",
        "outputId": "bda3779c-dbd5-42f5-91bb-91132138b679"
      },
      "outputs": [
        {
          "output_type": "stream",
          "name": "stdout",
          "text": [
            "time: 121 ms (started: 2024-06-21 13:46:05 +00:00)\n"
          ]
        }
      ],
      "source": [
        "class FFNModel:\n",
        "    def __init__(self, max_len, vocab_size, embed_dim=16, feed_forward_dim=64, number_of_sentiment=3):\n",
        "        self.max_len = max_len\n",
        "        self.vocab_size = vocab_size\n",
        "        self.embed_dim = embed_dim\n",
        "        self.feed_forward_dim = feed_forward_dim\n",
        "        self.number_of_sentiment = number_of_sentiment\n",
        "\n",
        "    def build_model(self):\n",
        "        inputs_tokens = layers.Input(shape=(self.max_len,), dtype=tf.int32)\n",
        "        embedding_layer = layers.Embedding(input_dim=self.vocab_size,\n",
        "                                           output_dim=self.embed_dim,\n",
        "                                           input_length=self.max_len)\n",
        "        x = embedding_layer(inputs_tokens)\n",
        "        x = layers.Flatten()(x)\n",
        "        dense_layer = layers.Dense(self.feed_forward_dim, activation='relu')\n",
        "        x = dense_layer(x)\n",
        "        x = layers.Dropout(.5)(x)\n",
        "        outputs = layers.Dense(self.number_of_sentiment)(x)\n",
        "\n",
        "        model = keras.Model(inputs=inputs_tokens, outputs=outputs, name='model_FFN')\n",
        "        loss_fn = tf.keras.losses.SparseCategoricalCrossentropy(from_logits=True)\n",
        "        metric_fn = tf.keras.metrics.SparseCategoricalAccuracy()\n",
        "        model.compile(optimizer=\"adam\", loss=loss_fn, metrics=metric_fn)\n",
        "\n",
        "        return model\n",
        "\n",
        "model_builder = FFNModel(max_len, vocab_size)\n",
        "model_FFN = model_builder.build_model()"
      ]
    },
    {
      "cell_type": "code",
      "execution_count": null,
      "metadata": {
        "colab": {
          "base_uri": "https://localhost:8080/"
        },
        "id": "3BAt0FXuXW8w",
        "outputId": "040f4c80-cfab-4aed-dda6-17f76ebae2ea"
      },
      "outputs": [
        {
          "output_type": "stream",
          "name": "stdout",
          "text": [
            "Model: \"model_FFN\"\n",
            "_________________________________________________________________\n",
            " Layer (type)                Output Shape              Param #   \n",
            "=================================================================\n",
            " input_2 (InputLayer)        [(None, 60)]              0         \n",
            "                                                                 \n",
            " embedding (Embedding)       (None, 60, 16)            473712    \n",
            "                                                                 \n",
            " flatten (Flatten)           (None, 960)               0         \n",
            "                                                                 \n",
            " dense (Dense)               (None, 64)                61504     \n",
            "                                                                 \n",
            " dropout (Dropout)           (None, 64)                0         \n",
            "                                                                 \n",
            " dense_1 (Dense)             (None, 3)                 195       \n",
            "                                                                 \n",
            "=================================================================\n",
            "Total params: 535411 (2.04 MB)\n",
            "Trainable params: 535411 (2.04 MB)\n",
            "Non-trainable params: 0 (0.00 Byte)\n",
            "_________________________________________________________________\n",
            "time: 49.2 ms (started: 2024-06-21 13:46:06 +00:00)\n"
          ]
        }
      ],
      "source": [
        "model_FFN.summary()"
      ]
    },
    {
      "cell_type": "code",
      "execution_count": null,
      "metadata": {
        "colab": {
          "base_uri": "https://localhost:8080/",
          "height": 661
        },
        "id": "67kwMN_Wmand",
        "outputId": "b1c4625b-9c6b-4618-a67e-6e3f48105fd9"
      },
      "outputs": [
        {
          "output_type": "execute_result",
          "data": {
            "image/png": "[encoded data removed]",
            "text/plain": [
              "<IPython.core.display.Image object>"
            ]
          },
          "metadata": {},
          "execution_count": 99
        },
        {
          "output_type": "stream",
          "name": "stdout",
          "text": [
            "time: 413 ms (started: 2024-06-21 13:46:43 +00:00)\n"
          ]
        }
      ],
      "source": [
        "tf.keras.utils.plot_model(model_FFN,show_shapes=True)"
      ]
    },
    {
      "cell_type": "markdown",
      "metadata": {
        "id": "0QCOFKQ0mjNS"
      },
      "source": [
        "## Train"
      ]
    },
    {
      "cell_type": "code",
      "execution_count": null,
      "metadata": {
        "colab": {
          "base_uri": "https://localhost:8080/"
        },
        "id": "harWUj52wr40",
        "outputId": "da0b8519-b131-4b6d-d1c6-37afce8db2a9"
      },
      "outputs": [
        {
          "output_type": "execute_result",
          "data": {
            "text/plain": [
              "(TensorSpec(shape=<unknown>, dtype=tf.int64, name=None),\n",
              " TensorSpec(shape=(64,), dtype=tf.int64, name=None))"
            ]
          },
          "metadata": {},
          "execution_count": 100
        },
        {
          "output_type": "stream",
          "name": "stdout",
          "text": [
            "time: 3.68 ms (started: 2024-06-21 13:46:45 +00:00)\n"
          ]
        }
      ],
      "source": [
        "train_ds.element_spec"
      ]
    },
    {
      "cell_type": "code",
      "execution_count": null,
      "metadata": {
        "colab": {
          "base_uri": "https://localhost:8080/"
        },
        "id": "W2RbFNdSmlLH",
        "outputId": "0c9c4fc8-1b35-46bb-9813-5ecb18cc71e7"
      },
      "outputs": [
        {
          "output_type": "stream",
          "name": "stdout",
          "text": [
            "Epoch 1/7\n",
            "77/77 - 3s - loss: 1.0773 - sparse_categorical_accuracy: 0.4223 - val_loss: 1.0145 - val_sparse_categorical_accuracy: 0.6621 - 3s/epoch - 44ms/step\n",
            "Epoch 2/7\n",
            "77/77 - 1s - loss: 0.7426 - sparse_categorical_accuracy: 0.7877 - val_loss: 0.4784 - val_sparse_categorical_accuracy: 0.8633 - 595ms/epoch - 8ms/step\n",
            "Epoch 3/7\n",
            "77/77 - 1s - loss: 0.2080 - sparse_categorical_accuracy: 0.9592 - val_loss: 0.2416 - val_sparse_categorical_accuracy: 0.9238 - 572ms/epoch - 7ms/step\n",
            "Epoch 4/7\n",
            "77/77 - 1s - loss: 0.0504 - sparse_categorical_accuracy: 0.9961 - val_loss: 0.2026 - val_sparse_categorical_accuracy: 0.9277 - 584ms/epoch - 8ms/step\n",
            "Epoch 5/7\n",
            "77/77 - 1s - loss: 0.0220 - sparse_categorical_accuracy: 0.9992 - val_loss: 0.1944 - val_sparse_categorical_accuracy: 0.9316 - 555ms/epoch - 7ms/step\n",
            "Epoch 6/7\n",
            "77/77 - 1s - loss: 0.0119 - sparse_categorical_accuracy: 0.9998 - val_loss: 0.1819 - val_sparse_categorical_accuracy: 0.9355 - 546ms/epoch - 7ms/step\n",
            "Epoch 7/7\n",
            "77/77 - 1s - loss: 0.0081 - sparse_categorical_accuracy: 0.9998 - val_loss: 0.1832 - val_sparse_categorical_accuracy: 0.9316 - 582ms/epoch - 8ms/step\n",
            "time: 7.16 s (started: 2024-06-21 13:46:46 +00:00)\n"
          ]
        }
      ],
      "source": [
        "history = model_FFN.fit(train_ds, validation_data=val_ds, verbose=2, epochs=7)"
      ]
    },
    {
      "cell_type": "markdown",
      "metadata": {
        "id": "pCYwd7RQPH6W"
      },
      "source": [
        "Let's observe the **accuracy** and the **loss** values during the training at each epoch:"
      ]
    },
    {
      "cell_type": "code",
      "execution_count": null,
      "metadata": {
        "colab": {
          "base_uri": "https://localhost:8080/",
          "height": 489
        },
        "id": "5NfaojD5zm5P",
        "outputId": "c400d4be-bc04-4b36-de0b-ced33ecc7a26"
      },
      "outputs": [
        {
          "output_type": "display_data",
          "data": {
            "text/plain": [
              "<Figure size 640x480 with 1 Axes>"
            ],
            "image/png": "[encoded data removed]"
          },
          "metadata": {}
        },
        {
          "output_type": "stream",
          "name": "stdout",
          "text": [
            "time: 500 ms (started: 2024-06-21 13:47:26 +00:00)\n"
          ]
        }
      ],
      "source": [
        "plt.plot(history.history['sparse_categorical_accuracy'])\n",
        "plt.plot(history.history['val_sparse_categorical_accuracy'])\n",
        "plt.title('model_FFN accuracy')\n",
        "plt.ylabel('accuracy')\n",
        "plt.xlabel('epoch')\n",
        "plt.legend(['train', 'val'], loc='upper left')\n",
        "plt.show()"
      ]
    },
    {
      "cell_type": "code",
      "execution_count": null,
      "metadata": {
        "colab": {
          "base_uri": "https://localhost:8080/",
          "height": 489
        },
        "id": "J4v4YU4Lzt12",
        "outputId": "f86ff88b-2758-41d5-a2fb-d989f26d0a71"
      },
      "outputs": [
        {
          "output_type": "display_data",
          "data": {
            "text/plain": [
              "<Figure size 640x480 with 1 Axes>"
            ],
            "image/png": "[encoded data removed]"
          },
          "metadata": {}
        },
        {
          "output_type": "stream",
          "name": "stdout",
          "text": [
            "time: 258 ms (started: 2024-06-21 13:47:29 +00:00)\n"
          ]
        }
      ],
      "source": [
        "plt.plot(history.history['loss'])\n",
        "plt.plot(history.history['val_loss'])\n",
        "plt.title('model_FFN loss')\n",
        "plt.ylabel('loss')\n",
        "plt.xlabel('epoch')\n",
        "plt.legend(['train', 'val'], loc='upper left')\n",
        "plt.show()"
      ]
    },
    {
      "cell_type": "markdown",
      "metadata": {
        "id": "6fssqPfJm2TK"
      },
      "source": [
        "## Save the trained model"
      ]
    },
    {
      "cell_type": "code",
      "execution_count": null,
      "metadata": {
        "colab": {
          "base_uri": "https://localhost:8080/"
        },
        "id": "0d8aCcirmx2b",
        "outputId": "ac4f4095-bece-41ce-b5ed-fb1078d98e6a"
      },
      "outputs": [
        {
          "output_type": "stream",
          "name": "stdout",
          "text": [
            "time: 1.66 s (started: 2024-06-21 13:47:30 +00:00)\n"
          ]
        }
      ],
      "source": [
        "tf.keras.models.save_model(model_FFN, 'MultiClassTextClassification_FFN')"
      ]
    },
    {
      "cell_type": "markdown",
      "metadata": {
        "id": "IBopPR6knEd_"
      },
      "source": [
        "## Test"
      ]
    },
    {
      "cell_type": "markdown",
      "metadata": {
        "id": "iuP9CLQTnGJt"
      },
      "source": [
        "We can test the trained model with the test dataset:"
      ]
    },
    {
      "cell_type": "code",
      "execution_count": null,
      "metadata": {
        "colab": {
          "base_uri": "https://localhost:8080/"
        },
        "id": "XCj_8uKwm6i7",
        "outputId": "f93a3429-4f21-40f4-bc6d-3805afc7481f"
      },
      "outputs": [
        {
          "output_type": "stream",
          "name": "stdout",
          "text": [
            "21/21 [==============================] - 0s 4ms/step - loss: 0.1884 - sparse_categorical_accuracy: 0.9271\n",
            "Test accuracy:  0.9270833134651184\n",
            "time: 664 ms (started: 2024-06-21 13:47:40 +00:00)\n"
          ]
        }
      ],
      "source": [
        "loss, accuracy = model_FFN.evaluate(test_ds)\n",
        "print(\"Test accuracy: \", accuracy)"
      ]
    },
    {
      "cell_type": "markdown",
      "metadata": {
        "id": "VfU-UchUlkWt"
      },
      "source": [
        "## Predictions"
      ]
    },
    {
      "cell_type": "markdown",
      "metadata": {
        "id": "f30AOAGBQCik"
      },
      "source": [
        "We can use the **trained model** `predict()` method to **predict** the class of the given reviews as follows:"
      ]
    },
    {
      "cell_type": "code",
      "execution_count": null,
      "metadata": {
        "colab": {
          "base_uri": "https://localhost:8080/"
        },
        "id": "rtMua_wVloKz",
        "outputId": "2100c0e6-0eed-4438-ab04-62344d888134"
      },
      "outputs": [
        {
          "output_type": "stream",
          "name": "stdout",
          "text": [
            "21/21 [==============================] - 0s 2ms/step\n",
            "time: 126 ms (started: 2024-06-21 13:47:46 +00:00)\n"
          ]
        }
      ],
      "source": [
        "preds = model_FFN.predict(test_ds)\n",
        "preds = preds.argmax(axis=1)"
      ]
    },
    {
      "cell_type": "markdown",
      "metadata": {
        "id": "WwpP_pwBQTbM"
      },
      "source": [
        "We can also get the **actual (true)** class of the given reviews as follows:"
      ]
    },
    {
      "cell_type": "code",
      "execution_count": null,
      "metadata": {
        "colab": {
          "base_uri": "https://localhost:8080/"
        },
        "id": "DTSrCQpzmh60",
        "outputId": "1e87d8b0-2fd3-4786-b433-54309182e69f"
      },
      "outputs": [
        {
          "output_type": "stream",
          "name": "stdout",
          "text": [
            "time: 339 ms (started: 2024-06-21 13:47:51 +00:00)\n"
          ]
        }
      ],
      "source": [
        "actuals = test_ds.unbatch().map(lambda x,y: y)\n",
        "actuals=list(actuals.as_numpy_iterator())"
      ]
    },
    {
      "cell_type": "markdown",
      "metadata": {
        "id": "ahF0l03UQnec"
      },
      "source": [
        "By comparing the ***`preds`*** and the ***`actuals`*** values, we can **measure** the model performance as below."
      ]
    },
    {
      "cell_type": "markdown",
      "metadata": {
        "id": "AiI4ZMhL6wT1"
      },
      "source": [
        "## Classification Report"
      ]
    },
    {
      "cell_type": "markdown",
      "metadata": {
        "id": "CyGHJNtl61tN"
      },
      "source": [
        "Since we are dealing with a **classification**, it is a good idea to generate a **classification report** to observe the performance of the model for ***each class***. We can use the [SKLearn `classification_report()` method](https://scikit-learn.org/stable/modules/generated/sklearn.metrics.classification_report.html) to build a text report showing the main classification **metrics**.\n",
        "\n",
        "Report is the summary of the **precision, recall, F1** score for ***each class***.\n",
        "\n",
        "The reported ***averages*** include:\n",
        "* **macro average** (averaging the unweighted mean per label),\n",
        "* **weighted average** (averaging the support-weighted mean per label),  \n",
        "* **sample average** (only for multilabel classification),\n",
        "* **micro average** (averaging the total true positives, false negatives and false positives) is only shown for multi-label or multi-class with a subset of classes, because it corresponds to accuracy otherwise and would be the same for all metrics."
      ]
    },
    {
      "cell_type": "code",
      "execution_count": null,
      "metadata": {
        "colab": {
          "base_uri": "https://localhost:8080/"
        },
        "id": "7VCIP7LvmVOy",
        "outputId": "7641c782-8788-4080-e721-814cb75f5d0c"
      },
      "outputs": [
        {
          "output_type": "stream",
          "name": "stdout",
          "text": [
            "              precision    recall  f1-score   support\n",
            "\n",
            "           0     0.9416    0.9171    0.9292       422\n",
            "           1     0.9603    0.9093    0.9341       452\n",
            "           2     0.8871    0.9532    0.9190       470\n",
            "\n",
            "    accuracy                         0.9271      1344\n",
            "   macro avg     0.9297    0.9265    0.9274      1344\n",
            "weighted avg     0.9288    0.9271    0.9273      1344\n",
            "\n",
            "time: 15.4 ms (started: 2024-06-21 13:48:00 +00:00)\n"
          ]
        }
      ],
      "source": [
        "from sklearn import metrics\n",
        "print(metrics.classification_report(actuals, preds, digits=4))"
      ]
    },
    {
      "cell_type": "markdown",
      "metadata": {
        "id": "GzQ0Q4mX_IS3"
      },
      "source": [
        "## Confusion Matrix"
      ]
    },
    {
      "cell_type": "markdown",
      "metadata": {
        "id": "0myW7rLDHeu7"
      },
      "source": [
        "**Confusion Matrix** is used to know the performance of a Machine learning model at classification. The results are presented in a ***matrix*** form. Confusion Matrix gives a comparison between **Actual** and **Predicted** values. The numbers on the **diagonal** are the number of the **correct predictions**."
      ]
    },
    {
      "cell_type": "code",
      "execution_count": null,
      "metadata": {
        "colab": {
          "base_uri": "https://localhost:8080/"
        },
        "id": "RBrSHA1ns_bR",
        "outputId": "1c60ea55-fb09-4e2d-9a91-8b596fab76c8"
      },
      "outputs": [
        {
          "output_type": "stream",
          "name": "stdout",
          "text": [
            "time: 6.63 ms (started: 2024-06-21 14:01:43 +00:00)\n"
          ]
        }
      ],
      "source": [
        "from sklearn.metrics import confusion_matrix\n",
        "cm = confusion_matrix(actuals, preds)\n",
        "cm_df = pd.DataFrame(cm, index = id_to_sentiment.values() ,columns = id_to_sentiment.values())"
      ]
    },
    {
      "cell_type": "markdown",
      "metadata": {
        "id": "5exmP2-4HzJ6"
      },
      "source": [
        "Below, you can observe the distribution of predictions over the classes."
      ]
    },
    {
      "cell_type": "code",
      "execution_count": null,
      "metadata": {
        "colab": {
          "base_uri": "https://localhost:8080/",
          "height": 161
        },
        "id": "bpGoUcKix3OA",
        "outputId": "ce0fb8d9-12ab-4106-be9f-fb604ffe193f"
      },
      "outputs": [
        {
          "output_type": "execute_result",
          "data": {
            "text/plain": [
              "          negative  positive  neutral\n",
              "negative       387         6       29\n",
              "positive        13       411       28\n",
              "neutral         11        11      448"
            ],
            "text/html": [
              "\n",
              "  <div id=\"df-0894474e-cd9a-43da-ab5b-84480f3e7e70\" class=\"colab-df-container\">\n",
              "    <div>\n",
              "<style scoped>\n",
              "    .dataframe tbody tr th:only-of-type {\n",
              "        vertical-align: middle;\n",
              "    }\n",
              "\n",
              "    .dataframe tbody tr th {\n",
              "        vertical-align: top;\n",
              "    }\n",
              "\n",
              "    .dataframe thead th {\n",
              "        text-align: right;\n",
              "    }\n",
              "</style>\n",
              "<table border=\"1\" class=\"dataframe\">\n",
              "  <thead>\n",
              "    <tr style=\"text-align: right;\">\n",
              "      <th></th>\n",
              "      <th>negative</th>\n",
              "      <th>positive</th>\n",
              "      <th>neutral</th>\n",
              "    </tr>\n",
              "  </thead>\n",
              "  <tbody>\n",
              "    <tr>\n",
              "      <th>negative</th>\n",
              "      <td>387</td>\n",
              "      <td>6</td>\n",
              "      <td>29</td>\n",
              "    </tr>\n",
              "    <tr>\n",
              "      <th>positive</th>\n",
              "      <td>13</td>\n",
              "      <td>411</td>\n",
              "      <td>28</td>\n",
              "    </tr>\n",
              "    <tr>\n",
              "      <th>neutral</th>\n",
              "      <td>11</td>\n",
              "      <td>11</td>\n",
              "      <td>448</td>\n",
              "    </tr>\n",
              "  </tbody>\n",
              "</table>\n",
              "</div>\n",
              "    <div class=\"colab-df-buttons\">\n",
              "\n",
              "  <div class=\"colab-df-container\">\n",
              "    <button class=\"colab-df-convert\" onclick=\"convertToInteractive('df-0894474e-cd9a-43da-ab5b-84480f3e7e70')\"\n",
              "            title=\"Convert this dataframe to an interactive table.\"\n",
              "            style=\"display:none;\">\n",
              "\n",
              "  <svg xmlns=\"http://www.w3.org/2000/svg\" height=\"24px\" viewBox=\"0 -960 960 960\">\n",
              "    <path d=\"M120-120v-720h720v720H120Zm60-500h600v-160H180v160Zm220 220h160v-160H400v160Zm0 220h160v-160H400v160ZM180-400h160v-160H180v160Zm440 0h160v-160H620v160ZM180-180h160v-160H180v160Zm440 0h160v-160H620v160Z\"/>\n",
              "  </svg>\n",
              "    </button>\n",
              "\n",
              "  <style>\n",
              "    .colab-df-container {\n",
              "      display:flex;\n",
              "      gap: 12px;\n",
              "    }\n",
              "\n",
              "    .colab-df-convert {\n",
              "      background-color: #E8F0FE;\n",
              "      border: none;\n",
              "      border-radius: 50%;\n",
              "      cursor: pointer;\n",
              "      display: none;\n",
              "      fill: #1967D2;\n",
              "      height: 32px;\n",
              "      padding: 0 0 0 0;\n",
              "      width: 32px;\n",
              "    }\n",
              "\n",
              "    .colab-df-convert:hover {\n",
              "      background-color: #E2EBFA;\n",
              "      box-shadow: 0px 1px 2px rgba(60, 64, 67, 0.3), 0px 1px 3px 1px rgba(60, 64, 67, 0.15);\n",
              "      fill: #174EA6;\n",
              "    }\n",
              "\n",
              "    .colab-df-buttons div {\n",
              "      margin-bottom: 4px;\n",
              "    }\n",
              "\n",
              "    [theme=dark] .colab-df-convert {\n",
              "      background-color: #3B4455;\n",
              "      fill: #D2E3FC;\n",
              "    }\n",
              "\n",
              "    [theme=dark] .colab-df-convert:hover {\n",
              "      background-color: #434B5C;\n",
              "      box-shadow: 0px 1px 3px 1px rgba(0, 0, 0, 0.15);\n",
              "      filter: drop-shadow(0px 1px 2px rgba(0, 0, 0, 0.3));\n",
              "      fill: #FFFFFF;\n",
              "    }\n",
              "  </style>\n",
              "\n",
              "    <script>\n",
              "      const buttonEl =\n",
              "        document.querySelector('#df-0894474e-cd9a-43da-ab5b-84480f3e7e70 button.colab-df-convert');\n",
              "      buttonEl.style.display =\n",
              "        google.colab.kernel.accessAllowed ? 'block' : 'none';\n",
              "\n",
              "      async function convertToInteractive(key) {\n",
              "        const element = document.querySelector('#df-0894474e-cd9a-43da-ab5b-84480f3e7e70');\n",
              "        const dataTable =\n",
              "          await google.colab.kernel.invokeFunction('convertToInteractive',\n",
              "                                                    [key], {});\n",
              "        if (!dataTable) return;\n",
              "\n",
              "        const docLinkHtml = 'Like what you see? Visit the ' +\n",
              "          '<a target=\"_blank\" href=https://colab.research.google.com/notebooks/data_table.ipynb>data table notebook</a>'\n",
              "          + ' to learn more about interactive tables.';\n",
              "        element.innerHTML = '';\n",
              "        dataTable['output_type'] = 'display_data';\n",
              "        await google.colab.output.renderOutput(dataTable, element);\n",
              "        const docLink = document.createElement('div');\n",
              "        docLink.innerHTML = docLinkHtml;\n",
              "        element.appendChild(docLink);\n",
              "      }\n",
              "    </script>\n",
              "  </div>\n",
              "\n",
              "\n",
              "<div id=\"df-f398e096-2b5b-4814-bc1d-abaa3a28adc0\">\n",
              "  <button class=\"colab-df-quickchart\" onclick=\"quickchart('df-f398e096-2b5b-4814-bc1d-abaa3a28adc0')\"\n",
              "            title=\"Suggest charts\"\n",
              "            style=\"display:none;\">\n",
              "\n",
              "<svg xmlns=\"http://www.w3.org/2000/svg\" height=\"24px\"viewBox=\"0 0 24 24\"\n",
              "     width=\"24px\">\n",
              "    <g>\n",
              "        <path d=\"M19 3H5c-1.1 0-2 .9-2 2v14c0 1.1.9 2 2 2h14c1.1 0 2-.9 2-2V5c0-1.1-.9-2-2-2zM9 17H7v-7h2v7zm4 0h-2V7h2v10zm4 0h-2v-4h2v4z\"/>\n",
              "    </g>\n",
              "</svg>\n",
              "  </button>\n",
              "\n",
              "<style>\n",
              "  .colab-df-quickchart {\n",
              "      --bg-color: #E8F0FE;\n",
              "      --fill-color: #1967D2;\n",
              "      --hover-bg-color: #E2EBFA;\n",
              "      --hover-fill-color: #174EA6;\n",
              "      --disabled-fill-color: #AAA;\n",
              "      --disabled-bg-color: #DDD;\n",
              "  }\n",
              "\n",
              "  [theme=dark] .colab-df-quickchart {\n",
              "      --bg-color: #3B4455;\n",
              "      --fill-color: #D2E3FC;\n",
              "      --hover-bg-color: #434B5C;\n",
              "      --hover-fill-color: #FFFFFF;\n",
              "      --disabled-bg-color: #3B4455;\n",
              "      --disabled-fill-color: #666;\n",
              "  }\n",
              "\n",
              "  .colab-df-quickchart {\n",
              "    background-color: var(--bg-color);\n",
              "    border: none;\n",
              "    border-radius: 50%;\n",
              "    cursor: pointer;\n",
              "    display: none;\n",
              "    fill: var(--fill-color);\n",
              "    height: 32px;\n",
              "    padding: 0;\n",
              "    width: 32px;\n",
              "  }\n",
              "\n",
              "  .colab-df-quickchart:hover {\n",
              "    background-color: var(--hover-bg-color);\n",
              "    box-shadow: 0 1px 2px rgba(60, 64, 67, 0.3), 0 1px 3px 1px rgba(60, 64, 67, 0.15);\n",
              "    fill: var(--button-hover-fill-color);\n",
              "  }\n",
              "\n",
              "  .colab-df-quickchart-complete:disabled,\n",
              "  .colab-df-quickchart-complete:disabled:hover {\n",
              "    background-color: var(--disabled-bg-color);\n",
              "    fill: var(--disabled-fill-color);\n",
              "    box-shadow: none;\n",
              "  }\n",
              "\n",
              "  .colab-df-spinner {\n",
              "    border: 2px solid var(--fill-color);\n",
              "    border-color: transparent;\n",
              "    border-bottom-color: var(--fill-color);\n",
              "    animation:\n",
              "      spin 1s steps(1) infinite;\n",
              "  }\n",
              "\n",
              "  @keyframes spin {\n",
              "    0% {\n",
              "      border-color: transparent;\n",
              "      border-bottom-color: var(--fill-color);\n",
              "      border-left-color: var(--fill-color);\n",
              "    }\n",
              "    20% {\n",
              "      border-color: transparent;\n",
              "      border-left-color: var(--fill-color);\n",
              "      border-top-color: var(--fill-color);\n",
              "    }\n",
              "    30% {\n",
              "      border-color: transparent;\n",
              "      border-left-color: var(--fill-color);\n",
              "      border-top-color: var(--fill-color);\n",
              "      border-right-color: var(--fill-color);\n",
              "    }\n",
              "    40% {\n",
              "      border-color: transparent;\n",
              "      border-right-color: var(--fill-color);\n",
              "      border-top-color: var(--fill-color);\n",
              "    }\n",
              "    60% {\n",
              "      border-color: transparent;\n",
              "      border-right-color: var(--fill-color);\n",
              "    }\n",
              "    80% {\n",
              "      border-color: transparent;\n",
              "      border-right-color: var(--fill-color);\n",
              "      border-bottom-color: var(--fill-color);\n",
              "    }\n",
              "    90% {\n",
              "      border-color: transparent;\n",
              "      border-bottom-color: var(--fill-color);\n",
              "    }\n",
              "  }\n",
              "</style>\n",
              "\n",
              "  <script>\n",
              "    async function quickchart(key) {\n",
              "      const quickchartButtonEl =\n",
              "        document.querySelector('#' + key + ' button');\n",
              "      quickchartButtonEl.disabled = true;  // To prevent multiple clicks.\n",
              "      quickchartButtonEl.classList.add('colab-df-spinner');\n",
              "      try {\n",
              "        const charts = await google.colab.kernel.invokeFunction(\n",
              "            'suggestCharts', [key], {});\n",
              "      } catch (error) {\n",
              "        console.error('Error during call to suggestCharts:', error);\n",
              "      }\n",
              "      quickchartButtonEl.classList.remove('colab-df-spinner');\n",
              "      quickchartButtonEl.classList.add('colab-df-quickchart-complete');\n",
              "    }\n",
              "    (() => {\n",
              "      let quickchartButtonEl =\n",
              "        document.querySelector('#df-f398e096-2b5b-4814-bc1d-abaa3a28adc0 button');\n",
              "      quickchartButtonEl.style.display =\n",
              "        google.colab.kernel.accessAllowed ? 'block' : 'none';\n",
              "    })();\n",
              "  </script>\n",
              "</div>\n",
              "\n",
              "  <div id=\"id_468c9e56-09e7-41c4-9ae0-5509550e2b08\">\n",
              "    <style>\n",
              "      .colab-df-generate {\n",
              "        background-color: #E8F0FE;\n",
              "        border: none;\n",
              "        border-radius: 50%;\n",
              "        cursor: pointer;\n",
              "        display: none;\n",
              "        fill: #1967D2;\n",
              "        height: 32px;\n",
              "        padding: 0 0 0 0;\n",
              "        width: 32px;\n",
              "      }\n",
              "\n",
              "      .colab-df-generate:hover {\n",
              "        background-color: #E2EBFA;\n",
              "        box-shadow: 0px 1px 2px rgba(60, 64, 67, 0.3), 0px 1px 3px 1px rgba(60, 64, 67, 0.15);\n",
              "        fill: #174EA6;\n",
              "      }\n",
              "\n",
              "      [theme=dark] .colab-df-generate {\n",
              "        background-color: #3B4455;\n",
              "        fill: #D2E3FC;\n",
              "      }\n",
              "\n",
              "      [theme=dark] .colab-df-generate:hover {\n",
              "        background-color: #434B5C;\n",
              "        box-shadow: 0px 1px 3px 1px rgba(0, 0, 0, 0.15);\n",
              "        filter: drop-shadow(0px 1px 2px rgba(0, 0, 0, 0.3));\n",
              "        fill: #FFFFFF;\n",
              "      }\n",
              "    </style>\n",
              "    <button class=\"colab-df-generate\" onclick=\"generateWithVariable('cm_df')\"\n",
              "            title=\"Generate code using this dataframe.\"\n",
              "            style=\"display:none;\">\n",
              "\n",
              "  <svg xmlns=\"http://www.w3.org/2000/svg\" height=\"24px\"viewBox=\"0 0 24 24\"\n",
              "       width=\"24px\">\n",
              "    <path d=\"M7,19H8.4L18.45,9,17,7.55,7,17.6ZM5,21V16.75L18.45,3.32a2,2,0,0,1,2.83,0l1.4,1.43a1.91,1.91,0,0,1,.58,1.4,1.91,1.91,0,0,1-.58,1.4L9.25,21ZM18.45,9,17,7.55Zm-12,3A5.31,5.31,0,0,0,4.9,8.1,5.31,5.31,0,0,0,1,6.5,5.31,5.31,0,0,0,4.9,4.9,5.31,5.31,0,0,0,6.5,1,5.31,5.31,0,0,0,8.1,4.9,5.31,5.31,0,0,0,12,6.5,5.46,5.46,0,0,0,6.5,12Z\"/>\n",
              "  </svg>\n",
              "    </button>\n",
              "    <script>\n",
              "      (() => {\n",
              "      const buttonEl =\n",
              "        document.querySelector('#id_468c9e56-09e7-41c4-9ae0-5509550e2b08 button.colab-df-generate');\n",
              "      buttonEl.style.display =\n",
              "        google.colab.kernel.accessAllowed ? 'block' : 'none';\n",
              "\n",
              "      buttonEl.onclick = () => {\n",
              "        google.colab.notebook.generateWithVariable('cm_df');\n",
              "      }\n",
              "      })();\n",
              "    </script>\n",
              "  </div>\n",
              "\n",
              "    </div>\n",
              "  </div>\n"
            ],
            "application/vnd.google.colaboratory.intrinsic+json": {
              "type": "dataframe",
              "variable_name": "cm_df",
              "summary": "{\n  \"name\": \"cm_df\",\n  \"rows\": 3,\n  \"fields\": [\n    {\n      \"column\": \"negative\",\n      \"properties\": {\n        \"dtype\": \"number\",\n        \"std\": 216,\n        \"min\": 11,\n        \"max\": 387,\n        \"num_unique_values\": 3,\n        \"samples\": [\n          387,\n          13,\n          11\n        ],\n        \"semantic_type\": \"\",\n        \"description\": \"\"\n      }\n    },\n    {\n      \"column\": \"positive\",\n      \"properties\": {\n        \"dtype\": \"number\",\n        \"std\": 232,\n        \"min\": 6,\n        \"max\": 411,\n        \"num_unique_values\": 3,\n        \"samples\": [\n          6,\n          411,\n          11\n        ],\n        \"semantic_type\": \"\",\n        \"description\": \"\"\n      }\n    },\n    {\n      \"column\": \"neutral\",\n      \"properties\": {\n        \"dtype\": \"number\",\n        \"std\": 242,\n        \"min\": 28,\n        \"max\": 448,\n        \"num_unique_values\": 3,\n        \"samples\": [\n          29,\n          28,\n          448\n        ],\n        \"semantic_type\": \"\",\n        \"description\": \"\"\n      }\n    }\n  ]\n}"
            }
          },
          "metadata": {},
          "execution_count": 114
        },
        {
          "output_type": "stream",
          "name": "stdout",
          "text": [
            "time: 27.7 ms (started: 2024-06-21 14:01:44 +00:00)\n"
          ]
        }
      ],
      "source": [
        "cm_df"
      ]
    },
    {
      "cell_type": "code",
      "execution_count": null,
      "metadata": {
        "colab": {
          "base_uri": "https://localhost:8080/"
        },
        "id": "msJf0RnUWWjk",
        "outputId": "4747d49b-0b1b-400e-b63d-b5f40223b34d"
      },
      "outputs": [
        {
          "output_type": "stream",
          "name": "stdout",
          "text": [
            "time: 6.84 s (started: 2024-06-21 14:01:45 +00:00)\n"
          ]
        }
      ],
      "source": [
        "%%capture\n",
        "!pip install ipywidgets"
      ]
    },
    {
      "cell_type": "code",
      "execution_count": null,
      "metadata": {
        "colab": {
          "base_uri": "https://localhost:8080/",
          "height": 634,
          "referenced_widgets": [
            "92fd8abe4bd048cf8e7cb2ee67828a1a",
            "fb391f7bd764491bb1d7dcc974f7474b",
            "df4a5427201c4b678858a9e5f47dee4c",
            "ac042f2edfc142e3ba4586893d6328d2"
          ]
        },
        "id": "bcqhcR1EWYqZ",
        "outputId": "82c3b939-b8a2-4b18-e66f-c7d06fbdaaf1"
      },
      "outputs": [
        {
          "output_type": "display_data",
          "data": {
            "text/plain": [
              "interactive(children=(Output(),), _dom_classes=('widget-interact',))"
            ],
            "application/vnd.jupyter.widget-view+json": {
              "version_major": 2,
              "version_minor": 0,
              "model_id": "92fd8abe4bd048cf8e7cb2ee67828a1a"
            }
          },
          "metadata": {}
        },
        {
          "output_type": "execute_result",
          "data": {
            "text/plain": [
              "<function __main__.update_heatmap(vmin, vmax)>"
            ],
            "text/html": [
              "<div style=\"max-width:800px; border: 1px solid var(--colab-border-color);\"><style>\n",
              "      pre.function-repr-contents {\n",
              "        overflow-x: auto;\n",
              "        padding: 8px 12px;\n",
              "        max-height: 500px;\n",
              "      }\n",
              "\n",
              "      pre.function-repr-contents.function-repr-contents-collapsed {\n",
              "        cursor: pointer;\n",
              "        max-height: 100px;\n",
              "      }\n",
              "    </style>\n",
              "    <pre style=\"white-space: initial; background:\n",
              "         var(--colab-secondary-surface-color); padding: 8px 12px;\n",
              "         border-bottom: 1px solid var(--colab-border-color);\"><b>update_heatmap</b><br/>def update_heatmap(vmin, vmax)</pre><pre class=\"function-repr-contents function-repr-contents-collapsed\" style=\"\"><a class=\"filepath\" style=\"display:none\" href=\"#\">/content/drive/MyDrive/Colab_Notebooks/nlp_with_python/__seminary_practice/&lt;ipython-input-116-04ebeb271ae0&gt;</a>&lt;no docstring&gt;</pre></div>"
            ]
          },
          "metadata": {},
          "execution_count": 116
        },
        {
          "output_type": "display_data",
          "data": {
            "text/plain": [
              "<Figure size 640x480 with 2 Axes>"
            ],
            "image/png": "[encoded data removed]"
          },
          "metadata": {}
        },
        {
          "output_type": "stream",
          "name": "stdout",
          "text": [
            "time: 344 ms (started: 2024-06-21 14:01:51 +00:00)\n"
          ]
        }
      ],
      "source": [
        "import numpy as np\n",
        "import seaborn as sns\n",
        "import matplotlib.pyplot as plt\n",
        "from ipywidgets import interact, fixed\n",
        "\n",
        "def update_heatmap(vmin, vmax):\n",
        "    ax = sns.heatmap(cm_df / np.sum(cm_df), vmin=vmin, vmax=vmax, annot=True, fmt='.1%', cmap='Blues')\n",
        "    ax.set_title('Interactive Confusion Matrix\\n\\n')\n",
        "    ax.set_xlabel('\\nPredicted')\n",
        "    ax.set_ylabel('Actual')\n",
        "    ax.xaxis.set_ticklabels(id_to_sentiment.values())\n",
        "    ax.yaxis.set_ticklabels(id_to_sentiment.values())\n",
        "\n",
        "interact(update_heatmap, vmin=fixed(0), vmax=fixed(1))"
      ]
    },
    {
      "cell_type": "markdown",
      "metadata": {
        "id": "JL6fQsegSOX3"
      },
      "source": [
        "From this analysis, we can derive several insights:\n",
        "\n",
        "1. The model performs reasonably well for all classes, with a relatively high number of correct classifications compared to misclassifications.\n",
        "\n",
        "2. The model seems to struggle more with the Positive class, as it has a higher number of misclassifications compared to the other classes.\n",
        "\n",
        "3. The Neutral class has the highest number of correctly classified instances, indicating that the model performs well for this class.\n",
        "\n",
        "4. The model has relatively balanced performance across all classes, as there is no significant imbalance in the number of instances for each class.\n",
        "\n",
        "Overall, based on this analysis, the model appears to be performing adequately across all classes, with some room for improvement, particularly for the Positive class."
      ]
    },
    {
      "cell_type": "markdown",
      "metadata": {
        "id": "wsVGKfoaY0yA"
      },
      "source": [
        "# TEXT CLASSIFICATION WITH A CONVOLUTIONAL (CONV1D) LAYER"
      ]
    },
    {
      "cell_type": "markdown",
      "metadata": {
        "id": "EBezw2d5ZAAU"
      },
      "source": [
        "## Let's build a model with a Conv1D layer"
      ]
    },
    {
      "cell_type": "markdown",
      "metadata": {
        "id": "v-bZVOLh5A9m"
      },
      "source": [
        "In Keras, the Conv1D layer is defined as follows:\n",
        "\n",
        "```python\n",
        "tf.keras.layers.Conv1D(\n",
        "    filters,\n",
        "    kernel_size,\n",
        "    padding=\"valid\",\n",
        "    activation=None\n",
        ")\n",
        "```\n",
        "\n",
        "Here's what each parameter signifies:\n",
        "\n",
        "- **filters**: This parameter denotes the number of output filters in the convolution, essentially representing the dimensionality of the output space.\n",
        "\n",
        "- **kernel_size**: It specifies the length of the 1D convolution window. This can be provided as an integer or a tuple/list containing a single integer.\n",
        "\n",
        "- **padding**: It determines how the input data should be padded before applying the convolution operation. The options include \"valid\" (no padding), \"same\" (padding with zeros evenly to maintain the input dimension), or \"causal\" (resulting in causal convolutions, useful for temporal data where the model should maintain temporal order).\n",
        "\n",
        "- **activation**: This parameter denotes the activation function to be applied after the convolution operation. If left unspecified, no activation will be applied.\n",
        "\n",
        "For the Conv1D layers in our model, we'll configure them as follows:\n",
        "\n",
        "- For each Conv1D layer, we'll set the number of filters: 256 for the first layer and 128 for both the second and last layers.\n",
        "\n",
        "- The kernel size will vary for each layer: 7 for the first layer, 5 for the second layer, and 3 for the last layer, allowing each to capture different patterns in the input data.\n",
        "\n",
        "- We'll use \"same\" padding to ensure the output tensor retains the same dimensions as the input vector after convolution.\n",
        "\n",
        "- For activation, we'll employ the 'relu' function, a common choice for intermediate layers in neural networks."
      ]
    },
    {
      "cell_type": "code",
      "execution_count": null,
      "metadata": {
        "colab": {
          "base_uri": "https://localhost:8080/"
        },
        "id": "OrWCjkFCYcvZ",
        "outputId": "92f71f21-4095-4195-abcb-7e75be436e7b"
      },
      "outputs": [
        {
          "output_type": "stream",
          "name": "stdout",
          "text": [
            "time: 440 ms (started: 2024-06-21 14:01:55 +00:00)\n"
          ]
        }
      ],
      "source": [
        "from tensorflow.keras import layers, Model\n",
        "\n",
        "class Conv1DModel:\n",
        "    def __init__(self, vocab_size, max_len, number_of_categories):\n",
        "        self.embed_dim = 16\n",
        "        self.feed_forward_dim = 64\n",
        "        self.vocab_size = vocab_size\n",
        "        self.max_len = max_len\n",
        "        self.number_of_categories = number_of_categories\n",
        "\n",
        "    def create_model(self):\n",
        "        inputs_tokens = layers.Input(shape=(self.max_len,), dtype=tf.int32)\n",
        "        embedding_layer = layers.Embedding(input_dim=self.vocab_size,\n",
        "                                           output_dim=self.embed_dim,\n",
        "                                           input_length=self.max_len)\n",
        "        x = embedding_layer(inputs_tokens)\n",
        "        x = layers.Conv1D(filters=256, kernel_size=7,\n",
        "                          padding='same', activation='relu')(x)\n",
        "        x = layers.Conv1D(filters=128, kernel_size=5,\n",
        "                          padding='same', activation='relu')(x)\n",
        "        x = layers.Conv1D(filters=128, kernel_size=3,\n",
        "                          padding='same', activation='relu')(x)\n",
        "        x = layers.MaxPooling1D(pool_size=2)(x)\n",
        "        x = layers.Flatten()(x)\n",
        "        x = layers.Dense(self.feed_forward_dim, activation='sigmoid')(x)\n",
        "        x = layers.Dropout(0.5)(x)\n",
        "        outputs = layers.Dense(self.number_of_categories)(x)\n",
        "        model = Model(inputs=inputs_tokens,\n",
        "                      outputs=outputs, name='model_Conv1D')\n",
        "        loss_fn = tf.keras.losses.SparseCategoricalCrossentropy(from_logits=True)\n",
        "        metric_fn = tf.keras.metrics.SparseCategoricalAccuracy()\n",
        "        model.compile(optimizer=\"adam\", loss=loss_fn, metrics=metric_fn)\n",
        "        return model\n",
        "\n",
        "\n",
        "conv1d_model = Conv1DModel(vocab_size, max_len, 3)\n",
        "model = conv1d_model.create_model()"
      ]
    },
    {
      "cell_type": "code",
      "execution_count": null,
      "metadata": {
        "colab": {
          "base_uri": "https://localhost:8080/"
        },
        "id": "_oPM8Iy9ZiJ7",
        "outputId": "1e37f99e-889a-4bee-cc65-cf4651a29e27"
      },
      "outputs": [
        {
          "output_type": "stream",
          "name": "stdout",
          "text": [
            "Model: \"model_Conv1D\"\n",
            "_________________________________________________________________\n",
            " Layer (type)                Output Shape              Param #   \n",
            "=================================================================\n",
            " input_3 (InputLayer)        [(None, 60)]              0         \n",
            "                                                                 \n",
            " embedding_1 (Embedding)     (None, 60, 16)            473712    \n",
            "                                                                 \n",
            " conv1d (Conv1D)             (None, 60, 256)           28928     \n",
            "                                                                 \n",
            " conv1d_1 (Conv1D)           (None, 60, 128)           163968    \n",
            "                                                                 \n",
            " conv1d_2 (Conv1D)           (None, 60, 128)           49280     \n",
            "                                                                 \n",
            " max_pooling1d (MaxPooling1  (None, 30, 128)           0         \n",
            " D)                                                              \n",
            "                                                                 \n",
            " flatten_1 (Flatten)         (None, 3840)              0         \n",
            "                                                                 \n",
            " dense_2 (Dense)             (None, 64)                245824    \n",
            "                                                                 \n",
            " dropout_1 (Dropout)         (None, 64)                0         \n",
            "                                                                 \n",
            " dense_3 (Dense)             (None, 3)                 195       \n",
            "                                                                 \n",
            "=================================================================\n",
            "Total params: 961907 (3.67 MB)\n",
            "Trainable params: 961907 (3.67 MB)\n",
            "Non-trainable params: 0 (0.00 Byte)\n",
            "_________________________________________________________________\n",
            "time: 152 ms (started: 2024-06-21 14:01:55 +00:00)\n"
          ]
        }
      ],
      "source": [
        "model.summary()"
      ]
    },
    {
      "cell_type": "code",
      "execution_count": null,
      "metadata": {
        "colab": {
          "base_uri": "https://localhost:8080/"
        },
        "id": "GzTtDn-Sdbme",
        "outputId": "c123986e-22fc-4d91-c75f-4ec4f45616aa"
      },
      "outputs": [
        {
          "output_type": "stream",
          "name": "stdout",
          "text": [
            "Model: \"model_Conv1D\"\n",
            "_________________________________________________________________\n",
            " Layer (type)                Output Shape              Param #   \n",
            "=================================================================\n",
            " input_3 (InputLayer)        [(None, 60)]              0         \n",
            "                                                                 \n",
            " embedding_1 (Embedding)     (None, 60, 16)            473712    \n",
            "                                                                 \n",
            " conv1d (Conv1D)             (None, 60, 256)           28928     \n",
            "                                                                 \n",
            " conv1d_1 (Conv1D)           (None, 60, 128)           163968    \n",
            "                                                                 \n",
            " conv1d_2 (Conv1D)           (None, 60, 128)           49280     \n",
            "                                                                 \n",
            " max_pooling1d (MaxPooling1  (None, 30, 128)           0         \n",
            " D)                                                              \n",
            "                                                                 \n",
            " flatten_1 (Flatten)         (None, 3840)              0         \n",
            "                                                                 \n",
            " dense_2 (Dense)             (None, 64)                245824    \n",
            "                                                                 \n",
            " dropout_1 (Dropout)         (None, 64)                0         \n",
            "                                                                 \n",
            " dense_3 (Dense)             (None, 3)                 195       \n",
            "                                                                 \n",
            "=================================================================\n",
            "Total params: 961907 (3.67 MB)\n",
            "Trainable params: 961907 (3.67 MB)\n",
            "Non-trainable params: 0 (0.00 Byte)\n",
            "_________________________________________________________________\n",
            "time: 88.9 ms (started: 2024-06-21 14:01:56 +00:00)\n"
          ]
        }
      ],
      "source": [
        "model.summary()"
      ]
    },
    {
      "cell_type": "code",
      "execution_count": null,
      "metadata": {
        "colab": {
          "base_uri": "https://localhost:8080/",
          "height": 1000
        },
        "id": "Br9H5Mw1dvll",
        "outputId": "6fbf691f-c496-4d57-aea8-a9b92c0cbf26"
      },
      "outputs": [
        {
          "output_type": "execute_result",
          "data": {
            "image/png": "[encoded data removed]",
            "text/plain": [
              "<IPython.core.display.Image object>"
            ]
          },
          "metadata": {},
          "execution_count": 120
        },
        {
          "output_type": "stream",
          "name": "stdout",
          "text": [
            "time: 357 ms (started: 2024-06-21 14:01:58 +00:00)\n"
          ]
        }
      ],
      "source": [
        "tf.keras.utils.plot_model(model,show_shapes=True)"
      ]
    },
    {
      "cell_type": "markdown",
      "metadata": {
        "id": "nUrnLgrneFq7"
      },
      "source": [
        "## Train"
      ]
    },
    {
      "cell_type": "code",
      "execution_count": null,
      "metadata": {
        "colab": {
          "base_uri": "https://localhost:8080/"
        },
        "id": "P6f53vLeeHde",
        "outputId": "b16105a1-3c56-414b-e271-cfdf2fae30e5"
      },
      "outputs": [
        {
          "output_type": "stream",
          "name": "stdout",
          "text": [
            "Epoch 1/25\n",
            "77/77 [==============================] - 33s 374ms/step - loss: 1.1269 - sparse_categorical_accuracy: 0.4040 - val_loss: 0.8674 - val_sparse_categorical_accuracy: 0.5938\n",
            "Epoch 2/25\n",
            "77/77 [==============================] - 24s 312ms/step - loss: 0.6369 - sparse_categorical_accuracy: 0.7571 - val_loss: 0.6030 - val_sparse_categorical_accuracy: 0.7754\n",
            "Epoch 3/25\n",
            "77/77 [==============================] - 14s 181ms/step - loss: 0.3655 - sparse_categorical_accuracy: 0.8902 - val_loss: 0.6265 - val_sparse_categorical_accuracy: 0.7969\n",
            "Epoch 4/25\n",
            "77/77 [==============================] - 14s 179ms/step - loss: 0.2473 - sparse_categorical_accuracy: 0.9351 - val_loss: 0.6089 - val_sparse_categorical_accuracy: 0.8105\n",
            "Epoch 5/25\n",
            "77/77 [==============================] - 14s 179ms/step - loss: 0.1588 - sparse_categorical_accuracy: 0.9651 - val_loss: 0.6978 - val_sparse_categorical_accuracy: 0.8223\n",
            "Epoch 6/25\n",
            "77/77 [==============================] - 15s 198ms/step - loss: 0.1042 - sparse_categorical_accuracy: 0.9825 - val_loss: 0.7206 - val_sparse_categorical_accuracy: 0.8184\n",
            "Epoch 7/25\n",
            "77/77 [==============================] - 14s 179ms/step - loss: 0.0822 - sparse_categorical_accuracy: 0.9864 - val_loss: 0.8864 - val_sparse_categorical_accuracy: 0.7910\n",
            "Epoch 8/25\n",
            "77/77 [==============================] - 13s 164ms/step - loss: 0.0684 - sparse_categorical_accuracy: 0.9894 - val_loss: 0.7002 - val_sparse_categorical_accuracy: 0.8340\n",
            "Epoch 9/25\n",
            "77/77 [==============================] - 14s 179ms/step - loss: 0.0480 - sparse_categorical_accuracy: 0.9937 - val_loss: 0.8017 - val_sparse_categorical_accuracy: 0.8359\n",
            "Epoch 10/25\n",
            "77/77 [==============================] - 13s 168ms/step - loss: 0.0389 - sparse_categorical_accuracy: 0.9947 - val_loss: 0.7715 - val_sparse_categorical_accuracy: 0.8379\n",
            "Epoch 11/25\n",
            "77/77 [==============================] - 14s 180ms/step - loss: 0.0320 - sparse_categorical_accuracy: 0.9961 - val_loss: 0.7736 - val_sparse_categorical_accuracy: 0.8418\n",
            "Epoch 12/25\n",
            "77/77 [==============================] - 14s 182ms/step - loss: 0.0351 - sparse_categorical_accuracy: 0.9968 - val_loss: 0.8881 - val_sparse_categorical_accuracy: 0.8418\n",
            "Epoch 13/25\n",
            "77/77 [==============================] - 16s 209ms/step - loss: 0.0256 - sparse_categorical_accuracy: 0.9970 - val_loss: 0.8207 - val_sparse_categorical_accuracy: 0.8457\n",
            "Epoch 14/25\n",
            "77/77 [==============================] - 14s 179ms/step - loss: 0.0223 - sparse_categorical_accuracy: 0.9976 - val_loss: 0.8545 - val_sparse_categorical_accuracy: 0.8496\n",
            "Epoch 15/25\n",
            "77/77 [==============================] - 12s 156ms/step - loss: 0.0211 - sparse_categorical_accuracy: 0.9978 - val_loss: 0.8113 - val_sparse_categorical_accuracy: 0.8574\n",
            "Epoch 16/25\n",
            "77/77 [==============================] - 14s 180ms/step - loss: 0.0208 - sparse_categorical_accuracy: 0.9968 - val_loss: 0.8569 - val_sparse_categorical_accuracy: 0.8555\n",
            "Epoch 17/25\n",
            "77/77 [==============================] - 14s 179ms/step - loss: 0.0239 - sparse_categorical_accuracy: 0.9974 - val_loss: 0.8564 - val_sparse_categorical_accuracy: 0.8457\n",
            "Epoch 18/25\n",
            "77/77 [==============================] - 14s 178ms/step - loss: 0.0168 - sparse_categorical_accuracy: 0.9976 - val_loss: 0.8307 - val_sparse_categorical_accuracy: 0.8496\n",
            "Epoch 19/25\n",
            "77/77 [==============================] - 14s 178ms/step - loss: 0.0161 - sparse_categorical_accuracy: 0.9978 - val_loss: 0.8724 - val_sparse_categorical_accuracy: 0.8457\n",
            "Epoch 20/25\n",
            "77/77 [==============================] - 14s 177ms/step - loss: 0.0134 - sparse_categorical_accuracy: 0.9986 - val_loss: 0.8220 - val_sparse_categorical_accuracy: 0.8496\n",
            "Epoch 21/25\n",
            "77/77 [==============================] - 12s 157ms/step - loss: 0.0105 - sparse_categorical_accuracy: 0.9990 - val_loss: 0.8646 - val_sparse_categorical_accuracy: 0.8535\n",
            "Epoch 22/25\n",
            "77/77 [==============================] - 14s 179ms/step - loss: 0.0108 - sparse_categorical_accuracy: 0.9990 - val_loss: 0.8897 - val_sparse_categorical_accuracy: 0.8555\n",
            "Epoch 23/25\n",
            "77/77 [==============================] - 14s 183ms/step - loss: 0.0116 - sparse_categorical_accuracy: 0.9988 - val_loss: 0.8735 - val_sparse_categorical_accuracy: 0.8496\n",
            "Epoch 24/25\n",
            "77/77 [==============================] - 12s 157ms/step - loss: 0.0129 - sparse_categorical_accuracy: 0.9978 - val_loss: 0.9568 - val_sparse_categorical_accuracy: 0.8496\n",
            "Epoch 25/25\n",
            "77/77 [==============================] - 14s 178ms/step - loss: 0.0102 - sparse_categorical_accuracy: 0.9986 - val_loss: 0.8673 - val_sparse_categorical_accuracy: 0.8574\n",
            "time: 8min 18s (started: 2024-06-21 14:01:58 +00:00)\n"
          ]
        }
      ],
      "source": [
        "history=model.fit(train_ds, validation_data=val_ds ,verbose=1, epochs=25)"
      ]
    },
    {
      "cell_type": "markdown",
      "metadata": {
        "id": "CF5J84BcNY0G"
      },
      "source": [
        "Let's observe the **accuracy** and the **loss** values during the training:"
      ]
    },
    {
      "cell_type": "code",
      "execution_count": null,
      "metadata": {
        "colab": {
          "base_uri": "https://localhost:8080/",
          "height": 489
        },
        "id": "Y-8LxOdNfESU",
        "outputId": "61da6473-a41e-4e43-8882-709bb1c8deea"
      },
      "outputs": [
        {
          "output_type": "display_data",
          "data": {
            "text/plain": [
              "<Figure size 640x480 with 1 Axes>"
            ],
            "image/png": "[encoded data removed]"
          },
          "metadata": {}
        },
        {
          "output_type": "stream",
          "name": "stdout",
          "text": [
            "time: 1.24 s (started: 2024-06-21 14:10:17 +00:00)\n"
          ]
        }
      ],
      "source": [
        "plt.plot(history.history['sparse_categorical_accuracy'])\n",
        "plt.plot(history.history['val_sparse_categorical_accuracy'])\n",
        "plt.title('model Conv1D accuracy')\n",
        "plt.ylabel('accuracy')\n",
        "plt.xlabel('epoch')\n",
        "plt.legend(['train', 'val'], loc='upper left')\n",
        "plt.show()"
      ]
    },
    {
      "cell_type": "code",
      "execution_count": null,
      "metadata": {
        "colab": {
          "base_uri": "https://localhost:8080/",
          "height": 489
        },
        "id": "apYAoL4rfNFu",
        "outputId": "6106fdfd-dcdc-4636-e310-c6c696706df7"
      },
      "outputs": [
        {
          "output_type": "display_data",
          "data": {
            "text/plain": [
              "<Figure size 640x480 with 1 Axes>"
            ],
            "image/png": "[encoded data removed]"
          },
          "metadata": {}
        },
        {
          "output_type": "stream",
          "name": "stdout",
          "text": [
            "time: 552 ms (started: 2024-06-21 14:10:18 +00:00)\n"
          ]
        }
      ],
      "source": [
        "plt.plot(history.history['loss'])\n",
        "plt.plot(history.history['val_loss'])\n",
        "plt.title('model Conv1D loss')\n",
        "plt.ylabel('loss')\n",
        "plt.xlabel('epoch')\n",
        "plt.legend(['train', 'val'], loc='upper left')\n",
        "plt.show()"
      ]
    },
    {
      "cell_type": "markdown",
      "metadata": {
        "id": "47JZwp2afkc0"
      },
      "source": [
        "## Save the trained model"
      ]
    },
    {
      "cell_type": "code",
      "execution_count": null,
      "metadata": {
        "colab": {
          "base_uri": "https://localhost:8080/"
        },
        "id": "jl2SUiEtfcXc",
        "outputId": "3bce95f9-d9fa-4c53-e811-1238a77c6f2f"
      },
      "outputs": [
        {
          "output_type": "stream",
          "name": "stdout",
          "text": [
            "time: 4.41 s (started: 2024-06-21 14:10:19 +00:00)\n"
          ]
        }
      ],
      "source": [
        "tf.keras.models.save_model(model, 'MultiClassTextClassification_Conv1D')"
      ]
    },
    {
      "cell_type": "code",
      "execution_count": null,
      "metadata": {
        "colab": {
          "base_uri": "https://localhost:8080/"
        },
        "id": "YiofA8thAsIk",
        "outputId": "b4cc489b-b4c8-421a-d6dd-afcc1568bc6e"
      },
      "outputs": [
        {
          "output_type": "stream",
          "name": "stdout",
          "text": [
            "time: 1.45 s (started: 2024-06-21 14:10:23 +00:00)\n"
          ]
        }
      ],
      "source": [
        "model_Conv1D=tf.keras.models.load_model('MultiClassTextClassification_Conv1D')"
      ]
    },
    {
      "cell_type": "code",
      "execution_count": null,
      "metadata": {
        "colab": {
          "base_uri": "https://localhost:8080/"
        },
        "id": "QvXdtHhyBLsq",
        "outputId": "d5a45e59-7d81-46c6-92c8-0a4ddf95d205"
      },
      "outputs": [
        {
          "output_type": "stream",
          "name": "stdout",
          "text": [
            "Model: \"model_Conv1D\"\n",
            "_________________________________________________________________\n",
            " Layer (type)                Output Shape              Param #   \n",
            "=================================================================\n",
            " input_3 (InputLayer)        [(None, 60)]              0         \n",
            "                                                                 \n",
            " embedding_1 (Embedding)     (None, 60, 16)            473712    \n",
            "                                                                 \n",
            " conv1d (Conv1D)             (None, 60, 256)           28928     \n",
            "                                                                 \n",
            " conv1d_1 (Conv1D)           (None, 60, 128)           163968    \n",
            "                                                                 \n",
            " conv1d_2 (Conv1D)           (None, 60, 128)           49280     \n",
            "                                                                 \n",
            " max_pooling1d (MaxPooling1  (None, 30, 128)           0         \n",
            " D)                                                              \n",
            "                                                                 \n",
            " flatten_1 (Flatten)         (None, 3840)              0         \n",
            "                                                                 \n",
            " dense_2 (Dense)             (None, 64)                245824    \n",
            "                                                                 \n",
            " dropout_1 (Dropout)         (None, 64)                0         \n",
            "                                                                 \n",
            " dense_3 (Dense)             (None, 3)                 195       \n",
            "                                                                 \n",
            "=================================================================\n",
            "Total params: 961907 (3.67 MB)\n",
            "Trainable params: 961907 (3.67 MB)\n",
            "Non-trainable params: 0 (0.00 Byte)\n",
            "_________________________________________________________________\n",
            "time: 64.1 ms (started: 2024-06-21 14:10:25 +00:00)\n"
          ]
        }
      ],
      "source": [
        "model_Conv1D.summary()"
      ]
    },
    {
      "cell_type": "markdown",
      "metadata": {
        "id": "XvN-VHY0foZX"
      },
      "source": [
        "## Test"
      ]
    },
    {
      "cell_type": "code",
      "execution_count": null,
      "metadata": {
        "colab": {
          "base_uri": "https://localhost:8080/"
        },
        "id": "xRdKZGY9fpRY",
        "outputId": "8008746a-3482-4878-c28a-614c50f2c143"
      },
      "outputs": [
        {
          "output_type": "stream",
          "name": "stdout",
          "text": [
            "21/21 [==============================] - 1s 52ms/step - loss: 0.7237 - sparse_categorical_accuracy: 0.8586\n",
            "Test accuracy:  0.8586309552192688\n",
            "time: 1.45 s (started: 2024-06-21 14:10:25 +00:00)\n"
          ]
        }
      ],
      "source": [
        "loss, accuracy = model_Conv1D.evaluate(test_ds)\n",
        "print(\"Test accuracy: \", accuracy)"
      ]
    },
    {
      "cell_type": "markdown",
      "metadata": {
        "id": "SY00yPKaU_KQ"
      },
      "source": [
        "## Predictions"
      ]
    },
    {
      "cell_type": "markdown",
      "metadata": {
        "id": "wqAB4CHdVA7I"
      },
      "source": [
        "We can use the **trained model** `predict()` method to **predict** the class of the given reviews as follows:"
      ]
    },
    {
      "cell_type": "code",
      "execution_count": null,
      "metadata": {
        "colab": {
          "base_uri": "https://localhost:8080/"
        },
        "id": "nyZx161DVGPm",
        "outputId": "6b407bcb-0363-4a88-a5fb-21572bf3a640"
      },
      "outputs": [
        {
          "output_type": "stream",
          "name": "stdout",
          "text": [
            "21/21 [==============================] - 1s 38ms/step\n",
            "time: 912 ms (started: 2024-06-21 14:10:26 +00:00)\n"
          ]
        }
      ],
      "source": [
        "preds = model_Conv1D.predict(test_ds)\n",
        "preds = preds.argmax(axis=1)"
      ]
    },
    {
      "cell_type": "markdown",
      "metadata": {
        "id": "_G7kZj2_VORb"
      },
      "source": [
        "We can also get the **actual (true)** class of the given reviews as follows:"
      ]
    },
    {
      "cell_type": "code",
      "execution_count": null,
      "metadata": {
        "id": "O0aLGbyDVT_4",
        "colab": {
          "base_uri": "https://localhost:8080/"
        },
        "outputId": "5d802716-4d10-4725-e78d-33e94e2fc7cb"
      },
      "outputs": [
        {
          "output_type": "stream",
          "name": "stdout",
          "text": [
            "time: 359 ms (started: 2024-06-21 14:10:27 +00:00)\n"
          ]
        }
      ],
      "source": [
        "actuals = test_ds.unbatch().map(lambda x,y: y)\n",
        "actuals=list(actuals.as_numpy_iterator())"
      ]
    },
    {
      "cell_type": "markdown",
      "metadata": {
        "id": "8lkY9jOXVfK9"
      },
      "source": [
        "By comparing the ***`preds`*** and the ***`actuals`***\n",
        "values, we can **measure** the model performance as below."
      ]
    },
    {
      "cell_type": "markdown",
      "metadata": {
        "id": "qPNXfQoRVlHP"
      },
      "source": [
        "## Classification Report"
      ]
    },
    {
      "cell_type": "code",
      "execution_count": null,
      "metadata": {
        "id": "N249MuHjVxch",
        "colab": {
          "base_uri": "https://localhost:8080/"
        },
        "outputId": "4320ef88-0a69-4973-bd31-3988205e52ef"
      },
      "outputs": [
        {
          "output_type": "stream",
          "name": "stdout",
          "text": [
            "              precision    recall  f1-score   support\n",
            "\n",
            "           0     0.9610    0.8175    0.8835       422\n",
            "           1     0.9220    0.8363    0.8770       452\n",
            "           2     0.7496    0.9170    0.8249       470\n",
            "\n",
            "    accuracy                         0.8586      1344\n",
            "   macro avg     0.8775    0.8569    0.8618      1344\n",
            "weighted avg     0.8739    0.8586    0.8608      1344\n",
            "\n",
            "time: 15.3 ms (started: 2024-06-21 14:10:27 +00:00)\n"
          ]
        }
      ],
      "source": [
        "from sklearn import metrics\n",
        "print(metrics.classification_report(actuals, preds, digits=4))"
      ]
    },
    {
      "cell_type": "code",
      "execution_count": null,
      "metadata": {
        "id": "D7mg_8FYcnCe",
        "colab": {
          "base_uri": "https://localhost:8080/"
        },
        "outputId": "d0ef4123-2494-4b12-a416-c38ac3bb764c"
      },
      "outputs": [
        {
          "output_type": "stream",
          "name": "stdout",
          "text": [
            "time: 4.96 ms (started: 2024-06-21 14:10:28 +00:00)\n"
          ]
        }
      ],
      "source": [
        "from sklearn.metrics import confusion_matrix\n",
        "# Creating  a confusion matrix,\n",
        "# which compares the y_test and y_pred\n",
        "cm = confusion_matrix(actuals, preds)\n",
        "cm_df = pd.DataFrame(cm, index = id_to_sentiment.values() ,\n",
        "                     columns = id_to_sentiment.values())"
      ]
    },
    {
      "cell_type": "code",
      "execution_count": null,
      "metadata": {
        "id": "gOKeea3octkH",
        "colab": {
          "base_uri": "https://localhost:8080/",
          "height": 161
        },
        "outputId": "7dda45c3-cee9-4647-9475-3287906c64f8"
      },
      "outputs": [
        {
          "output_type": "execute_result",
          "data": {
            "text/plain": [
              "          negative  positive  neutral\n",
              "negative       345         4       73\n",
              "positive         3       378       71\n",
              "neutral         11        28      431"
            ],
            "text/html": [
              "\n",
              "  <div id=\"df-1cf2c09b-980e-4470-bd88-748a9bef23f5\" class=\"colab-df-container\">\n",
              "    <div>\n",
              "<style scoped>\n",
              "    .dataframe tbody tr th:only-of-type {\n",
              "        vertical-align: middle;\n",
              "    }\n",
              "\n",
              "    .dataframe tbody tr th {\n",
              "        vertical-align: top;\n",
              "    }\n",
              "\n",
              "    .dataframe thead th {\n",
              "        text-align: right;\n",
              "    }\n",
              "</style>\n",
              "<table border=\"1\" class=\"dataframe\">\n",
              "  <thead>\n",
              "    <tr style=\"text-align: right;\">\n",
              "      <th></th>\n",
              "      <th>negative</th>\n",
              "      <th>positive</th>\n",
              "      <th>neutral</th>\n",
              "    </tr>\n",
              "  </thead>\n",
              "  <tbody>\n",
              "    <tr>\n",
              "      <th>negative</th>\n",
              "      <td>345</td>\n",
              "      <td>4</td>\n",
              "      <td>73</td>\n",
              "    </tr>\n",
              "    <tr>\n",
              "      <th>positive</th>\n",
              "      <td>3</td>\n",
              "      <td>378</td>\n",
              "      <td>71</td>\n",
              "    </tr>\n",
              "    <tr>\n",
              "      <th>neutral</th>\n",
              "      <td>11</td>\n",
              "      <td>28</td>\n",
              "      <td>431</td>\n",
              "    </tr>\n",
              "  </tbody>\n",
              "</table>\n",
              "</div>\n",
              "    <div class=\"colab-df-buttons\">\n",
              "\n",
              "  <div class=\"colab-df-container\">\n",
              "    <button class=\"colab-df-convert\" onclick=\"convertToInteractive('df-1cf2c09b-980e-4470-bd88-748a9bef23f5')\"\n",
              "            title=\"Convert this dataframe to an interactive table.\"\n",
              "            style=\"display:none;\">\n",
              "\n",
              "  <svg xmlns=\"http://www.w3.org/2000/svg\" height=\"24px\" viewBox=\"0 -960 960 960\">\n",
              "    <path d=\"M120-120v-720h720v720H120Zm60-500h600v-160H180v160Zm220 220h160v-160H400v160Zm0 220h160v-160H400v160ZM180-400h160v-160H180v160Zm440 0h160v-160H620v160ZM180-180h160v-160H180v160Zm440 0h160v-160H620v160Z\"/>\n",
              "  </svg>\n",
              "    </button>\n",
              "\n",
              "  <style>\n",
              "    .colab-df-container {\n",
              "      display:flex;\n",
              "      gap: 12px;\n",
              "    }\n",
              "\n",
              "    .colab-df-convert {\n",
              "      background-color: #E8F0FE;\n",
              "      border: none;\n",
              "      border-radius: 50%;\n",
              "      cursor: pointer;\n",
              "      display: none;\n",
              "      fill: #1967D2;\n",
              "      height: 32px;\n",
              "      padding: 0 0 0 0;\n",
              "      width: 32px;\n",
              "    }\n",
              "\n",
              "    .colab-df-convert:hover {\n",
              "      background-color: #E2EBFA;\n",
              "      box-shadow: 0px 1px 2px rgba(60, 64, 67, 0.3), 0px 1px 3px 1px rgba(60, 64, 67, 0.15);\n",
              "      fill: #174EA6;\n",
              "    }\n",
              "\n",
              "    .colab-df-buttons div {\n",
              "      margin-bottom: 4px;\n",
              "    }\n",
              "\n",
              "    [theme=dark] .colab-df-convert {\n",
              "      background-color: #3B4455;\n",
              "      fill: #D2E3FC;\n",
              "    }\n",
              "\n",
              "    [theme=dark] .colab-df-convert:hover {\n",
              "      background-color: #434B5C;\n",
              "      box-shadow: 0px 1px 3px 1px rgba(0, 0, 0, 0.15);\n",
              "      filter: drop-shadow(0px 1px 2px rgba(0, 0, 0, 0.3));\n",
              "      fill: #FFFFFF;\n",
              "    }\n",
              "  </style>\n",
              "\n",
              "    <script>\n",
              "      const buttonEl =\n",
              "        document.querySelector('#df-1cf2c09b-980e-4470-bd88-748a9bef23f5 button.colab-df-convert');\n",
              "      buttonEl.style.display =\n",
              "        google.colab.kernel.accessAllowed ? 'block' : 'none';\n",
              "\n",
              "      async function convertToInteractive(key) {\n",
              "        const element = document.querySelector('#df-1cf2c09b-980e-4470-bd88-748a9bef23f5');\n",
              "        const dataTable =\n",
              "          await google.colab.kernel.invokeFunction('convertToInteractive',\n",
              "                                                    [key], {});\n",
              "        if (!dataTable) return;\n",
              "\n",
              "        const docLinkHtml = 'Like what you see? Visit the ' +\n",
              "          '<a target=\"_blank\" href=https://colab.research.google.com/notebooks/data_table.ipynb>data table notebook</a>'\n",
              "          + ' to learn more about interactive tables.';\n",
              "        element.innerHTML = '';\n",
              "        dataTable['output_type'] = 'display_data';\n",
              "        await google.colab.output.renderOutput(dataTable, element);\n",
              "        const docLink = document.createElement('div');\n",
              "        docLink.innerHTML = docLinkHtml;\n",
              "        element.appendChild(docLink);\n",
              "      }\n",
              "    </script>\n",
              "  </div>\n",
              "\n",
              "\n",
              "<div id=\"df-aa596b02-1297-4117-b346-d578a5dc5cda\">\n",
              "  <button class=\"colab-df-quickchart\" onclick=\"quickchart('df-aa596b02-1297-4117-b346-d578a5dc5cda')\"\n",
              "            title=\"Suggest charts\"\n",
              "            style=\"display:none;\">\n",
              "\n",
              "<svg xmlns=\"http://www.w3.org/2000/svg\" height=\"24px\"viewBox=\"0 0 24 24\"\n",
              "     width=\"24px\">\n",
              "    <g>\n",
              "        <path d=\"M19 3H5c-1.1 0-2 .9-2 2v14c0 1.1.9 2 2 2h14c1.1 0 2-.9 2-2V5c0-1.1-.9-2-2-2zM9 17H7v-7h2v7zm4 0h-2V7h2v10zm4 0h-2v-4h2v4z\"/>\n",
              "    </g>\n",
              "</svg>\n",
              "  </button>\n",
              "\n",
              "<style>\n",
              "  .colab-df-quickchart {\n",
              "      --bg-color: #E8F0FE;\n",
              "      --fill-color: #1967D2;\n",
              "      --hover-bg-color: #E2EBFA;\n",
              "      --hover-fill-color: #174EA6;\n",
              "      --disabled-fill-color: #AAA;\n",
              "      --disabled-bg-color: #DDD;\n",
              "  }\n",
              "\n",
              "  [theme=dark] .colab-df-quickchart {\n",
              "      --bg-color: #3B4455;\n",
              "      --fill-color: #D2E3FC;\n",
              "      --hover-bg-color: #434B5C;\n",
              "      --hover-fill-color: #FFFFFF;\n",
              "      --disabled-bg-color: #3B4455;\n",
              "      --disabled-fill-color: #666;\n",
              "  }\n",
              "\n",
              "  .colab-df-quickchart {\n",
              "    background-color: var(--bg-color);\n",
              "    border: none;\n",
              "    border-radius: 50%;\n",
              "    cursor: pointer;\n",
              "    display: none;\n",
              "    fill: var(--fill-color);\n",
              "    height: 32px;\n",
              "    padding: 0;\n",
              "    width: 32px;\n",
              "  }\n",
              "\n",
              "  .colab-df-quickchart:hover {\n",
              "    background-color: var(--hover-bg-color);\n",
              "    box-shadow: 0 1px 2px rgba(60, 64, 67, 0.3), 0 1px 3px 1px rgba(60, 64, 67, 0.15);\n",
              "    fill: var(--button-hover-fill-color);\n",
              "  }\n",
              "\n",
              "  .colab-df-quickchart-complete:disabled,\n",
              "  .colab-df-quickchart-complete:disabled:hover {\n",
              "    background-color: var(--disabled-bg-color);\n",
              "    fill: var(--disabled-fill-color);\n",
              "    box-shadow: none;\n",
              "  }\n",
              "\n",
              "  .colab-df-spinner {\n",
              "    border: 2px solid var(--fill-color);\n",
              "    border-color: transparent;\n",
              "    border-bottom-color: var(--fill-color);\n",
              "    animation:\n",
              "      spin 1s steps(1) infinite;\n",
              "  }\n",
              "\n",
              "  @keyframes spin {\n",
              "    0% {\n",
              "      border-color: transparent;\n",
              "      border-bottom-color: var(--fill-color);\n",
              "      border-left-color: var(--fill-color);\n",
              "    }\n",
              "    20% {\n",
              "      border-color: transparent;\n",
              "      border-left-color: var(--fill-color);\n",
              "      border-top-color: var(--fill-color);\n",
              "    }\n",
              "    30% {\n",
              "      border-color: transparent;\n",
              "      border-left-color: var(--fill-color);\n",
              "      border-top-color: var(--fill-color);\n",
              "      border-right-color: var(--fill-color);\n",
              "    }\n",
              "    40% {\n",
              "      border-color: transparent;\n",
              "      border-right-color: var(--fill-color);\n",
              "      border-top-color: var(--fill-color);\n",
              "    }\n",
              "    60% {\n",
              "      border-color: transparent;\n",
              "      border-right-color: var(--fill-color);\n",
              "    }\n",
              "    80% {\n",
              "      border-color: transparent;\n",
              "      border-right-color: var(--fill-color);\n",
              "      border-bottom-color: var(--fill-color);\n",
              "    }\n",
              "    90% {\n",
              "      border-color: transparent;\n",
              "      border-bottom-color: var(--fill-color);\n",
              "    }\n",
              "  }\n",
              "</style>\n",
              "\n",
              "  <script>\n",
              "    async function quickchart(key) {\n",
              "      const quickchartButtonEl =\n",
              "        document.querySelector('#' + key + ' button');\n",
              "      quickchartButtonEl.disabled = true;  // To prevent multiple clicks.\n",
              "      quickchartButtonEl.classList.add('colab-df-spinner');\n",
              "      try {\n",
              "        const charts = await google.colab.kernel.invokeFunction(\n",
              "            'suggestCharts', [key], {});\n",
              "      } catch (error) {\n",
              "        console.error('Error during call to suggestCharts:', error);\n",
              "      }\n",
              "      quickchartButtonEl.classList.remove('colab-df-spinner');\n",
              "      quickchartButtonEl.classList.add('colab-df-quickchart-complete');\n",
              "    }\n",
              "    (() => {\n",
              "      let quickchartButtonEl =\n",
              "        document.querySelector('#df-aa596b02-1297-4117-b346-d578a5dc5cda button');\n",
              "      quickchartButtonEl.style.display =\n",
              "        google.colab.kernel.accessAllowed ? 'block' : 'none';\n",
              "    })();\n",
              "  </script>\n",
              "</div>\n",
              "\n",
              "  <div id=\"id_0241d901-9fe9-4e40-88ec-49368e6040fc\">\n",
              "    <style>\n",
              "      .colab-df-generate {\n",
              "        background-color: #E8F0FE;\n",
              "        border: none;\n",
              "        border-radius: 50%;\n",
              "        cursor: pointer;\n",
              "        display: none;\n",
              "        fill: #1967D2;\n",
              "        height: 32px;\n",
              "        padding: 0 0 0 0;\n",
              "        width: 32px;\n",
              "      }\n",
              "\n",
              "      .colab-df-generate:hover {\n",
              "        background-color: #E2EBFA;\n",
              "        box-shadow: 0px 1px 2px rgba(60, 64, 67, 0.3), 0px 1px 3px 1px rgba(60, 64, 67, 0.15);\n",
              "        fill: #174EA6;\n",
              "      }\n",
              "\n",
              "      [theme=dark] .colab-df-generate {\n",
              "        background-color: #3B4455;\n",
              "        fill: #D2E3FC;\n",
              "      }\n",
              "\n",
              "      [theme=dark] .colab-df-generate:hover {\n",
              "        background-color: #434B5C;\n",
              "        box-shadow: 0px 1px 3px 1px rgba(0, 0, 0, 0.15);\n",
              "        filter: drop-shadow(0px 1px 2px rgba(0, 0, 0, 0.3));\n",
              "        fill: #FFFFFF;\n",
              "      }\n",
              "    </style>\n",
              "    <button class=\"colab-df-generate\" onclick=\"generateWithVariable('cm_df')\"\n",
              "            title=\"Generate code using this dataframe.\"\n",
              "            style=\"display:none;\">\n",
              "\n",
              "  <svg xmlns=\"http://www.w3.org/2000/svg\" height=\"24px\"viewBox=\"0 0 24 24\"\n",
              "       width=\"24px\">\n",
              "    <path d=\"M7,19H8.4L18.45,9,17,7.55,7,17.6ZM5,21V16.75L18.45,3.32a2,2,0,0,1,2.83,0l1.4,1.43a1.91,1.91,0,0,1,.58,1.4,1.91,1.91,0,0,1-.58,1.4L9.25,21ZM18.45,9,17,7.55Zm-12,3A5.31,5.31,0,0,0,4.9,8.1,5.31,5.31,0,0,0,1,6.5,5.31,5.31,0,0,0,4.9,4.9,5.31,5.31,0,0,0,6.5,1,5.31,5.31,0,0,0,8.1,4.9,5.31,5.31,0,0,0,12,6.5,5.46,5.46,0,0,0,6.5,12Z\"/>\n",
              "  </svg>\n",
              "    </button>\n",
              "    <script>\n",
              "      (() => {\n",
              "      const buttonEl =\n",
              "        document.querySelector('#id_0241d901-9fe9-4e40-88ec-49368e6040fc button.colab-df-generate');\n",
              "      buttonEl.style.display =\n",
              "        google.colab.kernel.accessAllowed ? 'block' : 'none';\n",
              "\n",
              "      buttonEl.onclick = () => {\n",
              "        google.colab.notebook.generateWithVariable('cm_df');\n",
              "      }\n",
              "      })();\n",
              "    </script>\n",
              "  </div>\n",
              "\n",
              "    </div>\n",
              "  </div>\n"
            ],
            "application/vnd.google.colaboratory.intrinsic+json": {
              "type": "dataframe",
              "variable_name": "cm_df",
              "summary": "{\n  \"name\": \"cm_df\",\n  \"rows\": 3,\n  \"fields\": [\n    {\n      \"column\": \"negative\",\n      \"properties\": {\n        \"dtype\": \"number\",\n        \"std\": 195,\n        \"min\": 3,\n        \"max\": 345,\n        \"num_unique_values\": 3,\n        \"samples\": [\n          345,\n          3,\n          11\n        ],\n        \"semantic_type\": \"\",\n        \"description\": \"\"\n      }\n    },\n    {\n      \"column\": \"positive\",\n      \"properties\": {\n        \"dtype\": \"number\",\n        \"std\": 209,\n        \"min\": 4,\n        \"max\": 378,\n        \"num_unique_values\": 3,\n        \"samples\": [\n          4,\n          378,\n          28\n        ],\n        \"semantic_type\": \"\",\n        \"description\": \"\"\n      }\n    },\n    {\n      \"column\": \"neutral\",\n      \"properties\": {\n        \"dtype\": \"number\",\n        \"std\": 207,\n        \"min\": 71,\n        \"max\": 431,\n        \"num_unique_values\": 3,\n        \"samples\": [\n          73,\n          71,\n          431\n        ],\n        \"semantic_type\": \"\",\n        \"description\": \"\"\n      }\n    }\n  ]\n}"
            }
          },
          "metadata": {},
          "execution_count": 152
        },
        {
          "output_type": "stream",
          "name": "stdout",
          "text": [
            "time: 35.8 ms (started: 2024-06-21 14:39:18 +00:00)\n"
          ]
        }
      ],
      "source": [
        "cm_df"
      ]
    },
    {
      "cell_type": "markdown",
      "metadata": {
        "id": "i6iMK8D5cymL"
      },
      "source": [
        "We can also visualize the confusion matrix as the **ratios** of the predictions over the classes. The ratios on the **diagonal** are the ratios of the **correct predictions**."
      ]
    },
    {
      "cell_type": "code",
      "execution_count": null,
      "metadata": {
        "id": "f7yCdQPzdKCs",
        "colab": {
          "base_uri": "https://localhost:8080/",
          "height": 1000
        },
        "outputId": "7660f1d0-f6a5-4ef1-b7b5-4d0212e31c42"
      },
      "outputs": [
        {
          "output_type": "display_data",
          "data": {
            "text/plain": [
              "<Figure size 1600x1600 with 2 Axes>"
            ],
            "image/png": "[encoded data removed]"
          },
          "metadata": {}
        },
        {
          "output_type": "stream",
          "name": "stdout",
          "text": [
            "time: 379 ms (started: 2024-06-21 14:10:28 +00:00)\n"
          ]
        }
      ],
      "source": [
        "import seaborn as sns\n",
        "import matplotlib.pyplot as plt\n",
        "plt.figure(figsize=(16,16))\n",
        "ax = sns.heatmap(cm_df/np.sum(cm_df), annot=True, fmt='.1%', cmap='Greens')\n",
        "\n",
        "ax.set_title('Confusion Matrix\\n\\n');\n",
        "ax.set_xlabel('\\nPredicted')\n",
        "ax.set_ylabel('Actual');\n",
        "\n",
        "ax.xaxis.set_ticklabels(id_to_sentiment.values())\n",
        "ax.yaxis.set_ticklabels(id_to_sentiment.values())\n",
        "\n",
        "plt.show()"
      ]
    }
  ],
  "metadata": {
    "colab": {
      "provenance": [],
      "toc_visible": true
    },
    "kernelspec": {
      "display_name": "Python 3",
      "name": "python3"
    },
    "language_info": {
      "name": "python"
    },
    "widgets": {
      "application/vnd.jupyter.widget-state+json": {
        "92fd8abe4bd048cf8e7cb2ee67828a1a": {
          "model_module": "@jupyter-widgets/controls",
          "model_name": "VBoxModel",
          "model_module_version": "1.5.0",
          "state": {
            "_dom_classes": [
              "widget-interact"
            ],
            "_model_module": "@jupyter-widgets/controls",
            "_model_module_version": "1.5.0",
            "_model_name": "VBoxModel",
            "_view_count": null,
            "_view_module": "@jupyter-widgets/controls",
            "_view_module_version": "1.5.0",
            "_view_name": "VBoxView",
            "box_style": "",
            "children": [
              "IPY_MODEL_fb391f7bd764491bb1d7dcc974f7474b"
            ],
            "layout": "IPY_MODEL_df4a5427201c4b678858a9e5f47dee4c"
          }
        },
        "fb391f7bd764491bb1d7dcc974f7474b": {
          "model_module": "@jupyter-widgets/output",
          "model_name": "OutputModel",
          "model_module_version": "1.0.0",
          "state": {
            "_dom_classes": [],
            "_model_module": "@jupyter-widgets/output",
            "_model_module_version": "1.0.0",
            "_model_name": "OutputModel",
            "_view_count": null,
            "_view_module": "@jupyter-widgets/output",
            "_view_module_version": "1.0.0",
            "_view_name": "OutputView",
            "layout": "IPY_MODEL_ac042f2edfc142e3ba4586893d6328d2",
            "msg_id": "",
            "outputs": []
          }
        },
        "df4a5427201c4b678858a9e5f47dee4c": {
          "model_module": "@jupyter-widgets/base",
          "model_name": "LayoutModel",
          "model_module_version": "1.2.0",
          "state": {
            "_model_module": "@jupyter-widgets/base",
            "_model_module_version": "1.2.0",
            "_model_name": "LayoutModel",
            "_view_count": null,
            "_view_module": "@jupyter-widgets/base",
            "_view_module_version": "1.2.0",
            "_view_name": "LayoutView",
            "align_content": null,
            "align_items": null,
            "align_self": null,
            "border": null,
            "bottom": null,
            "display": null,
            "flex": null,
            "flex_flow": null,
            "grid_area": null,
            "grid_auto_columns": null,
            "grid_auto_flow": null,
            "grid_auto_rows": null,
            "grid_column": null,
            "grid_gap": null,
            "grid_row": null,
            "grid_template_areas": null,
            "grid_template_columns": null,
            "grid_template_rows": null,
            "height": null,
            "justify_content": null,
            "justify_items": null,
            "left": null,
            "margin": null,
            "max_height": null,
            "max_width": null,
            "min_height": null,
            "min_width": null,
            "object_fit": null,
            "object_position": null,
            "order": null,
            "overflow": null,
            "overflow_x": null,
            "overflow_y": null,
            "padding": null,
            "right": null,
            "top": null,
            "visibility": null,
            "width": null
          }
        },
        "ac042f2edfc142e3ba4586893d6328d2": {
          "model_module": "@jupyter-widgets/base",
          "model_name": "LayoutModel",
          "model_module_version": "1.2.0",
          "state": {
            "_model_module": "@jupyter-widgets/base",
            "_model_module_version": "1.2.0",
            "_model_name": "LayoutModel",
            "_view_count": null,
            "_view_module": "@jupyter-widgets/base",
            "_view_module_version": "1.2.0",
            "_view_name": "LayoutView",
            "align_content": null,
            "align_items": null,
            "align_self": null,
            "border": null,
            "bottom": null,
            "display": null,
            "flex": null,
            "flex_flow": null,
            "grid_area": null,
            "grid_auto_columns": null,
            "grid_auto_flow": null,
            "grid_auto_rows": null,
            "grid_column": null,
            "grid_gap": null,
            "grid_row": null,
            "grid_template_areas": null,
            "grid_template_columns": null,
            "grid_template_rows": null,
            "height": null,
            "justify_content": null,
            "justify_items": null,
            "left": null,
            "margin": null,
            "max_height": null,
            "max_width": null,
            "min_height": null,
            "min_width": null,
            "object_fit": null,
            "object_position": null,
            "order": null,
            "overflow": null,
            "overflow_x": null,
            "overflow_y": null,
            "padding": null,
            "right": null,
            "top": null,
            "visibility": null,
            "width": null
          }
        }
      }
    }
  },
  "nbformat": 4,
  "nbformat_minor": 0
}